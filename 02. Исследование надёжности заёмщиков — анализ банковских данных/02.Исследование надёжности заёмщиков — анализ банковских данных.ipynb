{
 "cells": [
  {
   "cell_type": "markdown",
   "id": "19d019fb",
   "metadata": {
    "editable": false,
    "id": "c81daeeb"
   },
   "source": [
    "# Исследование надежности заемщиков\n"
   ]
  },
  {
   "cell_type": "markdown",
   "id": "556fe5be",
   "metadata": {
    "deletable": false,
    "editable": false,
    "id": "c81daeeb"
   },
   "source": [
    "# Исследование надежности заемщиков\n"
   ]
  },
  {
   "cell_type": "markdown",
   "id": "115bfa21",
   "metadata": {
    "deletable": false,
    "editable": false,
    "id": "827c20bf"
   },
   "source": [
    "Во второй части проекта вы выполните шаги 3 и 4. Их вручную проверит ревьюер.\n",
    "Чтобы вам не пришлось писать код заново для шагов 1 и 2, мы добавили авторские решения в ячейки с кодом. \n",
    "\n"
   ]
  },
  {
   "cell_type": "markdown",
   "id": "257ed54c",
   "metadata": {
    "deletable": false,
    "editable": false,
    "id": "744d7639"
   },
   "source": [
    "## Откройте таблицу и изучите общую информацию о данных"
   ]
  },
  {
   "cell_type": "markdown",
   "id": "8300b13f",
   "metadata": {
    "deletable": false,
    "editable": false,
    "id": "e7a14c31"
   },
   "source": [
    "**Задание 1. Импортируйте библиотеку pandas. Считайте данные из csv-файла в датафрейм и сохраните в переменную `data`. Путь к файлу:**\n",
    "\n",
    "`/datasets/data.csv`"
   ]
  },
  {
   "cell_type": "code",
   "execution_count": 1,
   "id": "bf62e23f",
   "metadata": {
    "deletable": false,
    "id": "7bcf75c9"
   },
   "outputs": [],
   "source": [
    "import pandas as pd\n",
    "\n",
    "try:\n",
    "    data = pd.read_csv('/datasets/data.csv')\n",
    "except:\n",
    "    data = pd.read_csv('https://code.s3.yandex.net/datasets/data.csv')"
   ]
  },
  {
   "cell_type": "markdown",
   "id": "46d5caaf",
   "metadata": {
    "deletable": false,
    "editable": false,
    "id": "b8038fe3"
   },
   "source": [
    "**Задание 2. Выведите первые 20 строчек датафрейма `data` на экран.**"
   ]
  },
  {
   "cell_type": "code",
   "execution_count": 2,
   "id": "b62acfda",
   "metadata": {
    "deletable": false,
    "id": "2a7cab99",
    "outputId": "1a8f3ef2-d323-4ec2-ddf7-89670b5944c4"
   },
   "outputs": [
    {
     "data": {
      "text/html": [
       "<div>\n",
       "<style scoped>\n",
       "    .dataframe tbody tr th:only-of-type {\n",
       "        vertical-align: middle;\n",
       "    }\n",
       "\n",
       "    .dataframe tbody tr th {\n",
       "        vertical-align: top;\n",
       "    }\n",
       "\n",
       "    .dataframe thead th {\n",
       "        text-align: right;\n",
       "    }\n",
       "</style>\n",
       "<table border=\"1\" class=\"dataframe\">\n",
       "  <thead>\n",
       "    <tr style=\"text-align: right;\">\n",
       "      <th></th>\n",
       "      <th>children</th>\n",
       "      <th>days_employed</th>\n",
       "      <th>dob_years</th>\n",
       "      <th>education</th>\n",
       "      <th>education_id</th>\n",
       "      <th>family_status</th>\n",
       "      <th>family_status_id</th>\n",
       "      <th>gender</th>\n",
       "      <th>income_type</th>\n",
       "      <th>debt</th>\n",
       "      <th>total_income</th>\n",
       "      <th>purpose</th>\n",
       "    </tr>\n",
       "  </thead>\n",
       "  <tbody>\n",
       "    <tr>\n",
       "      <th>0</th>\n",
       "      <td>1</td>\n",
       "      <td>-8437.673028</td>\n",
       "      <td>42</td>\n",
       "      <td>высшее</td>\n",
       "      <td>0</td>\n",
       "      <td>женат / замужем</td>\n",
       "      <td>0</td>\n",
       "      <td>F</td>\n",
       "      <td>сотрудник</td>\n",
       "      <td>0</td>\n",
       "      <td>253875.639453</td>\n",
       "      <td>покупка жилья</td>\n",
       "    </tr>\n",
       "    <tr>\n",
       "      <th>1</th>\n",
       "      <td>1</td>\n",
       "      <td>-4024.803754</td>\n",
       "      <td>36</td>\n",
       "      <td>среднее</td>\n",
       "      <td>1</td>\n",
       "      <td>женат / замужем</td>\n",
       "      <td>0</td>\n",
       "      <td>F</td>\n",
       "      <td>сотрудник</td>\n",
       "      <td>0</td>\n",
       "      <td>112080.014102</td>\n",
       "      <td>приобретение автомобиля</td>\n",
       "    </tr>\n",
       "    <tr>\n",
       "      <th>2</th>\n",
       "      <td>0</td>\n",
       "      <td>-5623.422610</td>\n",
       "      <td>33</td>\n",
       "      <td>Среднее</td>\n",
       "      <td>1</td>\n",
       "      <td>женат / замужем</td>\n",
       "      <td>0</td>\n",
       "      <td>M</td>\n",
       "      <td>сотрудник</td>\n",
       "      <td>0</td>\n",
       "      <td>145885.952297</td>\n",
       "      <td>покупка жилья</td>\n",
       "    </tr>\n",
       "    <tr>\n",
       "      <th>3</th>\n",
       "      <td>3</td>\n",
       "      <td>-4124.747207</td>\n",
       "      <td>32</td>\n",
       "      <td>среднее</td>\n",
       "      <td>1</td>\n",
       "      <td>женат / замужем</td>\n",
       "      <td>0</td>\n",
       "      <td>M</td>\n",
       "      <td>сотрудник</td>\n",
       "      <td>0</td>\n",
       "      <td>267628.550329</td>\n",
       "      <td>дополнительное образование</td>\n",
       "    </tr>\n",
       "    <tr>\n",
       "      <th>4</th>\n",
       "      <td>0</td>\n",
       "      <td>340266.072047</td>\n",
       "      <td>53</td>\n",
       "      <td>среднее</td>\n",
       "      <td>1</td>\n",
       "      <td>гражданский брак</td>\n",
       "      <td>1</td>\n",
       "      <td>F</td>\n",
       "      <td>пенсионер</td>\n",
       "      <td>0</td>\n",
       "      <td>158616.077870</td>\n",
       "      <td>сыграть свадьбу</td>\n",
       "    </tr>\n",
       "    <tr>\n",
       "      <th>5</th>\n",
       "      <td>0</td>\n",
       "      <td>-926.185831</td>\n",
       "      <td>27</td>\n",
       "      <td>высшее</td>\n",
       "      <td>0</td>\n",
       "      <td>гражданский брак</td>\n",
       "      <td>1</td>\n",
       "      <td>M</td>\n",
       "      <td>компаньон</td>\n",
       "      <td>0</td>\n",
       "      <td>255763.565419</td>\n",
       "      <td>покупка жилья</td>\n",
       "    </tr>\n",
       "    <tr>\n",
       "      <th>6</th>\n",
       "      <td>0</td>\n",
       "      <td>-2879.202052</td>\n",
       "      <td>43</td>\n",
       "      <td>высшее</td>\n",
       "      <td>0</td>\n",
       "      <td>женат / замужем</td>\n",
       "      <td>0</td>\n",
       "      <td>F</td>\n",
       "      <td>компаньон</td>\n",
       "      <td>0</td>\n",
       "      <td>240525.971920</td>\n",
       "      <td>операции с жильем</td>\n",
       "    </tr>\n",
       "    <tr>\n",
       "      <th>7</th>\n",
       "      <td>0</td>\n",
       "      <td>-152.779569</td>\n",
       "      <td>50</td>\n",
       "      <td>СРЕДНЕЕ</td>\n",
       "      <td>1</td>\n",
       "      <td>женат / замужем</td>\n",
       "      <td>0</td>\n",
       "      <td>M</td>\n",
       "      <td>сотрудник</td>\n",
       "      <td>0</td>\n",
       "      <td>135823.934197</td>\n",
       "      <td>образование</td>\n",
       "    </tr>\n",
       "    <tr>\n",
       "      <th>8</th>\n",
       "      <td>2</td>\n",
       "      <td>-6929.865299</td>\n",
       "      <td>35</td>\n",
       "      <td>ВЫСШЕЕ</td>\n",
       "      <td>0</td>\n",
       "      <td>гражданский брак</td>\n",
       "      <td>1</td>\n",
       "      <td>F</td>\n",
       "      <td>сотрудник</td>\n",
       "      <td>0</td>\n",
       "      <td>95856.832424</td>\n",
       "      <td>на проведение свадьбы</td>\n",
       "    </tr>\n",
       "    <tr>\n",
       "      <th>9</th>\n",
       "      <td>0</td>\n",
       "      <td>-2188.756445</td>\n",
       "      <td>41</td>\n",
       "      <td>среднее</td>\n",
       "      <td>1</td>\n",
       "      <td>женат / замужем</td>\n",
       "      <td>0</td>\n",
       "      <td>M</td>\n",
       "      <td>сотрудник</td>\n",
       "      <td>0</td>\n",
       "      <td>144425.938277</td>\n",
       "      <td>покупка жилья для семьи</td>\n",
       "    </tr>\n",
       "    <tr>\n",
       "      <th>10</th>\n",
       "      <td>2</td>\n",
       "      <td>-4171.483647</td>\n",
       "      <td>36</td>\n",
       "      <td>высшее</td>\n",
       "      <td>0</td>\n",
       "      <td>женат / замужем</td>\n",
       "      <td>0</td>\n",
       "      <td>M</td>\n",
       "      <td>компаньон</td>\n",
       "      <td>0</td>\n",
       "      <td>113943.491460</td>\n",
       "      <td>покупка недвижимости</td>\n",
       "    </tr>\n",
       "    <tr>\n",
       "      <th>11</th>\n",
       "      <td>0</td>\n",
       "      <td>-792.701887</td>\n",
       "      <td>40</td>\n",
       "      <td>среднее</td>\n",
       "      <td>1</td>\n",
       "      <td>женат / замужем</td>\n",
       "      <td>0</td>\n",
       "      <td>F</td>\n",
       "      <td>сотрудник</td>\n",
       "      <td>0</td>\n",
       "      <td>77069.234271</td>\n",
       "      <td>покупка коммерческой недвижимости</td>\n",
       "    </tr>\n",
       "    <tr>\n",
       "      <th>12</th>\n",
       "      <td>0</td>\n",
       "      <td>NaN</td>\n",
       "      <td>65</td>\n",
       "      <td>среднее</td>\n",
       "      <td>1</td>\n",
       "      <td>гражданский брак</td>\n",
       "      <td>1</td>\n",
       "      <td>M</td>\n",
       "      <td>пенсионер</td>\n",
       "      <td>0</td>\n",
       "      <td>NaN</td>\n",
       "      <td>сыграть свадьбу</td>\n",
       "    </tr>\n",
       "    <tr>\n",
       "      <th>13</th>\n",
       "      <td>0</td>\n",
       "      <td>-1846.641941</td>\n",
       "      <td>54</td>\n",
       "      <td>неоконченное высшее</td>\n",
       "      <td>2</td>\n",
       "      <td>женат / замужем</td>\n",
       "      <td>0</td>\n",
       "      <td>F</td>\n",
       "      <td>сотрудник</td>\n",
       "      <td>0</td>\n",
       "      <td>130458.228857</td>\n",
       "      <td>приобретение автомобиля</td>\n",
       "    </tr>\n",
       "    <tr>\n",
       "      <th>14</th>\n",
       "      <td>0</td>\n",
       "      <td>-1844.956182</td>\n",
       "      <td>56</td>\n",
       "      <td>высшее</td>\n",
       "      <td>0</td>\n",
       "      <td>гражданский брак</td>\n",
       "      <td>1</td>\n",
       "      <td>F</td>\n",
       "      <td>компаньон</td>\n",
       "      <td>1</td>\n",
       "      <td>165127.911772</td>\n",
       "      <td>покупка жилой недвижимости</td>\n",
       "    </tr>\n",
       "    <tr>\n",
       "      <th>15</th>\n",
       "      <td>1</td>\n",
       "      <td>-972.364419</td>\n",
       "      <td>26</td>\n",
       "      <td>среднее</td>\n",
       "      <td>1</td>\n",
       "      <td>женат / замужем</td>\n",
       "      <td>0</td>\n",
       "      <td>F</td>\n",
       "      <td>сотрудник</td>\n",
       "      <td>0</td>\n",
       "      <td>116820.904450</td>\n",
       "      <td>строительство собственной недвижимости</td>\n",
       "    </tr>\n",
       "    <tr>\n",
       "      <th>16</th>\n",
       "      <td>0</td>\n",
       "      <td>-1719.934226</td>\n",
       "      <td>35</td>\n",
       "      <td>среднее</td>\n",
       "      <td>1</td>\n",
       "      <td>женат / замужем</td>\n",
       "      <td>0</td>\n",
       "      <td>F</td>\n",
       "      <td>сотрудник</td>\n",
       "      <td>0</td>\n",
       "      <td>289202.704229</td>\n",
       "      <td>недвижимость</td>\n",
       "    </tr>\n",
       "    <tr>\n",
       "      <th>17</th>\n",
       "      <td>0</td>\n",
       "      <td>-2369.999720</td>\n",
       "      <td>33</td>\n",
       "      <td>высшее</td>\n",
       "      <td>0</td>\n",
       "      <td>гражданский брак</td>\n",
       "      <td>1</td>\n",
       "      <td>M</td>\n",
       "      <td>сотрудник</td>\n",
       "      <td>0</td>\n",
       "      <td>90410.586745</td>\n",
       "      <td>строительство недвижимости</td>\n",
       "    </tr>\n",
       "    <tr>\n",
       "      <th>18</th>\n",
       "      <td>0</td>\n",
       "      <td>400281.136913</td>\n",
       "      <td>53</td>\n",
       "      <td>среднее</td>\n",
       "      <td>1</td>\n",
       "      <td>вдовец / вдова</td>\n",
       "      <td>2</td>\n",
       "      <td>F</td>\n",
       "      <td>пенсионер</td>\n",
       "      <td>0</td>\n",
       "      <td>56823.777243</td>\n",
       "      <td>на покупку подержанного автомобиля</td>\n",
       "    </tr>\n",
       "    <tr>\n",
       "      <th>19</th>\n",
       "      <td>0</td>\n",
       "      <td>-10038.818549</td>\n",
       "      <td>48</td>\n",
       "      <td>СРЕДНЕЕ</td>\n",
       "      <td>1</td>\n",
       "      <td>в разводе</td>\n",
       "      <td>3</td>\n",
       "      <td>F</td>\n",
       "      <td>сотрудник</td>\n",
       "      <td>0</td>\n",
       "      <td>242831.107982</td>\n",
       "      <td>на покупку своего автомобиля</td>\n",
       "    </tr>\n",
       "  </tbody>\n",
       "</table>\n",
       "</div>"
      ],
      "text/plain": [
       "    children  days_employed  dob_years            education  education_id  \\\n",
       "0          1   -8437.673028         42               высшее             0   \n",
       "1          1   -4024.803754         36              среднее             1   \n",
       "2          0   -5623.422610         33              Среднее             1   \n",
       "3          3   -4124.747207         32              среднее             1   \n",
       "4          0  340266.072047         53              среднее             1   \n",
       "5          0    -926.185831         27               высшее             0   \n",
       "6          0   -2879.202052         43               высшее             0   \n",
       "7          0    -152.779569         50              СРЕДНЕЕ             1   \n",
       "8          2   -6929.865299         35               ВЫСШЕЕ             0   \n",
       "9          0   -2188.756445         41              среднее             1   \n",
       "10         2   -4171.483647         36               высшее             0   \n",
       "11         0    -792.701887         40              среднее             1   \n",
       "12         0            NaN         65              среднее             1   \n",
       "13         0   -1846.641941         54  неоконченное высшее             2   \n",
       "14         0   -1844.956182         56               высшее             0   \n",
       "15         1    -972.364419         26              среднее             1   \n",
       "16         0   -1719.934226         35              среднее             1   \n",
       "17         0   -2369.999720         33               высшее             0   \n",
       "18         0  400281.136913         53              среднее             1   \n",
       "19         0  -10038.818549         48              СРЕДНЕЕ             1   \n",
       "\n",
       "       family_status  family_status_id gender income_type  debt  \\\n",
       "0    женат / замужем                 0      F   сотрудник     0   \n",
       "1    женат / замужем                 0      F   сотрудник     0   \n",
       "2    женат / замужем                 0      M   сотрудник     0   \n",
       "3    женат / замужем                 0      M   сотрудник     0   \n",
       "4   гражданский брак                 1      F   пенсионер     0   \n",
       "5   гражданский брак                 1      M   компаньон     0   \n",
       "6    женат / замужем                 0      F   компаньон     0   \n",
       "7    женат / замужем                 0      M   сотрудник     0   \n",
       "8   гражданский брак                 1      F   сотрудник     0   \n",
       "9    женат / замужем                 0      M   сотрудник     0   \n",
       "10   женат / замужем                 0      M   компаньон     0   \n",
       "11   женат / замужем                 0      F   сотрудник     0   \n",
       "12  гражданский брак                 1      M   пенсионер     0   \n",
       "13   женат / замужем                 0      F   сотрудник     0   \n",
       "14  гражданский брак                 1      F   компаньон     1   \n",
       "15   женат / замужем                 0      F   сотрудник     0   \n",
       "16   женат / замужем                 0      F   сотрудник     0   \n",
       "17  гражданский брак                 1      M   сотрудник     0   \n",
       "18    вдовец / вдова                 2      F   пенсионер     0   \n",
       "19         в разводе                 3      F   сотрудник     0   \n",
       "\n",
       "     total_income                                 purpose  \n",
       "0   253875.639453                           покупка жилья  \n",
       "1   112080.014102                 приобретение автомобиля  \n",
       "2   145885.952297                           покупка жилья  \n",
       "3   267628.550329              дополнительное образование  \n",
       "4   158616.077870                         сыграть свадьбу  \n",
       "5   255763.565419                           покупка жилья  \n",
       "6   240525.971920                       операции с жильем  \n",
       "7   135823.934197                             образование  \n",
       "8    95856.832424                   на проведение свадьбы  \n",
       "9   144425.938277                 покупка жилья для семьи  \n",
       "10  113943.491460                    покупка недвижимости  \n",
       "11   77069.234271       покупка коммерческой недвижимости  \n",
       "12            NaN                         сыграть свадьбу  \n",
       "13  130458.228857                 приобретение автомобиля  \n",
       "14  165127.911772              покупка жилой недвижимости  \n",
       "15  116820.904450  строительство собственной недвижимости  \n",
       "16  289202.704229                            недвижимость  \n",
       "17   90410.586745              строительство недвижимости  \n",
       "18   56823.777243      на покупку подержанного автомобиля  \n",
       "19  242831.107982            на покупку своего автомобиля  "
      ]
     },
     "execution_count": 2,
     "metadata": {},
     "output_type": "execute_result"
    }
   ],
   "source": [
    "data.head(20)"
   ]
  },
  {
   "cell_type": "markdown",
   "id": "6b2f3275",
   "metadata": {
    "deletable": false,
    "editable": false,
    "id": "1c12e233"
   },
   "source": [
    "**Задание 3. Выведите основную информацию о датафрейме с помощью метода `info()`.**"
   ]
  },
  {
   "cell_type": "code",
   "execution_count": 3,
   "id": "576441df",
   "metadata": {
    "deletable": false,
    "id": "2b757bca",
    "outputId": "15376089-8dad-46c9-b520-c05248d43158"
   },
   "outputs": [
    {
     "name": "stdout",
     "output_type": "stream",
     "text": [
      "<class 'pandas.core.frame.DataFrame'>\n",
      "RangeIndex: 21525 entries, 0 to 21524\n",
      "Data columns (total 12 columns):\n",
      " #   Column            Non-Null Count  Dtype  \n",
      "---  ------            --------------  -----  \n",
      " 0   children          21525 non-null  int64  \n",
      " 1   days_employed     19351 non-null  float64\n",
      " 2   dob_years         21525 non-null  int64  \n",
      " 3   education         21525 non-null  object \n",
      " 4   education_id      21525 non-null  int64  \n",
      " 5   family_status     21525 non-null  object \n",
      " 6   family_status_id  21525 non-null  int64  \n",
      " 7   gender            21525 non-null  object \n",
      " 8   income_type       21525 non-null  object \n",
      " 9   debt              21525 non-null  int64  \n",
      " 10  total_income      19351 non-null  float64\n",
      " 11  purpose           21525 non-null  object \n",
      "dtypes: float64(2), int64(5), object(5)\n",
      "memory usage: 2.0+ MB\n"
     ]
    }
   ],
   "source": [
    "data.info()"
   ]
  },
  {
   "cell_type": "markdown",
   "id": "8b2727ce",
   "metadata": {
    "deletable": false,
    "editable": false,
    "id": "333ec665"
   },
   "source": [
    "## Предобработка данных"
   ]
  },
  {
   "cell_type": "markdown",
   "id": "4babae8e",
   "metadata": {
    "deletable": false,
    "editable": false,
    "id": "02d92d53"
   },
   "source": [
    "### Удаление пропусков"
   ]
  },
  {
   "cell_type": "markdown",
   "id": "72f61293",
   "metadata": {
    "deletable": false,
    "editable": false,
    "id": "cd84967c"
   },
   "source": [
    "**Задание 4. Выведите количество пропущенных значений для каждого столбца. Используйте комбинацию двух методов.**"
   ]
  },
  {
   "cell_type": "code",
   "execution_count": 4,
   "id": "d0ebb56e",
   "metadata": {
    "deletable": false,
    "id": "7f9b2309",
    "outputId": "81f4d817-781c-465c-ed15-91ce4446810d"
   },
   "outputs": [
    {
     "data": {
      "text/plain": [
       "children               0\n",
       "days_employed       2174\n",
       "dob_years              0\n",
       "education              0\n",
       "education_id           0\n",
       "family_status          0\n",
       "family_status_id       0\n",
       "gender                 0\n",
       "income_type            0\n",
       "debt                   0\n",
       "total_income        2174\n",
       "purpose                0\n",
       "dtype: int64"
      ]
     },
     "execution_count": 4,
     "metadata": {},
     "output_type": "execute_result"
    }
   ],
   "source": [
    "data.isna().sum()"
   ]
  },
  {
   "cell_type": "markdown",
   "id": "f30fa0d2",
   "metadata": {
    "deletable": false,
    "editable": false,
    "id": "db86e27b"
   },
   "source": [
    "**Задание 5. В двух столбцах есть пропущенные значения. Один из них — `days_employed`. Пропуски в этом столбце вы обработаете на следующем этапе. Другой столбец с пропущенными значениями — `total_income` — хранит данные о доходах. На сумму дохода сильнее всего влияет тип занятости, поэтому заполнить пропуски в этом столбце нужно медианным значением по каждому типу из столбца `income_type`. Например, у человека с типом занятости `сотрудник` пропуск в столбце `total_income` должен быть заполнен медианным доходом среди всех записей с тем же типом.**"
   ]
  },
  {
   "cell_type": "code",
   "execution_count": 5,
   "id": "0b0ab60b",
   "metadata": {
    "deletable": false,
    "id": "42006a93"
   },
   "outputs": [],
   "source": [
    "for t in data['income_type'].unique():\n",
    "    data.loc[(data['income_type'] == t) & (data['total_income'].isna()), 'total_income'] = \\\n",
    "    data.loc[(data['income_type'] == t), 'total_income'].median()"
   ]
  },
  {
   "cell_type": "markdown",
   "id": "877572a7",
   "metadata": {
    "deletable": false,
    "editable": false,
    "id": "89da5ece"
   },
   "source": [
    "### Обработка аномальных значений"
   ]
  },
  {
   "cell_type": "markdown",
   "id": "82ebf8fe",
   "metadata": {
    "deletable": false,
    "editable": false,
    "id": "57964554"
   },
   "source": [
    "**Задание 6. В данных могут встречаться артефакты (аномалии) — значения, которые не отражают действительность и появились по какой-то ошибке. таким артефактом будет отрицательное количество дней трудового стажа в столбце `days_employed`. Для реальных данных это нормально. Обработайте значения в этом столбце: замените все отрицательные значения положительными с помощью метода `abs()`.**"
   ]
  },
  {
   "cell_type": "code",
   "execution_count": 6,
   "id": "ae0371df",
   "metadata": {
    "deletable": false,
    "id": "f6f055bf"
   },
   "outputs": [],
   "source": [
    "data['days_employed'] = data['days_employed'].abs()"
   ]
  },
  {
   "cell_type": "markdown",
   "id": "abbe94dd",
   "metadata": {
    "deletable": false,
    "editable": false,
    "id": "6107dd2f"
   },
   "source": [
    "**Задание 7. Для каждого типа занятости выведите медианное значение трудового стажа `days_employed` в днях.**"
   ]
  },
  {
   "cell_type": "code",
   "execution_count": 7,
   "id": "6c70305d",
   "metadata": {
    "deletable": false,
    "id": "85a5faf6",
    "outputId": "801ef80e-522b-4668-f34e-565af7432bcf"
   },
   "outputs": [
    {
     "data": {
      "text/plain": [
       "income_type\n",
       "безработный        366413.652744\n",
       "в декрете            3296.759962\n",
       "госслужащий          2689.368353\n",
       "компаньон            1547.382223\n",
       "пенсионер          365213.306266\n",
       "предприниматель       520.848083\n",
       "сотрудник            1574.202821\n",
       "студент               578.751554\n",
       "Name: days_employed, dtype: float64"
      ]
     },
     "execution_count": 7,
     "metadata": {},
     "output_type": "execute_result"
    }
   ],
   "source": [
    "data.groupby('income_type')['days_employed'].agg('median')"
   ]
  },
  {
   "cell_type": "markdown",
   "id": "7c1fc549",
   "metadata": {
    "deletable": false,
    "editable": false,
    "id": "38d1a030"
   },
   "source": [
    "У двух типов (безработные и пенсионеры) получатся аномально большие значения. Исправить такие значения сложно, поэтому оставьте их как есть. Тем более этот столбец не понадобится вам для исследования."
   ]
  },
  {
   "cell_type": "markdown",
   "id": "5f08f292",
   "metadata": {
    "deletable": false,
    "editable": false,
    "id": "d8a9f147"
   },
   "source": [
    "**Задание 8. Выведите перечень уникальных значений столбца `children`.**"
   ]
  },
  {
   "cell_type": "code",
   "execution_count": 8,
   "id": "7c36c1d7",
   "metadata": {
    "deletable": false,
    "id": "ef5056eb",
    "outputId": "6975b15c-7f95-4697-d16d-a0c79b657b03"
   },
   "outputs": [
    {
     "data": {
      "text/plain": [
       "array([ 1,  0,  3,  2, -1,  4, 20,  5])"
      ]
     },
     "execution_count": 8,
     "metadata": {},
     "output_type": "execute_result"
    }
   ],
   "source": [
    "data['children'].unique()"
   ]
  },
  {
   "cell_type": "markdown",
   "id": "cde5cc46",
   "metadata": {
    "deletable": false,
    "editable": false,
    "id": "40b9ebf2"
   },
   "source": [
    "**Задание 9. В столбце `children` есть два аномальных значения. Удалите строки, в которых встречаются такие аномальные значения из датафрейма `data`.**"
   ]
  },
  {
   "cell_type": "code",
   "execution_count": 9,
   "id": "e2c193b1",
   "metadata": {
    "deletable": false,
    "id": "3ff9801d"
   },
   "outputs": [],
   "source": [
    "data = data[(data['children'] != -1) & (data['children'] != 20)]"
   ]
  },
  {
   "cell_type": "markdown",
   "id": "bdfd519d",
   "metadata": {
    "deletable": false,
    "editable": false,
    "id": "bbc4d0ce"
   },
   "source": [
    "**Задание 10. Ещё раз выведите перечень уникальных значений столбца `children`, чтобы убедиться, что артефакты удалены.**"
   ]
  },
  {
   "cell_type": "code",
   "execution_count": 10,
   "id": "a10279f8",
   "metadata": {
    "deletable": false,
    "id": "ad4fa8b7",
    "outputId": "b2097101-d49d-44d9-901b-32a65c9463d1"
   },
   "outputs": [
    {
     "data": {
      "text/plain": [
       "array([1, 0, 3, 2, 4, 5])"
      ]
     },
     "execution_count": 10,
     "metadata": {},
     "output_type": "execute_result"
    }
   ],
   "source": [
    "data['children'].unique()"
   ]
  },
  {
   "cell_type": "markdown",
   "id": "65de5543",
   "metadata": {
    "deletable": false,
    "editable": false,
    "id": "75440b63"
   },
   "source": [
    "### Удаление пропусков (продолжение)"
   ]
  },
  {
   "cell_type": "markdown",
   "id": "d56bcd4a",
   "metadata": {
    "deletable": false,
    "editable": false,
    "id": "f4ea573f"
   },
   "source": [
    "**Задание 11. Заполните пропуски в столбце `days_employed` медианными значениями по каждого типа занятости `income_type`.**"
   ]
  },
  {
   "cell_type": "code",
   "execution_count": 11,
   "id": "9160e38e",
   "metadata": {
    "deletable": false,
    "id": "af6b1a7e"
   },
   "outputs": [],
   "source": [
    "for t in data['income_type'].unique():\n",
    "    data.loc[(data['income_type'] == t) & (data['days_employed'].isna()), 'days_employed'] = \\\n",
    "    data.loc[(data['income_type'] == t), 'days_employed'].median()"
   ]
  },
  {
   "cell_type": "markdown",
   "id": "1860b962",
   "metadata": {
    "deletable": false,
    "editable": false,
    "id": "2753f40d"
   },
   "source": [
    "**Задание 12. Убедитесь, что все пропуски заполнены. Проверьте себя и ещё раз выведите количество пропущенных значений для каждого столбца с помощью двух методов.**"
   ]
  },
  {
   "cell_type": "code",
   "execution_count": 12,
   "id": "bdacdb32",
   "metadata": {
    "deletable": false,
    "id": "55f78bc2",
    "outputId": "8da1e4e1-358e-4e87-98c9-f261bce0a7b2"
   },
   "outputs": [
    {
     "data": {
      "text/plain": [
       "children            0\n",
       "days_employed       0\n",
       "dob_years           0\n",
       "education           0\n",
       "education_id        0\n",
       "family_status       0\n",
       "family_status_id    0\n",
       "gender              0\n",
       "income_type         0\n",
       "debt                0\n",
       "total_income        0\n",
       "purpose             0\n",
       "dtype: int64"
      ]
     },
     "execution_count": 12,
     "metadata": {},
     "output_type": "execute_result"
    }
   ],
   "source": [
    "data.isna().sum()"
   ]
  },
  {
   "cell_type": "markdown",
   "id": "ef58c324",
   "metadata": {
    "deletable": false,
    "editable": false,
    "id": "ddc81e43"
   },
   "source": [
    "### Изменение типов данных"
   ]
  },
  {
   "cell_type": "markdown",
   "id": "a8819eb8",
   "metadata": {
    "deletable": false,
    "editable": false,
    "id": "42d19d24"
   },
   "source": [
    "**Задание 13. Замените вещественный тип данных в столбце `total_income` на целочисленный с помощью метода `astype()`.**"
   ]
  },
  {
   "cell_type": "code",
   "execution_count": 13,
   "id": "4cce4c00",
   "metadata": {
    "deletable": false,
    "id": "920b65ad"
   },
   "outputs": [],
   "source": [
    "data['total_income'] = data['total_income'].astype(int)"
   ]
  },
  {
   "cell_type": "markdown",
   "id": "faacccf9",
   "metadata": {
    "deletable": false,
    "editable": false,
    "id": "80c420ba"
   },
   "source": [
    "### Обработка дубликатов"
   ]
  },
  {
   "cell_type": "markdown",
   "id": "08b19be9",
   "metadata": {
    "deletable": false,
    "editable": false
   },
   "source": [
    "**Задание 14. Обработайте неявные дубликаты в столбце `education`. В этом столбце есть одни и те же значения, но записанные по-разному: с использованием заглавных и строчных букв. Приведите их к нижнему регистру. Проверьте остальные столбцы.**"
   ]
  },
  {
   "cell_type": "code",
   "execution_count": 14,
   "id": "637407f0",
   "metadata": {
    "deletable": false
   },
   "outputs": [],
   "source": [
    "data['education'] = data['education'].str.lower()"
   ]
  },
  {
   "cell_type": "markdown",
   "id": "7d66aa8e",
   "metadata": {
    "deletable": false,
    "editable": false,
    "id": "dc587695"
   },
   "source": [
    "**Задание 15. Выведите на экран количество строк-дубликатов в данных. Если такие строки присутствуют, удалите их.**"
   ]
  },
  {
   "cell_type": "code",
   "execution_count": 15,
   "id": "dc011033",
   "metadata": {
    "deletable": false,
    "id": "3ee445e4",
    "outputId": "9684deba-1934-42d1-99e1-cda61740f822"
   },
   "outputs": [
    {
     "data": {
      "text/plain": [
       "71"
      ]
     },
     "execution_count": 15,
     "metadata": {},
     "output_type": "execute_result"
    }
   ],
   "source": [
    "data.duplicated().sum()"
   ]
  },
  {
   "cell_type": "code",
   "execution_count": 16,
   "id": "84168461",
   "metadata": {
    "deletable": false,
    "id": "8575fe05"
   },
   "outputs": [],
   "source": [
    "data = data.drop_duplicates()"
   ]
  },
  {
   "cell_type": "markdown",
   "id": "ed2350f7",
   "metadata": {
    "deletable": false,
    "editable": false,
    "id": "9904cf55"
   },
   "source": [
    "### Категоризация данных"
   ]
  },
  {
   "cell_type": "markdown",
   "id": "261facf5",
   "metadata": {
    "deletable": false,
    "editable": false,
    "id": "72fcc8a2"
   },
   "source": [
    "**Задание 16. На основании диапазонов, указанных ниже, создайте в датафрейме `data` столбец `total_income_category` с категориями:**\n",
    "\n",
    "- 0–30000 — `'E'`;\n",
    "- 30001–50000 — `'D'`;\n",
    "- 50001–200000 — `'C'`;\n",
    "- 200001–1000000 — `'B'`;\n",
    "- 1000001 и выше — `'A'`.\n",
    "\n",
    "\n",
    "**Например, кредитополучателю с доходом 25000 нужно назначить категорию `'E'`, а клиенту, получающему 235000, — `'B'`. Используйте собственную функцию с именем `categorize_income()` и метод `apply()`.**"
   ]
  },
  {
   "cell_type": "code",
   "execution_count": 17,
   "id": "005dd74d",
   "metadata": {
    "deletable": false,
    "id": "e1771346"
   },
   "outputs": [],
   "source": [
    "def categorize_income(income):\n",
    "    try:\n",
    "        if 0 <= income <= 30000:\n",
    "            return 'E'\n",
    "        elif 30001 <= income <= 50000:\n",
    "            return 'D'\n",
    "        elif 50001 <= income <= 200000:\n",
    "            return 'C'\n",
    "        elif 200001 <= income <= 1000000:\n",
    "            return 'B'\n",
    "        elif income >= 1000001:\n",
    "            return 'A'\n",
    "    except:\n",
    "        pass"
   ]
  },
  {
   "cell_type": "code",
   "execution_count": 18,
   "id": "fbdd6e27",
   "metadata": {
    "deletable": false,
    "id": "d5f3586d"
   },
   "outputs": [],
   "source": [
    "data['total_income_category'] = data['total_income'].apply(categorize_income)"
   ]
  },
  {
   "cell_type": "markdown",
   "id": "c244babe",
   "metadata": {
    "deletable": false,
    "editable": false,
    "id": "dde49b5c"
   },
   "source": [
    "**Задание 17. Выведите на экран перечень уникальных целей взятия кредита из столбца `purpose`.**"
   ]
  },
  {
   "cell_type": "code",
   "execution_count": 19,
   "id": "3c3766bd",
   "metadata": {
    "deletable": false,
    "id": "f67ce9b3",
    "outputId": "673c12d9-7d7e-4ae0-9812-c622c89dd244"
   },
   "outputs": [
    {
     "data": {
      "text/plain": [
       "array(['покупка жилья', 'приобретение автомобиля',\n",
       "       'дополнительное образование', 'сыграть свадьбу',\n",
       "       'операции с жильем', 'образование', 'на проведение свадьбы',\n",
       "       'покупка жилья для семьи', 'покупка недвижимости',\n",
       "       'покупка коммерческой недвижимости', 'покупка жилой недвижимости',\n",
       "       'строительство собственной недвижимости', 'недвижимость',\n",
       "       'строительство недвижимости', 'на покупку подержанного автомобиля',\n",
       "       'на покупку своего автомобиля',\n",
       "       'операции с коммерческой недвижимостью',\n",
       "       'строительство жилой недвижимости', 'жилье',\n",
       "       'операции со своей недвижимостью', 'автомобили',\n",
       "       'заняться образованием', 'сделка с подержанным автомобилем',\n",
       "       'получение образования', 'автомобиль', 'свадьба',\n",
       "       'получение дополнительного образования', 'покупка своего жилья',\n",
       "       'операции с недвижимостью', 'получение высшего образования',\n",
       "       'свой автомобиль', 'сделка с автомобилем',\n",
       "       'профильное образование', 'высшее образование',\n",
       "       'покупка жилья для сдачи', 'на покупку автомобиля', 'ремонт жилью',\n",
       "       'заняться высшим образованием'], dtype=object)"
      ]
     },
     "execution_count": 19,
     "metadata": {},
     "output_type": "execute_result"
    }
   ],
   "source": [
    "data['purpose'].unique()"
   ]
  },
  {
   "cell_type": "markdown",
   "id": "348c7dea",
   "metadata": {
    "deletable": false,
    "editable": false,
    "id": "85d0aef0"
   },
   "source": [
    "**Задание 18. Создайте функцию, которая на основании данных из столбца `purpose` сформирует новый столбец `purpose_category`, в который войдут следующие категории:**\n",
    "\n",
    "- `'операции с автомобилем'`,\n",
    "- `'операции с недвижимостью'`,\n",
    "- `'проведение свадьбы'`,\n",
    "- `'получение образования'`.\n",
    "\n",
    "**Например, если в столбце `purpose` находится подстрока `'на покупку автомобиля'`, то в столбце `purpose_category` должна появиться строка `'операции с автомобилем'`.**\n",
    "\n",
    "**Используйте собственную функцию с именем `categorize_purpose()` и метод `apply()`. Изучите данные в столбце `purpose` и определите, какие подстроки помогут вам правильно определить категорию.**"
   ]
  },
  {
   "cell_type": "code",
   "execution_count": 20,
   "id": "64a3e29f",
   "metadata": {
    "deletable": false,
    "id": "e149fab4"
   },
   "outputs": [],
   "source": [
    "def categorize_purpose(row):\n",
    "    try:\n",
    "        if 'автом' in row:\n",
    "            return 'операции с автомобилем'\n",
    "        elif 'жил' in row or 'недвиж' in row:\n",
    "            return 'операции с недвижимостью'\n",
    "        elif 'свад' in row:\n",
    "            return 'проведение свадьбы'\n",
    "        elif 'образов' in row:\n",
    "            return 'получение образования'\n",
    "    except:\n",
    "        return 'нет категории'"
   ]
  },
  {
   "cell_type": "code",
   "execution_count": 21,
   "id": "ba93b118",
   "metadata": {
    "deletable": false,
    "id": "bf36e69b"
   },
   "outputs": [],
   "source": [
    "data['purpose_category'] = data['purpose'].apply(categorize_purpose)"
   ]
  },
  {
   "cell_type": "markdown",
   "id": "78ac941f",
   "metadata": {
    "deletable": false,
    "editable": false,
    "id": "09b242bf"
   },
   "source": [
    "### Шаг 3. Исследуйте данные и ответьте на вопросы"
   ]
  },
  {
   "cell_type": "markdown",
   "id": "121e0ca1",
   "metadata": {
    "deletable": false,
    "editable": false,
    "id": "c5d66278"
   },
   "source": [
    "#### 3.1 Есть ли зависимость между количеством детей и возвратом кредита в срок?"
   ]
  },
  {
   "cell_type": "code",
   "execution_count": 22,
   "id": "f8cc4a57",
   "metadata": {
    "deletable": false,
    "id": "2cacfc4a"
   },
   "outputs": [
    {
     "data": {
      "text/html": [
       "<div>\n",
       "<style scoped>\n",
       "    .dataframe tbody tr th:only-of-type {\n",
       "        vertical-align: middle;\n",
       "    }\n",
       "\n",
       "    .dataframe tbody tr th {\n",
       "        vertical-align: top;\n",
       "    }\n",
       "\n",
       "    .dataframe thead th {\n",
       "        text-align: right;\n",
       "    }\n",
       "</style>\n",
       "<table border=\"1\" class=\"dataframe\">\n",
       "  <thead>\n",
       "    <tr style=\"text-align: right;\">\n",
       "      <th></th>\n",
       "      <th>count_children</th>\n",
       "      <th>sum_children</th>\n",
       "      <th>result</th>\n",
       "    </tr>\n",
       "    <tr>\n",
       "      <th>children</th>\n",
       "      <th></th>\n",
       "      <th></th>\n",
       "      <th></th>\n",
       "    </tr>\n",
       "  </thead>\n",
       "  <tbody>\n",
       "    <tr>\n",
       "      <th>0</th>\n",
       "      <td>14091</td>\n",
       "      <td>1063</td>\n",
       "      <td>7.543822</td>\n",
       "    </tr>\n",
       "    <tr>\n",
       "      <th>1</th>\n",
       "      <td>4808</td>\n",
       "      <td>444</td>\n",
       "      <td>9.234609</td>\n",
       "    </tr>\n",
       "    <tr>\n",
       "      <th>2</th>\n",
       "      <td>2052</td>\n",
       "      <td>194</td>\n",
       "      <td>9.454191</td>\n",
       "    </tr>\n",
       "    <tr>\n",
       "      <th>3</th>\n",
       "      <td>330</td>\n",
       "      <td>27</td>\n",
       "      <td>8.181818</td>\n",
       "    </tr>\n",
       "    <tr>\n",
       "      <th>4</th>\n",
       "      <td>41</td>\n",
       "      <td>4</td>\n",
       "      <td>9.756098</td>\n",
       "    </tr>\n",
       "    <tr>\n",
       "      <th>5</th>\n",
       "      <td>9</td>\n",
       "      <td>0</td>\n",
       "      <td>0.000000</td>\n",
       "    </tr>\n",
       "  </tbody>\n",
       "</table>\n",
       "</div>"
      ],
      "text/plain": [
       "          count_children  sum_children    result\n",
       "children                                        \n",
       "0                  14091          1063  7.543822\n",
       "1                   4808           444  9.234609\n",
       "2                   2052           194  9.454191\n",
       "3                    330            27  8.181818\n",
       "4                     41             4  9.756098\n",
       "5                      9             0  0.000000"
      ]
     },
     "execution_count": 22,
     "metadata": {},
     "output_type": "execute_result"
    }
   ],
   "source": [
    "debt_from_children = pd.DataFrame()\n",
    "debt_from_children['count_children'] = data.groupby('children')['debt'].count()\n",
    "debt_from_children['sum_children'] = data.groupby('children')['debt'].sum()\n",
    "debt_from_children['result'] = debt_from_children['sum_children']/ debt_from_children['count_children'] * 100\n",
    "debt_from_children"
   ]
  },
  {
   "cell_type": "markdown",
   "id": "6353cebd",
   "metadata": {
    "deletable": false,
    "id": "3a6b99ec"
   },
   "source": [
    "**Вывод:** \n",
    "В целом, число невозвратных кредитов в категории без детей ниже, чем в остальных категориях. \n",
    "Есть снижение процента невозвратных кредитов в категориях 3 и 5 детей, но это скорее всязанно с недостаточной выборкой исследования."
   ]
  },
  {
   "cell_type": "markdown",
   "id": "f73a7b6b",
   "metadata": {
    "deletable": false,
    "editable": false,
    "id": "97be82ca"
   },
   "source": [
    "#### 3.2 Есть ли зависимость между семейным положением и возвратом кредита в срок?"
   ]
  },
  {
   "cell_type": "code",
   "execution_count": 23,
   "id": "6a6398cc",
   "metadata": {
    "deletable": false,
    "id": "dc3f7ee8"
   },
   "outputs": [
    {
     "data": {
      "text/html": [
       "<div>\n",
       "<style scoped>\n",
       "    .dataframe tbody tr th:only-of-type {\n",
       "        vertical-align: middle;\n",
       "    }\n",
       "\n",
       "    .dataframe tbody tr th {\n",
       "        vertical-align: top;\n",
       "    }\n",
       "\n",
       "    .dataframe thead th {\n",
       "        text-align: right;\n",
       "    }\n",
       "</style>\n",
       "<table border=\"1\" class=\"dataframe\">\n",
       "  <thead>\n",
       "    <tr style=\"text-align: right;\">\n",
       "      <th></th>\n",
       "      <th>count_family</th>\n",
       "      <th>sum_family</th>\n",
       "      <th>result</th>\n",
       "    </tr>\n",
       "    <tr>\n",
       "      <th>family_status</th>\n",
       "      <th></th>\n",
       "      <th></th>\n",
       "      <th></th>\n",
       "    </tr>\n",
       "  </thead>\n",
       "  <tbody>\n",
       "    <tr>\n",
       "      <th>Не женат / не замужем</th>\n",
       "      <td>2796</td>\n",
       "      <td>273</td>\n",
       "      <td>9.763948</td>\n",
       "    </tr>\n",
       "    <tr>\n",
       "      <th>гражданский брак</th>\n",
       "      <td>4134</td>\n",
       "      <td>385</td>\n",
       "      <td>9.313014</td>\n",
       "    </tr>\n",
       "    <tr>\n",
       "      <th>женат / замужем</th>\n",
       "      <td>12261</td>\n",
       "      <td>927</td>\n",
       "      <td>7.560558</td>\n",
       "    </tr>\n",
       "    <tr>\n",
       "      <th>в разводе</th>\n",
       "      <td>1189</td>\n",
       "      <td>84</td>\n",
       "      <td>7.064760</td>\n",
       "    </tr>\n",
       "    <tr>\n",
       "      <th>вдовец / вдова</th>\n",
       "      <td>951</td>\n",
       "      <td>63</td>\n",
       "      <td>6.624606</td>\n",
       "    </tr>\n",
       "  </tbody>\n",
       "</table>\n",
       "</div>"
      ],
      "text/plain": [
       "                       count_family  sum_family    result\n",
       "family_status                                            \n",
       "Не женат / не замужем          2796         273  9.763948\n",
       "гражданский брак               4134         385  9.313014\n",
       "женат / замужем               12261         927  7.560558\n",
       "в разводе                      1189          84  7.064760\n",
       "вдовец / вдова                  951          63  6.624606"
      ]
     },
     "execution_count": 23,
     "metadata": {},
     "output_type": "execute_result"
    }
   ],
   "source": [
    "debt_from_family = pd.DataFrame()\n",
    "debt_from_family['count_family'] = data.groupby('family_status')['debt'].count()\n",
    "debt_from_family['sum_family'] = data.groupby('family_status')['debt'].sum()\n",
    "debt_from_family['result'] = debt_from_family['sum_family']/ debt_from_family['count_family'] * 100\n",
    "debt_from_family.sort_values('result', ascending = False)\n",
    "\n",
    "\n",
    "\n",
    "\n"
   ]
  },
  {
   "cell_type": "markdown",
   "id": "8c961f7f",
   "metadata": {
    "deletable": false,
    "id": "1cef7837"
   },
   "source": [
    "**Вывод:** \n",
    "При фильтрации по семейному положению, выявляется пропиворечивая закономерность, люди в категориях \"женат/замужем\" и \"в разводе\" имеюит одиноковый процент невыплат. Люди в категориях \"Не женат / не замужем\"\tи \"гражданский брак\" имеют самый высокий процент невозвратов, можно предположить, что люди, заключающие официальный брак, более осознанно подходят к решению и о кредите.\n",
    "Самой надежной оказалась категория \"вдовец / вдова\", но и выборка наименьшая."
   ]
  },
  {
   "cell_type": "markdown",
   "id": "b1f8d468",
   "metadata": {
    "deletable": false,
    "editable": false,
    "id": "1e8b2fca"
   },
   "source": [
    "#### 3.3 Есть ли зависимость между уровнем дохода и возвратом кредита в срок?"
   ]
  },
  {
   "cell_type": "code",
   "execution_count": 24,
   "id": "490eab1f",
   "metadata": {
    "deletable": false,
    "id": "cd7e3720"
   },
   "outputs": [
    {
     "data": {
      "text/html": [
       "<div>\n",
       "<style scoped>\n",
       "    .dataframe tbody tr th:only-of-type {\n",
       "        vertical-align: middle;\n",
       "    }\n",
       "\n",
       "    .dataframe tbody tr th {\n",
       "        vertical-align: top;\n",
       "    }\n",
       "\n",
       "    .dataframe thead th {\n",
       "        text-align: right;\n",
       "    }\n",
       "</style>\n",
       "<table border=\"1\" class=\"dataframe\">\n",
       "  <thead>\n",
       "    <tr style=\"text-align: right;\">\n",
       "      <th></th>\n",
       "      <th>count_income</th>\n",
       "      <th>sum_income</th>\n",
       "      <th>result</th>\n",
       "    </tr>\n",
       "    <tr>\n",
       "      <th>total_income_category</th>\n",
       "      <th></th>\n",
       "      <th></th>\n",
       "      <th></th>\n",
       "    </tr>\n",
       "  </thead>\n",
       "  <tbody>\n",
       "    <tr>\n",
       "      <th>E</th>\n",
       "      <td>22</td>\n",
       "      <td>2</td>\n",
       "      <td>9.090909</td>\n",
       "    </tr>\n",
       "    <tr>\n",
       "      <th>C</th>\n",
       "      <td>15921</td>\n",
       "      <td>1353</td>\n",
       "      <td>8.498210</td>\n",
       "    </tr>\n",
       "    <tr>\n",
       "      <th>A</th>\n",
       "      <td>25</td>\n",
       "      <td>2</td>\n",
       "      <td>8.000000</td>\n",
       "    </tr>\n",
       "    <tr>\n",
       "      <th>B</th>\n",
       "      <td>5014</td>\n",
       "      <td>354</td>\n",
       "      <td>7.060231</td>\n",
       "    </tr>\n",
       "    <tr>\n",
       "      <th>D</th>\n",
       "      <td>349</td>\n",
       "      <td>21</td>\n",
       "      <td>6.017192</td>\n",
       "    </tr>\n",
       "  </tbody>\n",
       "</table>\n",
       "</div>"
      ],
      "text/plain": [
       "                       count_income  sum_income    result\n",
       "total_income_category                                    \n",
       "E                                22           2  9.090909\n",
       "C                             15921        1353  8.498210\n",
       "A                                25           2  8.000000\n",
       "B                              5014         354  7.060231\n",
       "D                               349          21  6.017192"
      ]
     },
     "execution_count": 24,
     "metadata": {},
     "output_type": "execute_result"
    }
   ],
   "source": [
    "debt_from_income = pd.DataFrame()\n",
    "debt_from_income['count_income'] = data.groupby('total_income_category')['debt'].count()\n",
    "debt_from_income['sum_income'] = data.groupby('total_income_category')['debt'].sum()\n",
    "debt_from_income['result'] = debt_from_income['sum_income']/ debt_from_income['count_income'] * 100\n",
    "debt_from_income.sort_values('result', ascending = False)\n",
    "\n"
   ]
  },
  {
   "cell_type": "markdown",
   "id": "5a7e1096",
   "metadata": {
    "deletable": false,
    "id": "e8593def"
   },
   "source": [
    "**Вывод:** \n",
    "Однозначной зависимости между уровнем дохода и возвратом кредита не просматривается."
   ]
  },
  {
   "cell_type": "markdown",
   "id": "b9e13444",
   "metadata": {
    "deletable": false,
    "editable": false,
    "id": "99ecbd1f"
   },
   "source": [
    "#### 3.4 Как разные цели кредита влияют на его возврат в срок?"
   ]
  },
  {
   "cell_type": "code",
   "execution_count": 25,
   "id": "442617ac",
   "metadata": {
    "deletable": false,
    "id": "2b687290"
   },
   "outputs": [
    {
     "data": {
      "text/html": [
       "<div>\n",
       "<style scoped>\n",
       "    .dataframe tbody tr th:only-of-type {\n",
       "        vertical-align: middle;\n",
       "    }\n",
       "\n",
       "    .dataframe tbody tr th {\n",
       "        vertical-align: top;\n",
       "    }\n",
       "\n",
       "    .dataframe thead th {\n",
       "        text-align: right;\n",
       "    }\n",
       "</style>\n",
       "<table border=\"1\" class=\"dataframe\">\n",
       "  <thead>\n",
       "    <tr style=\"text-align: right;\">\n",
       "      <th></th>\n",
       "      <th>count_purpose</th>\n",
       "      <th>sum_purpose</th>\n",
       "      <th>result</th>\n",
       "    </tr>\n",
       "    <tr>\n",
       "      <th>purpose_category</th>\n",
       "      <th></th>\n",
       "      <th></th>\n",
       "      <th></th>\n",
       "    </tr>\n",
       "  </thead>\n",
       "  <tbody>\n",
       "    <tr>\n",
       "      <th>операции с автомобилем</th>\n",
       "      <td>4279</td>\n",
       "      <td>400</td>\n",
       "      <td>9.347978</td>\n",
       "    </tr>\n",
       "    <tr>\n",
       "      <th>получение образования</th>\n",
       "      <td>3988</td>\n",
       "      <td>369</td>\n",
       "      <td>9.252758</td>\n",
       "    </tr>\n",
       "    <tr>\n",
       "      <th>проведение свадьбы</th>\n",
       "      <td>2313</td>\n",
       "      <td>183</td>\n",
       "      <td>7.911803</td>\n",
       "    </tr>\n",
       "    <tr>\n",
       "      <th>операции с недвижимостью</th>\n",
       "      <td>10751</td>\n",
       "      <td>780</td>\n",
       "      <td>7.255139</td>\n",
       "    </tr>\n",
       "  </tbody>\n",
       "</table>\n",
       "</div>"
      ],
      "text/plain": [
       "                          count_purpose  sum_purpose    result\n",
       "purpose_category                                              \n",
       "операции с автомобилем             4279          400  9.347978\n",
       "получение образования              3988          369  9.252758\n",
       "проведение свадьбы                 2313          183  7.911803\n",
       "операции с недвижимостью          10751          780  7.255139"
      ]
     },
     "execution_count": 25,
     "metadata": {},
     "output_type": "execute_result"
    }
   ],
   "source": [
    "debt_from_purpose = pd.DataFrame()\n",
    "debt_from_purpose['count_purpose'] = data.groupby('purpose_category')['debt'].count()\n",
    "debt_from_purpose['sum_purpose'] = data.groupby('purpose_category')['debt'].sum()\n",
    "debt_from_purpose['result'] = debt_from_purpose['sum_purpose']/ debt_from_purpose['count_purpose'] * 100\n",
    "debt_from_purpose.sort_values('result', ascending = False)"
   ]
  },
  {
   "cell_type": "markdown",
   "id": "f8e97699",
   "metadata": {
    "deletable": false,
    "id": "b4bb2ce6"
   },
   "source": [
    "**Вывод:** \n",
    "Кредиты взятые на проведение свадьбы  и операции с недвижимостью, отдаются в срок чаще."
   ]
  },
  {
   "cell_type": "markdown",
   "id": "544dbebc",
   "metadata": {
    "deletable": false,
    "editable": false,
    "id": "09c3ac4c"
   },
   "source": [
    "#### 3.5 Приведите возможные причины появления пропусков в исходных данных."
   ]
  },
  {
   "cell_type": "markdown",
   "id": "6ced2cda",
   "metadata": {
    "deletable": false,
    "id": "9da2ceda"
   },
   "source": [
    "*Ответ:* \n",
    "Возможно пропуски были допущены, потому что люди не хотели раскрывать информацию о своих доходах, а колличество рабочих дней, объясняется неофициальной работой или фрилансом.\n"
   ]
  },
  {
   "cell_type": "markdown",
   "id": "d14165e3",
   "metadata": {
    "deletable": false,
    "editable": false,
    "id": "7b0487d6"
   },
   "source": [
    "#### 3.6 Объясните, почему заполнить пропуски медианным значением — лучшее решение для количественных переменных."
   ]
  },
  {
   "cell_type": "markdown",
   "id": "3438e7c4",
   "metadata": {
    "deletable": false,
    "id": "7ecf2b8e"
   },
   "source": [
    "Так как наши данные распределены не равномерно, использование медианы в меньшей степени повлияет на распеделение параметров."
   ]
  },
  {
   "cell_type": "markdown",
   "id": "2e272dda",
   "metadata": {
    "deletable": false,
    "editable": false,
    "id": "6db5255a"
   },
   "source": [
    "### Шаг 4: общий вывод."
   ]
  },
  {
   "cell_type": "markdown",
   "id": "7c3f1924",
   "metadata": {
    "deletable": false,
    "id": "bad65432"
   },
   "source": [
    "Проанализировав таблицу, мы пришли к выводу, что люди когда либо бывшие в браке лучше отдают кредиты, так же лидируют люди без детей.\n",
    "кредиты на свадьбу и недвижимость имеют хороший прцент возвратов."
   ]
  }
 ],
 "metadata": {
  "ExecuteTimeLog": [
   {
    "duration": 54,
    "start_time": "2022-08-11T20:49:20.732Z"
   },
   {
    "duration": 487,
    "start_time": "2022-08-11T20:49:35.091Z"
   },
   {
    "duration": 22,
    "start_time": "2022-08-11T20:49:35.581Z"
   },
   {
    "duration": 14,
    "start_time": "2022-08-11T20:49:35.604Z"
   },
   {
    "duration": 9,
    "start_time": "2022-08-11T20:49:35.620Z"
   },
   {
    "duration": 33,
    "start_time": "2022-08-11T20:49:35.631Z"
   },
   {
    "duration": 3,
    "start_time": "2022-08-11T20:49:35.666Z"
   },
   {
    "duration": 38,
    "start_time": "2022-08-11T20:49:35.670Z"
   },
   {
    "duration": 5,
    "start_time": "2022-08-11T20:49:35.710Z"
   },
   {
    "duration": 10,
    "start_time": "2022-08-11T20:49:35.716Z"
   },
   {
    "duration": 6,
    "start_time": "2022-08-11T20:49:35.728Z"
   },
   {
    "duration": 35,
    "start_time": "2022-08-11T20:49:35.735Z"
   },
   {
    "duration": 10,
    "start_time": "2022-08-11T20:49:35.799Z"
   },
   {
    "duration": 4,
    "start_time": "2022-08-11T20:49:35.811Z"
   },
   {
    "duration": 15,
    "start_time": "2022-08-11T20:49:35.818Z"
   },
   {
    "duration": 27,
    "start_time": "2022-08-11T20:49:35.835Z"
   },
   {
    "duration": 40,
    "start_time": "2022-08-11T20:49:35.863Z"
   },
   {
    "duration": 4,
    "start_time": "2022-08-11T20:49:35.905Z"
   },
   {
    "duration": 19,
    "start_time": "2022-08-11T20:49:35.911Z"
   },
   {
    "duration": 14,
    "start_time": "2022-08-11T20:49:35.932Z"
   },
   {
    "duration": 4,
    "start_time": "2022-08-11T20:49:35.947Z"
   },
   {
    "duration": 14,
    "start_time": "2022-08-11T20:49:35.954Z"
   },
   {
    "duration": 34,
    "start_time": "2022-08-11T20:49:35.969Z"
   },
   {
    "duration": 8,
    "start_time": "2022-08-11T20:49:36.005Z"
   },
   {
    "duration": 4,
    "start_time": "2022-08-11T20:49:36.015Z"
   },
   {
    "duration": 8,
    "start_time": "2022-08-11T20:49:36.020Z"
   },
   {
    "duration": 5,
    "start_time": "2022-08-11T20:56:00.286Z"
   },
   {
    "duration": 2,
    "start_time": "2022-08-11T20:56:29.389Z"
   },
   {
    "duration": 4,
    "start_time": "2022-08-11T20:56:39.336Z"
   },
   {
    "duration": 3,
    "start_time": "2022-08-11T20:57:52.190Z"
   },
   {
    "duration": 5,
    "start_time": "2022-08-11T20:58:44.921Z"
   },
   {
    "duration": 6,
    "start_time": "2022-08-11T20:58:47.672Z"
   },
   {
    "duration": 5,
    "start_time": "2022-08-11T20:58:49.945Z"
   },
   {
    "duration": 12,
    "start_time": "2022-08-11T20:59:23.679Z"
   },
   {
    "duration": 5,
    "start_time": "2022-08-11T20:59:43.080Z"
   },
   {
    "duration": 5,
    "start_time": "2022-08-11T21:02:15.722Z"
   },
   {
    "duration": 5,
    "start_time": "2022-08-11T21:04:02.581Z"
   },
   {
    "duration": 11,
    "start_time": "2022-08-11T21:06:31.229Z"
   },
   {
    "duration": 8,
    "start_time": "2022-08-11T21:07:08.599Z"
   },
   {
    "duration": 6,
    "start_time": "2022-08-11T21:07:58.810Z"
   },
   {
    "duration": 6,
    "start_time": "2022-08-11T21:08:19.304Z"
   },
   {
    "duration": 8,
    "start_time": "2022-08-11T21:08:36.726Z"
   },
   {
    "duration": 16,
    "start_time": "2022-08-11T21:15:13.408Z"
   },
   {
    "duration": 9,
    "start_time": "2022-08-11T21:24:10.741Z"
   },
   {
    "duration": 7,
    "start_time": "2022-08-11T21:24:14.055Z"
   },
   {
    "duration": 9,
    "start_time": "2022-08-11T21:24:24.617Z"
   },
   {
    "duration": 11,
    "start_time": "2022-08-11T21:24:56.611Z"
   },
   {
    "duration": 7,
    "start_time": "2022-08-11T21:25:11.235Z"
   },
   {
    "duration": 8,
    "start_time": "2022-08-11T21:26:50.284Z"
   },
   {
    "duration": 7,
    "start_time": "2022-08-11T21:30:19.311Z"
   },
   {
    "duration": 5,
    "start_time": "2022-08-11T21:30:30.890Z"
   },
   {
    "duration": 9,
    "start_time": "2022-08-11T21:30:42.550Z"
   },
   {
    "duration": 13,
    "start_time": "2022-08-11T21:32:03.191Z"
   },
   {
    "duration": 6,
    "start_time": "2022-08-11T21:32:31.412Z"
   },
   {
    "duration": 77,
    "start_time": "2022-08-11T21:35:42.696Z"
   },
   {
    "duration": 55,
    "start_time": "2022-08-11T21:37:49.699Z"
   },
   {
    "duration": 12,
    "start_time": "2022-08-11T21:38:51.975Z"
   },
   {
    "duration": 9,
    "start_time": "2022-08-11T21:47:25.123Z"
   },
   {
    "duration": 10,
    "start_time": "2022-08-11T21:50:32.440Z"
   },
   {
    "duration": 12,
    "start_time": "2022-08-11T21:57:40.716Z"
   },
   {
    "duration": 12,
    "start_time": "2022-08-11T21:59:39.665Z"
   },
   {
    "duration": 12,
    "start_time": "2022-08-11T22:03:10.258Z"
   },
   {
    "duration": 2346,
    "start_time": "2022-08-11T22:04:06.766Z"
   },
   {
    "duration": 13,
    "start_time": "2022-08-11T22:04:35.573Z"
   },
   {
    "duration": 12,
    "start_time": "2022-08-11T22:05:08.277Z"
   },
   {
    "duration": 59,
    "start_time": "2022-08-11T22:06:31.570Z"
   },
   {
    "duration": 8,
    "start_time": "2022-08-11T22:08:25.985Z"
   },
   {
    "duration": 8,
    "start_time": "2022-08-11T22:08:30.362Z"
   },
   {
    "duration": 10,
    "start_time": "2022-08-11T22:08:44.952Z"
   },
   {
    "duration": 12,
    "start_time": "2022-08-11T22:08:52.781Z"
   },
   {
    "duration": 52,
    "start_time": "2022-08-12T14:23:14.609Z"
   },
   {
    "duration": 8,
    "start_time": "2022-08-12T14:23:41.195Z"
   },
   {
    "duration": 579,
    "start_time": "2022-08-12T14:23:51.804Z"
   },
   {
    "duration": 25,
    "start_time": "2022-08-12T14:23:52.385Z"
   },
   {
    "duration": 16,
    "start_time": "2022-08-12T14:23:52.412Z"
   },
   {
    "duration": 11,
    "start_time": "2022-08-12T14:23:52.430Z"
   },
   {
    "duration": 65,
    "start_time": "2022-08-12T14:23:52.443Z"
   },
   {
    "duration": 5,
    "start_time": "2022-08-12T14:23:52.510Z"
   },
   {
    "duration": 14,
    "start_time": "2022-08-12T14:23:52.517Z"
   },
   {
    "duration": 5,
    "start_time": "2022-08-12T14:23:52.533Z"
   },
   {
    "duration": 13,
    "start_time": "2022-08-12T14:23:52.539Z"
   },
   {
    "duration": 7,
    "start_time": "2022-08-12T14:23:52.555Z"
   },
   {
    "duration": 59,
    "start_time": "2022-08-12T14:23:52.563Z"
   },
   {
    "duration": 10,
    "start_time": "2022-08-12T14:23:52.624Z"
   },
   {
    "duration": 7,
    "start_time": "2022-08-12T14:23:52.636Z"
   },
   {
    "duration": 28,
    "start_time": "2022-08-12T14:23:52.644Z"
   },
   {
    "duration": 35,
    "start_time": "2022-08-12T14:23:52.674Z"
   },
   {
    "duration": 18,
    "start_time": "2022-08-12T14:23:52.711Z"
   },
   {
    "duration": 5,
    "start_time": "2022-08-12T14:23:52.731Z"
   },
   {
    "duration": 18,
    "start_time": "2022-08-12T14:23:52.738Z"
   },
   {
    "duration": 10,
    "start_time": "2022-08-12T14:23:52.758Z"
   },
   {
    "duration": 23,
    "start_time": "2022-08-12T14:23:52.770Z"
   },
   {
    "duration": 12,
    "start_time": "2022-08-12T14:23:52.795Z"
   },
   {
    "duration": 15,
    "start_time": "2022-08-12T14:23:52.809Z"
   },
   {
    "duration": 92,
    "start_time": "2022-08-12T14:23:52.826Z"
   },
   {
    "duration": 0,
    "start_time": "2022-08-12T14:23:52.919Z"
   },
   {
    "duration": 0,
    "start_time": "2022-08-12T14:23:52.921Z"
   },
   {
    "duration": 10,
    "start_time": "2022-08-12T14:24:48.581Z"
   },
   {
    "duration": 11,
    "start_time": "2022-08-12T14:25:28.896Z"
   },
   {
    "duration": 16,
    "start_time": "2022-08-12T14:25:57.791Z"
   },
   {
    "duration": 14,
    "start_time": "2022-08-12T14:26:14.629Z"
   },
   {
    "duration": 1718,
    "start_time": "2022-08-12T14:27:36.567Z"
   },
   {
    "duration": 1701,
    "start_time": "2022-08-12T14:27:56.421Z"
   },
   {
    "duration": 124,
    "start_time": "2022-08-12T14:28:11.977Z"
   },
   {
    "duration": 28,
    "start_time": "2022-08-12T14:29:06.348Z"
   },
   {
    "duration": 19,
    "start_time": "2022-08-12T14:29:22.597Z"
   },
   {
    "duration": 17,
    "start_time": "2022-08-12T14:29:38.375Z"
   },
   {
    "duration": 14,
    "start_time": "2022-08-12T14:31:56.319Z"
   },
   {
    "duration": 15,
    "start_time": "2022-08-12T14:34:48.239Z"
   },
   {
    "duration": 16,
    "start_time": "2022-08-12T14:34:54.424Z"
   },
   {
    "duration": 17,
    "start_time": "2022-08-12T14:36:46.296Z"
   },
   {
    "duration": 17,
    "start_time": "2022-08-12T14:38:42.532Z"
   },
   {
    "duration": 19,
    "start_time": "2022-08-12T14:39:14.552Z"
   },
   {
    "duration": 18,
    "start_time": "2022-08-12T14:39:25.720Z"
   },
   {
    "duration": 18,
    "start_time": "2022-08-12T14:40:14.517Z"
   },
   {
    "duration": 26,
    "start_time": "2022-08-12T14:40:29.250Z"
   },
   {
    "duration": 17,
    "start_time": "2022-08-12T14:40:38.472Z"
   },
   {
    "duration": 120,
    "start_time": "2022-08-12T14:40:54.139Z"
   },
   {
    "duration": 18,
    "start_time": "2022-08-12T14:40:57.063Z"
   },
   {
    "duration": 19,
    "start_time": "2022-08-12T14:41:48.512Z"
   },
   {
    "duration": 14,
    "start_time": "2022-08-12T14:41:55.863Z"
   },
   {
    "duration": 605,
    "start_time": "2022-08-12T19:46:47.502Z"
   },
   {
    "duration": 44,
    "start_time": "2022-08-12T19:46:48.110Z"
   },
   {
    "duration": 29,
    "start_time": "2022-08-12T19:46:48.156Z"
   },
   {
    "duration": 18,
    "start_time": "2022-08-12T19:46:48.191Z"
   },
   {
    "duration": 80,
    "start_time": "2022-08-12T19:46:48.212Z"
   },
   {
    "duration": 4,
    "start_time": "2022-08-12T19:46:48.294Z"
   },
   {
    "duration": 12,
    "start_time": "2022-08-12T19:46:48.301Z"
   },
   {
    "duration": 6,
    "start_time": "2022-08-12T19:46:48.315Z"
   },
   {
    "duration": 10,
    "start_time": "2022-08-12T19:46:48.323Z"
   },
   {
    "duration": 6,
    "start_time": "2022-08-12T19:46:48.336Z"
   },
   {
    "duration": 72,
    "start_time": "2022-08-12T19:46:48.344Z"
   },
   {
    "duration": 12,
    "start_time": "2022-08-12T19:46:48.418Z"
   },
   {
    "duration": 7,
    "start_time": "2022-08-12T19:46:48.432Z"
   },
   {
    "duration": 14,
    "start_time": "2022-08-12T19:46:48.441Z"
   },
   {
    "duration": 50,
    "start_time": "2022-08-12T19:46:48.457Z"
   },
   {
    "duration": 21,
    "start_time": "2022-08-12T19:46:48.509Z"
   },
   {
    "duration": 5,
    "start_time": "2022-08-12T19:46:48.531Z"
   },
   {
    "duration": 27,
    "start_time": "2022-08-12T19:46:48.537Z"
   },
   {
    "duration": 25,
    "start_time": "2022-08-12T19:46:48.567Z"
   },
   {
    "duration": 5,
    "start_time": "2022-08-12T19:46:48.594Z"
   },
   {
    "duration": 13,
    "start_time": "2022-08-12T19:46:48.600Z"
   },
   {
    "duration": 15,
    "start_time": "2022-08-12T19:46:48.615Z"
   },
   {
    "duration": 18,
    "start_time": "2022-08-12T19:46:48.633Z"
   },
   {
    "duration": 40,
    "start_time": "2022-08-12T19:46:48.653Z"
   },
   {
    "duration": 18,
    "start_time": "2022-08-12T19:46:48.695Z"
   },
   {
    "duration": 463,
    "start_time": "2022-08-12T19:50:36.233Z"
   },
   {
    "duration": 23,
    "start_time": "2022-08-12T19:50:36.698Z"
   },
   {
    "duration": 17,
    "start_time": "2022-08-12T19:50:36.723Z"
   },
   {
    "duration": 10,
    "start_time": "2022-08-12T19:50:36.742Z"
   },
   {
    "duration": 65,
    "start_time": "2022-08-12T19:50:36.754Z"
   },
   {
    "duration": 4,
    "start_time": "2022-08-12T19:50:36.820Z"
   },
   {
    "duration": 19,
    "start_time": "2022-08-12T19:50:36.825Z"
   },
   {
    "duration": 6,
    "start_time": "2022-08-12T19:50:36.847Z"
   },
   {
    "duration": 9,
    "start_time": "2022-08-12T19:50:36.855Z"
   },
   {
    "duration": 25,
    "start_time": "2022-08-12T19:50:36.867Z"
   },
   {
    "duration": 42,
    "start_time": "2022-08-12T19:50:36.894Z"
   },
   {
    "duration": 11,
    "start_time": "2022-08-12T19:50:36.938Z"
   },
   {
    "duration": 4,
    "start_time": "2022-08-12T19:50:36.951Z"
   },
   {
    "duration": 37,
    "start_time": "2022-08-12T19:50:36.956Z"
   },
   {
    "duration": 20,
    "start_time": "2022-08-12T19:50:36.995Z"
   },
   {
    "duration": 18,
    "start_time": "2022-08-12T19:50:37.017Z"
   },
   {
    "duration": 4,
    "start_time": "2022-08-12T19:50:37.037Z"
   },
   {
    "duration": 15,
    "start_time": "2022-08-12T19:50:37.043Z"
   },
   {
    "duration": 5,
    "start_time": "2022-08-12T19:50:37.060Z"
   },
   {
    "duration": 4,
    "start_time": "2022-08-12T19:50:37.092Z"
   },
   {
    "duration": 12,
    "start_time": "2022-08-12T19:50:37.097Z"
   },
   {
    "duration": 15,
    "start_time": "2022-08-12T19:50:37.110Z"
   },
   {
    "duration": 18,
    "start_time": "2022-08-12T19:50:37.127Z"
   },
   {
    "duration": 48,
    "start_time": "2022-08-12T19:50:37.147Z"
   },
   {
    "duration": 18,
    "start_time": "2022-08-12T19:50:37.197Z"
   },
   {
    "duration": 475,
    "start_time": "2022-08-13T13:31:03.419Z"
   },
   {
    "duration": 21,
    "start_time": "2022-08-13T13:31:03.896Z"
   },
   {
    "duration": 15,
    "start_time": "2022-08-13T13:31:03.918Z"
   },
   {
    "duration": 9,
    "start_time": "2022-08-13T13:31:03.935Z"
   },
   {
    "duration": 32,
    "start_time": "2022-08-13T13:31:03.946Z"
   },
   {
    "duration": 27,
    "start_time": "2022-08-13T13:31:03.980Z"
   },
   {
    "duration": 10,
    "start_time": "2022-08-13T13:31:04.008Z"
   },
   {
    "duration": 4,
    "start_time": "2022-08-13T13:31:04.020Z"
   },
   {
    "duration": 9,
    "start_time": "2022-08-13T13:31:04.025Z"
   },
   {
    "duration": 10,
    "start_time": "2022-08-13T13:31:04.036Z"
   },
   {
    "duration": 65,
    "start_time": "2022-08-13T13:31:04.048Z"
   },
   {
    "duration": 9,
    "start_time": "2022-08-13T13:31:04.115Z"
   },
   {
    "duration": 4,
    "start_time": "2022-08-13T13:31:04.126Z"
   },
   {
    "duration": 30,
    "start_time": "2022-08-13T13:31:04.133Z"
   },
   {
    "duration": 24,
    "start_time": "2022-08-13T13:31:04.165Z"
   },
   {
    "duration": 23,
    "start_time": "2022-08-13T13:31:04.191Z"
   },
   {
    "duration": 5,
    "start_time": "2022-08-13T13:31:04.217Z"
   },
   {
    "duration": 15,
    "start_time": "2022-08-13T13:31:04.224Z"
   },
   {
    "duration": 10,
    "start_time": "2022-08-13T13:31:04.241Z"
   },
   {
    "duration": 4,
    "start_time": "2022-08-13T13:31:04.253Z"
   },
   {
    "duration": 11,
    "start_time": "2022-08-13T13:31:04.259Z"
   },
   {
    "duration": 43,
    "start_time": "2022-08-13T13:31:04.272Z"
   },
   {
    "duration": 20,
    "start_time": "2022-08-13T13:31:04.317Z"
   },
   {
    "duration": 19,
    "start_time": "2022-08-13T13:31:04.339Z"
   },
   {
    "duration": 16,
    "start_time": "2022-08-13T13:31:04.360Z"
   }
  ],
  "colab": {
   "name": "dpp_template_part2.ipynb",
   "provenance": []
  },
  "kernelspec": {
   "display_name": "Python 3 (ipykernel)",
   "language": "python",
   "name": "python3"
  },
  "language_info": {
   "codemirror_mode": {
    "name": "ipython",
    "version": 3
   },
   "file_extension": ".py",
   "mimetype": "text/x-python",
   "name": "python",
   "nbconvert_exporter": "python",
   "pygments_lexer": "ipython3",
   "version": "3.9.12"
  },
  "toc": {
   "base_numbering": 1,
   "nav_menu": {},
   "number_sections": true,
   "sideBar": true,
   "skip_h1_title": true,
   "title_cell": "Table of Contents",
   "title_sidebar": "Contents",
   "toc_cell": false,
   "toc_position": {},
   "toc_section_display": true,
   "toc_window_display": false
  }
 },
 "nbformat": 4,
 "nbformat_minor": 5
}
