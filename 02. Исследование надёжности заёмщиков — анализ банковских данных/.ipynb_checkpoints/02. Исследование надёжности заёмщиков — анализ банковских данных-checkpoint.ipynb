{
 "cells": [
  {
   "cell_type": "markdown",
   "id": "2983de09",
   "metadata": {
    "deletable": false,
    "editable": false,
    "id": "c81daeeb"
   },
   "source": [
    "# Исследование надежности заемщиков"
   ]
  },
  {
   "cell_type": "markdown",
   "id": "6e9e7433",
   "metadata": {
    "deletable": false,
    "editable": false,
    "id": "-G3EJWzf62s6"
   },
   "source": [
    "Это первая часть проекта, она будет проверена автоматически. Вторую часть проверит ревьюер. "
   ]
  },
  {
   "cell_type": "markdown",
   "id": "2b86003e",
   "metadata": {
    "deletable": false,
    "editable": false,
    "id": "744d7639"
   },
   "source": [
    "## Откройте таблицу и изучите общую информацию о данных"
   ]
  },
  {
   "cell_type": "markdown",
   "id": "4ab42b03",
   "metadata": {
    "deletable": false,
    "editable": false,
    "id": "e7a14c31",
    "tags": [
     "start_task"
    ]
   },
   "source": [
    "**Задание 1. Импортируйте библиотеку pandas. Считайте данные из csv-файла в датафрейм и сохраните в переменную `data`. Путь к файлу:**\n",
    "\n",
    "`/datasets/data.csv`"
   ]
  },
  {
   "cell_type": "code",
   "execution_count": 1,
   "id": "57524766",
   "metadata": {
    "id": "7bcf75c9"
   },
   "outputs": [],
   "source": [
    "import pandas as pd"
   ]
  },
  {
   "cell_type": "code",
   "execution_count": 2,
   "id": "2908ba48",
   "metadata": {
    "id": "4d240ee2"
   },
   "outputs": [],
   "source": [
    "data = pd.read_csv('/datasets/data.csv')"
   ]
  },
  {
   "cell_type": "markdown",
   "id": "75b7f8c5",
   "metadata": {
    "deletable": false,
    "editable": false,
    "id": "b8038fe3",
    "tags": [
     "start_task"
    ]
   },
   "source": [
    "**Задание 2. Выведите первые 20 строчек датафрейма `data` на экран.**"
   ]
  },
  {
   "cell_type": "code",
   "execution_count": 3,
   "id": "b7655476",
   "metadata": {
    "id": "2a7cab99"
   },
   "outputs": [
    {
     "name": "stdout",
     "output_type": "stream",
     "text": [
      "    children  days_employed  dob_years            education  education_id  \\\n",
      "0          1   -8437.673028         42               высшее             0   \n",
      "1          1   -4024.803754         36              среднее             1   \n",
      "2          0   -5623.422610         33              Среднее             1   \n",
      "3          3   -4124.747207         32              среднее             1   \n",
      "4          0  340266.072047         53              среднее             1   \n",
      "5          0    -926.185831         27               высшее             0   \n",
      "6          0   -2879.202052         43               высшее             0   \n",
      "7          0    -152.779569         50              СРЕДНЕЕ             1   \n",
      "8          2   -6929.865299         35               ВЫСШЕЕ             0   \n",
      "9          0   -2188.756445         41              среднее             1   \n",
      "10         2   -4171.483647         36               высшее             0   \n",
      "11         0    -792.701887         40              среднее             1   \n",
      "12         0            NaN         65              среднее             1   \n",
      "13         0   -1846.641941         54  неоконченное высшее             2   \n",
      "14         0   -1844.956182         56               высшее             0   \n",
      "15         1    -972.364419         26              среднее             1   \n",
      "16         0   -1719.934226         35              среднее             1   \n",
      "17         0   -2369.999720         33               высшее             0   \n",
      "18         0  400281.136913         53              среднее             1   \n",
      "19         0  -10038.818549         48              СРЕДНЕЕ             1   \n",
      "\n",
      "       family_status  family_status_id gender income_type  debt  \\\n",
      "0    женат / замужем                 0      F   сотрудник     0   \n",
      "1    женат / замужем                 0      F   сотрудник     0   \n",
      "2    женат / замужем                 0      M   сотрудник     0   \n",
      "3    женат / замужем                 0      M   сотрудник     0   \n",
      "4   гражданский брак                 1      F   пенсионер     0   \n",
      "5   гражданский брак                 1      M   компаньон     0   \n",
      "6    женат / замужем                 0      F   компаньон     0   \n",
      "7    женат / замужем                 0      M   сотрудник     0   \n",
      "8   гражданский брак                 1      F   сотрудник     0   \n",
      "9    женат / замужем                 0      M   сотрудник     0   \n",
      "10   женат / замужем                 0      M   компаньон     0   \n",
      "11   женат / замужем                 0      F   сотрудник     0   \n",
      "12  гражданский брак                 1      M   пенсионер     0   \n",
      "13   женат / замужем                 0      F   сотрудник     0   \n",
      "14  гражданский брак                 1      F   компаньон     1   \n",
      "15   женат / замужем                 0      F   сотрудник     0   \n",
      "16   женат / замужем                 0      F   сотрудник     0   \n",
      "17  гражданский брак                 1      M   сотрудник     0   \n",
      "18    вдовец / вдова                 2      F   пенсионер     0   \n",
      "19         в разводе                 3      F   сотрудник     0   \n",
      "\n",
      "     total_income                                 purpose  \n",
      "0   253875.639453                           покупка жилья  \n",
      "1   112080.014102                 приобретение автомобиля  \n",
      "2   145885.952297                           покупка жилья  \n",
      "3   267628.550329              дополнительное образование  \n",
      "4   158616.077870                         сыграть свадьбу  \n",
      "5   255763.565419                           покупка жилья  \n",
      "6   240525.971920                       операции с жильем  \n",
      "7   135823.934197                             образование  \n",
      "8    95856.832424                   на проведение свадьбы  \n",
      "9   144425.938277                 покупка жилья для семьи  \n",
      "10  113943.491460                    покупка недвижимости  \n",
      "11   77069.234271       покупка коммерческой недвижимости  \n",
      "12            NaN                         сыграть свадьбу  \n",
      "13  130458.228857                 приобретение автомобиля  \n",
      "14  165127.911772              покупка жилой недвижимости  \n",
      "15  116820.904450  строительство собственной недвижимости  \n",
      "16  289202.704229                            недвижимость  \n",
      "17   90410.586745              строительство недвижимости  \n",
      "18   56823.777243      на покупку подержанного автомобиля  \n",
      "19  242831.107982            на покупку своего автомобиля  \n"
     ]
    }
   ],
   "source": [
    "print(data.head(20))"
   ]
  },
  {
   "cell_type": "markdown",
   "id": "b650de02",
   "metadata": {
    "deletable": false,
    "editable": false,
    "id": "1c12e233",
    "tags": [
     "start_task"
    ]
   },
   "source": [
    "**Задание 3. Выведите основную информацию о датафрейме с помощью метода `info()`.**"
   ]
  },
  {
   "cell_type": "code",
   "execution_count": 4,
   "id": "98819eb4",
   "metadata": {
    "id": "2b757bca"
   },
   "outputs": [
    {
     "name": "stdout",
     "output_type": "stream",
     "text": [
      "<class 'pandas.core.frame.DataFrame'>\n",
      "RangeIndex: 21525 entries, 0 to 21524\n",
      "Data columns (total 12 columns):\n",
      " #   Column            Non-Null Count  Dtype  \n",
      "---  ------            --------------  -----  \n",
      " 0   children          21525 non-null  int64  \n",
      " 1   days_employed     19351 non-null  float64\n",
      " 2   dob_years         21525 non-null  int64  \n",
      " 3   education         21525 non-null  object \n",
      " 4   education_id      21525 non-null  int64  \n",
      " 5   family_status     21525 non-null  object \n",
      " 6   family_status_id  21525 non-null  int64  \n",
      " 7   gender            21525 non-null  object \n",
      " 8   income_type       21525 non-null  object \n",
      " 9   debt              21525 non-null  int64  \n",
      " 10  total_income      19351 non-null  float64\n",
      " 11  purpose           21525 non-null  object \n",
      "dtypes: float64(2), int64(5), object(5)\n",
      "memory usage: 2.0+ MB\n"
     ]
    }
   ],
   "source": [
    "data.info()"
   ]
  },
  {
   "cell_type": "markdown",
   "id": "823e86a8",
   "metadata": {
    "deletable": false,
    "editable": false,
    "id": "333ec665"
   },
   "source": [
    "## Предобработка данных"
   ]
  },
  {
   "cell_type": "markdown",
   "id": "6c28eeea",
   "metadata": {
    "deletable": false,
    "editable": false,
    "id": "02d92d53"
   },
   "source": [
    "### Удаление пропусков"
   ]
  },
  {
   "cell_type": "markdown",
   "id": "cee2a962",
   "metadata": {
    "deletable": false,
    "editable": false,
    "id": "cd84967c",
    "tags": [
     "start_task"
    ]
   },
   "source": [
    "**Задание 4. Выведите количество пропущенных значений для каждого столбца. Используйте комбинацию двух методов.**"
   ]
  },
  {
   "cell_type": "code",
   "execution_count": 5,
   "id": "66f716e1",
   "metadata": {
    "id": "7f9b2309"
   },
   "outputs": [
    {
     "data": {
      "text/plain": [
       "children               0\n",
       "days_employed       2174\n",
       "dob_years              0\n",
       "education              0\n",
       "education_id           0\n",
       "family_status          0\n",
       "family_status_id       0\n",
       "gender                 0\n",
       "income_type            0\n",
       "debt                   0\n",
       "total_income        2174\n",
       "purpose                0\n",
       "dtype: int64"
      ]
     },
     "execution_count": 5,
     "metadata": {},
     "output_type": "execute_result"
    }
   ],
   "source": [
    "data.isna().sum()"
   ]
  },
  {
   "cell_type": "markdown",
   "id": "715f78b6",
   "metadata": {
    "deletable": false,
    "editable": false,
    "id": "db86e27b",
    "tags": [
     "start_task"
    ]
   },
   "source": [
    "**Задание 5. В двух столбцах есть пропущенные значения. Один из них — `days_employed`. Пропуски в этом столбце вы обработаете на следующем этапе. Другой столбец с пропущенными значениями — `total_income` — хранит данные о доходах. На сумму дохода сильнее всего влияет тип занятости, поэтому заполнить пропуски в этом столбце нужно медианным значением по каждому типу из столбца `income_type`. Например, у человека с типом занятости `сотрудник` пропуск в столбце `total_income` должен быть заполнен медианным доходом среди всех записей с тем же типом.**"
   ]
  },
  {
   "cell_type": "code",
   "execution_count": 6,
   "id": "54e388c6",
   "metadata": {
    "id": "42006a93"
   },
   "outputs": [],
   "source": [
    "income_mediana = data.groupby('income_type')['total_income'].transform('median')\n",
    "data['total_income'] = data['total_income'].fillna(income_mediana)\n"
   ]
  },
  {
   "cell_type": "markdown",
   "id": "b63fe3f3",
   "metadata": {
    "deletable": false,
    "editable": false,
    "id": "89da5ece"
   },
   "source": [
    "### Обработка аномальных значений"
   ]
  },
  {
   "cell_type": "markdown",
   "id": "5ab6d62e",
   "metadata": {
    "deletable": false,
    "editable": false,
    "id": "57964554",
    "tags": [
     "start_task"
    ]
   },
   "source": [
    "**Задание 6. В данных могут встречаться артефакты (аномалии) — значения, которые не отражают действительность и появились по какой-то ошибке. Таким артефактом будет отрицательное количество дней трудового стажа в столбце `days_employed`. Для реальных данных это нормально. Обработайте значения в этом столбце: замените все отрицательные значения положительными с помощью метода `abs()`.**"
   ]
  },
  {
   "cell_type": "code",
   "execution_count": 7,
   "id": "494d8026",
   "metadata": {
    "id": "f6f055bf"
   },
   "outputs": [],
   "source": [
    "data['days_employed'] = abs(data['days_employed'])"
   ]
  },
  {
   "cell_type": "markdown",
   "id": "57e2bceb",
   "metadata": {
    "deletable": false,
    "editable": false,
    "id": "6107dd2f",
    "tags": [
     "start_task"
    ]
   },
   "source": [
    "**Задание 7. Для каждого типа занятости выведите медианное значение трудового стажа `days_employed` в днях.**"
   ]
  },
  {
   "cell_type": "code",
   "execution_count": 8,
   "id": "337b00ae",
   "metadata": {
    "id": "85a5faf6"
   },
   "outputs": [
    {
     "name": "stdout",
     "output_type": "stream",
     "text": [
      "income_type\n",
      "безработный        366413.652744\n",
      "в декрете            3296.759962\n",
      "госслужащий          2689.368353\n",
      "компаньон            1547.382223\n",
      "пенсионер          365213.306266\n",
      "предприниматель       520.848083\n",
      "сотрудник            1574.202821\n",
      "студент               578.751554\n",
      "Name: days_employed, dtype: float64\n"
     ]
    }
   ],
   "source": [
    "days_employed_median = data.groupby('income_type')['days_employed'].median()\n",
    "print(days_employed_median)"
   ]
  },
  {
   "cell_type": "markdown",
   "id": "9b750b94",
   "metadata": {
    "deletable": false,
    "editable": false,
    "id": "38d1a030"
   },
   "source": [
    "У двух типов (безработные и пенсионеры) получатся аномально большие значения. Исправить такие значения сложно, поэтому оставьте их как есть. Тем более этот столбец не понадобится вам для исследования."
   ]
  },
  {
   "cell_type": "markdown",
   "id": "44d612a2",
   "metadata": {
    "deletable": false,
    "editable": false,
    "id": "d8a9f147",
    "tags": [
     "start_task"
    ]
   },
   "source": [
    "**Задание 8. Выведите перечень уникальных значений столбца `children`.**"
   ]
  },
  {
   "cell_type": "code",
   "execution_count": 9,
   "id": "fc6b846e",
   "metadata": {
    "id": "ef5056eb"
   },
   "outputs": [
    {
     "data": {
      "text/plain": [
       "array([ 1,  0,  3,  2, -1,  4, 20,  5])"
      ]
     },
     "execution_count": 9,
     "metadata": {},
     "output_type": "execute_result"
    }
   ],
   "source": [
    "data['children'].unique()"
   ]
  },
  {
   "cell_type": "markdown",
   "id": "8082aa73",
   "metadata": {
    "deletable": false,
    "editable": false,
    "id": "40b9ebf2",
    "tags": [
     "start_task"
    ]
   },
   "source": [
    "**Задание 9. В столбце `children` есть два аномальных значения. Удалите строки, в которых встречаются такие аномальные значения из датафрейма `data`.**"
   ]
  },
  {
   "cell_type": "code",
   "execution_count": 10,
   "id": "0078c4f0",
   "metadata": {
    "id": "3ff9801d"
   },
   "outputs": [],
   "source": [
    "data = data[data['children'] != -1]\n",
    "data = data[data['children'] != 20]"
   ]
  },
  {
   "cell_type": "markdown",
   "id": "8981ee1d",
   "metadata": {
    "deletable": false,
    "editable": false,
    "id": "bbc4d0ce",
    "tags": [
     "start_task"
    ]
   },
   "source": [
    "**Задание 10. Ещё раз выведите перечень уникальных значений столбца `children`, чтобы убедиться, что артефакты удалены.**"
   ]
  },
  {
   "cell_type": "code",
   "execution_count": 11,
   "id": "01e7e8cf",
   "metadata": {
    "id": "ad4fa8b7"
   },
   "outputs": [
    {
     "data": {
      "text/plain": [
       "array([1, 0, 3, 2, 4, 5])"
      ]
     },
     "execution_count": 11,
     "metadata": {},
     "output_type": "execute_result"
    }
   ],
   "source": [
    "data['children'].unique()"
   ]
  },
  {
   "cell_type": "markdown",
   "id": "342353f3",
   "metadata": {
    "deletable": false,
    "editable": false,
    "id": "75440b63"
   },
   "source": [
    "### Удаление пропусков (продолжение)"
   ]
  },
  {
   "cell_type": "markdown",
   "id": "477a47b6",
   "metadata": {
    "deletable": false,
    "editable": false,
    "id": "f4ea573f",
    "tags": [
     "start_task"
    ]
   },
   "source": [
    "**Задание 11. Заполните пропуски в столбце `days_employed` медианными значениями по каждому типу занятости `income_type`.**"
   ]
  },
  {
   "cell_type": "code",
   "execution_count": 24,
   "id": "8feeab65",
   "metadata": {
    "id": "af6b1a7e"
   },
   "outputs": [],
   "source": [
    "days_mediana = data.groupby('income_type')['days_employed'].transform('median')\n",
    "data['days_employed'] = data['days_employed'].fillna(days_mediana)"
   ]
  },
  {
   "cell_type": "markdown",
   "id": "eb4f365c",
   "metadata": {
    "deletable": false,
    "editable": false,
    "id": "2753f40d",
    "tags": [
     "start_task"
    ]
   },
   "source": [
    "**Задание 12. Убедитесь, что все пропуски заполнены. Проверьте себя и ещё раз выведите количество пропущенных значений для каждого столбца с помощью двух методов.**"
   ]
  },
  {
   "cell_type": "code",
   "execution_count": 25,
   "id": "554fa1df",
   "metadata": {
    "id": "55f78bc2"
   },
   "outputs": [
    {
     "data": {
      "text/plain": [
       "children            0\n",
       "days_employed       0\n",
       "dob_years           0\n",
       "education           0\n",
       "education_id        0\n",
       "family_status       0\n",
       "family_status_id    0\n",
       "gender              0\n",
       "income_type         0\n",
       "debt                0\n",
       "total_income        0\n",
       "purpose             0\n",
       "dtype: int64"
      ]
     },
     "execution_count": 25,
     "metadata": {},
     "output_type": "execute_result"
    }
   ],
   "source": [
    "data.isna().sum()"
   ]
  },
  {
   "cell_type": "markdown",
   "id": "30d52375",
   "metadata": {
    "deletable": false,
    "editable": false,
    "id": "ddc81e43"
   },
   "source": [
    "### Изменение типов данных"
   ]
  },
  {
   "cell_type": "markdown",
   "id": "fe1e09e2",
   "metadata": {
    "deletable": false,
    "editable": false,
    "id": "42d19d24",
    "tags": [
     "start_task"
    ]
   },
   "source": [
    "**Задание 13. Замените вещественный тип данных в столбце `total_income` на целочисленный с помощью метода `astype()`.**"
   ]
  },
  {
   "cell_type": "code",
   "execution_count": 27,
   "id": "80788b39",
   "metadata": {
    "id": "920b65ad"
   },
   "outputs": [],
   "source": [
    "data['total_income'] = data['total_income'].astype('int')"
   ]
  },
  {
   "cell_type": "markdown",
   "id": "9d897366",
   "metadata": {
    "deletable": false,
    "editable": false,
    "id": "80c420ba"
   },
   "source": [
    "### Обработка дубликатов"
   ]
  },
  {
   "cell_type": "markdown",
   "id": "84f1eb82",
   "metadata": {
    "deletable": false,
    "editable": false,
    "tags": [
     "start_task"
    ]
   },
   "source": [
    "**Задание 14. Обработайте неявные дубликаты в столбце `education`. В этом столбце есть одни и те же значения, но записанные по-разному: с использованием заглавных и строчных букв. Приведите их к нижнему регистру. Проверьте остальные столбцы.**"
   ]
  },
  {
   "cell_type": "code",
   "execution_count": 28,
   "id": "e46d546c",
   "metadata": {},
   "outputs": [],
   "source": [
    "data['education'] = data['education'].str.lower()"
   ]
  },
  {
   "cell_type": "markdown",
   "id": "6d90fab2",
   "metadata": {
    "deletable": false,
    "editable": false,
    "id": "dc587695",
    "tags": [
     "start_task"
    ]
   },
   "source": [
    "**Задание 15. Выведите на экран количество строк-дубликатов в данных. Если такие строки присутствуют, удалите их.**"
   ]
  },
  {
   "cell_type": "code",
   "execution_count": 31,
   "id": "c2d4d6d6",
   "metadata": {
    "id": "3ee445e4"
   },
   "outputs": [
    {
     "data": {
      "text/plain": [
       "0"
      ]
     },
     "execution_count": 31,
     "metadata": {},
     "output_type": "execute_result"
    }
   ],
   "source": [
    "data.duplicated().sum()"
   ]
  },
  {
   "cell_type": "code",
   "execution_count": 30,
   "id": "85220a4f",
   "metadata": {
    "id": "8575fe05"
   },
   "outputs": [],
   "source": [
    "data = data.drop_duplicates().reset_index(drop=True)"
   ]
  },
  {
   "cell_type": "markdown",
   "id": "1f8290a1",
   "metadata": {
    "deletable": false,
    "editable": false,
    "id": "9904cf55"
   },
   "source": [
    "### Категоризация данных"
   ]
  },
  {
   "cell_type": "markdown",
   "id": "51a9af62",
   "metadata": {
    "deletable": false,
    "editable": false,
    "id": "72fcc8a2",
    "tags": [
     "start_task"
    ]
   },
   "source": [
    "**Задание 16. На основании диапазонов, указанных ниже, создайте в датафрейме `data` столбец `total_income_category` с категориями:**\n",
    "\n",
    "- 0–30000 — `'E'`;\n",
    "- 30001–50000 — `'D'`;\n",
    "- 50001–200000 — `'C'`;\n",
    "- 200001–1000000 — `'B'`;\n",
    "- 1000001 и выше — `'A'`.\n",
    "\n",
    "\n",
    "**Например, кредитополучателю с доходом 25000 нужно назначить категорию `'E'`, а клиенту, получающему 235000, — `'B'`. Используйте собственную функцию с именем `categorize_income()` и метод `apply()`.**"
   ]
  },
  {
   "cell_type": "code",
   "execution_count": 57,
   "id": "68d574b0",
   "metadata": {
    "id": "e1771346"
   },
   "outputs": [],
   "source": [
    "def categorize_income(row):\n",
    "    income = row['total_income']\n",
    "    if income <= 30000:\n",
    "        return 'E'\n",
    "    if income <= 50000:\n",
    "        return 'D'\n",
    "    if income <= 200000:\n",
    "        return 'C'\n",
    "    if income <= 1000000:\n",
    "        return 'B'\n",
    "    else:\n",
    "        return 'A'"
   ]
  },
  {
   "cell_type": "code",
   "execution_count": 58,
   "id": "c0075425",
   "metadata": {
    "id": "d5f3586d"
   },
   "outputs": [],
   "source": [
    "data['total_income_category'] = data.apply(categorize_income, axis=1)"
   ]
  },
  {
   "cell_type": "markdown",
   "id": "142d8ab7",
   "metadata": {
    "deletable": false,
    "editable": false,
    "id": "dde49b5c",
    "tags": [
     "start_task"
    ]
   },
   "source": [
    "**Задание 17. Выведите на экран перечень уникальных целей взятия кредита из столбца `purpose`.**"
   ]
  },
  {
   "cell_type": "code",
   "execution_count": 59,
   "id": "1096fb0c",
   "metadata": {
    "id": "f67ce9b3"
   },
   "outputs": [
    {
     "data": {
      "text/plain": [
       "array(['покупка жилья', 'приобретение автомобиля',\n",
       "       'дополнительное образование', 'сыграть свадьбу',\n",
       "       'операции с жильем', 'образование', 'на проведение свадьбы',\n",
       "       'покупка жилья для семьи', 'покупка недвижимости',\n",
       "       'покупка коммерческой недвижимости', 'покупка жилой недвижимости',\n",
       "       'строительство собственной недвижимости', 'недвижимость',\n",
       "       'строительство недвижимости', 'на покупку подержанного автомобиля',\n",
       "       'на покупку своего автомобиля',\n",
       "       'операции с коммерческой недвижимостью',\n",
       "       'строительство жилой недвижимости', 'жилье',\n",
       "       'операции со своей недвижимостью', 'автомобили',\n",
       "       'заняться образованием', 'сделка с подержанным автомобилем',\n",
       "       'получение образования', 'автомобиль', 'свадьба',\n",
       "       'получение дополнительного образования', 'покупка своего жилья',\n",
       "       'операции с недвижимостью', 'получение высшего образования',\n",
       "       'свой автомобиль', 'сделка с автомобилем',\n",
       "       'профильное образование', 'высшее образование',\n",
       "       'покупка жилья для сдачи', 'на покупку автомобиля', 'ремонт жилью',\n",
       "       'заняться высшим образованием'], dtype=object)"
      ]
     },
     "execution_count": 59,
     "metadata": {},
     "output_type": "execute_result"
    }
   ],
   "source": [
    "data['purpose'].unique()"
   ]
  },
  {
   "cell_type": "markdown",
   "id": "494b374d",
   "metadata": {
    "deletable": false,
    "editable": false,
    "id": "85d0aef0",
    "tags": [
     "start_task"
    ]
   },
   "source": [
    "**Задание 18. Создайте функцию, которая на основании данных из столбца `purpose` сформирует новый столбец `purpose_category`, в который войдут следующие категории:**\n",
    "\n",
    "- `'операции с автомобилем'`,\n",
    "- `'операции с недвижимостью'`,\n",
    "- `'проведение свадьбы'`,\n",
    "- `'получение образования'`.\n",
    "\n",
    "**Например, если в столбце `purpose` находится подстрока `'на покупку автомобиля'`, то в столбце `purpose_category` должна появиться строка `'операции с автомобилем'`.**\n",
    "\n",
    "**Используйте собственную функцию с именем `categorize_purpose()` и метод `apply()`. Изучите данные в столбце `purpose` и определите, какие подстроки помогут вам правильно определить категорию.**"
   ]
  },
  {
   "cell_type": "code",
   "execution_count": 77,
   "id": "da8940cb",
   "metadata": {
    "id": "e149fab4"
   },
   "outputs": [],
   "source": [
    "def categorize_purpose(row):\n",
    "    income = row['purpose'] \n",
    "    \n",
    "    if 'авто' in income:\n",
    "        return 'операции с автомобилем'\n",
    "    if 'жил' in income:\n",
    "        return 'операции с недвижимостью'\n",
    "    if 'недвиж' in income:\n",
    "        return 'операции с недвижимостью'\n",
    "    if 'свадьб' in income:\n",
    "        return 'проведение свадьбы'\n",
    "    if 'образ' in income:\n",
    "        return 'получение образования' \n"
   ]
  },
  {
   "cell_type": "code",
   "execution_count": 78,
   "id": "fd06967c",
   "metadata": {
    "id": "bf36e69b"
   },
   "outputs": [
    {
     "data": {
      "text/plain": [
       "array(['операции с недвижимостью', 'операции с автомобилем',\n",
       "       'получение образования', 'проведение свадьбы'], dtype=object)"
      ]
     },
     "execution_count": 78,
     "metadata": {},
     "output_type": "execute_result"
    }
   ],
   "source": [
    "data['purpose_category'] = data.apply(categorize_purpose, axis=1)\n",
    "data['purpose_category'].unique()\n"
   ]
  },
  {
   "cell_type": "code",
   "execution_count": null,
   "id": "12c81d9b",
   "metadata": {},
   "outputs": [],
   "source": []
  }
 ],
 "metadata": {
  "ExecuteTimeLog": [
   {
    "duration": 394,
    "start_time": "2022-08-10T13:35:38.521Z"
   },
   {
    "duration": 73,
    "start_time": "2022-08-10T13:44:12.246Z"
   },
   {
    "duration": 6,
    "start_time": "2022-08-10T13:44:24.193Z"
   },
   {
    "duration": 10,
    "start_time": "2022-08-10T13:44:27.718Z"
   },
   {
    "duration": 3,
    "start_time": "2022-08-10T13:44:30.450Z"
   },
   {
    "duration": 312,
    "start_time": "2022-08-10T13:44:34.361Z"
   },
   {
    "duration": 3,
    "start_time": "2022-08-10T13:44:38.620Z"
   },
   {
    "duration": 383,
    "start_time": "2022-08-10T13:45:00.121Z"
   },
   {
    "duration": 77,
    "start_time": "2022-08-10T13:45:00.506Z"
   },
   {
    "duration": 12,
    "start_time": "2022-08-10T13:45:00.584Z"
   },
   {
    "duration": 23,
    "start_time": "2022-08-10T13:45:00.597Z"
   },
   {
    "duration": 12,
    "start_time": "2022-08-10T13:45:00.623Z"
   },
   {
    "duration": 27,
    "start_time": "2022-08-10T13:45:00.637Z"
   },
   {
    "duration": 10,
    "start_time": "2022-08-10T13:45:00.666Z"
   },
   {
    "duration": 37,
    "start_time": "2022-08-10T13:45:00.679Z"
   },
   {
    "duration": 11,
    "start_time": "2022-08-10T13:45:00.718Z"
   },
   {
    "duration": 7,
    "start_time": "2022-08-10T13:45:00.731Z"
   },
   {
    "duration": 6,
    "start_time": "2022-08-10T13:45:00.740Z"
   },
   {
    "duration": 17,
    "start_time": "2022-08-10T13:45:00.748Z"
   },
   {
    "duration": 14,
    "start_time": "2022-08-10T13:45:00.767Z"
   },
   {
    "duration": 10,
    "start_time": "2022-08-10T13:45:00.783Z"
   },
   {
    "duration": 34,
    "start_time": "2022-08-10T13:45:00.795Z"
   },
   {
    "duration": 11,
    "start_time": "2022-08-10T13:45:00.830Z"
   },
   {
    "duration": 10,
    "start_time": "2022-08-10T13:45:00.842Z"
   },
   {
    "duration": 10,
    "start_time": "2022-08-10T13:45:00.853Z"
   },
   {
    "duration": 18,
    "start_time": "2022-08-10T13:45:00.864Z"
   },
   {
    "duration": 17,
    "start_time": "2022-08-10T13:45:00.884Z"
   },
   {
    "duration": 26,
    "start_time": "2022-08-10T13:45:00.903Z"
   },
   {
    "duration": 17,
    "start_time": "2022-08-10T13:45:00.931Z"
   },
   {
    "duration": 18,
    "start_time": "2022-08-10T13:55:41.804Z"
   },
   {
    "duration": 7,
    "start_time": "2022-08-10T14:16:12.110Z"
   },
   {
    "duration": 8,
    "start_time": "2022-08-10T14:19:51.062Z"
   },
   {
    "duration": 71,
    "start_time": "2022-08-10T14:19:54.585Z"
   },
   {
    "duration": 9,
    "start_time": "2022-08-10T14:20:14.800Z"
   },
   {
    "duration": 14,
    "start_time": "2022-08-10T14:35:50.667Z"
   },
   {
    "duration": 14,
    "start_time": "2022-08-10T14:35:53.386Z"
   },
   {
    "duration": 10,
    "start_time": "2022-08-10T14:36:15.049Z"
   },
   {
    "duration": 401,
    "start_time": "2022-08-10T14:36:21.215Z"
   },
   {
    "duration": 72,
    "start_time": "2022-08-10T14:36:21.618Z"
   },
   {
    "duration": 10,
    "start_time": "2022-08-10T14:36:21.694Z"
   },
   {
    "duration": 18,
    "start_time": "2022-08-10T14:36:21.707Z"
   },
   {
    "duration": 18,
    "start_time": "2022-08-10T14:36:21.727Z"
   },
   {
    "duration": 14,
    "start_time": "2022-08-10T14:36:21.746Z"
   },
   {
    "duration": 2,
    "start_time": "2022-08-10T14:36:21.762Z"
   },
   {
    "duration": 11,
    "start_time": "2022-08-10T14:36:21.765Z"
   },
   {
    "duration": 14,
    "start_time": "2022-08-10T14:36:21.778Z"
   },
   {
    "duration": 5,
    "start_time": "2022-08-10T14:36:21.794Z"
   },
   {
    "duration": 16,
    "start_time": "2022-08-10T14:36:21.800Z"
   },
   {
    "duration": 5,
    "start_time": "2022-08-10T14:36:21.817Z"
   },
   {
    "duration": 3,
    "start_time": "2022-08-10T14:36:21.824Z"
   },
   {
    "duration": 4,
    "start_time": "2022-08-10T14:36:21.829Z"
   },
   {
    "duration": 5,
    "start_time": "2022-08-10T14:36:21.834Z"
   },
   {
    "duration": 5,
    "start_time": "2022-08-10T14:36:21.841Z"
   },
   {
    "duration": 4,
    "start_time": "2022-08-10T14:36:21.848Z"
   },
   {
    "duration": 7,
    "start_time": "2022-08-10T14:36:21.853Z"
   },
   {
    "duration": 5,
    "start_time": "2022-08-10T14:36:21.861Z"
   },
   {
    "duration": 6,
    "start_time": "2022-08-10T14:36:21.867Z"
   },
   {
    "duration": 5,
    "start_time": "2022-08-10T14:36:21.874Z"
   },
   {
    "duration": 5,
    "start_time": "2022-08-10T14:36:21.880Z"
   },
   {
    "duration": 70,
    "start_time": "2022-08-10T14:38:52.687Z"
   },
   {
    "duration": 43,
    "start_time": "2022-08-10T14:38:57.049Z"
   },
   {
    "duration": 46,
    "start_time": "2022-08-10T14:39:19.913Z"
   },
   {
    "duration": 46,
    "start_time": "2022-08-10T14:39:48.218Z"
   },
   {
    "duration": 42,
    "start_time": "2022-08-10T14:40:17.968Z"
   },
   {
    "duration": 45,
    "start_time": "2022-08-10T14:40:23.465Z"
   },
   {
    "duration": 43,
    "start_time": "2022-08-10T14:42:25.195Z"
   },
   {
    "duration": 413,
    "start_time": "2022-08-10T14:42:59.891Z"
   },
   {
    "duration": 73,
    "start_time": "2022-08-10T14:43:00.306Z"
   },
   {
    "duration": 10,
    "start_time": "2022-08-10T14:43:00.381Z"
   },
   {
    "duration": 27,
    "start_time": "2022-08-10T14:43:00.393Z"
   },
   {
    "duration": 33,
    "start_time": "2022-08-10T14:43:00.422Z"
   },
   {
    "duration": 40,
    "start_time": "2022-08-10T14:43:00.456Z"
   },
   {
    "duration": 2,
    "start_time": "2022-08-10T14:43:00.498Z"
   },
   {
    "duration": 30,
    "start_time": "2022-08-10T14:43:00.501Z"
   },
   {
    "duration": 13,
    "start_time": "2022-08-10T14:43:00.532Z"
   },
   {
    "duration": 22,
    "start_time": "2022-08-10T14:43:00.547Z"
   },
   {
    "duration": 17,
    "start_time": "2022-08-10T14:43:00.571Z"
   },
   {
    "duration": 12,
    "start_time": "2022-08-10T14:43:00.590Z"
   },
   {
    "duration": 18,
    "start_time": "2022-08-10T14:43:00.604Z"
   },
   {
    "duration": 16,
    "start_time": "2022-08-10T14:43:00.624Z"
   },
   {
    "duration": 13,
    "start_time": "2022-08-10T14:43:00.642Z"
   },
   {
    "duration": 9,
    "start_time": "2022-08-10T14:43:00.656Z"
   },
   {
    "duration": 18,
    "start_time": "2022-08-10T14:43:00.667Z"
   },
   {
    "duration": 14,
    "start_time": "2022-08-10T14:43:00.686Z"
   },
   {
    "duration": 21,
    "start_time": "2022-08-10T14:43:00.702Z"
   },
   {
    "duration": 9,
    "start_time": "2022-08-10T14:43:00.724Z"
   },
   {
    "duration": 26,
    "start_time": "2022-08-10T14:43:00.735Z"
   },
   {
    "duration": 42,
    "start_time": "2022-08-10T14:43:00.762Z"
   },
   {
    "duration": 47,
    "start_time": "2022-08-10T14:43:55.808Z"
   },
   {
    "duration": 51,
    "start_time": "2022-08-10T14:44:27.015Z"
   },
   {
    "duration": 37,
    "start_time": "2022-08-10T14:45:46.960Z"
   },
   {
    "duration": 77,
    "start_time": "2022-08-10T14:46:42.030Z"
   },
   {
    "duration": 12,
    "start_time": "2022-08-10T14:47:07.023Z"
   },
   {
    "duration": 12,
    "start_time": "2022-08-10T14:47:14.946Z"
   },
   {
    "duration": 17,
    "start_time": "2022-08-10T14:47:53.941Z"
   },
   {
    "duration": 12,
    "start_time": "2022-08-10T14:48:32.043Z"
   },
   {
    "duration": 8,
    "start_time": "2022-08-10T14:48:47.103Z"
   },
   {
    "duration": 9,
    "start_time": "2022-08-10T14:48:52.780Z"
   },
   {
    "duration": 359,
    "start_time": "2022-08-10T14:50:18.160Z"
   },
   {
    "duration": 74,
    "start_time": "2022-08-10T14:50:18.521Z"
   },
   {
    "duration": 9,
    "start_time": "2022-08-10T14:50:18.596Z"
   },
   {
    "duration": 36,
    "start_time": "2022-08-10T14:50:18.607Z"
   },
   {
    "duration": 21,
    "start_time": "2022-08-10T14:50:18.645Z"
   },
   {
    "duration": 13,
    "start_time": "2022-08-10T14:50:18.668Z"
   },
   {
    "duration": 11,
    "start_time": "2022-08-10T14:50:18.682Z"
   },
   {
    "duration": 11,
    "start_time": "2022-08-10T14:50:18.694Z"
   },
   {
    "duration": 25,
    "start_time": "2022-08-10T14:50:18.706Z"
   },
   {
    "duration": 25,
    "start_time": "2022-08-10T14:50:18.733Z"
   },
   {
    "duration": 16,
    "start_time": "2022-08-10T14:50:18.759Z"
   },
   {
    "duration": 23,
    "start_time": "2022-08-10T14:50:18.777Z"
   },
   {
    "duration": 13,
    "start_time": "2022-08-10T14:50:18.802Z"
   },
   {
    "duration": 13,
    "start_time": "2022-08-10T14:50:18.817Z"
   },
   {
    "duration": 14,
    "start_time": "2022-08-10T14:50:18.831Z"
   },
   {
    "duration": 10,
    "start_time": "2022-08-10T14:50:18.846Z"
   },
   {
    "duration": 15,
    "start_time": "2022-08-10T14:50:18.857Z"
   },
   {
    "duration": 29,
    "start_time": "2022-08-10T14:50:18.873Z"
   },
   {
    "duration": 23,
    "start_time": "2022-08-10T14:50:18.903Z"
   },
   {
    "duration": 15,
    "start_time": "2022-08-10T14:50:18.927Z"
   },
   {
    "duration": 15,
    "start_time": "2022-08-10T14:50:18.943Z"
   },
   {
    "duration": 11,
    "start_time": "2022-08-10T14:50:18.960Z"
   },
   {
    "duration": 39,
    "start_time": "2022-08-10T14:50:53.354Z"
   },
   {
    "duration": 60,
    "start_time": "2022-08-11T11:42:16.021Z"
   },
   {
    "duration": 6,
    "start_time": "2022-08-11T11:42:39.127Z"
   },
   {
    "duration": 6,
    "start_time": "2022-08-11T11:42:52.620Z"
   },
   {
    "duration": 7,
    "start_time": "2022-08-11T11:43:23.402Z"
   },
   {
    "duration": 360,
    "start_time": "2022-08-11T11:43:43.146Z"
   },
   {
    "duration": 329,
    "start_time": "2022-08-11T11:43:45.331Z"
   },
   {
    "duration": 410,
    "start_time": "2022-08-11T11:43:52.262Z"
   },
   {
    "duration": 75,
    "start_time": "2022-08-11T11:43:52.674Z"
   },
   {
    "duration": 9,
    "start_time": "2022-08-11T11:43:52.751Z"
   },
   {
    "duration": 15,
    "start_time": "2022-08-11T11:43:52.762Z"
   },
   {
    "duration": 27,
    "start_time": "2022-08-11T11:43:52.779Z"
   },
   {
    "duration": 10,
    "start_time": "2022-08-11T11:43:52.808Z"
   },
   {
    "duration": 3,
    "start_time": "2022-08-11T11:43:52.819Z"
   },
   {
    "duration": 5,
    "start_time": "2022-08-11T11:43:52.823Z"
   },
   {
    "duration": 3,
    "start_time": "2022-08-11T11:43:52.829Z"
   },
   {
    "duration": 4,
    "start_time": "2022-08-11T11:43:52.834Z"
   },
   {
    "duration": 4,
    "start_time": "2022-08-11T11:43:52.839Z"
   },
   {
    "duration": 6,
    "start_time": "2022-08-11T11:43:52.845Z"
   },
   {
    "duration": 4,
    "start_time": "2022-08-11T11:43:52.853Z"
   },
   {
    "duration": 39,
    "start_time": "2022-08-11T11:43:52.859Z"
   },
   {
    "duration": 3,
    "start_time": "2022-08-11T11:43:52.900Z"
   },
   {
    "duration": 5,
    "start_time": "2022-08-11T11:43:52.904Z"
   },
   {
    "duration": 4,
    "start_time": "2022-08-11T11:43:52.910Z"
   },
   {
    "duration": 3,
    "start_time": "2022-08-11T11:43:52.916Z"
   },
   {
    "duration": 4,
    "start_time": "2022-08-11T11:43:52.921Z"
   },
   {
    "duration": 5,
    "start_time": "2022-08-11T11:43:52.926Z"
   },
   {
    "duration": 5,
    "start_time": "2022-08-11T11:43:52.932Z"
   },
   {
    "duration": 5,
    "start_time": "2022-08-11T11:43:52.938Z"
   },
   {
    "duration": 9,
    "start_time": "2022-08-11T11:44:12.389Z"
   },
   {
    "duration": 3,
    "start_time": "2022-08-11T11:49:09.946Z"
   },
   {
    "duration": 75,
    "start_time": "2022-08-11T11:49:14.010Z"
   },
   {
    "duration": 14,
    "start_time": "2022-08-11T11:49:33.250Z"
   },
   {
    "duration": 13,
    "start_time": "2022-08-11T11:49:35.546Z"
   },
   {
    "duration": 8,
    "start_time": "2022-08-11T11:55:13.547Z"
   },
   {
    "duration": 8,
    "start_time": "2022-08-11T11:56:28.538Z"
   },
   {
    "duration": 9,
    "start_time": "2022-08-11T12:02:42.504Z"
   },
   {
    "duration": 4,
    "start_time": "2022-08-11T12:03:36.318Z"
   },
   {
    "duration": 7,
    "start_time": "2022-08-11T12:03:41.169Z"
   },
   {
    "duration": 398,
    "start_time": "2022-08-11T12:04:22.214Z"
   },
   {
    "duration": 78,
    "start_time": "2022-08-11T12:04:22.614Z"
   },
   {
    "duration": 10,
    "start_time": "2022-08-11T12:04:22.694Z"
   },
   {
    "duration": 22,
    "start_time": "2022-08-11T12:04:22.706Z"
   },
   {
    "duration": 12,
    "start_time": "2022-08-11T12:04:22.731Z"
   },
   {
    "duration": 6,
    "start_time": "2022-08-11T12:04:22.745Z"
   },
   {
    "duration": 4,
    "start_time": "2022-08-11T12:04:22.753Z"
   },
   {
    "duration": 8,
    "start_time": "2022-08-11T12:04:22.758Z"
   },
   {
    "duration": 5,
    "start_time": "2022-08-11T12:04:22.768Z"
   },
   {
    "duration": 24,
    "start_time": "2022-08-11T12:04:22.775Z"
   },
   {
    "duration": 9,
    "start_time": "2022-08-11T12:04:22.801Z"
   },
   {
    "duration": 3,
    "start_time": "2022-08-11T12:04:22.812Z"
   },
   {
    "duration": 6,
    "start_time": "2022-08-11T12:04:22.817Z"
   },
   {
    "duration": 6,
    "start_time": "2022-08-11T12:04:22.825Z"
   },
   {
    "duration": 10,
    "start_time": "2022-08-11T12:04:22.833Z"
   },
   {
    "duration": 8,
    "start_time": "2022-08-11T12:04:22.844Z"
   },
   {
    "duration": 5,
    "start_time": "2022-08-11T12:04:22.854Z"
   },
   {
    "duration": 5,
    "start_time": "2022-08-11T12:04:22.860Z"
   },
   {
    "duration": 8,
    "start_time": "2022-08-11T12:04:22.866Z"
   },
   {
    "duration": 5,
    "start_time": "2022-08-11T12:04:22.875Z"
   },
   {
    "duration": 5,
    "start_time": "2022-08-11T12:04:22.899Z"
   },
   {
    "duration": 4,
    "start_time": "2022-08-11T12:04:22.906Z"
   },
   {
    "duration": 70,
    "start_time": "2022-08-11T12:06:39.784Z"
   },
   {
    "duration": 7,
    "start_time": "2022-08-11T12:06:49.475Z"
   },
   {
    "duration": 6,
    "start_time": "2022-08-11T12:07:01.066Z"
   },
   {
    "duration": 4,
    "start_time": "2022-08-11T12:07:44.743Z"
   },
   {
    "duration": 6,
    "start_time": "2022-08-11T12:09:39.438Z"
   },
   {
    "duration": 6,
    "start_time": "2022-08-11T12:09:41.314Z"
   },
   {
    "duration": 10,
    "start_time": "2022-08-11T12:10:05.221Z"
   },
   {
    "duration": 4,
    "start_time": "2022-08-11T12:11:01.372Z"
   },
   {
    "duration": 10,
    "start_time": "2022-08-11T12:15:34.969Z"
   },
   {
    "duration": 10,
    "start_time": "2022-08-11T12:15:51.525Z"
   },
   {
    "duration": 5,
    "start_time": "2022-08-11T12:16:03.272Z"
   },
   {
    "duration": 5,
    "start_time": "2022-08-11T12:16:21.839Z"
   },
   {
    "duration": 64,
    "start_time": "2022-08-11T12:26:14.865Z"
   },
   {
    "duration": 1237,
    "start_time": "2022-08-11T12:26:26.884Z"
   },
   {
    "duration": 1164,
    "start_time": "2022-08-11T12:26:50.048Z"
   },
   {
    "duration": 73,
    "start_time": "2022-08-11T12:27:29.178Z"
   },
   {
    "duration": 126,
    "start_time": "2022-08-11T12:27:37.931Z"
   },
   {
    "duration": 942,
    "start_time": "2022-08-11T12:28:26.909Z"
   },
   {
    "duration": 9,
    "start_time": "2022-08-11T12:28:53.252Z"
   },
   {
    "duration": 70,
    "start_time": "2022-08-11T12:30:39.355Z"
   },
   {
    "duration": 77,
    "start_time": "2022-08-11T12:30:44.065Z"
   },
   {
    "duration": 6,
    "start_time": "2022-08-11T12:30:50.426Z"
   },
   {
    "duration": 5,
    "start_time": "2022-08-11T12:31:08.314Z"
   },
   {
    "duration": 365,
    "start_time": "2022-08-11T12:31:48.468Z"
   },
   {
    "duration": 90,
    "start_time": "2022-08-11T12:31:48.835Z"
   },
   {
    "duration": 9,
    "start_time": "2022-08-11T12:31:48.927Z"
   },
   {
    "duration": 17,
    "start_time": "2022-08-11T12:31:48.938Z"
   },
   {
    "duration": 13,
    "start_time": "2022-08-11T12:31:48.957Z"
   },
   {
    "duration": 41,
    "start_time": "2022-08-11T12:31:48.972Z"
   },
   {
    "duration": 4,
    "start_time": "2022-08-11T12:31:49.017Z"
   },
   {
    "duration": 14,
    "start_time": "2022-08-11T12:31:49.022Z"
   },
   {
    "duration": 6,
    "start_time": "2022-08-11T12:31:49.037Z"
   },
   {
    "duration": 9,
    "start_time": "2022-08-11T12:31:49.044Z"
   },
   {
    "duration": 4,
    "start_time": "2022-08-11T12:31:49.055Z"
   },
   {
    "duration": 6,
    "start_time": "2022-08-11T12:31:49.060Z"
   },
   {
    "duration": 5,
    "start_time": "2022-08-11T12:31:49.067Z"
   },
   {
    "duration": 5,
    "start_time": "2022-08-11T12:31:49.074Z"
   },
   {
    "duration": 8,
    "start_time": "2022-08-11T12:31:49.081Z"
   },
   {
    "duration": 18,
    "start_time": "2022-08-11T12:31:49.090Z"
   },
   {
    "duration": 10,
    "start_time": "2022-08-11T12:31:49.110Z"
   },
   {
    "duration": 5,
    "start_time": "2022-08-11T12:31:49.122Z"
   },
   {
    "duration": 18,
    "start_time": "2022-08-11T12:31:49.128Z"
   },
   {
    "duration": 9,
    "start_time": "2022-08-11T12:31:49.147Z"
   },
   {
    "duration": 10,
    "start_time": "2022-08-11T12:31:49.157Z"
   },
   {
    "duration": 4,
    "start_time": "2022-08-11T12:31:49.169Z"
   },
   {
    "duration": 7,
    "start_time": "2022-08-11T19:03:53.452Z"
   },
   {
    "duration": 6,
    "start_time": "2022-08-11T19:04:13.286Z"
   },
   {
    "duration": 9,
    "start_time": "2022-08-11T19:05:52.434Z"
   },
   {
    "duration": 6,
    "start_time": "2022-08-11T19:08:27.374Z"
   },
   {
    "duration": 4,
    "start_time": "2022-08-11T19:08:55.125Z"
   },
   {
    "duration": 29,
    "start_time": "2022-08-11T19:12:51.194Z"
   },
   {
    "duration": 42,
    "start_time": "2022-08-11T19:15:17.497Z"
   },
   {
    "duration": 40,
    "start_time": "2022-08-11T19:15:58.584Z"
   },
   {
    "duration": 21,
    "start_time": "2022-08-11T19:16:03.920Z"
   },
   {
    "duration": 1193,
    "start_time": "2022-08-11T19:22:43.333Z"
   },
   {
    "duration": 3,
    "start_time": "2022-08-11T19:26:44.792Z"
   },
   {
    "duration": 5,
    "start_time": "2022-08-11T19:27:29.155Z"
   },
   {
    "duration": 1120,
    "start_time": "2022-08-11T19:27:51.349Z"
   },
   {
    "duration": 363,
    "start_time": "2022-08-11T19:31:01.342Z"
   },
   {
    "duration": 61,
    "start_time": "2022-08-11T19:32:15.151Z"
   },
   {
    "duration": 3,
    "start_time": "2022-08-11T19:32:21.344Z"
   },
   {
    "duration": 21,
    "start_time": "2022-08-11T19:32:24.840Z"
   },
   {
    "duration": 3,
    "start_time": "2022-08-11T19:34:33.539Z"
   },
   {
    "duration": 22,
    "start_time": "2022-08-11T19:34:36.911Z"
   },
   {
    "duration": 867,
    "start_time": "2022-08-11T19:34:59.464Z"
   },
   {
    "duration": 257,
    "start_time": "2022-08-11T19:40:38.456Z"
   },
   {
    "duration": 2281,
    "start_time": "2022-08-11T19:41:49.729Z"
   },
   {
    "duration": 7,
    "start_time": "2022-08-11T19:42:29.391Z"
   },
   {
    "duration": 2277,
    "start_time": "2022-08-11T19:42:41.969Z"
   },
   {
    "duration": 2380,
    "start_time": "2022-08-11T19:42:54.561Z"
   },
   {
    "duration": 3,
    "start_time": "2022-08-11T19:45:18.354Z"
   },
   {
    "duration": 223,
    "start_time": "2022-08-11T19:45:29.699Z"
   },
   {
    "duration": 213,
    "start_time": "2022-08-11T19:46:27.735Z"
   },
   {
    "duration": 156,
    "start_time": "2022-08-11T19:47:53.764Z"
   },
   {
    "duration": 3,
    "start_time": "2022-08-11T19:49:36.626Z"
   },
   {
    "duration": 144,
    "start_time": "2022-08-11T19:49:41.907Z"
   },
   {
    "duration": 3,
    "start_time": "2022-08-11T19:50:58.293Z"
   },
   {
    "duration": 141,
    "start_time": "2022-08-11T19:51:00.694Z"
   },
   {
    "duration": 3,
    "start_time": "2022-08-11T19:53:01.157Z"
   },
   {
    "duration": 139,
    "start_time": "2022-08-11T19:53:02.556Z"
   },
   {
    "duration": 7,
    "start_time": "2022-08-11T19:53:40.952Z"
   },
   {
    "duration": 53,
    "start_time": "2022-08-11T20:04:26.537Z"
   },
   {
    "duration": 59,
    "start_time": "2022-08-11T20:06:27.951Z"
   },
   {
    "duration": 54,
    "start_time": "2022-08-11T20:06:42.463Z"
   },
   {
    "duration": 899,
    "start_time": "2022-08-11T20:07:10.372Z"
   },
   {
    "duration": 52,
    "start_time": "2022-08-11T20:14:45.555Z"
   },
   {
    "duration": 60,
    "start_time": "2022-08-11T20:15:36.747Z"
   },
   {
    "duration": 65,
    "start_time": "2022-08-11T20:17:00.778Z"
   },
   {
    "duration": 52,
    "start_time": "2022-08-11T20:19:42.477Z"
   },
   {
    "duration": 6,
    "start_time": "2022-08-11T20:20:46.707Z"
   },
   {
    "duration": 177,
    "start_time": "2022-08-11T20:20:52.116Z"
   },
   {
    "duration": 187,
    "start_time": "2022-08-11T20:21:21.316Z"
   },
   {
    "duration": 149,
    "start_time": "2022-08-11T20:21:50.476Z"
   },
   {
    "duration": 160,
    "start_time": "2022-08-11T20:22:08.231Z"
   },
   {
    "duration": 3,
    "start_time": "2022-08-11T20:22:38.516Z"
   },
   {
    "duration": 143,
    "start_time": "2022-08-11T20:22:41.609Z"
   },
   {
    "duration": 3,
    "start_time": "2022-08-11T20:23:06.129Z"
   },
   {
    "duration": 143,
    "start_time": "2022-08-11T20:23:09.014Z"
   },
   {
    "duration": 4,
    "start_time": "2022-08-11T20:23:44.036Z"
   },
   {
    "duration": 152,
    "start_time": "2022-08-11T20:23:46.263Z"
   }
  ],
  "colab": {
   "name": "dpp_template_part1.ipynb",
   "provenance": []
  },
  "kernelspec": {
   "display_name": "Python 3 (ipykernel)",
   "language": "python",
   "name": "python3"
  },
  "language_info": {
   "codemirror_mode": {
    "name": "ipython",
    "version": 3
   },
   "file_extension": ".py",
   "mimetype": "text/x-python",
   "name": "python",
   "nbconvert_exporter": "python",
   "pygments_lexer": "ipython3",
   "version": "3.9.12"
  },
  "toc": {
   "base_numbering": 1,
   "nav_menu": {},
   "number_sections": true,
   "sideBar": true,
   "skip_h1_title": true,
   "title_cell": "Table of Contents",
   "title_sidebar": "Contents",
   "toc_cell": false,
   "toc_position": {},
   "toc_section_display": true,
   "toc_window_display": false
  }
 },
 "nbformat": 4,
 "nbformat_minor": 5
}
