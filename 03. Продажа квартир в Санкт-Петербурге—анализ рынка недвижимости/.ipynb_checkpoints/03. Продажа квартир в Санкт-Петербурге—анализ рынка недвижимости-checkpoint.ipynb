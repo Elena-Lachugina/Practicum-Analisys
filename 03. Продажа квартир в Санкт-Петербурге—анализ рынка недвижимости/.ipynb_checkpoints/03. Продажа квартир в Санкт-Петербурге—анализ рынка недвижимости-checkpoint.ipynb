{
 "cells": [
  {
   "cell_type": "markdown",
   "metadata": {},
   "source": [
    "# Продажа квартир в Санкт-Петербурге—анализ рынка недвижимости\n",
    "\n",
    "В вашем распоряжении данные сервиса Яндекс.Недвижимость — архив объявлений о продаже квартир в Санкт-Петербурге и соседних населённых пунктов за несколько лет. Нужно научиться определять рыночную стоимость объектов недвижимости. Ваша задача — установить параметры. Это позволит построить автоматизированную систему: она отследит аномалии и мошенническую деятельность. \n",
    "\n",
    "По каждой квартире на продажу доступны два вида данных. Первые вписаны пользователем, вторые — получены автоматически на основе картографических данных. Например, расстояние до центра, аэропорта, ближайшего парка и водоёма. "
   ]
  },
  {
   "cell_type": "markdown",
   "metadata": {},
   "source": [
    "### Загружаем библтотеки и данные"
   ]
  },
  {
   "cell_type": "code",
   "execution_count": 1,
   "metadata": {},
   "outputs": [],
   "source": [
    "import pandas as pd\n",
    "import numpy as np\n",
    "import matplotlib.pyplot as plt"
   ]
  },
  {
   "cell_type": "code",
   "execution_count": 2,
   "metadata": {},
   "outputs": [
    {
     "data": {
      "text/html": [
       "<div>\n",
       "<style scoped>\n",
       "    .dataframe tbody tr th:only-of-type {\n",
       "        vertical-align: middle;\n",
       "    }\n",
       "\n",
       "    .dataframe tbody tr th {\n",
       "        vertical-align: top;\n",
       "    }\n",
       "\n",
       "    .dataframe thead th {\n",
       "        text-align: right;\n",
       "    }\n",
       "</style>\n",
       "<table border=\"1\" class=\"dataframe\">\n",
       "  <thead>\n",
       "    <tr style=\"text-align: right;\">\n",
       "      <th></th>\n",
       "      <th>total_images</th>\n",
       "      <th>last_price</th>\n",
       "      <th>total_area</th>\n",
       "      <th>first_day_exposition</th>\n",
       "      <th>rooms</th>\n",
       "      <th>ceiling_height</th>\n",
       "      <th>floors_total</th>\n",
       "      <th>living_area</th>\n",
       "      <th>floor</th>\n",
       "      <th>is_apartment</th>\n",
       "      <th>...</th>\n",
       "      <th>kitchen_area</th>\n",
       "      <th>balcony</th>\n",
       "      <th>locality_name</th>\n",
       "      <th>airports_nearest</th>\n",
       "      <th>cityCenters_nearest</th>\n",
       "      <th>parks_around3000</th>\n",
       "      <th>parks_nearest</th>\n",
       "      <th>ponds_around3000</th>\n",
       "      <th>ponds_nearest</th>\n",
       "      <th>days_exposition</th>\n",
       "    </tr>\n",
       "  </thead>\n",
       "  <tbody>\n",
       "    <tr>\n",
       "      <th>0</th>\n",
       "      <td>20</td>\n",
       "      <td>13000000.0</td>\n",
       "      <td>108.00</td>\n",
       "      <td>2019-03-07T00:00:00</td>\n",
       "      <td>3</td>\n",
       "      <td>2.70</td>\n",
       "      <td>16.0</td>\n",
       "      <td>51.00</td>\n",
       "      <td>8</td>\n",
       "      <td>NaN</td>\n",
       "      <td>...</td>\n",
       "      <td>25.00</td>\n",
       "      <td>NaN</td>\n",
       "      <td>Санкт-Петербург</td>\n",
       "      <td>18863.0</td>\n",
       "      <td>16028.0</td>\n",
       "      <td>1.0</td>\n",
       "      <td>482.0</td>\n",
       "      <td>2.0</td>\n",
       "      <td>755.0</td>\n",
       "      <td>NaN</td>\n",
       "    </tr>\n",
       "    <tr>\n",
       "      <th>1</th>\n",
       "      <td>7</td>\n",
       "      <td>3350000.0</td>\n",
       "      <td>40.40</td>\n",
       "      <td>2018-12-04T00:00:00</td>\n",
       "      <td>1</td>\n",
       "      <td>NaN</td>\n",
       "      <td>11.0</td>\n",
       "      <td>18.60</td>\n",
       "      <td>1</td>\n",
       "      <td>NaN</td>\n",
       "      <td>...</td>\n",
       "      <td>11.00</td>\n",
       "      <td>2.0</td>\n",
       "      <td>посёлок Шушары</td>\n",
       "      <td>12817.0</td>\n",
       "      <td>18603.0</td>\n",
       "      <td>0.0</td>\n",
       "      <td>NaN</td>\n",
       "      <td>0.0</td>\n",
       "      <td>NaN</td>\n",
       "      <td>81.0</td>\n",
       "    </tr>\n",
       "    <tr>\n",
       "      <th>2</th>\n",
       "      <td>10</td>\n",
       "      <td>5196000.0</td>\n",
       "      <td>56.00</td>\n",
       "      <td>2015-08-20T00:00:00</td>\n",
       "      <td>2</td>\n",
       "      <td>NaN</td>\n",
       "      <td>5.0</td>\n",
       "      <td>34.30</td>\n",
       "      <td>4</td>\n",
       "      <td>NaN</td>\n",
       "      <td>...</td>\n",
       "      <td>8.30</td>\n",
       "      <td>0.0</td>\n",
       "      <td>Санкт-Петербург</td>\n",
       "      <td>21741.0</td>\n",
       "      <td>13933.0</td>\n",
       "      <td>1.0</td>\n",
       "      <td>90.0</td>\n",
       "      <td>2.0</td>\n",
       "      <td>574.0</td>\n",
       "      <td>558.0</td>\n",
       "    </tr>\n",
       "    <tr>\n",
       "      <th>3</th>\n",
       "      <td>0</td>\n",
       "      <td>64900000.0</td>\n",
       "      <td>159.00</td>\n",
       "      <td>2015-07-24T00:00:00</td>\n",
       "      <td>3</td>\n",
       "      <td>NaN</td>\n",
       "      <td>14.0</td>\n",
       "      <td>NaN</td>\n",
       "      <td>9</td>\n",
       "      <td>NaN</td>\n",
       "      <td>...</td>\n",
       "      <td>NaN</td>\n",
       "      <td>0.0</td>\n",
       "      <td>Санкт-Петербург</td>\n",
       "      <td>28098.0</td>\n",
       "      <td>6800.0</td>\n",
       "      <td>2.0</td>\n",
       "      <td>84.0</td>\n",
       "      <td>3.0</td>\n",
       "      <td>234.0</td>\n",
       "      <td>424.0</td>\n",
       "    </tr>\n",
       "    <tr>\n",
       "      <th>4</th>\n",
       "      <td>2</td>\n",
       "      <td>10000000.0</td>\n",
       "      <td>100.00</td>\n",
       "      <td>2018-06-19T00:00:00</td>\n",
       "      <td>2</td>\n",
       "      <td>3.03</td>\n",
       "      <td>14.0</td>\n",
       "      <td>32.00</td>\n",
       "      <td>13</td>\n",
       "      <td>NaN</td>\n",
       "      <td>...</td>\n",
       "      <td>41.00</td>\n",
       "      <td>NaN</td>\n",
       "      <td>Санкт-Петербург</td>\n",
       "      <td>31856.0</td>\n",
       "      <td>8098.0</td>\n",
       "      <td>2.0</td>\n",
       "      <td>112.0</td>\n",
       "      <td>1.0</td>\n",
       "      <td>48.0</td>\n",
       "      <td>121.0</td>\n",
       "    </tr>\n",
       "    <tr>\n",
       "      <th>5</th>\n",
       "      <td>10</td>\n",
       "      <td>2890000.0</td>\n",
       "      <td>30.40</td>\n",
       "      <td>2018-09-10T00:00:00</td>\n",
       "      <td>1</td>\n",
       "      <td>NaN</td>\n",
       "      <td>12.0</td>\n",
       "      <td>14.40</td>\n",
       "      <td>5</td>\n",
       "      <td>NaN</td>\n",
       "      <td>...</td>\n",
       "      <td>9.10</td>\n",
       "      <td>NaN</td>\n",
       "      <td>городской посёлок Янино-1</td>\n",
       "      <td>NaN</td>\n",
       "      <td>NaN</td>\n",
       "      <td>NaN</td>\n",
       "      <td>NaN</td>\n",
       "      <td>NaN</td>\n",
       "      <td>NaN</td>\n",
       "      <td>55.0</td>\n",
       "    </tr>\n",
       "    <tr>\n",
       "      <th>6</th>\n",
       "      <td>6</td>\n",
       "      <td>3700000.0</td>\n",
       "      <td>37.30</td>\n",
       "      <td>2017-11-02T00:00:00</td>\n",
       "      <td>1</td>\n",
       "      <td>NaN</td>\n",
       "      <td>26.0</td>\n",
       "      <td>10.60</td>\n",
       "      <td>6</td>\n",
       "      <td>NaN</td>\n",
       "      <td>...</td>\n",
       "      <td>14.40</td>\n",
       "      <td>1.0</td>\n",
       "      <td>посёлок Парголово</td>\n",
       "      <td>52996.0</td>\n",
       "      <td>19143.0</td>\n",
       "      <td>0.0</td>\n",
       "      <td>NaN</td>\n",
       "      <td>0.0</td>\n",
       "      <td>NaN</td>\n",
       "      <td>155.0</td>\n",
       "    </tr>\n",
       "    <tr>\n",
       "      <th>7</th>\n",
       "      <td>5</td>\n",
       "      <td>7915000.0</td>\n",
       "      <td>71.60</td>\n",
       "      <td>2019-04-18T00:00:00</td>\n",
       "      <td>2</td>\n",
       "      <td>NaN</td>\n",
       "      <td>24.0</td>\n",
       "      <td>NaN</td>\n",
       "      <td>22</td>\n",
       "      <td>NaN</td>\n",
       "      <td>...</td>\n",
       "      <td>18.90</td>\n",
       "      <td>2.0</td>\n",
       "      <td>Санкт-Петербург</td>\n",
       "      <td>23982.0</td>\n",
       "      <td>11634.0</td>\n",
       "      <td>0.0</td>\n",
       "      <td>NaN</td>\n",
       "      <td>0.0</td>\n",
       "      <td>NaN</td>\n",
       "      <td>NaN</td>\n",
       "    </tr>\n",
       "    <tr>\n",
       "      <th>8</th>\n",
       "      <td>20</td>\n",
       "      <td>2900000.0</td>\n",
       "      <td>33.16</td>\n",
       "      <td>2018-05-23T00:00:00</td>\n",
       "      <td>1</td>\n",
       "      <td>NaN</td>\n",
       "      <td>27.0</td>\n",
       "      <td>15.43</td>\n",
       "      <td>26</td>\n",
       "      <td>NaN</td>\n",
       "      <td>...</td>\n",
       "      <td>8.81</td>\n",
       "      <td>NaN</td>\n",
       "      <td>посёлок Мурино</td>\n",
       "      <td>NaN</td>\n",
       "      <td>NaN</td>\n",
       "      <td>NaN</td>\n",
       "      <td>NaN</td>\n",
       "      <td>NaN</td>\n",
       "      <td>NaN</td>\n",
       "      <td>189.0</td>\n",
       "    </tr>\n",
       "    <tr>\n",
       "      <th>9</th>\n",
       "      <td>18</td>\n",
       "      <td>5400000.0</td>\n",
       "      <td>61.00</td>\n",
       "      <td>2017-02-26T00:00:00</td>\n",
       "      <td>3</td>\n",
       "      <td>2.50</td>\n",
       "      <td>9.0</td>\n",
       "      <td>43.60</td>\n",
       "      <td>7</td>\n",
       "      <td>NaN</td>\n",
       "      <td>...</td>\n",
       "      <td>6.50</td>\n",
       "      <td>2.0</td>\n",
       "      <td>Санкт-Петербург</td>\n",
       "      <td>50898.0</td>\n",
       "      <td>15008.0</td>\n",
       "      <td>0.0</td>\n",
       "      <td>NaN</td>\n",
       "      <td>0.0</td>\n",
       "      <td>NaN</td>\n",
       "      <td>289.0</td>\n",
       "    </tr>\n",
       "    <tr>\n",
       "      <th>10</th>\n",
       "      <td>5</td>\n",
       "      <td>5050000.0</td>\n",
       "      <td>39.60</td>\n",
       "      <td>2017-11-16T00:00:00</td>\n",
       "      <td>1</td>\n",
       "      <td>2.67</td>\n",
       "      <td>12.0</td>\n",
       "      <td>20.30</td>\n",
       "      <td>3</td>\n",
       "      <td>NaN</td>\n",
       "      <td>...</td>\n",
       "      <td>8.50</td>\n",
       "      <td>NaN</td>\n",
       "      <td>Санкт-Петербург</td>\n",
       "      <td>38357.0</td>\n",
       "      <td>13878.0</td>\n",
       "      <td>1.0</td>\n",
       "      <td>310.0</td>\n",
       "      <td>2.0</td>\n",
       "      <td>553.0</td>\n",
       "      <td>137.0</td>\n",
       "    </tr>\n",
       "    <tr>\n",
       "      <th>11</th>\n",
       "      <td>9</td>\n",
       "      <td>3300000.0</td>\n",
       "      <td>44.00</td>\n",
       "      <td>2018-08-27T00:00:00</td>\n",
       "      <td>2</td>\n",
       "      <td>NaN</td>\n",
       "      <td>5.0</td>\n",
       "      <td>31.00</td>\n",
       "      <td>4</td>\n",
       "      <td>False</td>\n",
       "      <td>...</td>\n",
       "      <td>6.00</td>\n",
       "      <td>1.0</td>\n",
       "      <td>Ломоносов</td>\n",
       "      <td>48252.0</td>\n",
       "      <td>51677.0</td>\n",
       "      <td>0.0</td>\n",
       "      <td>NaN</td>\n",
       "      <td>0.0</td>\n",
       "      <td>NaN</td>\n",
       "      <td>7.0</td>\n",
       "    </tr>\n",
       "    <tr>\n",
       "      <th>12</th>\n",
       "      <td>10</td>\n",
       "      <td>3890000.0</td>\n",
       "      <td>54.00</td>\n",
       "      <td>2016-06-30T00:00:00</td>\n",
       "      <td>2</td>\n",
       "      <td>NaN</td>\n",
       "      <td>5.0</td>\n",
       "      <td>30.00</td>\n",
       "      <td>5</td>\n",
       "      <td>NaN</td>\n",
       "      <td>...</td>\n",
       "      <td>9.00</td>\n",
       "      <td>0.0</td>\n",
       "      <td>Сертолово</td>\n",
       "      <td>NaN</td>\n",
       "      <td>NaN</td>\n",
       "      <td>NaN</td>\n",
       "      <td>NaN</td>\n",
       "      <td>NaN</td>\n",
       "      <td>NaN</td>\n",
       "      <td>90.0</td>\n",
       "    </tr>\n",
       "    <tr>\n",
       "      <th>13</th>\n",
       "      <td>20</td>\n",
       "      <td>3550000.0</td>\n",
       "      <td>42.80</td>\n",
       "      <td>2017-07-01T00:00:00</td>\n",
       "      <td>2</td>\n",
       "      <td>2.56</td>\n",
       "      <td>5.0</td>\n",
       "      <td>27.00</td>\n",
       "      <td>5</td>\n",
       "      <td>NaN</td>\n",
       "      <td>...</td>\n",
       "      <td>5.20</td>\n",
       "      <td>1.0</td>\n",
       "      <td>Петергоф</td>\n",
       "      <td>37868.0</td>\n",
       "      <td>33058.0</td>\n",
       "      <td>1.0</td>\n",
       "      <td>294.0</td>\n",
       "      <td>3.0</td>\n",
       "      <td>298.0</td>\n",
       "      <td>366.0</td>\n",
       "    </tr>\n",
       "    <tr>\n",
       "      <th>14</th>\n",
       "      <td>1</td>\n",
       "      <td>4400000.0</td>\n",
       "      <td>36.00</td>\n",
       "      <td>2016-06-23T00:00:00</td>\n",
       "      <td>1</td>\n",
       "      <td>NaN</td>\n",
       "      <td>6.0</td>\n",
       "      <td>17.00</td>\n",
       "      <td>1</td>\n",
       "      <td>NaN</td>\n",
       "      <td>...</td>\n",
       "      <td>8.00</td>\n",
       "      <td>0.0</td>\n",
       "      <td>Пушкин</td>\n",
       "      <td>20782.0</td>\n",
       "      <td>30759.0</td>\n",
       "      <td>0.0</td>\n",
       "      <td>NaN</td>\n",
       "      <td>1.0</td>\n",
       "      <td>96.0</td>\n",
       "      <td>203.0</td>\n",
       "    </tr>\n",
       "  </tbody>\n",
       "</table>\n",
       "<p>15 rows × 22 columns</p>\n",
       "</div>"
      ],
      "text/plain": [
       "    total_images  last_price  total_area first_day_exposition  rooms  \\\n",
       "0             20  13000000.0      108.00  2019-03-07T00:00:00      3   \n",
       "1              7   3350000.0       40.40  2018-12-04T00:00:00      1   \n",
       "2             10   5196000.0       56.00  2015-08-20T00:00:00      2   \n",
       "3              0  64900000.0      159.00  2015-07-24T00:00:00      3   \n",
       "4              2  10000000.0      100.00  2018-06-19T00:00:00      2   \n",
       "5             10   2890000.0       30.40  2018-09-10T00:00:00      1   \n",
       "6              6   3700000.0       37.30  2017-11-02T00:00:00      1   \n",
       "7              5   7915000.0       71.60  2019-04-18T00:00:00      2   \n",
       "8             20   2900000.0       33.16  2018-05-23T00:00:00      1   \n",
       "9             18   5400000.0       61.00  2017-02-26T00:00:00      3   \n",
       "10             5   5050000.0       39.60  2017-11-16T00:00:00      1   \n",
       "11             9   3300000.0       44.00  2018-08-27T00:00:00      2   \n",
       "12            10   3890000.0       54.00  2016-06-30T00:00:00      2   \n",
       "13            20   3550000.0       42.80  2017-07-01T00:00:00      2   \n",
       "14             1   4400000.0       36.00  2016-06-23T00:00:00      1   \n",
       "\n",
       "    ceiling_height  floors_total  living_area  floor is_apartment  ...  \\\n",
       "0             2.70          16.0        51.00      8          NaN  ...   \n",
       "1              NaN          11.0        18.60      1          NaN  ...   \n",
       "2              NaN           5.0        34.30      4          NaN  ...   \n",
       "3              NaN          14.0          NaN      9          NaN  ...   \n",
       "4             3.03          14.0        32.00     13          NaN  ...   \n",
       "5              NaN          12.0        14.40      5          NaN  ...   \n",
       "6              NaN          26.0        10.60      6          NaN  ...   \n",
       "7              NaN          24.0          NaN     22          NaN  ...   \n",
       "8              NaN          27.0        15.43     26          NaN  ...   \n",
       "9             2.50           9.0        43.60      7          NaN  ...   \n",
       "10            2.67          12.0        20.30      3          NaN  ...   \n",
       "11             NaN           5.0        31.00      4        False  ...   \n",
       "12             NaN           5.0        30.00      5          NaN  ...   \n",
       "13            2.56           5.0        27.00      5          NaN  ...   \n",
       "14             NaN           6.0        17.00      1          NaN  ...   \n",
       "\n",
       "    kitchen_area  balcony              locality_name  airports_nearest  \\\n",
       "0          25.00      NaN            Санкт-Петербург           18863.0   \n",
       "1          11.00      2.0             посёлок Шушары           12817.0   \n",
       "2           8.30      0.0            Санкт-Петербург           21741.0   \n",
       "3            NaN      0.0            Санкт-Петербург           28098.0   \n",
       "4          41.00      NaN            Санкт-Петербург           31856.0   \n",
       "5           9.10      NaN  городской посёлок Янино-1               NaN   \n",
       "6          14.40      1.0          посёлок Парголово           52996.0   \n",
       "7          18.90      2.0            Санкт-Петербург           23982.0   \n",
       "8           8.81      NaN             посёлок Мурино               NaN   \n",
       "9           6.50      2.0            Санкт-Петербург           50898.0   \n",
       "10          8.50      NaN            Санкт-Петербург           38357.0   \n",
       "11          6.00      1.0                  Ломоносов           48252.0   \n",
       "12          9.00      0.0                  Сертолово               NaN   \n",
       "13          5.20      1.0                   Петергоф           37868.0   \n",
       "14          8.00      0.0                     Пушкин           20782.0   \n",
       "\n",
       "   cityCenters_nearest  parks_around3000  parks_nearest  ponds_around3000  \\\n",
       "0              16028.0               1.0          482.0               2.0   \n",
       "1              18603.0               0.0            NaN               0.0   \n",
       "2              13933.0               1.0           90.0               2.0   \n",
       "3               6800.0               2.0           84.0               3.0   \n",
       "4               8098.0               2.0          112.0               1.0   \n",
       "5                  NaN               NaN            NaN               NaN   \n",
       "6              19143.0               0.0            NaN               0.0   \n",
       "7              11634.0               0.0            NaN               0.0   \n",
       "8                  NaN               NaN            NaN               NaN   \n",
       "9              15008.0               0.0            NaN               0.0   \n",
       "10             13878.0               1.0          310.0               2.0   \n",
       "11             51677.0               0.0            NaN               0.0   \n",
       "12                 NaN               NaN            NaN               NaN   \n",
       "13             33058.0               1.0          294.0               3.0   \n",
       "14             30759.0               0.0            NaN               1.0   \n",
       "\n",
       "    ponds_nearest  days_exposition  \n",
       "0           755.0              NaN  \n",
       "1             NaN             81.0  \n",
       "2           574.0            558.0  \n",
       "3           234.0            424.0  \n",
       "4            48.0            121.0  \n",
       "5             NaN             55.0  \n",
       "6             NaN            155.0  \n",
       "7             NaN              NaN  \n",
       "8             NaN            189.0  \n",
       "9             NaN            289.0  \n",
       "10          553.0            137.0  \n",
       "11            NaN              7.0  \n",
       "12            NaN             90.0  \n",
       "13          298.0            366.0  \n",
       "14           96.0            203.0  \n",
       "\n",
       "[15 rows x 22 columns]"
      ]
     },
     "execution_count": 2,
     "metadata": {},
     "output_type": "execute_result"
    }
   ],
   "source": [
    "try:\n",
    "   df = pd.read_csv('/Users/elena/Downloads/real_estate_data.csv', sep='\\t')#здесь указывается локальный путь\n",
    "except:\n",
    "   df= pd.read_csv('https://code.s3.yandex.net/datasets/real_estate_data.csv', sep='\\t')# чтение файла из общего доступа\n",
    "df.head(15)"
   ]
  },
  {
   "cell_type": "markdown",
   "metadata": {},
   "source": [
    "Построим общую гистограмму для всех столбцов таблицы."
   ]
  },
  {
   "cell_type": "code",
   "execution_count": 3,
   "metadata": {},
   "outputs": [
    {
     "data": {
      "image/png": "[encoded data removed]",
      "text/plain": [
       "<Figure size 1080x1440 with 20 Axes>"
      ]
     },
     "metadata": {
      "needs_background": "light"
     },
     "output_type": "display_data"
    }
   ],
   "source": [
    "df.hist(figsize=(15, 20))\n",
    "plt.show()"
   ]
  },
  {
   "cell_type": "markdown",
   "metadata": {},
   "source": [
    "### Предобработка данных"
   ]
  },
  {
   "cell_type": "markdown",
   "metadata": {},
   "source": [
    "Найдите и изучите пропущенные значения в столбцах:\n",
    "Определите, в каких столбцах есть пропуски.\n",
    "Заполните пропущенные значения там, где это возможно. Например, если продавец не указал число балконов, то, скорее всего, в его квартире их нет. Такие пропуски правильно заменить на 0. Если логичную замену предложить невозможно, то оставьте эти значения пустыми. Пропуски — тоже важный сигнал, который нужно учитывать.\n",
    "В ячейке с типом markdown укажите причины, которые могли привести к пропускам в данных."
   ]
  },
  {
   "cell_type": "code",
   "execution_count": 4,
   "metadata": {},
   "outputs": [
    {
     "name": "stdout",
     "output_type": "stream",
     "text": [
      "<class 'pandas.core.frame.DataFrame'>\n",
      "RangeIndex: 23699 entries, 0 to 23698\n",
      "Data columns (total 22 columns):\n",
      " #   Column                Non-Null Count  Dtype  \n",
      "---  ------                --------------  -----  \n",
      " 0   total_images          23699 non-null  int64  \n",
      " 1   last_price            23699 non-null  float64\n",
      " 2   total_area            23699 non-null  float64\n",
      " 3   first_day_exposition  23699 non-null  object \n",
      " 4   rooms                 23699 non-null  int64  \n",
      " 5   ceiling_height        14504 non-null  float64\n",
      " 6   floors_total          23613 non-null  float64\n",
      " 7   living_area           21796 non-null  float64\n",
      " 8   floor                 23699 non-null  int64  \n",
      " 9   is_apartment          2775 non-null   object \n",
      " 10  studio                23699 non-null  bool   \n",
      " 11  open_plan             23699 non-null  bool   \n",
      " 12  kitchen_area          21421 non-null  float64\n",
      " 13  balcony               12180 non-null  float64\n",
      " 14  locality_name         23650 non-null  object \n",
      " 15  airports_nearest      18157 non-null  float64\n",
      " 16  cityCenters_nearest   18180 non-null  float64\n",
      " 17  parks_around3000      18181 non-null  float64\n",
      " 18  parks_nearest         8079 non-null   float64\n",
      " 19  ponds_around3000      18181 non-null  float64\n",
      " 20  ponds_nearest         9110 non-null   float64\n",
      " 21  days_exposition       20518 non-null  float64\n",
      "dtypes: bool(2), float64(14), int64(3), object(3)\n",
      "memory usage: 3.7+ MB\n"
     ]
    },
    {
     "data": {
      "text/html": [
       "<div>\n",
       "<style scoped>\n",
       "    .dataframe tbody tr th:only-of-type {\n",
       "        vertical-align: middle;\n",
       "    }\n",
       "\n",
       "    .dataframe tbody tr th {\n",
       "        vertical-align: top;\n",
       "    }\n",
       "\n",
       "    .dataframe thead th {\n",
       "        text-align: right;\n",
       "    }\n",
       "</style>\n",
       "<table border=\"1\" class=\"dataframe\">\n",
       "  <thead>\n",
       "    <tr style=\"text-align: right;\">\n",
       "      <th></th>\n",
       "      <th>total_images</th>\n",
       "      <th>last_price</th>\n",
       "      <th>total_area</th>\n",
       "      <th>rooms</th>\n",
       "      <th>ceiling_height</th>\n",
       "      <th>floors_total</th>\n",
       "      <th>living_area</th>\n",
       "      <th>floor</th>\n",
       "      <th>kitchen_area</th>\n",
       "      <th>balcony</th>\n",
       "      <th>airports_nearest</th>\n",
       "      <th>cityCenters_nearest</th>\n",
       "      <th>parks_around3000</th>\n",
       "      <th>parks_nearest</th>\n",
       "      <th>ponds_around3000</th>\n",
       "      <th>ponds_nearest</th>\n",
       "      <th>days_exposition</th>\n",
       "    </tr>\n",
       "  </thead>\n",
       "  <tbody>\n",
       "    <tr>\n",
       "      <th>count</th>\n",
       "      <td>23699.000000</td>\n",
       "      <td>2.369900e+04</td>\n",
       "      <td>23699.000000</td>\n",
       "      <td>23699.000000</td>\n",
       "      <td>14504.000000</td>\n",
       "      <td>23613.000000</td>\n",
       "      <td>21796.000000</td>\n",
       "      <td>23699.000000</td>\n",
       "      <td>21421.000000</td>\n",
       "      <td>12180.000000</td>\n",
       "      <td>18157.000000</td>\n",
       "      <td>18180.000000</td>\n",
       "      <td>18181.000000</td>\n",
       "      <td>8079.000000</td>\n",
       "      <td>18181.000000</td>\n",
       "      <td>9110.000000</td>\n",
       "      <td>20518.000000</td>\n",
       "    </tr>\n",
       "    <tr>\n",
       "      <th>mean</th>\n",
       "      <td>9.858475</td>\n",
       "      <td>6.541549e+06</td>\n",
       "      <td>60.348651</td>\n",
       "      <td>2.070636</td>\n",
       "      <td>2.771499</td>\n",
       "      <td>10.673824</td>\n",
       "      <td>34.457852</td>\n",
       "      <td>5.892358</td>\n",
       "      <td>10.569807</td>\n",
       "      <td>1.150082</td>\n",
       "      <td>28793.672193</td>\n",
       "      <td>14191.277833</td>\n",
       "      <td>0.611408</td>\n",
       "      <td>490.804555</td>\n",
       "      <td>0.770255</td>\n",
       "      <td>517.980900</td>\n",
       "      <td>180.888634</td>\n",
       "    </tr>\n",
       "    <tr>\n",
       "      <th>std</th>\n",
       "      <td>5.682529</td>\n",
       "      <td>1.088701e+07</td>\n",
       "      <td>35.654083</td>\n",
       "      <td>1.078405</td>\n",
       "      <td>1.261056</td>\n",
       "      <td>6.597173</td>\n",
       "      <td>22.030445</td>\n",
       "      <td>4.885249</td>\n",
       "      <td>5.905438</td>\n",
       "      <td>1.071300</td>\n",
       "      <td>12630.880622</td>\n",
       "      <td>8608.386210</td>\n",
       "      <td>0.802074</td>\n",
       "      <td>342.317995</td>\n",
       "      <td>0.938346</td>\n",
       "      <td>277.720643</td>\n",
       "      <td>219.727988</td>\n",
       "    </tr>\n",
       "    <tr>\n",
       "      <th>min</th>\n",
       "      <td>0.000000</td>\n",
       "      <td>1.219000e+04</td>\n",
       "      <td>12.000000</td>\n",
       "      <td>0.000000</td>\n",
       "      <td>1.000000</td>\n",
       "      <td>1.000000</td>\n",
       "      <td>2.000000</td>\n",
       "      <td>1.000000</td>\n",
       "      <td>1.300000</td>\n",
       "      <td>0.000000</td>\n",
       "      <td>0.000000</td>\n",
       "      <td>181.000000</td>\n",
       "      <td>0.000000</td>\n",
       "      <td>1.000000</td>\n",
       "      <td>0.000000</td>\n",
       "      <td>13.000000</td>\n",
       "      <td>1.000000</td>\n",
       "    </tr>\n",
       "    <tr>\n",
       "      <th>25%</th>\n",
       "      <td>6.000000</td>\n",
       "      <td>3.400000e+06</td>\n",
       "      <td>40.000000</td>\n",
       "      <td>1.000000</td>\n",
       "      <td>2.520000</td>\n",
       "      <td>5.000000</td>\n",
       "      <td>18.600000</td>\n",
       "      <td>2.000000</td>\n",
       "      <td>7.000000</td>\n",
       "      <td>0.000000</td>\n",
       "      <td>18585.000000</td>\n",
       "      <td>9238.000000</td>\n",
       "      <td>0.000000</td>\n",
       "      <td>288.000000</td>\n",
       "      <td>0.000000</td>\n",
       "      <td>294.000000</td>\n",
       "      <td>45.000000</td>\n",
       "    </tr>\n",
       "    <tr>\n",
       "      <th>50%</th>\n",
       "      <td>9.000000</td>\n",
       "      <td>4.650000e+06</td>\n",
       "      <td>52.000000</td>\n",
       "      <td>2.000000</td>\n",
       "      <td>2.650000</td>\n",
       "      <td>9.000000</td>\n",
       "      <td>30.000000</td>\n",
       "      <td>4.000000</td>\n",
       "      <td>9.100000</td>\n",
       "      <td>1.000000</td>\n",
       "      <td>26726.000000</td>\n",
       "      <td>13098.500000</td>\n",
       "      <td>0.000000</td>\n",
       "      <td>455.000000</td>\n",
       "      <td>1.000000</td>\n",
       "      <td>502.000000</td>\n",
       "      <td>95.000000</td>\n",
       "    </tr>\n",
       "    <tr>\n",
       "      <th>75%</th>\n",
       "      <td>14.000000</td>\n",
       "      <td>6.800000e+06</td>\n",
       "      <td>69.900000</td>\n",
       "      <td>3.000000</td>\n",
       "      <td>2.800000</td>\n",
       "      <td>16.000000</td>\n",
       "      <td>42.300000</td>\n",
       "      <td>8.000000</td>\n",
       "      <td>12.000000</td>\n",
       "      <td>2.000000</td>\n",
       "      <td>37273.000000</td>\n",
       "      <td>16293.000000</td>\n",
       "      <td>1.000000</td>\n",
       "      <td>612.000000</td>\n",
       "      <td>1.000000</td>\n",
       "      <td>729.000000</td>\n",
       "      <td>232.000000</td>\n",
       "    </tr>\n",
       "    <tr>\n",
       "      <th>max</th>\n",
       "      <td>50.000000</td>\n",
       "      <td>7.630000e+08</td>\n",
       "      <td>900.000000</td>\n",
       "      <td>19.000000</td>\n",
       "      <td>100.000000</td>\n",
       "      <td>60.000000</td>\n",
       "      <td>409.700000</td>\n",
       "      <td>33.000000</td>\n",
       "      <td>112.000000</td>\n",
       "      <td>5.000000</td>\n",
       "      <td>84869.000000</td>\n",
       "      <td>65968.000000</td>\n",
       "      <td>3.000000</td>\n",
       "      <td>3190.000000</td>\n",
       "      <td>3.000000</td>\n",
       "      <td>1344.000000</td>\n",
       "      <td>1580.000000</td>\n",
       "    </tr>\n",
       "  </tbody>\n",
       "</table>\n",
       "</div>"
      ],
      "text/plain": [
       "       total_images    last_price    total_area         rooms  ceiling_height  \\\n",
       "count  23699.000000  2.369900e+04  23699.000000  23699.000000    14504.000000   \n",
       "mean       9.858475  6.541549e+06     60.348651      2.070636        2.771499   \n",
       "std        5.682529  1.088701e+07     35.654083      1.078405        1.261056   \n",
       "min        0.000000  1.219000e+04     12.000000      0.000000        1.000000   \n",
       "25%        6.000000  3.400000e+06     40.000000      1.000000        2.520000   \n",
       "50%        9.000000  4.650000e+06     52.000000      2.000000        2.650000   \n",
       "75%       14.000000  6.800000e+06     69.900000      3.000000        2.800000   \n",
       "max       50.000000  7.630000e+08    900.000000     19.000000      100.000000   \n",
       "\n",
       "       floors_total   living_area         floor  kitchen_area       balcony  \\\n",
       "count  23613.000000  21796.000000  23699.000000  21421.000000  12180.000000   \n",
       "mean      10.673824     34.457852      5.892358     10.569807      1.150082   \n",
       "std        6.597173     22.030445      4.885249      5.905438      1.071300   \n",
       "min        1.000000      2.000000      1.000000      1.300000      0.000000   \n",
       "25%        5.000000     18.600000      2.000000      7.000000      0.000000   \n",
       "50%        9.000000     30.000000      4.000000      9.100000      1.000000   \n",
       "75%       16.000000     42.300000      8.000000     12.000000      2.000000   \n",
       "max       60.000000    409.700000     33.000000    112.000000      5.000000   \n",
       "\n",
       "       airports_nearest  cityCenters_nearest  parks_around3000  parks_nearest  \\\n",
       "count      18157.000000         18180.000000      18181.000000    8079.000000   \n",
       "mean       28793.672193         14191.277833          0.611408     490.804555   \n",
       "std        12630.880622          8608.386210          0.802074     342.317995   \n",
       "min            0.000000           181.000000          0.000000       1.000000   \n",
       "25%        18585.000000          9238.000000          0.000000     288.000000   \n",
       "50%        26726.000000         13098.500000          0.000000     455.000000   \n",
       "75%        37273.000000         16293.000000          1.000000     612.000000   \n",
       "max        84869.000000         65968.000000          3.000000    3190.000000   \n",
       "\n",
       "       ponds_around3000  ponds_nearest  days_exposition  \n",
       "count      18181.000000    9110.000000     20518.000000  \n",
       "mean           0.770255     517.980900       180.888634  \n",
       "std            0.938346     277.720643       219.727988  \n",
       "min            0.000000      13.000000         1.000000  \n",
       "25%            0.000000     294.000000        45.000000  \n",
       "50%            1.000000     502.000000        95.000000  \n",
       "75%            1.000000     729.000000       232.000000  \n",
       "max            3.000000    1344.000000      1580.000000  "
      ]
     },
     "execution_count": 4,
     "metadata": {},
     "output_type": "execute_result"
    }
   ],
   "source": [
    "df.info() #выведем общую информацию по таблице\n",
    "df.isna().mean().sort_values(ascending=False) # и по проценту пропусков\n",
    "df.describe()"
   ]
  },
  {
   "cell_type": "code",
   "execution_count": 5,
   "metadata": {
    "scrolled": true
   },
   "outputs": [
    {
     "data": {
      "text/plain": [
       "total_images                0\n",
       "last_price                  0\n",
       "total_area                  0\n",
       "first_day_exposition        0\n",
       "rooms                       0\n",
       "ceiling_height           9195\n",
       "floors_total               86\n",
       "living_area              1903\n",
       "floor                       0\n",
       "is_apartment                0\n",
       "studio                      0\n",
       "open_plan                   0\n",
       "kitchen_area             2278\n",
       "balcony                     0\n",
       "locality_name              49\n",
       "airports_nearest         5542\n",
       "cityCenters_nearest      5519\n",
       "parks_around3000            0\n",
       "parks_nearest           15620\n",
       "ponds_around3000            0\n",
       "ponds_nearest           14589\n",
       "days_exposition          3181\n",
       "dtype: int64"
      ]
     },
     "execution_count": 5,
     "metadata": {},
     "output_type": "execute_result"
    }
   ],
   "source": [
    "# Заменим пропуски балконов на 0\n",
    "df['balcony'] = df['balcony'].fillna(0) \n",
    "# Приводим в целочисленный тип количество балконов\n",
    "df['balcony'] = df['balcony'].astype(int)\n",
    "#Заменяем пропущенные значения на False\n",
    "df['is_apartment'] = df['is_apartment'].fillna(False)\n",
    "# Приводим в целочисленный тип стоимость квартиры\n",
    "df['last_price'] = df['last_price'].astype(int)\n",
    "# Приводим этажность к целочисленному типу\n",
    "df['floor'] = df['floor'].astype(int)\n",
    "# Приводим к типу даты дату публикации\n",
    "df['first_day_exposition'] = pd.to_datetime(df['first_day_exposition'], format='%Y-%m-%dT%H:%M:%S')\n",
    "# Приводим в целочисленный тип количество парков. Заменяем пропущенные значения на 0\n",
    "df['parks_around3000'] = df['parks_around3000'].fillna(value=0).astype(int)\n",
    "# Приводим в целочисленный тип количество прудов. Заменяем пропущенные значения на 0\n",
    "df['ponds_around3000'] = df['ponds_around3000'].fillna(value=0).astype(int)\n",
    "df.isna().mean().sort_values(ascending=False) \n",
    "df.dtypes.sort_values(ascending=False) #рассмотри типы данных\n",
    "df.isnull().sum()\n",
    "\n",
    "# Смотрим количество пропущенных значений"
   ]
  },
  {
   "cell_type": "code",
   "execution_count": 6,
   "metadata": {},
   "outputs": [
    {
     "name": "stdout",
     "output_type": "stream",
     "text": [
      "Сумма общей площади: 1430202\n",
      "Сумма площади жилой зоны и зоны кухни: 1068833\n",
      "Дополнительная проверка подтвердила корректность данных\n"
     ]
    }
   ],
   "source": [
    "# Заменяем пропуски жилой площади и площади кухни\n",
    "living_koef = df['living_area'].mean() / df['total_area'].mean()\n",
    "kitchen_koef = df['kitchen_area'].mean() / df['total_area'].mean()\n",
    "df['living_area'].fillna(living_koef * df['total_area'], inplace=True)\n",
    "df['kitchen_area'].fillna(kitchen_koef * df['total_area'], inplace=True)\n",
    "total_sum = df['total_area'].sum().astype(int)\n",
    "sum_kit_live = df['kitchen_area'].sum().astype(int) + df['living_area'].sum().astype(int)\n",
    "print(f'Сумма общей площади: {total_sum}')\n",
    "print(f'Сумма площади жилой зоны и зоны кухни: {sum_kit_live}')\n",
    "print('Дополнительная проверка подтвердила корректность данных')"
   ]
  },
  {
   "cell_type": "code",
   "execution_count": 7,
   "metadata": {},
   "outputs": [],
   "source": [
    "df.duplicated().sum() # явных дубликатов 0\n",
    "# Заменим все буквы ё в названиях на е\n",
    "df['locality_name'] = df['locality_name'].str.replace('ё', 'е')\n",
    "# Удалим записи, где отсутствует локация и этажность\n",
    "df.dropna(subset=['locality_name'], inplace=True)\n",
    "df.dropna(subset=['floors_total'], inplace=True)"
   ]
  },
  {
   "cell_type": "code",
   "execution_count": 8,
   "metadata": {},
   "outputs": [
    {
     "name": "stdout",
     "output_type": "stream",
     "text": [
      "count    23459.000000\n",
      "mean         2.691522\n",
      "std          0.197686\n",
      "min          2.200000\n",
      "25%          2.600000\n",
      "50%          2.650000\n",
      "75%          2.700000\n",
      "max          3.980000\n",
      "Name: ceiling_height, dtype: float64\n"
     ]
    },
    {
     "data": {
      "image/png": "[encoded data removed]",
      "text/plain": [
       "<Figure size 432x288 with 1 Axes>"
      ]
     },
     "metadata": {
      "needs_background": "light"
     },
     "output_type": "display_data"
    }
   ],
   "source": [
    "# Напишем функцию, которая исправит явные опечатки в высоте потолков и применим ее\n",
    "def change_parametr(raw):\n",
    "    if raw == 27:\n",
    "        return 2.7\n",
    "    if raw == 25:\n",
    "        return 2.5\n",
    "    if raw == 27.5:\n",
    "        return 2.75   \n",
    "    if raw == 32:\n",
    "        return 3.2\n",
    "    if raw == 26:\n",
    "        return 2.6\n",
    "    if raw == 24:\n",
    "        return 2.4   \n",
    "    if raw == 22.6:\n",
    "        return 2.26                  \n",
    "    return raw\n",
    "    \n",
    "df['ceiling_height'] = df['ceiling_height'].apply(change_parametr)\n",
    "\n",
    "# Заменим пропущенные значения потолков медианными значениями\n",
    "df['ceiling_height'].fillna(df['ceiling_height'].median(), inplace=True)\n",
    "# Удалим аномальные значения потолков\n",
    "df = df.loc[df['ceiling_height'] < 4]\n",
    "df = df.loc[df['ceiling_height'] > 2]\n",
    "plt.boxplot(df['ceiling_height'])\n",
    "print(df['ceiling_height'].describe())\n",
    "\n"
   ]
  },
  {
   "cell_type": "code",
   "execution_count": 9,
   "metadata": {},
   "outputs": [
    {
     "name": "stdout",
     "output_type": "stream",
     "text": [
      "count    23459.000000\n",
      "mean        60.064283\n",
      "std         34.878873\n",
      "min         12.000000\n",
      "25%         40.000000\n",
      "50%         52.000000\n",
      "75%         69.400000\n",
      "max        900.000000\n",
      "Name: total_area, dtype: float64\n",
      "count    23422.000000\n",
      "mean        59.450540\n",
      "std         31.000137\n",
      "min         12.000000\n",
      "25%         40.000000\n",
      "50%         52.000000\n",
      "75%         69.167500\n",
      "max        347.500000\n",
      "Name: total_area, dtype: float64\n"
     ]
    },
    {
     "data": {
      "image/png": "[encoded data removed]",
      "text/plain": [
       "<Figure size 432x288 with 1 Axes>"
      ]
     },
     "metadata": {
      "needs_background": "light"
     },
     "output_type": "display_data"
    }
   ],
   "source": [
    "# Рассмотрим аномалии в столбце общей площади\n",
    "#plt.boxplot(df['total_area'])\n",
    "print(df['total_area'].describe())\n",
    "# Удалим строки с аномально высокими значениями общей площади\n",
    "df = df.loc[df['total_area'] < 350]\n",
    "plt.boxplot(df['total_area'])\n",
    "print(df['total_area'].describe())\n"
   ]
  },
  {
   "cell_type": "code",
   "execution_count": 10,
   "metadata": {},
   "outputs": [
    {
     "name": "stdout",
     "output_type": "stream",
     "text": [
      "count    2.342200e+04\n",
      "mean     6.294528e+06\n",
      "std      7.866467e+06\n",
      "min      1.219000e+04\n",
      "25%      3.400000e+06\n",
      "50%      4.600000e+06\n",
      "75%      6.700000e+06\n",
      "max      3.300000e+08\n",
      "Name: last_price, dtype: float64\n",
      "count    2.276600e+04\n",
      "mean     5.398334e+06\n",
      "std      3.181750e+06\n",
      "min      1.219000e+04\n",
      "25%      3.400000e+06\n",
      "50%      4.550000e+06\n",
      "75%      6.500000e+06\n",
      "max      1.999900e+07\n",
      "Name: last_price, dtype: float64\n"
     ]
    },
    {
     "data": {
      "image/png": "[encoded data removed]",
      "text/plain": [
       "<Figure size 432x288 with 1 Axes>"
      ]
     },
     "metadata": {
      "needs_background": "light"
     },
     "output_type": "display_data"
    }
   ],
   "source": [
    "# Рассмотрим аномалии в столбце общей стоимости\n",
    "#plt.boxplot(df['last_price'])\n",
    "print(df['last_price'].describe())\n",
    "# Удалим строки с аномально высокими значениями цены\n",
    "df = df.loc[df['last_price'] < 20000000]\n",
    "plt.boxplot(df['last_price'])\n",
    "print(df['last_price'].describe())\n"
   ]
  },
  {
   "cell_type": "code",
   "execution_count": 11,
   "metadata": {},
   "outputs": [
    {
     "name": "stdout",
     "output_type": "stream",
     "text": [
      "count    22757.000000\n",
      "mean         2.005581\n",
      "std          0.974862\n",
      "min          0.000000\n",
      "25%          1.000000\n",
      "50%          2.000000\n",
      "75%          3.000000\n",
      "max          7.000000\n",
      "Name: rooms, dtype: float64\n"
     ]
    },
    {
     "data": {
      "image/png": "[encoded data removed]",
      "text/plain": [
       "<Figure size 432x288 with 1 Axes>"
      ]
     },
     "metadata": {
      "needs_background": "light"
     },
     "output_type": "display_data"
    }
   ],
   "source": [
    "# Рассмотрим аномалии в столбце колличества комнат\n",
    "plt.boxplot(df['rooms'])\n",
    "#print(df['rooms'].describe())\n",
    "# Удалим строки с аномально высокими значениями комнат\n",
    "df = df.loc[df['rooms'] < 8]\n",
    "plt.boxplot(df['rooms'])\n",
    "print(df['rooms'].describe())"
   ]
  },
  {
   "cell_type": "markdown",
   "metadata": {},
   "source": [
    "### Добавьте в таблицу новые столбцы со следующими параметрами: \n",
    "* цена одного квадратного метра; \n",
    "* день недели публикации объявления (0 — понедельник, 1 — вторник и так далее); \n",
    "* месяц публикации объявления; год публикации объявления; \n",
    "* тип этажа квартиры (значения — «первый», «последний», «другой»); \n",
    "* расстояние до центра города в километрах (переведите из м в км и округлите до целых значений)."
   ]
  },
  {
   "cell_type": "code",
   "execution_count": 12,
   "metadata": {},
   "outputs": [],
   "source": [
    "# Цена одного квадратного метра\n",
    "df['one_metr'] = (df['last_price'] / df['total_area'])\n",
    "# Приведем к целому числу\n",
    "df['one_metr'] = df['one_metr'].astype(int)\n",
    "\n",
    "# День недели публикации объявления (0 — понедельник, 1 — вторник и так далее)\n",
    "df['weekday'] = pd.DatetimeIndex(df['first_day_exposition']).weekday\n",
    "\n",
    "# Месяц публикации объявления\n",
    "df['month'] = pd.DatetimeIndex(df['first_day_exposition']).month\n",
    "\n",
    "# Год публикации объявления\n",
    "df['year'] = pd.DatetimeIndex(df['first_day_exposition']).year\n",
    "\n",
    "# Тип этажа квартиры (значения — «первый», «последний», «другой»)\n",
    "def floor_type(ind):\n",
    "    if ind['floor'] == 1:\n",
    "      return 'первый'\n",
    "    elif ind['floor'] == ind['floors_total']:\n",
    "      return 'последний'\n",
    "    else:\n",
    "      return 'другой'  \n",
    "df['floor_type'] = df.apply(floor_type, axis=1)\n",
    "\n",
    "# Расстояние до центра города в километрах (переведите из м в км и округлите до целых значений)\n",
    "df['cityCenters_km'] = (df['cityCenters_nearest'] / 1000).round(0)"
   ]
  },
  {
   "cell_type": "markdown",
   "metadata": {},
   "source": [
    "###  Проведите исследовательский анализ данных:"
   ]
  },
  {
   "cell_type": "markdown",
   "metadata": {},
   "source": [
    "#### Изучите следующие параметры объектов:\n",
    "* общая площадь;\n",
    "* жилая площадь;\n",
    "* площадь кухни;\n",
    "* цена объекта;\n",
    "* количество комнат;\n",
    "* высота потолков;\n",
    "* этаж квартиры;\n",
    "* тип этажа квартиры («первый», «последний», «другой»);\n",
    "* общее количество этажей в доме;\n",
    "* расстояние до центра города в метрах;\n",
    "* расстояние до ближайшего аэропорта;\n",
    "* расстояние до ближайшего парка;\n",
    "* день и месяц публикации объявления.\n",
    "\n",
    "Постройте отдельные гистограммы для каждого из этих параметров. Опишите все ваши наблюдения по параметрам в ячейке с типом markdown."
   ]
  },
  {
   "cell_type": "code",
   "execution_count": 13,
   "metadata": {
    "scrolled": false
   },
   "outputs": [
    {
     "data": {
      "image/png": "[encoded data removed]",
      "text/plain": [
       "<Figure size 432x288 with 1 Axes>"
      ]
     },
     "metadata": {
      "needs_background": "light"
     },
     "output_type": "display_data"
    },
    {
     "name": "stdout",
     "output_type": "stream",
     "text": [
      "count    22757.000000\n",
      "mean        56.527173\n",
      "std         24.303386\n",
      "min         12.000000\n",
      "25%         40.000000\n",
      "50%         51.000000\n",
      "75%         67.000000\n",
      "max        320.000000\n",
      "Name: total_area, dtype: float64\n"
     ]
    }
   ],
   "source": [
    "# общая площадь\n",
    "plt.hist(df['total_area'], bins=50, range=(10,250))\n",
    "plt.title('Площадь квартир')\n",
    "plt.xlabel('Квадратные метры')\n",
    "plt.ylabel('Количество квартир')\n",
    "plt.show()\n",
    "print(df['total_area'].describe())"
   ]
  },
  {
   "cell_type": "code",
   "execution_count": 14,
   "metadata": {},
   "outputs": [
    {
     "data": {
      "image/png": "[encoded data removed]",
      "text/plain": [
       "<Figure size 432x288 with 1 Axes>"
      ]
     },
     "metadata": {
      "needs_background": "light"
     },
     "output_type": "display_data"
    },
    {
     "name": "stdout",
     "output_type": "stream",
     "text": [
      "count    22757.000000\n",
      "mean        32.431836\n",
      "std         16.303464\n",
      "min          2.000000\n",
      "25%         18.800000\n",
      "50%         30.000000\n",
      "75%         41.000000\n",
      "max        190.000000\n",
      "Name: living_area, dtype: float64\n"
     ]
    }
   ],
   "source": [
    "# жилая площадь\n",
    "plt.hist(df['living_area'], bins=50, range=(10,150))\n",
    "plt.title('Площадь жилой зоны')\n",
    "plt.xlabel('Квадратные метры')\n",
    "plt.ylabel('Количество квартир')\n",
    "plt.show()\n",
    "print(df['living_area'].describe())"
   ]
  },
  {
   "cell_type": "code",
   "execution_count": 15,
   "metadata": {},
   "outputs": [
    {
     "data": {
      "image/png": "[encoded data removed]",
      "text/plain": [
       "<Figure size 432x288 with 1 Axes>"
      ]
     },
     "metadata": {
      "needs_background": "light"
     },
     "output_type": "display_data"
    },
    {
     "name": "stdout",
     "output_type": "stream",
     "text": [
      "count    22757.000000\n",
      "mean         9.993312\n",
      "std          4.685544\n",
      "min          1.300000\n",
      "25%          7.000000\n",
      "50%          9.000000\n",
      "75%         11.500000\n",
      "max        100.700000\n",
      "Name: kitchen_area, dtype: float64\n"
     ]
    }
   ],
   "source": [
    "# площадь кухни\n",
    "plt.hist(df['kitchen_area'], bins=50, range=(10,40))\n",
    "plt.title('Площадь кухонь')\n",
    "plt.xlabel('Квадратные метры')\n",
    "plt.ylabel('Количество квартир')\n",
    "plt.show()\n",
    "print(df['kitchen_area'].describe())"
   ]
  },
  {
   "cell_type": "code",
   "execution_count": 16,
   "metadata": {},
   "outputs": [
    {
     "data": {
      "image/png": "[encoded data removed]",
      "text/plain": [
       "<Figure size 432x288 with 1 Axes>"
      ]
     },
     "metadata": {
      "needs_background": "light"
     },
     "output_type": "display_data"
    }
   ],
   "source": [
    "# цена объекта\n",
    "plt.hist(df['last_price'], bins=100, range=(10,40000000))\n",
    "plt.title('Цена объекта')\n",
    "plt.xlabel('Миллионы рублей')\n",
    "plt.ylabel('Количество квартир')\n",
    "plt.show()"
   ]
  },
  {
   "cell_type": "markdown",
   "metadata": {},
   "source": [
    "##### Вывод\n",
    "\n",
    "Площади жилых зон и кухонь имеют зависимость от размера квартиры.\n",
    "В основном квартиры имеют размеры от 41 до 71 метров. Пик приходится на 62 метра. Так же мы видим выбросы с огромной площадью, похожей больше на дом. В данном исследовании мы будем их игнорировать.\n",
    "\n",
    "Цена объекта сильно зависит от общей площади."
   ]
  },
  {
   "cell_type": "code",
   "execution_count": 17,
   "metadata": {},
   "outputs": [
    {
     "data": {
      "image/png": "[encoded data removed]",
      "text/plain": [
       "<Figure size 432x288 with 1 Axes>"
      ]
     },
     "metadata": {
      "needs_background": "light"
     },
     "output_type": "display_data"
    },
    {
     "name": "stdout",
     "output_type": "stream",
     "text": [
      "count    22757.000000\n",
      "mean        32.431836\n",
      "std         16.303464\n",
      "min          2.000000\n",
      "25%         18.800000\n",
      "50%         30.000000\n",
      "75%         41.000000\n",
      "max        190.000000\n",
      "Name: living_area, dtype: float64\n"
     ]
    }
   ],
   "source": [
    "# Колличество комнат\n",
    "plt.hist(df['rooms'], bins=7, range=(0,7))\n",
    "plt.title('Колличество комнат')\n",
    "plt.xlabel('Колличество комнат')\n",
    "plt.ylabel('Количество квартир')\n",
    "plt.show()\n",
    "print(df['living_area'].describe())"
   ]
  },
  {
   "cell_type": "code",
   "execution_count": 18,
   "metadata": {},
   "outputs": [
    {
     "data": {
      "image/png": "[encoded data removed]",
      "text/plain": [
       "<Figure size 432x288 with 1 Axes>"
      ]
     },
     "metadata": {
      "needs_background": "light"
     },
     "output_type": "display_data"
    },
    {
     "name": "stdout",
     "output_type": "stream",
     "text": [
      "count    22757.000000\n",
      "mean         2.682684\n",
      "std          0.185598\n",
      "min          2.200000\n",
      "25%          2.600000\n",
      "50%          2.650000\n",
      "75%          2.700000\n",
      "max          3.980000\n",
      "Name: ceiling_height, dtype: float64\n"
     ]
    }
   ],
   "source": [
    "# Высота потолков\n",
    "plt.hist(df['ceiling_height'], bins=10, range=(2.3,4))\n",
    "plt.title('Высота потолков')\n",
    "plt.xlabel('Метры')\n",
    "plt.ylabel('Количество квартир')\n",
    "plt.show()\n",
    "print(df['ceiling_height'].describe())"
   ]
  },
  {
   "cell_type": "markdown",
   "metadata": {},
   "source": [
    "##### Вывод\n",
    "В основном в квартираз 1-3 комнаты, самый частый показатель 2.6. Потолки тоже обычно стандартные 2.6 - 2.7 метра, так же наблюдаем большое число 3х метровых поталков, вероятно присуще исторической застройке. "
   ]
  },
  {
   "cell_type": "code",
   "execution_count": 19,
   "metadata": {},
   "outputs": [
    {
     "data": {
      "image/png": "[encoded data removed]",
      "text/plain": [
       "<Figure size 432x288 with 1 Axes>"
      ]
     },
     "metadata": {
      "needs_background": "light"
     },
     "output_type": "display_data"
    },
    {
     "name": "stdout",
     "output_type": "stream",
     "text": [
      "count    22757.000000\n",
      "mean         9.993312\n",
      "std          4.685544\n",
      "min          1.300000\n",
      "25%          7.000000\n",
      "50%          9.000000\n",
      "75%         11.500000\n",
      "max        100.700000\n",
      "Name: kitchen_area, dtype: float64\n"
     ]
    }
   ],
   "source": [
    "# Тип этажа\n",
    "plt.hist(df['floor_type'], bins=3, range=(0,3))\n",
    "plt.title('Тип этажа')\n",
    "plt.ylabel('Количество квартир')\n",
    "plt.show()\n",
    "print(df['kitchen_area'].describe())"
   ]
  },
  {
   "cell_type": "code",
   "execution_count": 20,
   "metadata": {},
   "outputs": [
    {
     "data": {
      "image/png": "[encoded data removed]",
      "text/plain": [
       "<Figure size 432x288 with 1 Axes>"
      ]
     },
     "metadata": {
      "needs_background": "light"
     },
     "output_type": "display_data"
    },
    {
     "name": "stdout",
     "output_type": "stream",
     "text": [
      "count    22757.000000\n",
      "mean         9.993312\n",
      "std          4.685544\n",
      "min          1.300000\n",
      "25%          7.000000\n",
      "50%          9.000000\n",
      "75%         11.500000\n",
      "max        100.700000\n",
      "Name: kitchen_area, dtype: float64\n"
     ]
    }
   ],
   "source": [
    "# Этаж\n",
    "plt.hist(df['floor'], bins=30, range=(0,30))\n",
    "plt.title('Этаж квартиры')\n",
    "plt.xlabel('Этаж')\n",
    "plt.ylabel('Количество квартир')\n",
    "plt.show()\n",
    "print(df['kitchen_area'].describe())"
   ]
  },
  {
   "cell_type": "code",
   "execution_count": 21,
   "metadata": {},
   "outputs": [
    {
     "data": {
      "image/png": "[encoded data removed]",
      "text/plain": [
       "<Figure size 432x288 with 1 Axes>"
      ]
     },
     "metadata": {
      "needs_background": "light"
     },
     "output_type": "display_data"
    },
    {
     "name": "stdout",
     "output_type": "stream",
     "text": [
      "count    22757.000000\n",
      "mean         9.993312\n",
      "std          4.685544\n",
      "min          1.300000\n",
      "25%          7.000000\n",
      "50%          9.000000\n",
      "75%         11.500000\n",
      "max        100.700000\n",
      "Name: kitchen_area, dtype: float64\n"
     ]
    }
   ],
   "source": [
    "# Общее колличество этажей в доме\n",
    "plt.hist(df['floors_total'], bins=30, range=(0,30))\n",
    "plt.title('Общее колличество этажей в доме')\n",
    "plt.xlabel('Этажи')\n",
    "plt.ylabel('Количество квартир')\n",
    "plt.show()\n",
    "print(df['kitchen_area'].describe())"
   ]
  },
  {
   "cell_type": "markdown",
   "metadata": {},
   "source": [
    "##### Вывод\n",
    "\n",
    "В основном люди предпочитают квартиры на этажаъ не выше 10, из данных можно сделать вывод, что город довольно низко застроен."
   ]
  },
  {
   "cell_type": "code",
   "execution_count": 22,
   "metadata": {},
   "outputs": [
    {
     "data": {
      "image/png": "[encoded data removed]",
      "text/plain": [
       "<Figure size 432x288 with 1 Axes>"
      ]
     },
     "metadata": {
      "needs_background": "light"
     },
     "output_type": "display_data"
    },
    {
     "name": "stdout",
     "output_type": "stream",
     "text": [
      "count    22757.000000\n",
      "mean         9.993312\n",
      "std          4.685544\n",
      "min          1.300000\n",
      "25%          7.000000\n",
      "50%          9.000000\n",
      "75%         11.500000\n",
      "max        100.700000\n",
      "Name: kitchen_area, dtype: float64\n"
     ]
    }
   ],
   "source": [
    "# Расстояние до центра города в метрах\n",
    "plt.hist(df['cityCenters_nearest'], bins=30, range=(0,30000))\n",
    "plt.title('Расстояние до центра города в метрах')\n",
    "plt.xlabel('Метры')\n",
    "plt.ylabel('Количество квартир')\n",
    "plt.show()\n",
    "print(df['kitchen_area'].describe())"
   ]
  },
  {
   "cell_type": "code",
   "execution_count": 23,
   "metadata": {},
   "outputs": [
    {
     "data": {
      "image/png": "[encoded data removed]",
      "text/plain": [
       "<Figure size 432x288 with 1 Axes>"
      ]
     },
     "metadata": {
      "needs_background": "light"
     },
     "output_type": "display_data"
    },
    {
     "name": "stdout",
     "output_type": "stream",
     "text": [
      "count    22757.000000\n",
      "mean         9.993312\n",
      "std          4.685544\n",
      "min          1.300000\n",
      "25%          7.000000\n",
      "50%          9.000000\n",
      "75%         11.500000\n",
      "max        100.700000\n",
      "Name: kitchen_area, dtype: float64\n"
     ]
    }
   ],
   "source": [
    "# Расстояние до ближайшего аэропорта\n",
    "plt.hist(df['airports_nearest'], bins=50, range=(0,70000))\n",
    "plt.title('Расстояние до ближайшего аэропорта')\n",
    "plt.xlabel('Метры')\n",
    "plt.ylabel('Количество квартир')\n",
    "plt.show()\n",
    "print(df['kitchen_area'].describe())"
   ]
  },
  {
   "cell_type": "code",
   "execution_count": 24,
   "metadata": {},
   "outputs": [
    {
     "data": {
      "image/png": "[encoded data removed]",
      "text/plain": [
       "<Figure size 432x288 with 1 Axes>"
      ]
     },
     "metadata": {
      "needs_background": "light"
     },
     "output_type": "display_data"
    },
    {
     "name": "stdout",
     "output_type": "stream",
     "text": [
      "count    22757.000000\n",
      "mean         9.993312\n",
      "std          4.685544\n",
      "min          1.300000\n",
      "25%          7.000000\n",
      "50%          9.000000\n",
      "75%         11.500000\n",
      "max        100.700000\n",
      "Name: kitchen_area, dtype: float64\n"
     ]
    }
   ],
   "source": [
    "# Расстояние до ближайшего парка\n",
    "plt.hist(df['parks_nearest'], bins=30, range=(0,1500))\n",
    "plt.title('Расстояние до ближайшего парка')\n",
    "plt.xlabel('Метры')\n",
    "plt.ylabel('Количество квартир')\n",
    "plt.show()\n",
    "print(df['kitchen_area'].describe())"
   ]
  },
  {
   "cell_type": "markdown",
   "metadata": {},
   "source": [
    "##### Вывод\n",
    "Основная часть квартир расположена в 20 километровой зоне от центра города.\n",
    "До аэропорта жителям нужно проехать от 10 до 50 км, распределение достаточно широкое, можно предположить, что в городе один аэропорт.\n",
    "Парков много, практически каждый житель найдет ближайший парк в пределах 700 метров от своего дома."
   ]
  },
  {
   "cell_type": "markdown",
   "metadata": {},
   "source": [
    "#### Изучите, как быстро продавались квартиры"
   ]
  },
  {
   "cell_type": "code",
   "execution_count": 25,
   "metadata": {
    "scrolled": false
   },
   "outputs": [
    {
     "data": {
      "image/png": "[encoded data removed]",
      "text/plain": [
       "<Figure size 432x288 with 1 Axes>"
      ]
     },
     "metadata": {
      "needs_background": "light"
     },
     "output_type": "display_data"
    },
    {
     "name": "stdout",
     "output_type": "stream",
     "text": [
      "count    19812.000000\n",
      "mean       177.524076\n",
      "std        216.361358\n",
      "min          1.000000\n",
      "25%         44.000000\n",
      "50%         93.000000\n",
      "75%        226.000000\n",
      "max       1580.000000\n",
      "Name: days_exposition, dtype: float64\n",
      "Среднее время прожаи квартир: 178 Медиана срока продажи: 93\n"
     ]
    }
   ],
   "source": [
    "# Срок продажи квартиры\n",
    "plt.hist(df['days_exposition'], bins=100, range=(0,400))\n",
    "plt.title('Срок продажи квартиры')\n",
    "plt.xlabel('Дни')\n",
    "plt.ylabel('Количество квартир')\n",
    "plt.show()\n",
    "print(df['days_exposition'].describe())\n",
    "mean = round(df['days_exposition'].mean())\n",
    "median = round(df['days_exposition'].median())\n",
    "print(f'Среднее время прожаи квартир: {mean} Медиана срока продажи: {median}')"
   ]
  },
  {
   "cell_type": "markdown",
   "metadata": {},
   "source": [
    "##### Вывод\n",
    "Среднее время прожаи квартир: 178 Медиана срока продажи: 93\n",
    "Есть два явных пика продаж квартир, находятся в конце второго месяца активной продажи."
   ]
  },
  {
   "cell_type": "markdown",
   "metadata": {},
   "source": [
    "#### Какие факторы больше всего влияют на общую (полную) стоимость объекта?\n",
    "Изучите, зависит ли цена от:\n",
    "* общей площади;\n",
    "* жилой площади;\n",
    "* площади кухни;\n",
    "* количества комнат;\n",
    "* этажа, на котором расположена квартира (первый, последний, другой);\n",
    "* даты размещения (день недели, месяц, год).\n",
    "\n",
    "Постройте графики, которые покажут зависимость цены от указанных выше параметров. Для подготовки данных перед визуализацией вы можете использовать сводные таблицы."
   ]
  },
  {
   "cell_type": "code",
   "execution_count": 26,
   "metadata": {},
   "outputs": [
    {
     "data": {
      "image/png": "[encoded data removed]",
      "text/plain": [
       "<Figure size 360x360 with 1 Axes>"
      ]
     },
     "metadata": {
      "needs_background": "light"
     },
     "output_type": "display_data"
    }
   ],
   "source": [
    "(\n",
    "    df.pivot_table(index='total_area', values='last_price')\n",
    "    .plot(grid=True, style='o', figsize=(5, 5))\n",
    ")\n",
    "plt.title('Зависимость цены и площади')\n",
    "plt.xlabel('Метры квадратные')\n",
    "plt.ylabel('Стоимость')\n",
    "plt.show()"
   ]
  },
  {
   "cell_type": "code",
   "execution_count": 27,
   "metadata": {},
   "outputs": [
    {
     "data": {
      "image/png": "[encoded data removed]",
      "text/plain": [
       "<Figure size 360x360 with 1 Axes>"
      ]
     },
     "metadata": {
      "needs_background": "light"
     },
     "output_type": "display_data"
    },
    {
     "name": "stdout",
     "output_type": "stream",
     "text": [
      "Корреляция цены и жилой площади:\n",
      "             last_price  living_area\n",
      "last_price     1.000000     0.730575\n",
      "living_area    0.730575     1.000000\n"
     ]
    }
   ],
   "source": [
    "(\n",
    "    df.pivot_table(index='living_area', values='last_price')\n",
    "    .plot(grid=True, style='o', figsize=(5, 5))\n",
    ")\n",
    "plt.title('Корреляция цены и жилой площади')\n",
    "plt.xlabel('Метры квадратные')\n",
    "plt.ylabel('Стоимость')\n",
    "plt.show()\n",
    "print('Корреляция цены и жилой площади:')\n",
    "print(df.pivot_table(index='floor', values=['living_area', 'last_price']).corr())"
   ]
  },
  {
   "cell_type": "code",
   "execution_count": 28,
   "metadata": {},
   "outputs": [
    {
     "data": {
      "image/png": "[encoded data removed]",
      "text/plain": [
       "<Figure size 360x360 with 1 Axes>"
      ]
     },
     "metadata": {
      "needs_background": "light"
     },
     "output_type": "display_data"
    },
    {
     "name": "stdout",
     "output_type": "stream",
     "text": [
      "Корреляция цены и площади кухни:\n",
      "              kitchen_area  last_price\n",
      "kitchen_area      1.000000    0.490784\n",
      "last_price        0.490784    1.000000\n"
     ]
    }
   ],
   "source": [
    "(\n",
    "    df.pivot_table(index='kitchen_area', values='last_price')\n",
    "    .plot(grid=True, style='o', figsize=(5, 5))\n",
    ")\n",
    "plt.title('Корреляция цены и площади кухни')\n",
    "plt.xlabel('Метры квадратные')\n",
    "plt.ylabel('Стоимость')\n",
    "plt.show()\n",
    "print('Корреляция цены и площади кухни:')\n",
    "print(df.pivot_table(index='floor', values=['kitchen_area', 'last_price']).corr())"
   ]
  },
  {
   "cell_type": "code",
   "execution_count": 29,
   "metadata": {},
   "outputs": [
    {
     "data": {
      "image/png": "[encoded data removed]",
      "text/plain": [
       "<Figure size 360x360 with 1 Axes>"
      ]
     },
     "metadata": {
      "needs_background": "light"
     },
     "output_type": "display_data"
    },
    {
     "name": "stdout",
     "output_type": "stream",
     "text": [
      "Корреляция цены и колличества комнат:\n",
      "            last_price     rooms\n",
      "last_price    1.000000  0.577411\n",
      "rooms         0.577411  1.000000\n"
     ]
    }
   ],
   "source": [
    "(\n",
    "    df.pivot_table(index='rooms', values='last_price')\n",
    "    .plot(grid=True, style='o-', figsize=(5, 5))\n",
    ")\n",
    "plt.title('Корреляция цены и колличества комнат')\n",
    "plt.xlabel('Колличество комнат')\n",
    "plt.ylabel('Стоимость')\n",
    "plt.show()\n",
    "print('Корреляция цены и колличества комнат:')\n",
    "print(df.pivot_table(index='floor', values=['rooms', 'last_price']).corr())"
   ]
  },
  {
   "cell_type": "code",
   "execution_count": 30,
   "metadata": {},
   "outputs": [
    {
     "data": {
      "image/png": "[encoded data removed]",
      "text/plain": [
       "<Figure size 360x360 with 1 Axes>"
      ]
     },
     "metadata": {
      "needs_background": "light"
     },
     "output_type": "display_data"
    }
   ],
   "source": [
    "(\n",
    "    df.pivot_table(index='floor_type', values='last_price')\n",
    "    .plot(grid=True, style='o-', figsize=(5, 5))\n",
    ")\n",
    "plt.title('Зависимость цены и типа этажа')\n",
    "plt.xlabel('Тип этажа')\n",
    "plt.ylabel('Стоимость')\n",
    "plt.show()"
   ]
  },
  {
   "cell_type": "code",
   "execution_count": 31,
   "metadata": {},
   "outputs": [
    {
     "data": {
      "image/png": "[encoded data removed]",
      "text/plain": [
       "<Figure size 360x360 with 1 Axes>"
      ]
     },
     "metadata": {
      "needs_background": "light"
     },
     "output_type": "display_data"
    }
   ],
   "source": [
    "(\n",
    "    df.pivot_table(index='weekday', values='last_price')\n",
    "    .plot(grid=True, style='o-', figsize=(5, 5))\n",
    ")\n",
    "plt.title('Зависимость цены и дня недели')\n",
    "plt.xlabel('День недели')\n",
    "plt.ylabel('Стоимость')\n",
    "plt.show()"
   ]
  },
  {
   "cell_type": "code",
   "execution_count": 32,
   "metadata": {},
   "outputs": [
    {
     "data": {
      "image/png": "[encoded data removed]",
      "text/plain": [
       "<Figure size 360x360 with 1 Axes>"
      ]
     },
     "metadata": {
      "needs_background": "light"
     },
     "output_type": "display_data"
    }
   ],
   "source": [
    "(\n",
    "    df.pivot_table(index='month', values='last_price')\n",
    "    .plot(grid=True, style='o-', figsize=(5, 5))\n",
    ")\n",
    "plt.title('Зависимость цены и месяца')\n",
    "plt.xlabel('Месяц')\n",
    "plt.ylabel('Стоимость')\n",
    "plt.show()"
   ]
  },
  {
   "cell_type": "code",
   "execution_count": 33,
   "metadata": {},
   "outputs": [
    {
     "data": {
      "image/png": "[encoded data removed]",
      "text/plain": [
       "<Figure size 360x360 with 1 Axes>"
      ]
     },
     "metadata": {
      "needs_background": "light"
     },
     "output_type": "display_data"
    }
   ],
   "source": [
    "(\n",
    "    df.pivot_table(index='year', values='last_price')\n",
    "    .plot(grid=True, style='o-', figsize=(5, 5))\n",
    ")\n",
    "plt.title('Зависимость цены и месяца')\n",
    "plt.xlabel('Месяц')\n",
    "plt.ylabel('Стоимость')\n",
    "plt.show()"
   ]
  },
  {
   "cell_type": "code",
   "execution_count": 34,
   "metadata": {},
   "outputs": [
    {
     "data": {
      "image/png": "[encoded data removed]",
      "text/plain": [
       "<Figure size 360x360 with 1 Axes>"
      ]
     },
     "metadata": {
      "needs_background": "light"
     },
     "output_type": "display_data"
    }
   ],
   "source": [
    "(\n",
    "    df.pivot_table(index='year', values='one_metr')\n",
    "    .plot(grid=True, style='o-', figsize=(5, 5))\n",
    ")\n",
    "plt.title('Зависимость цены одного метра и года')\n",
    "plt.xlabel('Год')\n",
    "plt.ylabel('Стоимость метра')\n",
    "plt.show()"
   ]
  },
  {
   "cell_type": "markdown",
   "metadata": {},
   "source": [
    "##### Вывод\n",
    "Больше всего на цену влияет общая площадь квартиры. Жилая и кухонная площади тоже имеют вес, но это скорее связанно с общим размерами квартир.\n",
    "Колличество комнат логично увеличивает и цену. Есть некоторая аномалия когда комна 8-12, можно предположить, что это дома, расположенные далеко от центра города.\n",
    "Этажность особо не влияет на цену, за исключением первого этажа, там цены существенно снижены.\n",
    "Самые дорогие квартиры выкладывались по будним дням, в объявлениях, размещенных в пятницу и в выходные цена сильно ниже.\n",
    "Так же мы видим провал в цене в июне и 2 пика вымокой цены в апреле и н\n",
    "сентябре.\n",
    "Зависимость цены от года и цены метра. После общего падения цен в 2015 году, наблюдаем плавное подоражание всех объектов.\n",
    "Скачек цен в 2019 году, объясняем подорожанием метра недвижимости."
   ]
  },
  {
   "cell_type": "markdown",
   "metadata": {},
   "source": [
    "#### Посчитайте среднюю цену одного квадратного метра в 10 населённых пунктах с наибольшим числом объявлений. Выделите населённые пункты с самой высокой и низкой стоимостью квадратного метра. "
   ]
  },
  {
   "cell_type": "code",
   "execution_count": 35,
   "metadata": {},
   "outputs": [
    {
     "name": "stdout",
     "output_type": "stream",
     "text": [
      "                   one_metr\n",
      "locality_name              \n",
      "Выборг                58307\n",
      "Всеволожск            65789\n",
      "Гатчина               67860\n",
      "Колпино               74722\n",
      "поселок Шушары        76829\n",
      "поселок Мурино        86058\n",
      "поселок Парголово     91642\n",
      "деревня Кудрово       91860\n",
      "Пушкин                99650\n",
      "Санкт-Петербург      103448\n"
     ]
    },
    {
     "data": {
      "image/png": "[encoded data removed]",
      "text/plain": [
       "<Figure size 432x288 with 1 Axes>"
      ]
     },
     "metadata": {
      "needs_background": "light"
     },
     "output_type": "display_data"
    }
   ],
   "source": [
    "location_top = df['locality_name'].value_counts().head(10)\n",
    "location_top_median = df.query('locality_name in (@location_top.index)').pivot_table(values='one_metr', index='locality_name', aggfunc='median')\n",
    "location_top_median = location_top_median.astype(int)\n",
    "location_top_median=location_top_median.sort_values('one_metr')\n",
    "print(location_top_median)\n",
    "location_top_median.plot.barh(rot=0)\n",
    "plt.title('Топ 10 городов по цене за кв. метр')\n",
    "plt.show()"
   ]
  },
  {
   "cell_type": "code",
   "execution_count": 36,
   "metadata": {},
   "outputs": [
    {
     "name": "stdout",
     "output_type": "stream",
     "text": [
      "                                       one_metr\n",
      "locality_name                                  \n",
      "поселок Левашово                          96997\n",
      "деревня Старое Хинколово                  76470\n",
      "деревня Хапо-Ое                           55882\n",
      "деревня Русско                            53125\n",
      "поселок городского типа Большая Ижора     51578\n",
      "деревня Снегиревка                        48575\n",
      "село Никольское                           36697\n",
      "деревня Тойворово                         33009\n",
      "поселок Мыза-Ивановка                     30694\n",
      "деревня Котлы                             24886\n"
     ]
    },
    {
     "data": {
      "image/png": "[encoded data removed]",
      "text/plain": [
       "<Figure size 432x288 with 1 Axes>"
      ]
     },
     "metadata": {
      "needs_background": "light"
     },
     "output_type": "display_data"
    }
   ],
   "source": [
    "location_notop = df['locality_name'].value_counts().tail(10)\n",
    "location_notop_median = df.query('locality_name in (@location_notop.index)').pivot_table(values='one_metr', index='locality_name', aggfunc='median')\n",
    "location_notop_median = location_notop_median.astype(int)\n",
    "location_notop_median = location_notop_median.sort_values('one_metr', ascending=False)\n",
    "print(location_notop_median)\n",
    "location_notop_median.plot.barh(rot=0)\n",
    "plt.title('Топ 10 самый дешевых городов по цене за кв. метр')\n",
    "plt.show()"
   ]
  },
  {
   "cell_type": "markdown",
   "metadata": {},
   "source": [
    "#### Теперь выделите квартиры в Санкт-Петербурге с помощью столбца locality_name и вычислите среднюю цену каждого километра. Опишите, как стоимость объектов зависит от расстояния до центра города."
   ]
  },
  {
   "cell_type": "code",
   "execution_count": 37,
   "metadata": {
    "scrolled": false
   },
   "outputs": [
    {
     "data": {
      "image/png": "[encoded data removed]",
      "text/plain": [
       "<Figure size 504x360 with 1 Axes>"
      ]
     },
     "metadata": {
      "needs_background": "light"
     },
     "output_type": "display_data"
    }
   ],
   "source": [
    "one_km = df.loc[df['locality_name'] == 'Санкт-Петербург']\n",
    "one_km.pivot_table(index='cityCenters_km', values='last_price').plot(grid=True, style='o-', figsize=(7, 5))\n",
    "plt.title('Зависимость стоимоти объекта и отдаленности от цента')\n",
    "plt.xlabel('Расстояние до центра города')\n",
    "plt.ylabel('Стоимость')\n",
    "plt.show()\n",
    "                                                                                                                               "
   ]
  },
  {
   "cell_type": "markdown",
   "metadata": {},
   "source": [
    "##### Вывод\n",
    "Квартиры в самом центре города сильно дороже остальных, есть интересная зависимость, на расстоянии 700 метров от рассчетного центра квартиры несколько дорожают, вероятно связано с исторической застройкой. Так же мы видим пик роста в районе 26-27 км."
   ]
  },
  {
   "cell_type": "markdown",
   "metadata": {},
   "source": [
    "###  Общий вывод"
   ]
  },
  {
   "cell_type": "markdown",
   "metadata": {},
   "source": [
    "**Общие выводы**\n",
    "\n",
    "* Площади жилых зон и кухонь имеют зависимость от размера квартиры. В основном квартиры имеют размеры от 40 до 67 метров. Пик приходится на 45 метра. Так же мы видим выбросы с огромной площадью, похожей больше на дом. В данном исследовании мы будем их игнорировать.\n",
    "\n",
    "* Цена объекта сильно зависит от общей площади.\n",
    "\n",
    "* В основном в квартираз 1-3 комнаты, самый частый показатель 2.6. Потолки тоже обычно стандартные 2.6 - 2.7 метра, так же наблюдаем большое число 3х метровых поталков, вероятно присуще исторической застройке. \n",
    "\n",
    "* В основном люди предпочитают квартиры на этажаъ не выше 10, из данных можно сделать вывод, что город довольно низко застроен.\n",
    "\n",
    "* Основная часть квартир расположена в 20 километровой зоне от центра города. До аэропорта жителям нужно проехать от 10 до 50 км, распределение достаточно широкое, можно предположить, что в городе один аэропорт. Парков много, практически каждый житель найдет ближайший парк в пределах 700 метров от своего дома.\n",
    "\n",
    "**Сроки продаж**\n",
    "В основном квартиры продаются за 45 - 250 дней. \n",
    "Так же мы отмечаем всплеск продаж в первые дни после публикаций.\n",
    "\n",
    "Этажность особо не влияет на цену, за исключением первого этажа, там цены существенно снижены.\n",
    "Самые дорогие квартиры выкладывались по будним дням, в объявлениях, размещенных в пятницу и в выходные цена сильно ниже.\n",
    "Так же мы видим провал в цене в июне и 2 пика вымокой цены в апреле и н\n",
    "сентябре.\n",
    "Зависимость цены от года и цены метра. После общего падения цен в 2015 году, наблюдаем плавное подоражание всех объектов.\n",
    "Скачек цен в 2019 году, объясняем подорожанием метра недвижимости.\n",
    "\n",
    "**Зависимость стоимости**\n",
    "В основном стоимость квартир \n",
    "* привязана к ее площади, \n",
    "* колличество комнат не дает сильной кореляции, \n",
    "* этажи не имеют значения, кроме первного - он значительно дешевле.\n",
    "\n",
    "Самые дорогие квартиры(за квадратный метр) в Санкт-Петергубге - 103 448, самые дешевые в поселок Цвылево - 19 117."
   ]
  }
 ],
 "metadata": {
  "ExecuteTimeLog": [
   {
    "duration": 667,
    "start_time": "2022-08-26T17:50:12.847Z"
   },
   {
    "duration": 84,
    "start_time": "2022-08-26T17:50:29.704Z"
   },
   {
    "duration": 48,
    "start_time": "2022-08-26T17:50:50.213Z"
   },
   {
    "duration": 112,
    "start_time": "2022-08-26T17:50:55.530Z"
   },
   {
    "duration": 2377,
    "start_time": "2022-08-26T17:52:16.145Z"
   },
   {
    "duration": 54,
    "start_time": "2022-08-26T17:53:56.461Z"
   },
   {
    "duration": 1926,
    "start_time": "2022-08-26T17:54:45.109Z"
   },
   {
    "duration": 781,
    "start_time": "2022-08-27T11:03:11.121Z"
   },
   {
    "duration": 16,
    "start_time": "2022-08-27T11:10:43.364Z"
   },
   {
    "duration": 25,
    "start_time": "2022-08-27T11:16:30.490Z"
   },
   {
    "duration": 63,
    "start_time": "2022-08-27T11:17:50.242Z"
   },
   {
    "duration": 11,
    "start_time": "2022-08-27T11:18:24.233Z"
   },
   {
    "duration": 9,
    "start_time": "2022-08-27T11:20:07.601Z"
   },
   {
    "duration": 7,
    "start_time": "2022-08-27T11:20:12.461Z"
   },
   {
    "duration": 517,
    "start_time": "2022-08-27T11:22:17.540Z"
   },
   {
    "duration": 2229,
    "start_time": "2022-08-27T11:22:18.059Z"
   },
   {
    "duration": 15,
    "start_time": "2022-08-27T11:22:20.289Z"
   },
   {
    "duration": 6,
    "start_time": "2022-08-27T11:22:20.306Z"
   },
   {
    "duration": 4,
    "start_time": "2022-08-27T11:23:03.226Z"
   },
   {
    "duration": 70,
    "start_time": "2022-08-27T11:23:18.034Z"
   },
   {
    "duration": 10,
    "start_time": "2022-08-27T11:23:33.215Z"
   },
   {
    "duration": 10,
    "start_time": "2022-08-27T11:23:42.053Z"
   },
   {
    "duration": 481,
    "start_time": "2022-08-27T11:24:04.197Z"
   },
   {
    "duration": 2109,
    "start_time": "2022-08-27T11:24:04.680Z"
   },
   {
    "duration": 16,
    "start_time": "2022-08-27T11:24:06.791Z"
   },
   {
    "duration": 4,
    "start_time": "2022-08-27T11:24:06.810Z"
   },
   {
    "duration": 16,
    "start_time": "2022-08-27T11:24:06.815Z"
   },
   {
    "duration": 4,
    "start_time": "2022-08-27T11:24:21.392Z"
   },
   {
    "duration": 13,
    "start_time": "2022-08-27T11:29:57.401Z"
   },
   {
    "duration": 3,
    "start_time": "2022-08-27T11:32:32.541Z"
   },
   {
    "duration": 3,
    "start_time": "2022-08-27T11:32:41.379Z"
   },
   {
    "duration": 4,
    "start_time": "2022-08-27T11:32:56.639Z"
   },
   {
    "duration": 3,
    "start_time": "2022-08-27T11:33:07.790Z"
   },
   {
    "duration": 537,
    "start_time": "2022-08-27T11:33:13.823Z"
   },
   {
    "duration": 2067,
    "start_time": "2022-08-27T11:33:14.362Z"
   },
   {
    "duration": 16,
    "start_time": "2022-08-27T11:33:16.430Z"
   },
   {
    "duration": 4,
    "start_time": "2022-08-27T11:33:16.447Z"
   },
   {
    "duration": 10,
    "start_time": "2022-08-27T11:33:16.453Z"
   },
   {
    "duration": 6,
    "start_time": "2022-08-27T11:33:16.464Z"
   },
   {
    "duration": 69,
    "start_time": "2022-08-27T11:33:35.172Z"
   },
   {
    "duration": 3,
    "start_time": "2022-08-27T11:33:45.907Z"
   },
   {
    "duration": 20,
    "start_time": "2022-08-27T11:35:59.571Z"
   },
   {
    "duration": 5,
    "start_time": "2022-08-27T11:38:05.432Z"
   },
   {
    "duration": 6,
    "start_time": "2022-08-27T11:38:24.296Z"
   },
   {
    "duration": 5,
    "start_time": "2022-08-27T11:38:40.419Z"
   },
   {
    "duration": 7,
    "start_time": "2022-08-27T11:38:46.146Z"
   },
   {
    "duration": 50,
    "start_time": "2022-08-27T20:00:50.263Z"
   },
   {
    "duration": 6,
    "start_time": "2022-08-27T20:01:04.787Z"
   },
   {
    "duration": 7,
    "start_time": "2022-08-27T20:01:07.270Z"
   },
   {
    "duration": 6,
    "start_time": "2022-08-27T20:01:09.297Z"
   },
   {
    "duration": 6,
    "start_time": "2022-08-27T20:01:11.119Z"
   },
   {
    "duration": 6,
    "start_time": "2022-08-27T20:01:13.035Z"
   },
   {
    "duration": 607,
    "start_time": "2022-08-27T20:01:19.803Z"
   },
   {
    "duration": 2543,
    "start_time": "2022-08-27T20:01:20.412Z"
   },
   {
    "duration": 18,
    "start_time": "2022-08-27T20:01:22.957Z"
   },
   {
    "duration": 4,
    "start_time": "2022-08-27T20:01:22.977Z"
   },
   {
    "duration": 9,
    "start_time": "2022-08-27T20:01:22.983Z"
   },
   {
    "duration": 14,
    "start_time": "2022-08-27T20:01:22.993Z"
   },
   {
    "duration": 6,
    "start_time": "2022-08-27T20:02:31.446Z"
   },
   {
    "duration": 7,
    "start_time": "2022-08-27T20:03:24.248Z"
   },
   {
    "duration": 28,
    "start_time": "2022-08-27T20:06:49.802Z"
   },
   {
    "duration": 8,
    "start_time": "2022-08-27T20:08:06.016Z"
   },
   {
    "duration": 6,
    "start_time": "2022-08-27T20:08:57.860Z"
   },
   {
    "duration": 6,
    "start_time": "2022-08-27T20:09:08.970Z"
   },
   {
    "duration": 4,
    "start_time": "2022-08-27T20:09:21.318Z"
   },
   {
    "duration": 10,
    "start_time": "2022-08-27T20:12:47.969Z"
   },
   {
    "duration": 8,
    "start_time": "2022-08-27T20:13:18.667Z"
   },
   {
    "duration": 11,
    "start_time": "2022-08-27T20:16:02.192Z"
   },
   {
    "duration": 11,
    "start_time": "2022-08-27T20:16:29.990Z"
   },
   {
    "duration": 19,
    "start_time": "2022-08-27T20:33:30.547Z"
   },
   {
    "duration": 114,
    "start_time": "2022-08-27T20:35:38.970Z"
   },
   {
    "duration": 19,
    "start_time": "2022-08-27T20:35:50.035Z"
   },
   {
    "duration": 12,
    "start_time": "2022-08-27T20:41:41.405Z"
   },
   {
    "duration": 6,
    "start_time": "2022-08-27T20:42:48.363Z"
   },
   {
    "duration": 11,
    "start_time": "2022-08-27T20:42:53.400Z"
   },
   {
    "duration": 9,
    "start_time": "2022-08-27T20:43:04.928Z"
   },
   {
    "duration": 9,
    "start_time": "2022-08-27T20:43:25.440Z"
   },
   {
    "duration": 10,
    "start_time": "2022-08-27T20:43:31.193Z"
   },
   {
    "duration": 10,
    "start_time": "2022-08-27T20:44:00.532Z"
   },
   {
    "duration": 7,
    "start_time": "2022-08-27T20:44:05.388Z"
   },
   {
    "duration": 28,
    "start_time": "2022-08-27T20:45:05.346Z"
   },
   {
    "duration": 24,
    "start_time": "2022-08-27T20:45:27.930Z"
   },
   {
    "duration": 7,
    "start_time": "2022-08-27T20:45:42.998Z"
   },
   {
    "duration": 8,
    "start_time": "2022-08-27T20:45:46.965Z"
   },
   {
    "duration": 13,
    "start_time": "2022-08-27T20:48:51.966Z"
   },
   {
    "duration": 8,
    "start_time": "2022-08-27T20:48:55.251Z"
   },
   {
    "duration": 9,
    "start_time": "2022-08-27T20:49:09.503Z"
   },
   {
    "duration": 7,
    "start_time": "2022-08-27T20:50:54.875Z"
   },
   {
    "duration": 11,
    "start_time": "2022-08-27T20:51:58.507Z"
   },
   {
    "duration": 12,
    "start_time": "2022-08-27T20:52:14.252Z"
   },
   {
    "duration": 12,
    "start_time": "2022-08-27T20:52:19.402Z"
   },
   {
    "duration": 9,
    "start_time": "2022-08-27T20:52:22.633Z"
   },
   {
    "duration": 18,
    "start_time": "2022-08-27T20:52:35.399Z"
   },
   {
    "duration": 516,
    "start_time": "2022-08-27T20:52:55.926Z"
   },
   {
    "duration": 2287,
    "start_time": "2022-08-27T20:52:56.444Z"
   },
   {
    "duration": 16,
    "start_time": "2022-08-27T20:52:58.733Z"
   },
   {
    "duration": 3,
    "start_time": "2022-08-27T20:52:58.751Z"
   },
   {
    "duration": 5,
    "start_time": "2022-08-27T20:52:58.756Z"
   },
   {
    "duration": 12,
    "start_time": "2022-08-27T20:52:58.762Z"
   },
   {
    "duration": 17,
    "start_time": "2022-08-27T20:52:58.776Z"
   },
   {
    "duration": 17,
    "start_time": "2022-08-27T20:53:12.799Z"
   },
   {
    "duration": 16,
    "start_time": "2022-08-27T20:53:17.000Z"
   },
   {
    "duration": 18,
    "start_time": "2022-08-27T20:53:46.137Z"
   },
   {
    "duration": 4,
    "start_time": "2022-08-27T20:58:53.765Z"
   },
   {
    "duration": 10,
    "start_time": "2022-08-27T20:58:57.187Z"
   },
   {
    "duration": 7,
    "start_time": "2022-08-27T21:00:04.444Z"
   },
   {
    "duration": 21,
    "start_time": "2022-08-27T21:00:47.587Z"
   },
   {
    "duration": 5,
    "start_time": "2022-08-27T21:02:20.899Z"
   },
   {
    "duration": 8,
    "start_time": "2022-08-27T21:04:54.719Z"
   },
   {
    "duration": 7,
    "start_time": "2022-08-27T21:05:08.713Z"
   },
   {
    "duration": 77,
    "start_time": "2022-08-27T21:11:37.766Z"
   },
   {
    "duration": 8,
    "start_time": "2022-08-27T21:11:45.658Z"
   },
   {
    "duration": 8,
    "start_time": "2022-08-27T21:11:48.781Z"
   },
   {
    "duration": 10,
    "start_time": "2022-08-27T21:11:53.199Z"
   },
   {
    "duration": 16,
    "start_time": "2022-08-27T21:12:08.078Z"
   },
   {
    "duration": 7,
    "start_time": "2022-08-27T21:12:18.980Z"
   },
   {
    "duration": 7,
    "start_time": "2022-08-27T21:12:24.486Z"
   },
   {
    "duration": 7,
    "start_time": "2022-08-27T21:12:31.046Z"
   },
   {
    "duration": 15,
    "start_time": "2022-08-27T21:15:51.076Z"
   },
   {
    "duration": 545,
    "start_time": "2022-08-27T21:16:11.139Z"
   },
   {
    "duration": 2433,
    "start_time": "2022-08-27T21:16:11.686Z"
   },
   {
    "duration": 26,
    "start_time": "2022-08-27T21:16:14.122Z"
   },
   {
    "duration": 5,
    "start_time": "2022-08-27T21:16:14.149Z"
   },
   {
    "duration": 19,
    "start_time": "2022-08-27T21:16:14.156Z"
   },
   {
    "duration": 21,
    "start_time": "2022-08-27T21:16:14.178Z"
   },
   {
    "duration": 117,
    "start_time": "2022-08-27T21:16:14.201Z"
   },
   {
    "duration": 1,
    "start_time": "2022-08-27T21:16:14.320Z"
   },
   {
    "duration": 15,
    "start_time": "2022-08-27T21:16:36.163Z"
   },
   {
    "duration": 16,
    "start_time": "2022-08-27T21:16:44.038Z"
   },
   {
    "duration": 17,
    "start_time": "2022-08-27T21:17:17.713Z"
   },
   {
    "duration": 16,
    "start_time": "2022-08-27T21:17:45.299Z"
   },
   {
    "duration": 16,
    "start_time": "2022-08-27T21:18:41.327Z"
   },
   {
    "duration": 15,
    "start_time": "2022-08-27T21:18:46.916Z"
   },
   {
    "duration": 18,
    "start_time": "2022-08-27T21:18:52.457Z"
   },
   {
    "duration": 8,
    "start_time": "2022-08-27T21:18:56.390Z"
   },
   {
    "duration": 28,
    "start_time": "2022-08-27T21:22:13.528Z"
   },
   {
    "duration": 26,
    "start_time": "2022-08-27T21:23:01.571Z"
   },
   {
    "duration": 25,
    "start_time": "2022-08-27T21:23:09.052Z"
   },
   {
    "duration": 21,
    "start_time": "2022-08-27T21:24:29.883Z"
   },
   {
    "duration": 22,
    "start_time": "2022-08-27T21:24:43.220Z"
   },
   {
    "duration": 37,
    "start_time": "2022-08-27T21:25:05.463Z"
   },
   {
    "duration": 27,
    "start_time": "2022-08-27T21:25:21.880Z"
   },
   {
    "duration": 39,
    "start_time": "2022-08-27T21:27:53.950Z"
   },
   {
    "duration": 31,
    "start_time": "2022-08-27T21:28:11.905Z"
   },
   {
    "duration": 24,
    "start_time": "2022-08-27T21:28:17.557Z"
   },
   {
    "duration": 24,
    "start_time": "2022-08-27T21:28:52.256Z"
   },
   {
    "duration": 26,
    "start_time": "2022-08-27T21:29:07.686Z"
   },
   {
    "duration": 28,
    "start_time": "2022-08-27T21:30:40.092Z"
   },
   {
    "duration": 30,
    "start_time": "2022-08-27T21:30:49.505Z"
   },
   {
    "duration": 43,
    "start_time": "2022-08-27T21:31:02.371Z"
   },
   {
    "duration": 31,
    "start_time": "2022-08-27T21:31:20.720Z"
   },
   {
    "duration": 29,
    "start_time": "2022-08-27T21:31:26.394Z"
   },
   {
    "duration": 27,
    "start_time": "2022-08-27T21:31:35.856Z"
   },
   {
    "duration": 8,
    "start_time": "2022-08-27T21:52:00.179Z"
   },
   {
    "duration": 9,
    "start_time": "2022-08-27T21:52:04.072Z"
   },
   {
    "duration": 54,
    "start_time": "2022-09-02T08:54:48.030Z"
   },
   {
    "duration": 810,
    "start_time": "2022-09-02T08:55:00.264Z"
   },
   {
    "duration": 2693,
    "start_time": "2022-09-02T08:55:01.076Z"
   },
   {
    "duration": 101,
    "start_time": "2022-09-02T08:55:03.770Z"
   },
   {
    "duration": 5,
    "start_time": "2022-09-02T08:55:03.873Z"
   },
   {
    "duration": 9,
    "start_time": "2022-09-02T08:55:03.880Z"
   },
   {
    "duration": 87,
    "start_time": "2022-09-02T08:55:03.902Z"
   },
   {
    "duration": 0,
    "start_time": "2022-09-02T08:55:03.991Z"
   },
   {
    "duration": 0,
    "start_time": "2022-09-02T08:55:03.993Z"
   },
   {
    "duration": 30,
    "start_time": "2022-09-02T08:55:30.341Z"
   },
   {
    "duration": 32,
    "start_time": "2022-09-02T08:57:48.353Z"
   },
   {
    "duration": 8,
    "start_time": "2022-09-02T08:57:53.931Z"
   },
   {
    "duration": 31,
    "start_time": "2022-09-02T08:57:54.577Z"
   },
   {
    "duration": 19,
    "start_time": "2022-09-02T08:57:55.230Z"
   },
   {
    "duration": 288,
    "start_time": "2022-09-02T09:00:36.142Z"
   },
   {
    "duration": 256,
    "start_time": "2022-09-02T09:05:47.469Z"
   },
   {
    "duration": 311,
    "start_time": "2022-09-02T09:05:53.300Z"
   },
   {
    "duration": 78,
    "start_time": "2022-09-02T09:06:59.995Z"
   },
   {
    "duration": 10,
    "start_time": "2022-09-02T09:10:37.730Z"
   },
   {
    "duration": 912,
    "start_time": "2022-09-02T09:10:48.033Z"
   },
   {
    "duration": 308,
    "start_time": "2022-09-02T09:10:51.866Z"
   },
   {
    "duration": 472,
    "start_time": "2022-09-02T09:10:53.827Z"
   },
   {
    "duration": 392,
    "start_time": "2022-09-02T09:13:13.787Z"
   },
   {
    "duration": 537,
    "start_time": "2022-09-02T09:18:58.136Z"
   },
   {
    "duration": 541,
    "start_time": "2022-09-02T09:19:54.661Z"
   },
   {
    "duration": 546,
    "start_time": "2022-09-02T09:20:04.879Z"
   },
   {
    "duration": 614,
    "start_time": "2022-09-02T09:20:14.993Z"
   },
   {
    "duration": 498,
    "start_time": "2022-09-02T09:20:19.479Z"
   },
   {
    "duration": 532,
    "start_time": "2022-09-02T09:20:35.295Z"
   },
   {
    "duration": 665,
    "start_time": "2022-09-02T09:20:40.440Z"
   },
   {
    "duration": 578,
    "start_time": "2022-09-02T09:20:51.839Z"
   },
   {
    "duration": 594,
    "start_time": "2022-09-02T09:21:07.126Z"
   },
   {
    "duration": 570,
    "start_time": "2022-09-02T09:21:15.540Z"
   },
   {
    "duration": 676,
    "start_time": "2022-09-02T09:21:33.143Z"
   },
   {
    "duration": 280,
    "start_time": "2022-09-02T09:26:00.175Z"
   },
   {
    "duration": 265,
    "start_time": "2022-09-02T09:26:40.493Z"
   },
   {
    "duration": 319,
    "start_time": "2022-09-02T09:26:48.888Z"
   },
   {
    "duration": 973,
    "start_time": "2022-09-02T09:31:18.906Z"
   },
   {
    "duration": 142,
    "start_time": "2022-09-02T09:33:42.174Z"
   },
   {
    "duration": 164,
    "start_time": "2022-09-02T09:34:14.813Z"
   },
   {
    "duration": 178,
    "start_time": "2022-09-02T09:36:52.477Z"
   },
   {
    "duration": 174,
    "start_time": "2022-09-02T09:37:23.758Z"
   },
   {
    "duration": 183,
    "start_time": "2022-09-02T09:37:33.700Z"
   },
   {
    "duration": 164,
    "start_time": "2022-09-02T09:37:59.648Z"
   },
   {
    "duration": 171,
    "start_time": "2022-09-02T09:38:47.971Z"
   },
   {
    "duration": 173,
    "start_time": "2022-09-02T09:38:58.505Z"
   },
   {
    "duration": 164,
    "start_time": "2022-09-02T09:39:21.270Z"
   },
   {
    "duration": 244,
    "start_time": "2022-09-02T09:39:41.765Z"
   },
   {
    "duration": 360,
    "start_time": "2022-09-02T09:40:40.984Z"
   },
   {
    "duration": 34,
    "start_time": "2022-09-02T09:41:37.785Z"
   },
   {
    "duration": 179,
    "start_time": "2022-09-02T09:42:42.614Z"
   },
   {
    "duration": 579,
    "start_time": "2022-09-02T09:43:04.666Z"
   },
   {
    "duration": 2446,
    "start_time": "2022-09-02T09:43:05.247Z"
   },
   {
    "duration": 95,
    "start_time": "2022-09-02T09:43:07.695Z"
   },
   {
    "duration": 36,
    "start_time": "2022-09-02T09:43:07.793Z"
   },
   {
    "duration": 8,
    "start_time": "2022-09-02T09:43:07.830Z"
   },
   {
    "duration": 46,
    "start_time": "2022-09-02T09:43:07.839Z"
   },
   {
    "duration": 30,
    "start_time": "2022-09-02T09:43:07.887Z"
   },
   {
    "duration": 239,
    "start_time": "2022-09-02T09:43:07.919Z"
   },
   {
    "duration": 1045,
    "start_time": "2022-09-02T09:43:08.160Z"
   },
   {
    "duration": 328,
    "start_time": "2022-09-02T09:43:09.208Z"
   },
   {
    "duration": 492,
    "start_time": "2022-09-02T09:43:09.538Z"
   },
   {
    "duration": 596,
    "start_time": "2022-09-02T09:43:10.032Z"
   },
   {
    "duration": 287,
    "start_time": "2022-09-02T09:43:10.630Z"
   },
   {
    "duration": 284,
    "start_time": "2022-09-02T09:43:10.919Z"
   },
   {
    "duration": 186,
    "start_time": "2022-09-02T09:43:11.204Z"
   },
   {
    "duration": 188,
    "start_time": "2022-09-02T09:43:11.392Z"
   },
   {
    "duration": 198,
    "start_time": "2022-09-02T09:43:11.582Z"
   },
   {
    "duration": 176,
    "start_time": "2022-09-02T09:43:11.782Z"
   },
   {
    "duration": 317,
    "start_time": "2022-09-02T09:43:11.960Z"
   },
   {
    "duration": 44,
    "start_time": "2022-09-02T09:43:12.278Z"
   },
   {
    "duration": 187,
    "start_time": "2022-09-02T09:43:12.324Z"
   },
   {
    "duration": 44,
    "start_time": "2022-09-02T13:58:13.526Z"
   },
   {
    "duration": 715,
    "start_time": "2022-09-02T13:58:25.948Z"
   },
   {
    "duration": 2411,
    "start_time": "2022-09-02T13:58:26.665Z"
   },
   {
    "duration": 94,
    "start_time": "2022-09-02T13:58:29.078Z"
   },
   {
    "duration": 36,
    "start_time": "2022-09-02T13:58:29.174Z"
   },
   {
    "duration": 8,
    "start_time": "2022-09-02T13:58:29.211Z"
   },
   {
    "duration": 37,
    "start_time": "2022-09-02T13:58:29.221Z"
   },
   {
    "duration": 47,
    "start_time": "2022-09-02T13:58:29.260Z"
   },
   {
    "duration": 233,
    "start_time": "2022-09-02T13:58:29.310Z"
   },
   {
    "duration": 918,
    "start_time": "2022-09-02T13:58:29.544Z"
   },
   {
    "duration": 288,
    "start_time": "2022-09-02T13:58:30.465Z"
   },
   {
    "duration": 444,
    "start_time": "2022-09-02T13:58:30.755Z"
   },
   {
    "duration": 521,
    "start_time": "2022-09-02T13:58:31.201Z"
   },
   {
    "duration": 383,
    "start_time": "2022-09-02T13:58:31.724Z"
   },
   {
    "duration": 189,
    "start_time": "2022-09-02T13:58:32.109Z"
   },
   {
    "duration": 175,
    "start_time": "2022-09-02T13:58:32.300Z"
   },
   {
    "duration": 169,
    "start_time": "2022-09-02T13:58:32.485Z"
   },
   {
    "duration": 193,
    "start_time": "2022-09-02T13:58:32.656Z"
   },
   {
    "duration": 187,
    "start_time": "2022-09-02T13:58:32.851Z"
   },
   {
    "duration": 295,
    "start_time": "2022-09-02T13:58:33.039Z"
   },
   {
    "duration": 29,
    "start_time": "2022-09-02T13:58:33.336Z"
   },
   {
    "duration": 20,
    "start_time": "2022-09-02T13:58:33.367Z"
   },
   {
    "duration": 158,
    "start_time": "2022-09-02T13:58:33.389Z"
   },
   {
    "duration": 8,
    "start_time": "2022-09-02T13:59:47.631Z"
   },
   {
    "duration": 8,
    "start_time": "2022-09-02T13:59:59.717Z"
   },
   {
    "duration": 8,
    "start_time": "2022-09-02T14:02:37.549Z"
   },
   {
    "duration": 37,
    "start_time": "2022-09-02T14:07:17.897Z"
   },
   {
    "duration": 11,
    "start_time": "2022-09-02T14:08:58.119Z"
   },
   {
    "duration": 22,
    "start_time": "2022-09-02T14:09:13.521Z"
   },
   {
    "duration": 605,
    "start_time": "2022-09-02T14:10:58.817Z"
   },
   {
    "duration": 2627,
    "start_time": "2022-09-02T14:10:59.425Z"
   },
   {
    "duration": 103,
    "start_time": "2022-09-02T14:11:02.053Z"
   },
   {
    "duration": 39,
    "start_time": "2022-09-02T14:11:02.158Z"
   },
   {
    "duration": 8,
    "start_time": "2022-09-02T14:11:02.199Z"
   },
   {
    "duration": 55,
    "start_time": "2022-09-02T14:11:02.209Z"
   },
   {
    "duration": 31,
    "start_time": "2022-09-02T14:11:02.266Z"
   },
   {
    "duration": 260,
    "start_time": "2022-09-02T14:11:02.298Z"
   },
   {
    "duration": 1050,
    "start_time": "2022-09-02T14:11:02.560Z"
   },
   {
    "duration": 322,
    "start_time": "2022-09-02T14:11:03.613Z"
   },
   {
    "duration": 559,
    "start_time": "2022-09-02T14:11:03.937Z"
   },
   {
    "duration": 664,
    "start_time": "2022-09-02T14:11:04.499Z"
   },
   {
    "duration": 430,
    "start_time": "2022-09-02T14:11:05.165Z"
   },
   {
    "duration": 199,
    "start_time": "2022-09-02T14:11:05.597Z"
   },
   {
    "duration": 200,
    "start_time": "2022-09-02T14:11:05.798Z"
   },
   {
    "duration": 239,
    "start_time": "2022-09-02T14:11:06.000Z"
   },
   {
    "duration": 193,
    "start_time": "2022-09-02T14:11:06.242Z"
   },
   {
    "duration": 185,
    "start_time": "2022-09-02T14:11:06.437Z"
   },
   {
    "duration": 333,
    "start_time": "2022-09-02T14:11:06.624Z"
   },
   {
    "duration": 48,
    "start_time": "2022-09-02T14:11:06.959Z"
   },
   {
    "duration": 188,
    "start_time": "2022-09-02T14:11:07.009Z"
   },
   {
    "duration": 195,
    "start_time": "2022-09-02T14:11:07.199Z"
   },
   {
    "duration": 18,
    "start_time": "2022-09-02T14:11:07.396Z"
   },
   {
    "duration": 168,
    "start_time": "2022-09-02T14:11:31.861Z"
   },
   {
    "duration": 412,
    "start_time": "2022-09-03T15:06:17.321Z"
   },
   {
    "duration": 191,
    "start_time": "2022-09-03T15:06:21.164Z"
   },
   {
    "duration": 454,
    "start_time": "2022-09-03T15:11:37.882Z"
   },
   {
    "duration": 2213,
    "start_time": "2022-09-03T15:16:09.758Z"
   },
   {
    "duration": 151,
    "start_time": "2022-09-03T15:16:25.953Z"
   },
   {
    "duration": 2,
    "start_time": "2022-09-03T15:16:39.785Z"
   },
   {
    "duration": 137,
    "start_time": "2022-09-03T15:16:43.299Z"
   },
   {
    "duration": 3,
    "start_time": "2022-09-03T15:17:26.318Z"
   },
   {
    "duration": 134,
    "start_time": "2022-09-03T15:17:28.385Z"
   },
   {
    "duration": 737,
    "start_time": "2022-09-03T15:23:20.286Z"
   },
   {
    "duration": 145,
    "start_time": "2022-09-03T15:23:21.025Z"
   },
   {
    "duration": 246,
    "start_time": "2022-09-03T15:23:21.171Z"
   },
   {
    "duration": 0,
    "start_time": "2022-09-03T15:23:21.420Z"
   },
   {
    "duration": 0,
    "start_time": "2022-09-03T15:23:21.421Z"
   },
   {
    "duration": 0,
    "start_time": "2022-09-03T15:23:21.422Z"
   },
   {
    "duration": 0,
    "start_time": "2022-09-03T15:23:21.423Z"
   },
   {
    "duration": 0,
    "start_time": "2022-09-03T15:23:21.424Z"
   },
   {
    "duration": 0,
    "start_time": "2022-09-03T15:23:21.425Z"
   },
   {
    "duration": 0,
    "start_time": "2022-09-03T15:23:21.427Z"
   },
   {
    "duration": 0,
    "start_time": "2022-09-03T15:23:21.428Z"
   },
   {
    "duration": 0,
    "start_time": "2022-09-03T15:23:21.430Z"
   },
   {
    "duration": 0,
    "start_time": "2022-09-03T15:23:21.431Z"
   },
   {
    "duration": 0,
    "start_time": "2022-09-03T15:23:21.432Z"
   },
   {
    "duration": 0,
    "start_time": "2022-09-03T15:23:21.434Z"
   },
   {
    "duration": 0,
    "start_time": "2022-09-03T15:23:21.435Z"
   },
   {
    "duration": 0,
    "start_time": "2022-09-03T15:23:21.436Z"
   },
   {
    "duration": 0,
    "start_time": "2022-09-03T15:23:21.438Z"
   },
   {
    "duration": 0,
    "start_time": "2022-09-03T15:23:21.439Z"
   },
   {
    "duration": 0,
    "start_time": "2022-09-03T15:23:21.441Z"
   },
   {
    "duration": 0,
    "start_time": "2022-09-03T15:23:21.442Z"
   },
   {
    "duration": 0,
    "start_time": "2022-09-03T15:23:21.444Z"
   },
   {
    "duration": 2194,
    "start_time": "2022-09-03T15:24:39.233Z"
   },
   {
    "duration": 2042,
    "start_time": "2022-09-03T15:24:42.420Z"
   },
   {
    "duration": 12,
    "start_time": "2022-09-03T15:29:26.768Z"
   },
   {
    "duration": 100,
    "start_time": "2022-09-03T15:29:48.840Z"
   },
   {
    "duration": 11,
    "start_time": "2022-09-03T15:30:19.381Z"
   },
   {
    "duration": 8,
    "start_time": "2022-09-03T15:31:15.740Z"
   },
   {
    "duration": 8,
    "start_time": "2022-09-03T15:31:20.732Z"
   },
   {
    "duration": 18,
    "start_time": "2022-09-03T15:31:42.191Z"
   },
   {
    "duration": 11,
    "start_time": "2022-09-03T15:31:57.261Z"
   },
   {
    "duration": 9,
    "start_time": "2022-09-03T15:32:17.231Z"
   },
   {
    "duration": 8,
    "start_time": "2022-09-03T15:32:34.036Z"
   },
   {
    "duration": 94,
    "start_time": "2022-09-03T15:34:53.918Z"
   },
   {
    "duration": 9,
    "start_time": "2022-09-03T15:36:13.741Z"
   },
   {
    "duration": 8,
    "start_time": "2022-09-03T15:37:43.108Z"
   },
   {
    "duration": 9,
    "start_time": "2022-09-03T15:38:34.112Z"
   },
   {
    "duration": 338,
    "start_time": "2022-09-03T15:46:01.031Z"
   },
   {
    "duration": 316,
    "start_time": "2022-09-03T15:46:08.162Z"
   },
   {
    "duration": 302,
    "start_time": "2022-09-03T15:47:55.602Z"
   },
   {
    "duration": 328,
    "start_time": "2022-09-03T15:48:06.381Z"
   },
   {
    "duration": 659,
    "start_time": "2022-09-03T15:54:35.027Z"
   },
   {
    "duration": 147,
    "start_time": "2022-09-03T15:54:35.688Z"
   },
   {
    "duration": 2210,
    "start_time": "2022-09-03T15:54:35.837Z"
   },
   {
    "duration": 101,
    "start_time": "2022-09-03T15:54:38.049Z"
   },
   {
    "duration": 43,
    "start_time": "2022-09-03T15:54:38.153Z"
   },
   {
    "duration": 13,
    "start_time": "2022-09-03T15:54:38.197Z"
   },
   {
    "duration": 40,
    "start_time": "2022-09-03T15:54:38.212Z"
   },
   {
    "duration": 49,
    "start_time": "2022-09-03T15:54:38.254Z"
   },
   {
    "duration": 313,
    "start_time": "2022-09-03T15:54:38.305Z"
   },
   {
    "duration": 0,
    "start_time": "2022-09-03T15:54:38.620Z"
   },
   {
    "duration": 0,
    "start_time": "2022-09-03T15:54:38.621Z"
   },
   {
    "duration": 0,
    "start_time": "2022-09-03T15:54:38.622Z"
   },
   {
    "duration": 0,
    "start_time": "2022-09-03T15:54:38.624Z"
   },
   {
    "duration": 0,
    "start_time": "2022-09-03T15:54:38.625Z"
   },
   {
    "duration": 0,
    "start_time": "2022-09-03T15:54:38.626Z"
   },
   {
    "duration": 0,
    "start_time": "2022-09-03T15:54:38.628Z"
   },
   {
    "duration": 0,
    "start_time": "2022-09-03T15:54:38.628Z"
   },
   {
    "duration": 0,
    "start_time": "2022-09-03T15:54:38.630Z"
   },
   {
    "duration": 0,
    "start_time": "2022-09-03T15:54:38.630Z"
   },
   {
    "duration": 1,
    "start_time": "2022-09-03T15:54:38.631Z"
   },
   {
    "duration": 0,
    "start_time": "2022-09-03T15:54:38.633Z"
   },
   {
    "duration": 0,
    "start_time": "2022-09-03T15:54:38.635Z"
   },
   {
    "duration": 222,
    "start_time": "2022-09-03T15:55:04.313Z"
   },
   {
    "duration": 238,
    "start_time": "2022-09-03T16:02:07.067Z"
   },
   {
    "duration": 311,
    "start_time": "2022-09-03T16:02:16.836Z"
   },
   {
    "duration": 677,
    "start_time": "2022-09-03T16:02:36.994Z"
   },
   {
    "duration": 137,
    "start_time": "2022-09-03T16:02:37.673Z"
   },
   {
    "duration": 2151,
    "start_time": "2022-09-03T16:02:37.812Z"
   },
   {
    "duration": 109,
    "start_time": "2022-09-03T16:02:39.967Z"
   },
   {
    "duration": 39,
    "start_time": "2022-09-03T16:02:40.078Z"
   },
   {
    "duration": 11,
    "start_time": "2022-09-03T16:02:40.119Z"
   },
   {
    "duration": 40,
    "start_time": "2022-09-03T16:02:40.131Z"
   },
   {
    "duration": 44,
    "start_time": "2022-09-03T16:02:40.172Z"
   },
   {
    "duration": 321,
    "start_time": "2022-09-03T16:02:40.218Z"
   },
   {
    "duration": 0,
    "start_time": "2022-09-03T16:02:40.542Z"
   },
   {
    "duration": 0,
    "start_time": "2022-09-03T16:02:40.543Z"
   },
   {
    "duration": 0,
    "start_time": "2022-09-03T16:02:40.544Z"
   },
   {
    "duration": 0,
    "start_time": "2022-09-03T16:02:40.546Z"
   },
   {
    "duration": 0,
    "start_time": "2022-09-03T16:02:40.547Z"
   },
   {
    "duration": 0,
    "start_time": "2022-09-03T16:02:40.548Z"
   },
   {
    "duration": 0,
    "start_time": "2022-09-03T16:02:40.549Z"
   },
   {
    "duration": 0,
    "start_time": "2022-09-03T16:02:40.550Z"
   },
   {
    "duration": 0,
    "start_time": "2022-09-03T16:02:40.551Z"
   },
   {
    "duration": 0,
    "start_time": "2022-09-03T16:02:40.552Z"
   },
   {
    "duration": 0,
    "start_time": "2022-09-03T16:02:40.553Z"
   },
   {
    "duration": 0,
    "start_time": "2022-09-03T16:02:40.554Z"
   },
   {
    "duration": 0,
    "start_time": "2022-09-03T16:02:40.555Z"
   },
   {
    "duration": 237,
    "start_time": "2022-09-03T16:03:19.467Z"
   },
   {
    "duration": 259,
    "start_time": "2022-09-03T16:03:31.334Z"
   },
   {
    "duration": 311,
    "start_time": "2022-09-03T16:03:44.146Z"
   },
   {
    "duration": 218,
    "start_time": "2022-09-03T16:03:57.502Z"
   },
   {
    "duration": 212,
    "start_time": "2022-09-03T16:04:03.547Z"
   },
   {
    "duration": 219,
    "start_time": "2022-09-03T16:04:08.080Z"
   },
   {
    "duration": 219,
    "start_time": "2022-09-03T16:04:18.828Z"
   },
   {
    "duration": 217,
    "start_time": "2022-09-03T16:04:35.736Z"
   },
   {
    "duration": 278,
    "start_time": "2022-09-03T16:05:02.293Z"
   },
   {
    "duration": 22,
    "start_time": "2022-09-03T16:07:40.779Z"
   },
   {
    "duration": 137,
    "start_time": "2022-09-03T16:09:08.292Z"
   },
   {
    "duration": 130,
    "start_time": "2022-09-03T16:12:02.184Z"
   },
   {
    "duration": 123,
    "start_time": "2022-09-03T16:12:23.244Z"
   },
   {
    "duration": 162,
    "start_time": "2022-09-03T16:12:49.167Z"
   },
   {
    "duration": 198,
    "start_time": "2022-09-03T16:13:02.753Z"
   },
   {
    "duration": 163,
    "start_time": "2022-09-03T16:13:27.157Z"
   },
   {
    "duration": 176,
    "start_time": "2022-09-03T16:13:59.353Z"
   },
   {
    "duration": 152,
    "start_time": "2022-09-03T16:14:29.467Z"
   },
   {
    "duration": 210,
    "start_time": "2022-09-03T16:14:45.537Z"
   },
   {
    "duration": 215,
    "start_time": "2022-09-03T16:15:11.788Z"
   },
   {
    "duration": 330,
    "start_time": "2022-09-03T16:17:16.715Z"
   },
   {
    "duration": 146,
    "start_time": "2022-09-03T16:17:49.427Z"
   },
   {
    "duration": 153,
    "start_time": "2022-09-03T16:18:20.436Z"
   },
   {
    "duration": 30,
    "start_time": "2022-09-03T16:18:40.255Z"
   },
   {
    "duration": 183,
    "start_time": "2022-09-03T16:18:49.301Z"
   },
   {
    "duration": 190,
    "start_time": "2022-09-03T16:20:07.835Z"
   },
   {
    "duration": 173,
    "start_time": "2022-09-03T16:20:22.500Z"
   },
   {
    "duration": 179,
    "start_time": "2022-09-03T16:20:57.311Z"
   },
   {
    "duration": 127,
    "start_time": "2022-09-03T16:21:03.927Z"
   },
   {
    "duration": 149,
    "start_time": "2022-09-03T16:21:15.655Z"
   },
   {
    "duration": 150,
    "start_time": "2022-09-03T16:21:29.267Z"
   },
   {
    "duration": 155,
    "start_time": "2022-09-03T16:21:36.086Z"
   },
   {
    "duration": 222,
    "start_time": "2022-09-03T16:21:57.928Z"
   },
   {
    "duration": 808,
    "start_time": "2022-09-03T16:22:06.257Z"
   },
   {
    "duration": 189,
    "start_time": "2022-09-03T16:22:07.067Z"
   },
   {
    "duration": 2450,
    "start_time": "2022-09-03T16:22:07.257Z"
   },
   {
    "duration": 125,
    "start_time": "2022-09-03T16:22:09.714Z"
   },
   {
    "duration": 46,
    "start_time": "2022-09-03T16:22:09.843Z"
   },
   {
    "duration": 17,
    "start_time": "2022-09-03T16:22:09.903Z"
   },
   {
    "duration": 53,
    "start_time": "2022-09-03T16:22:09.933Z"
   },
   {
    "duration": 46,
    "start_time": "2022-09-03T16:22:09.989Z"
   },
   {
    "duration": 161,
    "start_time": "2022-09-03T16:22:10.037Z"
   },
   {
    "duration": 175,
    "start_time": "2022-09-03T16:22:10.201Z"
   },
   {
    "duration": 332,
    "start_time": "2022-09-03T16:22:10.378Z"
   },
   {
    "duration": 1237,
    "start_time": "2022-09-03T16:22:10.713Z"
   },
   {
    "duration": 419,
    "start_time": "2022-09-03T16:22:11.952Z"
   },
   {
    "duration": 581,
    "start_time": "2022-09-03T16:22:12.373Z"
   },
   {
    "duration": 676,
    "start_time": "2022-09-03T16:22:12.956Z"
   },
   {
    "duration": 427,
    "start_time": "2022-09-03T16:22:13.638Z"
   },
   {
    "duration": 238,
    "start_time": "2022-09-03T16:22:14.067Z"
   },
   {
    "duration": 226,
    "start_time": "2022-09-03T16:22:14.312Z"
   },
   {
    "duration": 210,
    "start_time": "2022-09-03T16:22:14.542Z"
   },
   {
    "duration": 214,
    "start_time": "2022-09-03T16:22:14.754Z"
   },
   {
    "duration": 209,
    "start_time": "2022-09-03T16:22:14.970Z"
   },
   {
    "duration": 393,
    "start_time": "2022-09-03T16:22:15.181Z"
   },
   {
    "duration": 61,
    "start_time": "2022-09-03T16:22:15.576Z"
   },
   {
    "duration": 212,
    "start_time": "2022-09-03T16:22:15.638Z"
   },
   {
    "duration": 171,
    "start_time": "2022-09-03T16:22:46.051Z"
   },
   {
    "duration": 338,
    "start_time": "2022-09-03T16:24:41.318Z"
   },
   {
    "duration": 194,
    "start_time": "2022-09-03T16:24:57.661Z"
   },
   {
    "duration": 217,
    "start_time": "2022-09-03T16:25:03.835Z"
   },
   {
    "duration": 851,
    "start_time": "2022-09-03T16:25:13.758Z"
   },
   {
    "duration": 174,
    "start_time": "2022-09-03T16:25:14.611Z"
   },
   {
    "duration": 2699,
    "start_time": "2022-09-03T16:25:14.787Z"
   },
   {
    "duration": 170,
    "start_time": "2022-09-03T16:25:17.489Z"
   },
   {
    "duration": 42,
    "start_time": "2022-09-03T16:25:17.661Z"
   },
   {
    "duration": 49,
    "start_time": "2022-09-03T16:25:17.709Z"
   },
   {
    "duration": 66,
    "start_time": "2022-09-03T16:25:17.760Z"
   },
   {
    "duration": 41,
    "start_time": "2022-09-03T16:25:17.832Z"
   },
   {
    "duration": 174,
    "start_time": "2022-09-03T16:25:17.875Z"
   },
   {
    "duration": 160,
    "start_time": "2022-09-03T16:25:18.054Z"
   },
   {
    "duration": 307,
    "start_time": "2022-09-03T16:25:18.220Z"
   },
   {
    "duration": 1275,
    "start_time": "2022-09-03T16:25:18.531Z"
   },
   {
    "duration": 402,
    "start_time": "2022-09-03T16:25:19.808Z"
   },
   {
    "duration": 666,
    "start_time": "2022-09-03T16:25:20.222Z"
   },
   {
    "duration": 750,
    "start_time": "2022-09-03T16:25:20.892Z"
   },
   {
    "duration": 505,
    "start_time": "2022-09-03T16:25:21.644Z"
   },
   {
    "duration": 573,
    "start_time": "2022-09-03T16:25:22.153Z"
   },
   {
    "duration": 473,
    "start_time": "2022-09-03T16:25:22.729Z"
   },
   {
    "duration": 651,
    "start_time": "2022-09-03T16:25:23.205Z"
   },
   {
    "duration": 536,
    "start_time": "2022-09-03T16:25:23.860Z"
   },
   {
    "duration": 418,
    "start_time": "2022-09-03T16:25:24.406Z"
   },
   {
    "duration": 1067,
    "start_time": "2022-09-03T16:25:24.832Z"
   },
   {
    "duration": 57,
    "start_time": "2022-09-03T16:25:25.900Z"
   },
   {
    "duration": 573,
    "start_time": "2022-09-03T16:25:25.960Z"
   },
   {
    "duration": 187,
    "start_time": "2022-09-03T16:25:42.591Z"
   },
   {
    "duration": 206,
    "start_time": "2022-09-03T16:26:25.664Z"
   },
   {
    "duration": 128,
    "start_time": "2022-09-03T16:26:33.061Z"
   },
   {
    "duration": 152,
    "start_time": "2022-09-03T16:26:44.938Z"
   },
   {
    "duration": 779,
    "start_time": "2022-09-03T16:26:50.938Z"
   },
   {
    "duration": 188,
    "start_time": "2022-09-03T16:26:51.719Z"
   },
   {
    "duration": 2611,
    "start_time": "2022-09-03T16:26:51.912Z"
   },
   {
    "duration": 123,
    "start_time": "2022-09-03T16:26:54.526Z"
   },
   {
    "duration": 33,
    "start_time": "2022-09-03T16:26:54.652Z"
   },
   {
    "duration": 24,
    "start_time": "2022-09-03T16:26:54.711Z"
   },
   {
    "duration": 68,
    "start_time": "2022-09-03T16:26:54.740Z"
   },
   {
    "duration": 42,
    "start_time": "2022-09-03T16:26:54.810Z"
   },
   {
    "duration": 157,
    "start_time": "2022-09-03T16:26:54.854Z"
   },
   {
    "duration": 183,
    "start_time": "2022-09-03T16:26:55.014Z"
   },
   {
    "duration": 158,
    "start_time": "2022-09-03T16:26:55.198Z"
   },
   {
    "duration": 303,
    "start_time": "2022-09-03T16:26:55.361Z"
   },
   {
    "duration": 1180,
    "start_time": "2022-09-03T16:26:55.665Z"
   },
   {
    "duration": 399,
    "start_time": "2022-09-03T16:26:56.849Z"
   },
   {
    "duration": 570,
    "start_time": "2022-09-03T16:26:57.250Z"
   },
   {
    "duration": 771,
    "start_time": "2022-09-03T16:26:57.824Z"
   },
   {
    "duration": 334,
    "start_time": "2022-09-03T16:26:58.607Z"
   },
   {
    "duration": 220,
    "start_time": "2022-09-03T16:26:58.946Z"
   },
   {
    "duration": 264,
    "start_time": "2022-09-03T16:26:59.168Z"
   },
   {
    "duration": 240,
    "start_time": "2022-09-03T16:26:59.438Z"
   },
   {
    "duration": 253,
    "start_time": "2022-09-03T16:26:59.680Z"
   },
   {
    "duration": 232,
    "start_time": "2022-09-03T16:26:59.935Z"
   },
   {
    "duration": 433,
    "start_time": "2022-09-03T16:27:00.169Z"
   },
   {
    "duration": 48,
    "start_time": "2022-09-03T16:27:00.611Z"
   },
   {
    "duration": 211,
    "start_time": "2022-09-03T16:27:00.661Z"
   },
   {
    "duration": 241,
    "start_time": "2022-09-03T16:27:26.475Z"
   },
   {
    "duration": 144,
    "start_time": "2022-09-03T16:28:45.032Z"
   },
   {
    "duration": 27,
    "start_time": "2022-09-03T16:29:05.691Z"
   },
   {
    "duration": 10,
    "start_time": "2022-09-03T16:29:16.833Z"
   },
   {
    "duration": 11,
    "start_time": "2022-09-03T16:29:21.562Z"
   },
   {
    "duration": 9,
    "start_time": "2022-09-03T16:29:30.022Z"
   },
   {
    "duration": 5,
    "start_time": "2022-09-03T16:29:46.176Z"
   },
   {
    "duration": 145,
    "start_time": "2022-09-03T16:30:17.867Z"
   },
   {
    "duration": 828,
    "start_time": "2022-09-04T08:00:11.886Z"
   },
   {
    "duration": 200,
    "start_time": "2022-09-04T08:00:12.716Z"
   },
   {
    "duration": 2002,
    "start_time": "2022-09-04T08:00:12.917Z"
   },
   {
    "duration": 95,
    "start_time": "2022-09-04T08:00:14.921Z"
   },
   {
    "duration": 32,
    "start_time": "2022-09-04T08:00:15.019Z"
   },
   {
    "duration": 11,
    "start_time": "2022-09-04T08:00:15.053Z"
   },
   {
    "duration": 60,
    "start_time": "2022-09-04T08:00:15.066Z"
   },
   {
    "duration": 42,
    "start_time": "2022-09-04T08:00:15.128Z"
   },
   {
    "duration": 111,
    "start_time": "2022-09-04T08:00:15.171Z"
   },
   {
    "duration": 136,
    "start_time": "2022-09-04T08:00:15.283Z"
   },
   {
    "duration": 117,
    "start_time": "2022-09-04T08:00:15.420Z"
   },
   {
    "duration": 219,
    "start_time": "2022-09-04T08:00:15.539Z"
   },
   {
    "duration": 936,
    "start_time": "2022-09-04T08:00:15.760Z"
   },
   {
    "duration": 314,
    "start_time": "2022-09-04T08:00:16.699Z"
   },
   {
    "duration": 483,
    "start_time": "2022-09-04T08:00:17.015Z"
   },
   {
    "duration": 668,
    "start_time": "2022-09-04T08:00:17.500Z"
   },
   {
    "duration": 289,
    "start_time": "2022-09-04T08:00:18.170Z"
   },
   {
    "duration": 200,
    "start_time": "2022-09-04T08:00:18.461Z"
   },
   {
    "duration": 217,
    "start_time": "2022-09-04T08:00:18.664Z"
   },
   {
    "duration": 201,
    "start_time": "2022-09-04T08:00:18.884Z"
   },
   {
    "duration": 168,
    "start_time": "2022-09-04T08:00:19.091Z"
   },
   {
    "duration": 180,
    "start_time": "2022-09-04T08:00:19.261Z"
   },
   {
    "duration": 385,
    "start_time": "2022-09-04T08:00:19.443Z"
   },
   {
    "duration": 60,
    "start_time": "2022-09-04T08:00:19.831Z"
   },
   {
    "duration": 207,
    "start_time": "2022-09-04T08:00:19.893Z"
   },
   {
    "duration": 183,
    "start_time": "2022-09-04T08:01:55.159Z"
   },
   {
    "duration": 107,
    "start_time": "2022-09-04T08:02:10.817Z"
   },
   {
    "duration": 112,
    "start_time": "2022-09-04T08:02:18.658Z"
   },
   {
    "duration": 106,
    "start_time": "2022-09-04T08:02:37.557Z"
   },
   {
    "duration": 121,
    "start_time": "2022-09-04T08:02:52.625Z"
   },
   {
    "duration": 104,
    "start_time": "2022-09-04T08:03:00.053Z"
   },
   {
    "duration": 103,
    "start_time": "2022-09-04T08:03:30.304Z"
   },
   {
    "duration": 116,
    "start_time": "2022-09-04T08:03:41.668Z"
   },
   {
    "duration": 204,
    "start_time": "2022-09-04T08:04:50.707Z"
   },
   {
    "duration": 394,
    "start_time": "2022-09-04T08:04:58.611Z"
   },
   {
    "duration": 863,
    "start_time": "2022-09-04T08:06:16.719Z"
   },
   {
    "duration": 225,
    "start_time": "2022-09-04T08:07:28.220Z"
   },
   {
    "duration": 193,
    "start_time": "2022-09-04T08:07:30.079Z"
   },
   {
    "duration": 235,
    "start_time": "2022-09-04T08:07:31.288Z"
   },
   {
    "duration": 277,
    "start_time": "2022-09-04T08:07:32.222Z"
   },
   {
    "duration": 232,
    "start_time": "2022-09-04T08:07:53.042Z"
   },
   {
    "duration": 157,
    "start_time": "2022-09-04T08:08:08.558Z"
   },
   {
    "duration": 119,
    "start_time": "2022-09-04T08:08:48.699Z"
   },
   {
    "duration": 200,
    "start_time": "2022-09-04T08:08:53.980Z"
   },
   {
    "duration": 185,
    "start_time": "2022-09-04T08:09:16.724Z"
   },
   {
    "duration": 165,
    "start_time": "2022-09-04T08:09:23.229Z"
   },
   {
    "duration": 198,
    "start_time": "2022-09-04T08:09:31.481Z"
   },
   {
    "duration": 181,
    "start_time": "2022-09-04T08:16:45.223Z"
   },
   {
    "duration": 193,
    "start_time": "2022-09-04T08:17:25.076Z"
   },
   {
    "duration": 190,
    "start_time": "2022-09-04T08:17:37.017Z"
   },
   {
    "duration": 266,
    "start_time": "2022-09-04T08:18:55.984Z"
   },
   {
    "duration": 287,
    "start_time": "2022-09-04T08:19:06.568Z"
   },
   {
    "duration": 208,
    "start_time": "2022-09-04T08:19:37.254Z"
   },
   {
    "duration": 307,
    "start_time": "2022-09-04T08:19:59.279Z"
   },
   {
    "duration": 198,
    "start_time": "2022-09-04T08:20:16.885Z"
   },
   {
    "duration": 286,
    "start_time": "2022-09-04T08:20:42.413Z"
   },
   {
    "duration": 191,
    "start_time": "2022-09-04T08:22:09.708Z"
   },
   {
    "duration": 225,
    "start_time": "2022-09-04T08:22:32.075Z"
   },
   {
    "duration": 190,
    "start_time": "2022-09-04T08:23:33.144Z"
   },
   {
    "duration": 183,
    "start_time": "2022-09-04T08:24:52.664Z"
   },
   {
    "duration": 193,
    "start_time": "2022-09-04T08:25:00.120Z"
   },
   {
    "duration": 295,
    "start_time": "2022-09-04T08:25:11.986Z"
   },
   {
    "duration": 187,
    "start_time": "2022-09-04T08:25:21.255Z"
   },
   {
    "duration": 169,
    "start_time": "2022-09-04T08:26:11.513Z"
   },
   {
    "duration": 194,
    "start_time": "2022-09-04T08:26:26.736Z"
   },
   {
    "duration": 434,
    "start_time": "2022-09-04T08:28:58.607Z"
   },
   {
    "duration": 399,
    "start_time": "2022-09-04T08:29:08.178Z"
   },
   {
    "duration": 724,
    "start_time": "2022-09-04T08:30:19.250Z"
   },
   {
    "duration": 808,
    "start_time": "2022-09-04T08:30:47.582Z"
   },
   {
    "duration": 630,
    "start_time": "2022-09-04T08:30:58.765Z"
   },
   {
    "duration": 448,
    "start_time": "2022-09-04T08:31:34.650Z"
   },
   {
    "duration": 449,
    "start_time": "2022-09-04T08:32:51.984Z"
   },
   {
    "duration": 427,
    "start_time": "2022-09-04T08:33:17.540Z"
   },
   {
    "duration": 458,
    "start_time": "2022-09-04T08:33:29.334Z"
   },
   {
    "duration": 396,
    "start_time": "2022-09-04T08:34:07.371Z"
   },
   {
    "duration": 28,
    "start_time": "2022-09-04T08:34:23.484Z"
   },
   {
    "duration": 221,
    "start_time": "2022-09-04T08:34:34.238Z"
   },
   {
    "duration": 200,
    "start_time": "2022-09-04T08:34:44.557Z"
   },
   {
    "duration": 199,
    "start_time": "2022-09-04T08:34:48.354Z"
   },
   {
    "duration": 281,
    "start_time": "2022-09-04T08:35:01.488Z"
   },
   {
    "duration": 194,
    "start_time": "2022-09-04T08:35:28.549Z"
   },
   {
    "duration": 193,
    "start_time": "2022-09-04T08:36:25.440Z"
   },
   {
    "duration": 43,
    "start_time": "2022-09-04T08:44:49.963Z"
   },
   {
    "duration": 33,
    "start_time": "2022-09-04T08:45:26.715Z"
   },
   {
    "duration": 16,
    "start_time": "2022-09-04T08:46:35.914Z"
   },
   {
    "duration": 31,
    "start_time": "2022-09-04T08:47:28.143Z"
   },
   {
    "duration": 31,
    "start_time": "2022-09-04T08:48:26.725Z"
   },
   {
    "duration": 206,
    "start_time": "2022-09-04T08:50:02.297Z"
   },
   {
    "duration": 211,
    "start_time": "2022-09-04T08:50:23.299Z"
   },
   {
    "duration": 122,
    "start_time": "2022-09-04T08:51:17.424Z"
   },
   {
    "duration": 195,
    "start_time": "2022-09-04T08:51:33.267Z"
   },
   {
    "duration": 171,
    "start_time": "2022-09-04T08:51:49.917Z"
   },
   {
    "duration": 180,
    "start_time": "2022-09-04T08:52:14.997Z"
   },
   {
    "duration": 66,
    "start_time": "2022-09-04T08:53:09.541Z"
   },
   {
    "duration": 174,
    "start_time": "2022-09-04T08:53:21.456Z"
   },
   {
    "duration": 171,
    "start_time": "2022-09-04T08:54:52.082Z"
   },
   {
    "duration": 309,
    "start_time": "2022-09-04T08:55:21.817Z"
   },
   {
    "duration": 172,
    "start_time": "2022-09-04T08:55:36.459Z"
   },
   {
    "duration": 201,
    "start_time": "2022-09-04T08:57:35.439Z"
   },
   {
    "duration": 219,
    "start_time": "2022-09-04T08:58:27.130Z"
   },
   {
    "duration": 186,
    "start_time": "2022-09-04T08:58:39.700Z"
   },
   {
    "duration": 204,
    "start_time": "2022-09-04T08:58:49.603Z"
   },
   {
    "duration": 211,
    "start_time": "2022-09-04T08:59:02.375Z"
   },
   {
    "duration": 32,
    "start_time": "2022-09-04T09:01:58.232Z"
   },
   {
    "duration": 33,
    "start_time": "2022-09-04T09:03:33.925Z"
   },
   {
    "duration": 49,
    "start_time": "2022-09-04T09:03:59.628Z"
   },
   {
    "duration": 100,
    "start_time": "2022-09-04T09:04:59.664Z"
   },
   {
    "duration": 1324,
    "start_time": "2022-09-04T09:05:39.864Z"
   },
   {
    "duration": 1366,
    "start_time": "2022-09-04T09:06:37.497Z"
   },
   {
    "duration": 212,
    "start_time": "2022-09-04T09:06:51.151Z"
   },
   {
    "duration": 466,
    "start_time": "2022-09-04T09:07:05.197Z"
   },
   {
    "duration": 370,
    "start_time": "2022-09-04T09:07:40.660Z"
   },
   {
    "duration": 553,
    "start_time": "2022-09-04T09:08:17.804Z"
   },
   {
    "duration": 374,
    "start_time": "2022-09-04T09:08:51.199Z"
   },
   {
    "duration": 432,
    "start_time": "2022-09-04T09:11:20.967Z"
   },
   {
    "duration": 207,
    "start_time": "2022-09-04T09:11:48.216Z"
   },
   {
    "duration": 192,
    "start_time": "2022-09-04T09:12:10.501Z"
   },
   {
    "duration": 298,
    "start_time": "2022-09-04T09:12:28.270Z"
   },
   {
    "duration": 227,
    "start_time": "2022-09-04T09:13:16.516Z"
   },
   {
    "duration": 215,
    "start_time": "2022-09-04T09:13:30.822Z"
   },
   {
    "duration": 209,
    "start_time": "2022-09-04T09:13:56.257Z"
   },
   {
    "duration": 229,
    "start_time": "2022-09-04T09:14:25.216Z"
   },
   {
    "duration": 200,
    "start_time": "2022-09-04T09:15:09.611Z"
   },
   {
    "duration": 199,
    "start_time": "2022-09-04T09:15:23.224Z"
   },
   {
    "duration": 201,
    "start_time": "2022-09-04T09:15:49.004Z"
   },
   {
    "duration": 192,
    "start_time": "2022-09-04T09:16:50.143Z"
   },
   {
    "duration": 226,
    "start_time": "2022-09-04T09:16:56.378Z"
   },
   {
    "duration": 227,
    "start_time": "2022-09-04T09:17:39.679Z"
   },
   {
    "duration": 244,
    "start_time": "2022-09-04T09:19:48.259Z"
   },
   {
    "duration": 199,
    "start_time": "2022-09-04T09:21:10.699Z"
   },
   {
    "duration": 237,
    "start_time": "2022-09-04T09:21:38.596Z"
   },
   {
    "duration": 180,
    "start_time": "2022-09-04T09:22:32.420Z"
   },
   {
    "duration": 182,
    "start_time": "2022-09-04T09:23:02.594Z"
   },
   {
    "duration": 256,
    "start_time": "2022-09-04T09:23:56.434Z"
   },
   {
    "duration": 258,
    "start_time": "2022-09-04T09:24:05.947Z"
   },
   {
    "duration": 235,
    "start_time": "2022-09-04T09:25:03.399Z"
   },
   {
    "duration": 378,
    "start_time": "2022-09-04T09:25:35.503Z"
   },
   {
    "duration": 306,
    "start_time": "2022-09-04T09:26:43.429Z"
   },
   {
    "duration": 677,
    "start_time": "2022-09-04T09:27:39.345Z"
   },
   {
    "duration": 141,
    "start_time": "2022-09-04T09:27:40.025Z"
   },
   {
    "duration": 2398,
    "start_time": "2022-09-04T09:27:40.169Z"
   },
   {
    "duration": 118,
    "start_time": "2022-09-04T09:27:42.569Z"
   },
   {
    "duration": 32,
    "start_time": "2022-09-04T09:27:42.691Z"
   },
   {
    "duration": 11,
    "start_time": "2022-09-04T09:27:42.725Z"
   },
   {
    "duration": 59,
    "start_time": "2022-09-04T09:27:42.738Z"
   },
   {
    "duration": 144,
    "start_time": "2022-09-04T09:27:42.799Z"
   },
   {
    "duration": 127,
    "start_time": "2022-09-04T09:27:42.945Z"
   },
   {
    "duration": 152,
    "start_time": "2022-09-04T09:27:43.075Z"
   },
   {
    "duration": 178,
    "start_time": "2022-09-04T09:27:43.229Z"
   },
   {
    "duration": 577,
    "start_time": "2022-09-04T09:27:43.409Z"
   },
   {
    "duration": 0,
    "start_time": "2022-09-04T09:27:43.995Z"
   },
   {
    "duration": 0,
    "start_time": "2022-09-04T09:27:43.996Z"
   },
   {
    "duration": 0,
    "start_time": "2022-09-04T09:27:43.998Z"
   },
   {
    "duration": 0,
    "start_time": "2022-09-04T09:27:43.999Z"
   },
   {
    "duration": 0,
    "start_time": "2022-09-04T09:27:44.000Z"
   },
   {
    "duration": 1,
    "start_time": "2022-09-04T09:27:44.000Z"
   },
   {
    "duration": 0,
    "start_time": "2022-09-04T09:27:44.004Z"
   },
   {
    "duration": 0,
    "start_time": "2022-09-04T09:27:44.005Z"
   },
   {
    "duration": 0,
    "start_time": "2022-09-04T09:27:44.007Z"
   },
   {
    "duration": 0,
    "start_time": "2022-09-04T09:27:44.008Z"
   },
   {
    "duration": 0,
    "start_time": "2022-09-04T09:27:44.009Z"
   },
   {
    "duration": 0,
    "start_time": "2022-09-04T09:27:44.010Z"
   },
   {
    "duration": 0,
    "start_time": "2022-09-04T09:27:44.011Z"
   },
   {
    "duration": 0,
    "start_time": "2022-09-04T09:27:44.012Z"
   },
   {
    "duration": 0,
    "start_time": "2022-09-04T09:27:44.012Z"
   },
   {
    "duration": 0,
    "start_time": "2022-09-04T09:27:44.014Z"
   },
   {
    "duration": 0,
    "start_time": "2022-09-04T09:27:44.017Z"
   },
   {
    "duration": 0,
    "start_time": "2022-09-04T09:27:44.018Z"
   },
   {
    "duration": 0,
    "start_time": "2022-09-04T09:27:44.020Z"
   },
   {
    "duration": 0,
    "start_time": "2022-09-04T09:27:44.021Z"
   },
   {
    "duration": 0,
    "start_time": "2022-09-04T09:27:44.023Z"
   },
   {
    "duration": 0,
    "start_time": "2022-09-04T09:27:44.024Z"
   },
   {
    "duration": 0,
    "start_time": "2022-09-04T09:27:44.025Z"
   },
   {
    "duration": 0,
    "start_time": "2022-09-04T09:27:44.027Z"
   },
   {
    "duration": 0,
    "start_time": "2022-09-04T09:27:44.028Z"
   },
   {
    "duration": 0,
    "start_time": "2022-09-04T09:27:44.030Z"
   },
   {
    "duration": 327,
    "start_time": "2022-09-04T09:30:12.474Z"
   },
   {
    "duration": 634,
    "start_time": "2022-09-04T09:30:25.648Z"
   },
   {
    "duration": 137,
    "start_time": "2022-09-04T09:30:26.284Z"
   },
   {
    "duration": 2160,
    "start_time": "2022-09-04T09:30:26.423Z"
   },
   {
    "duration": 94,
    "start_time": "2022-09-04T09:30:28.585Z"
   },
   {
    "duration": 33,
    "start_time": "2022-09-04T09:30:28.682Z"
   },
   {
    "duration": 11,
    "start_time": "2022-09-04T09:30:28.716Z"
   },
   {
    "duration": 38,
    "start_time": "2022-09-04T09:30:28.729Z"
   },
   {
    "duration": 150,
    "start_time": "2022-09-04T09:30:28.769Z"
   },
   {
    "duration": 128,
    "start_time": "2022-09-04T09:30:28.921Z"
   },
   {
    "duration": 146,
    "start_time": "2022-09-04T09:30:29.051Z"
   },
   {
    "duration": 124,
    "start_time": "2022-09-04T09:30:29.199Z"
   },
   {
    "duration": 512,
    "start_time": "2022-09-04T09:30:29.324Z"
   },
   {
    "duration": 0,
    "start_time": "2022-09-04T09:30:29.839Z"
   },
   {
    "duration": 0,
    "start_time": "2022-09-04T09:30:29.840Z"
   },
   {
    "duration": 0,
    "start_time": "2022-09-04T09:30:29.841Z"
   },
   {
    "duration": 0,
    "start_time": "2022-09-04T09:30:29.843Z"
   },
   {
    "duration": 0,
    "start_time": "2022-09-04T09:30:29.845Z"
   },
   {
    "duration": 0,
    "start_time": "2022-09-04T09:30:29.846Z"
   },
   {
    "duration": 0,
    "start_time": "2022-09-04T09:30:29.847Z"
   },
   {
    "duration": 0,
    "start_time": "2022-09-04T09:30:29.849Z"
   },
   {
    "duration": 0,
    "start_time": "2022-09-04T09:30:29.851Z"
   },
   {
    "duration": 0,
    "start_time": "2022-09-04T09:30:29.853Z"
   },
   {
    "duration": 0,
    "start_time": "2022-09-04T09:30:29.855Z"
   },
   {
    "duration": 0,
    "start_time": "2022-09-04T09:30:29.856Z"
   },
   {
    "duration": 0,
    "start_time": "2022-09-04T09:30:29.858Z"
   },
   {
    "duration": 0,
    "start_time": "2022-09-04T09:30:29.892Z"
   },
   {
    "duration": 0,
    "start_time": "2022-09-04T09:30:29.894Z"
   },
   {
    "duration": 0,
    "start_time": "2022-09-04T09:30:29.895Z"
   },
   {
    "duration": 0,
    "start_time": "2022-09-04T09:30:29.896Z"
   },
   {
    "duration": 0,
    "start_time": "2022-09-04T09:30:29.898Z"
   },
   {
    "duration": 0,
    "start_time": "2022-09-04T09:30:29.899Z"
   },
   {
    "duration": 0,
    "start_time": "2022-09-04T09:30:29.900Z"
   },
   {
    "duration": 0,
    "start_time": "2022-09-04T09:30:29.901Z"
   },
   {
    "duration": 0,
    "start_time": "2022-09-04T09:30:29.903Z"
   },
   {
    "duration": 0,
    "start_time": "2022-09-04T09:30:29.904Z"
   },
   {
    "duration": 0,
    "start_time": "2022-09-04T09:30:29.905Z"
   },
   {
    "duration": 0,
    "start_time": "2022-09-04T09:30:29.906Z"
   },
   {
    "duration": 0,
    "start_time": "2022-09-04T09:30:29.907Z"
   },
   {
    "duration": 337,
    "start_time": "2022-09-04T09:30:52.852Z"
   },
   {
    "duration": 197,
    "start_time": "2022-09-04T09:31:42.564Z"
   },
   {
    "duration": 221,
    "start_time": "2022-09-04T09:31:43.271Z"
   },
   {
    "duration": 698,
    "start_time": "2022-09-04T09:31:49.003Z"
   },
   {
    "duration": 139,
    "start_time": "2022-09-04T09:31:49.703Z"
   },
   {
    "duration": 2179,
    "start_time": "2022-09-04T09:31:49.844Z"
   },
   {
    "duration": 113,
    "start_time": "2022-09-04T09:31:52.027Z"
   },
   {
    "duration": 54,
    "start_time": "2022-09-04T09:31:52.142Z"
   },
   {
    "duration": 11,
    "start_time": "2022-09-04T09:31:52.199Z"
   },
   {
    "duration": 44,
    "start_time": "2022-09-04T09:31:52.212Z"
   },
   {
    "duration": 149,
    "start_time": "2022-09-04T09:31:52.258Z"
   },
   {
    "duration": 128,
    "start_time": "2022-09-04T09:31:52.408Z"
   },
   {
    "duration": 131,
    "start_time": "2022-09-04T09:31:52.539Z"
   },
   {
    "duration": 149,
    "start_time": "2022-09-04T09:31:52.672Z"
   },
   {
    "duration": 469,
    "start_time": "2022-09-04T09:31:52.823Z"
   },
   {
    "duration": 213,
    "start_time": "2022-09-04T09:31:53.294Z"
   },
   {
    "duration": 247,
    "start_time": "2022-09-04T09:31:53.509Z"
   },
   {
    "duration": 214,
    "start_time": "2022-09-04T09:31:53.758Z"
   },
   {
    "duration": 338,
    "start_time": "2022-09-04T09:31:53.974Z"
   },
   {
    "duration": 178,
    "start_time": "2022-09-04T09:31:54.314Z"
   },
   {
    "duration": 176,
    "start_time": "2022-09-04T09:31:54.494Z"
   },
   {
    "duration": 148,
    "start_time": "2022-09-04T09:31:54.672Z"
   },
   {
    "duration": 190,
    "start_time": "2022-09-04T09:31:54.822Z"
   },
   {
    "duration": 199,
    "start_time": "2022-09-04T09:31:55.014Z"
   },
   {
    "duration": 298,
    "start_time": "2022-09-04T09:31:55.215Z"
   },
   {
    "duration": 224,
    "start_time": "2022-09-04T09:31:55.515Z"
   },
   {
    "duration": 197,
    "start_time": "2022-09-04T09:31:55.740Z"
   },
   {
    "duration": 325,
    "start_time": "2022-09-04T09:31:55.939Z"
   },
   {
    "duration": 238,
    "start_time": "2022-09-04T09:31:56.266Z"
   },
   {
    "duration": 236,
    "start_time": "2022-09-04T09:31:56.505Z"
   },
   {
    "duration": 240,
    "start_time": "2022-09-04T09:31:56.744Z"
   },
   {
    "duration": 210,
    "start_time": "2022-09-04T09:31:56.992Z"
   },
   {
    "duration": 197,
    "start_time": "2022-09-04T09:31:57.204Z"
   },
   {
    "duration": 450,
    "start_time": "2022-09-04T09:31:57.403Z"
   },
   {
    "duration": 228,
    "start_time": "2022-09-04T09:31:57.855Z"
   },
   {
    "duration": 184,
    "start_time": "2022-09-04T09:31:58.091Z"
   },
   {
    "duration": 205,
    "start_time": "2022-09-04T09:31:58.277Z"
   },
   {
    "duration": 223,
    "start_time": "2022-09-04T09:31:58.491Z"
   },
   {
    "duration": 220,
    "start_time": "2022-09-04T09:31:58.716Z"
   },
   {
    "duration": 234,
    "start_time": "2022-09-04T09:31:58.939Z"
   },
   {
    "duration": 350,
    "start_time": "2022-09-04T09:31:59.176Z"
   },
   {
    "duration": 138,
    "start_time": "2022-09-04T09:38:00.597Z"
   },
   {
    "duration": 152,
    "start_time": "2022-09-04T09:38:18.066Z"
   },
   {
    "duration": 279,
    "start_time": "2022-09-04T09:38:31.732Z"
   },
   {
    "duration": 556,
    "start_time": "2022-09-04T11:42:33.980Z"
   },
   {
    "duration": 118,
    "start_time": "2022-09-04T11:42:34.537Z"
   },
   {
    "duration": 1674,
    "start_time": "2022-09-04T11:42:34.656Z"
   },
   {
    "duration": 79,
    "start_time": "2022-09-04T11:42:36.337Z"
   },
   {
    "duration": 42,
    "start_time": "2022-09-04T11:42:36.418Z"
   },
   {
    "duration": 10,
    "start_time": "2022-09-04T11:42:36.462Z"
   },
   {
    "duration": 33,
    "start_time": "2022-09-04T11:42:36.473Z"
   },
   {
    "duration": 130,
    "start_time": "2022-09-04T11:42:36.508Z"
   },
   {
    "duration": 103,
    "start_time": "2022-09-04T11:42:36.640Z"
   },
   {
    "duration": 107,
    "start_time": "2022-09-04T11:42:36.745Z"
   },
   {
    "duration": 102,
    "start_time": "2022-09-04T11:42:36.854Z"
   },
   {
    "duration": 368,
    "start_time": "2022-09-04T11:42:36.957Z"
   },
   {
    "duration": 159,
    "start_time": "2022-09-04T11:42:37.327Z"
   },
   {
    "duration": 182,
    "start_time": "2022-09-04T11:42:37.487Z"
   },
   {
    "duration": 177,
    "start_time": "2022-09-04T11:42:37.671Z"
   },
   {
    "duration": 229,
    "start_time": "2022-09-04T11:42:37.849Z"
   },
   {
    "duration": 140,
    "start_time": "2022-09-04T11:42:38.080Z"
   },
   {
    "duration": 140,
    "start_time": "2022-09-04T11:42:38.222Z"
   },
   {
    "duration": 115,
    "start_time": "2022-09-04T11:42:38.364Z"
   },
   {
    "duration": 161,
    "start_time": "2022-09-04T11:42:38.480Z"
   },
   {
    "duration": 149,
    "start_time": "2022-09-04T11:42:38.643Z"
   },
   {
    "duration": 271,
    "start_time": "2022-09-04T11:42:38.794Z"
   },
   {
    "duration": 172,
    "start_time": "2022-09-04T11:42:39.067Z"
   },
   {
    "duration": 166,
    "start_time": "2022-09-04T11:42:39.240Z"
   },
   {
    "duration": 238,
    "start_time": "2022-09-04T11:42:39.408Z"
   },
   {
    "duration": 185,
    "start_time": "2022-09-04T11:42:39.647Z"
   },
   {
    "duration": 171,
    "start_time": "2022-09-04T11:42:39.833Z"
   },
   {
    "duration": 161,
    "start_time": "2022-09-04T11:42:40.006Z"
   },
   {
    "duration": 171,
    "start_time": "2022-09-04T11:42:40.169Z"
   },
   {
    "duration": 145,
    "start_time": "2022-09-04T11:42:40.341Z"
   },
   {
    "duration": 337,
    "start_time": "2022-09-04T11:42:40.488Z"
   },
   {
    "duration": 157,
    "start_time": "2022-09-04T11:42:40.826Z"
   },
   {
    "duration": 137,
    "start_time": "2022-09-04T11:42:40.985Z"
   },
   {
    "duration": 146,
    "start_time": "2022-09-04T11:42:41.124Z"
   },
   {
    "duration": 144,
    "start_time": "2022-09-04T11:42:41.272Z"
   },
   {
    "duration": 186,
    "start_time": "2022-09-04T11:42:41.418Z"
   },
   {
    "duration": 187,
    "start_time": "2022-09-04T11:42:41.606Z"
   },
   {
    "duration": 245,
    "start_time": "2022-09-04T11:42:41.795Z"
   },
   {
    "duration": 13,
    "start_time": "2022-09-04T12:04:49.371Z"
   },
   {
    "duration": 71,
    "start_time": "2022-09-04T12:07:35.490Z"
   },
   {
    "duration": 7,
    "start_time": "2022-09-04T12:07:41.562Z"
   },
   {
    "duration": 11,
    "start_time": "2022-09-04T12:07:48.126Z"
   },
   {
    "duration": 7,
    "start_time": "2022-09-04T12:08:01.161Z"
   },
   {
    "duration": 3,
    "start_time": "2022-09-04T12:08:51.841Z"
   },
   {
    "duration": 4,
    "start_time": "2022-09-04T12:09:11.566Z"
   },
   {
    "duration": 5,
    "start_time": "2022-09-04T12:09:16.505Z"
   },
   {
    "duration": 6,
    "start_time": "2022-09-04T12:09:32.944Z"
   },
   {
    "duration": 168,
    "start_time": "2022-09-04T12:25:58.574Z"
   },
   {
    "duration": 20,
    "start_time": "2022-09-04T12:26:11.574Z"
   },
   {
    "duration": 170,
    "start_time": "2022-09-04T12:26:17.422Z"
   },
   {
    "duration": 4,
    "start_time": "2022-09-04T12:27:11.630Z"
   },
   {
    "duration": 202,
    "start_time": "2022-09-04T12:27:13.413Z"
   },
   {
    "duration": 57,
    "start_time": "2022-09-04T12:31:18.770Z"
   },
   {
    "duration": 125,
    "start_time": "2022-09-04T12:31:23.146Z"
   },
   {
    "duration": 119,
    "start_time": "2022-09-04T12:31:28.476Z"
   },
   {
    "duration": 45,
    "start_time": "2022-09-04T16:12:44.633Z"
   },
   {
    "duration": 9,
    "start_time": "2022-09-04T16:22:19.441Z"
   },
   {
    "duration": 8,
    "start_time": "2022-09-04T16:22:28.018Z"
   },
   {
    "duration": 7,
    "start_time": "2022-09-04T16:23:06.038Z"
   },
   {
    "duration": 727,
    "start_time": "2022-09-04T16:23:12.549Z"
   },
   {
    "duration": 177,
    "start_time": "2022-09-04T16:23:16.932Z"
   },
   {
    "duration": 271,
    "start_time": "2022-09-04T16:25:13.103Z"
   },
   {
    "duration": 273,
    "start_time": "2022-09-04T16:25:22.115Z"
   },
   {
    "duration": 270,
    "start_time": "2022-09-04T16:25:35.404Z"
   },
   {
    "duration": 265,
    "start_time": "2022-09-04T16:26:05.637Z"
   },
   {
    "duration": 158,
    "start_time": "2022-09-04T16:27:42.619Z"
   },
   {
    "duration": 124,
    "start_time": "2022-09-04T16:28:56.015Z"
   },
   {
    "duration": 140,
    "start_time": "2022-09-04T16:30:00.815Z"
   },
   {
    "duration": 164,
    "start_time": "2022-09-04T16:30:20.919Z"
   },
   {
    "duration": 180,
    "start_time": "2022-09-04T16:30:28.419Z"
   },
   {
    "duration": 148,
    "start_time": "2022-09-04T16:30:41.255Z"
   },
   {
    "duration": 167,
    "start_time": "2022-09-04T16:31:00.862Z"
   },
   {
    "duration": 154,
    "start_time": "2022-09-04T16:31:08.361Z"
   },
   {
    "duration": 138,
    "start_time": "2022-09-04T16:31:14.721Z"
   },
   {
    "duration": 127,
    "start_time": "2022-09-04T16:31:31.594Z"
   },
   {
    "duration": 126,
    "start_time": "2022-09-04T16:31:40.745Z"
   },
   {
    "duration": 145,
    "start_time": "2022-09-04T16:33:51.948Z"
   },
   {
    "duration": 80,
    "start_time": "2022-09-04T16:34:40.649Z"
   },
   {
    "duration": 87,
    "start_time": "2022-09-04T16:34:54.237Z"
   },
   {
    "duration": 177,
    "start_time": "2022-09-04T16:35:20.241Z"
   },
   {
    "duration": 860,
    "start_time": "2022-09-04T16:35:30.054Z"
   },
   {
    "duration": 133,
    "start_time": "2022-09-04T16:35:30.916Z"
   },
   {
    "duration": 1758,
    "start_time": "2022-09-04T16:35:31.051Z"
   },
   {
    "duration": 82,
    "start_time": "2022-09-04T16:35:32.810Z"
   },
   {
    "duration": 27,
    "start_time": "2022-09-04T16:35:32.894Z"
   },
   {
    "duration": 9,
    "start_time": "2022-09-04T16:35:32.923Z"
   },
   {
    "duration": 49,
    "start_time": "2022-09-04T16:35:32.933Z"
   },
   {
    "duration": 126,
    "start_time": "2022-09-04T16:35:32.983Z"
   },
   {
    "duration": 102,
    "start_time": "2022-09-04T16:35:33.110Z"
   },
   {
    "duration": 106,
    "start_time": "2022-09-04T16:35:33.213Z"
   },
   {
    "duration": 108,
    "start_time": "2022-09-04T16:35:33.321Z"
   },
   {
    "duration": 398,
    "start_time": "2022-09-04T16:35:33.430Z"
   },
   {
    "duration": 177,
    "start_time": "2022-09-04T16:35:33.829Z"
   },
   {
    "duration": 189,
    "start_time": "2022-09-04T16:35:34.009Z"
   },
   {
    "duration": 187,
    "start_time": "2022-09-04T16:35:34.200Z"
   },
   {
    "duration": 236,
    "start_time": "2022-09-04T16:35:34.389Z"
   },
   {
    "duration": 143,
    "start_time": "2022-09-04T16:35:34.627Z"
   },
   {
    "duration": 140,
    "start_time": "2022-09-04T16:35:34.771Z"
   },
   {
    "duration": 120,
    "start_time": "2022-09-04T16:35:34.913Z"
   },
   {
    "duration": 154,
    "start_time": "2022-09-04T16:35:35.035Z"
   },
   {
    "duration": 221,
    "start_time": "2022-09-04T16:35:35.190Z"
   },
   {
    "duration": 165,
    "start_time": "2022-09-04T16:35:35.413Z"
   },
   {
    "duration": 177,
    "start_time": "2022-09-04T16:35:35.579Z"
   },
   {
    "duration": 161,
    "start_time": "2022-09-04T16:35:35.757Z"
   },
   {
    "duration": 245,
    "start_time": "2022-09-04T16:35:35.919Z"
   },
   {
    "duration": 168,
    "start_time": "2022-09-04T16:35:36.165Z"
   },
   {
    "duration": 181,
    "start_time": "2022-09-04T16:35:36.335Z"
   },
   {
    "duration": 180,
    "start_time": "2022-09-04T16:35:36.517Z"
   },
   {
    "duration": 179,
    "start_time": "2022-09-04T16:35:36.699Z"
   },
   {
    "duration": 154,
    "start_time": "2022-09-04T16:35:36.879Z"
   },
   {
    "duration": 210,
    "start_time": "2022-09-04T16:35:37.034Z"
   },
   {
    "duration": 171,
    "start_time": "2022-09-04T16:35:37.246Z"
   },
   {
    "duration": 168,
    "start_time": "2022-09-04T16:35:37.419Z"
   },
   {
    "duration": 140,
    "start_time": "2022-09-04T16:35:37.588Z"
   },
   {
    "duration": 174,
    "start_time": "2022-09-04T16:35:37.729Z"
   },
   {
    "duration": 195,
    "start_time": "2022-09-04T16:35:37.904Z"
   },
   {
    "duration": 150,
    "start_time": "2022-09-04T16:35:38.101Z"
   },
   {
    "duration": 138,
    "start_time": "2022-09-04T16:38:01.024Z"
   },
   {
    "duration": 69,
    "start_time": "2022-09-04T16:38:44.921Z"
   },
   {
    "duration": 78,
    "start_time": "2022-09-04T16:38:47.918Z"
   },
   {
    "duration": 71,
    "start_time": "2022-09-04T16:39:02.555Z"
   },
   {
    "duration": 73,
    "start_time": "2022-09-04T16:39:08.407Z"
   },
   {
    "duration": 74,
    "start_time": "2022-09-04T16:39:13.232Z"
   },
   {
    "duration": 127,
    "start_time": "2022-09-04T16:39:23.314Z"
   },
   {
    "duration": 140,
    "start_time": "2022-09-04T16:39:33.009Z"
   },
   {
    "duration": 141,
    "start_time": "2022-09-04T16:39:55.072Z"
   },
   {
    "duration": 156,
    "start_time": "2022-09-04T16:40:20.958Z"
   },
   {
    "duration": 196,
    "start_time": "2022-09-04T16:40:40.110Z"
   },
   {
    "duration": 201,
    "start_time": "2022-09-04T16:40:45.814Z"
   },
   {
    "duration": 162,
    "start_time": "2022-09-04T16:40:55.230Z"
   },
   {
    "duration": 284,
    "start_time": "2022-09-04T19:44:17.587Z"
   },
   {
    "duration": 74,
    "start_time": "2022-09-04T19:44:46.216Z"
   },
   {
    "duration": 812,
    "start_time": "2022-09-04T19:45:35.927Z"
   },
   {
    "duration": 349,
    "start_time": "2022-09-04T19:45:36.741Z"
   },
   {
    "duration": 1846,
    "start_time": "2022-09-04T19:45:37.092Z"
   },
   {
    "duration": 85,
    "start_time": "2022-09-04T19:45:38.940Z"
   },
   {
    "duration": 29,
    "start_time": "2022-09-04T19:45:39.027Z"
   },
   {
    "duration": 10,
    "start_time": "2022-09-04T19:45:39.057Z"
   },
   {
    "duration": 53,
    "start_time": "2022-09-04T19:45:39.068Z"
   },
   {
    "duration": 120,
    "start_time": "2022-09-04T19:45:39.122Z"
   },
   {
    "duration": 121,
    "start_time": "2022-09-04T19:45:39.243Z"
   },
   {
    "duration": 122,
    "start_time": "2022-09-04T19:45:39.366Z"
   },
   {
    "duration": 102,
    "start_time": "2022-09-04T19:45:39.490Z"
   },
   {
    "duration": 396,
    "start_time": "2022-09-04T19:45:39.594Z"
   },
   {
    "duration": 188,
    "start_time": "2022-09-04T19:45:39.991Z"
   },
   {
    "duration": 214,
    "start_time": "2022-09-04T19:45:40.180Z"
   },
   {
    "duration": 180,
    "start_time": "2022-09-04T19:45:40.396Z"
   },
   {
    "duration": 251,
    "start_time": "2022-09-04T19:45:40.577Z"
   },
   {
    "duration": 146,
    "start_time": "2022-09-04T19:45:40.830Z"
   },
   {
    "duration": 146,
    "start_time": "2022-09-04T19:45:40.978Z"
   },
   {
    "duration": 117,
    "start_time": "2022-09-04T19:45:41.126Z"
   },
   {
    "duration": 163,
    "start_time": "2022-09-04T19:45:41.245Z"
   },
   {
    "duration": 161,
    "start_time": "2022-09-04T19:45:41.410Z"
   },
   {
    "duration": 241,
    "start_time": "2022-09-04T19:45:41.573Z"
   },
   {
    "duration": 179,
    "start_time": "2022-09-04T19:45:41.815Z"
   },
   {
    "duration": 176,
    "start_time": "2022-09-04T19:45:41.996Z"
   },
   {
    "duration": 265,
    "start_time": "2022-09-04T19:45:42.173Z"
   },
   {
    "duration": 171,
    "start_time": "2022-09-04T19:45:42.439Z"
   },
   {
    "duration": 182,
    "start_time": "2022-09-04T19:45:42.612Z"
   },
   {
    "duration": 173,
    "start_time": "2022-09-04T19:45:42.797Z"
   },
   {
    "duration": 168,
    "start_time": "2022-09-04T19:45:42.971Z"
   },
   {
    "duration": 150,
    "start_time": "2022-09-04T19:45:43.141Z"
   },
   {
    "duration": 166,
    "start_time": "2022-09-04T19:45:43.293Z"
   },
   {
    "duration": 207,
    "start_time": "2022-09-04T19:45:43.461Z"
   },
   {
    "duration": 149,
    "start_time": "2022-09-04T19:45:43.670Z"
   },
   {
    "duration": 150,
    "start_time": "2022-09-04T19:45:43.821Z"
   },
   {
    "duration": 187,
    "start_time": "2022-09-04T19:45:43.973Z"
   },
   {
    "duration": 191,
    "start_time": "2022-09-04T19:45:44.161Z"
   },
   {
    "duration": 166,
    "start_time": "2022-09-04T19:45:44.354Z"
   },
   {
    "duration": 5,
    "start_time": "2022-09-04T19:45:54.609Z"
   }
  ],
  "kernelspec": {
   "display_name": "Python 3 (ipykernel)",
   "language": "python",
   "name": "python3"
  },
  "language_info": {
   "codemirror_mode": {
    "name": "ipython",
    "version": 3
   },
   "file_extension": ".py",
   "mimetype": "text/x-python",
   "name": "python",
   "nbconvert_exporter": "python",
   "pygments_lexer": "ipython3",
   "version": "3.9.12"
  },
  "toc": {
   "base_numbering": 1,
   "nav_menu": {},
   "number_sections": true,
   "sideBar": true,
   "skip_h1_title": true,
   "title_cell": "Table of Contents",
   "title_sidebar": "Contents",
   "toc_cell": false,
   "toc_position": {
    "height": "calc(100% - 180px)",
    "left": "10px",
    "top": "150px",
    "width": "165px"
   },
   "toc_section_display": true,
   "toc_window_display": true
  }
 },
 "nbformat": 4,
 "nbformat_minor": 2
}
