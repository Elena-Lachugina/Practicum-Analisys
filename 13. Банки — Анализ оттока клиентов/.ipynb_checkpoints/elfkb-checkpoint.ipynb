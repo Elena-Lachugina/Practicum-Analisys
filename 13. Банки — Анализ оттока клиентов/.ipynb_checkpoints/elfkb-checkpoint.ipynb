{
 "cells": [
  {
   "cell_type": "markdown",
   "metadata": {},
   "source": [
    "# Банки — Анализ оттока клиентов\n",
    "## Описание проекта\n",
    "\n",
    "Наш проект в облрсту аналитики проходит в одином из лучших банков страны «Метанпромбанк»!🏦\n",
    "Банк располагается в Ярославле и областных городах: Ростов Великий и Рыбинск.\n",
    "\n",
    "Нашей главной задачей станет анализ оттока клиентов. \n",
    "\n",
    "Анализ покажет, как клиенты пользуются услугами банка, а так же поможет нам составить портрет клиентов, которые склонны уходить из банка.\n",
    "\n",
    "«Метанпромбанк» — деньги не пахнут!\n",
    "\n",
    "## Описание данных\n",
    "\n",
    "\n",
    "Датасет содержит данные о клиентах банка «Метанпром». \n",
    "\n",
    "\n",
    "Колонки:\n",
    "\n",
    "- `userid` — идентификатор пользователя,\n",
    "- `score` — баллы кредитного скоринга,\n",
    "- `City` — город,\n",
    "- `Gender` — пол,\n",
    "- `Age` — возраст,\n",
    "- `Objects` — количество объектов в собственности,\n",
    "- `Balance` — баланс на счёте,\n",
    "- `Products` — количество продуктов, которыми пользуется клиент,\n",
    "- `CreditCard` — есть ли кредитная карта,\n",
    "- `Loyalty` — активный клиент,\n",
    "- `estimated_salary` — заработная плата клиента,\n",
    "- `Churn` — ушёл или нет.\n",
    "\n",
    "\n",
    "## Декомпозиция\n",
    "\n",
    "Задача:\n",
    "- Проанализируйте клиентов регионального банка и выделите сегменты клиентов, которые склонны уходить из банка\n",
    "- Найти максимально эффективные сегменты оттока больше 60-70%\n",
    "\n",
    "**Заказчик**:\n",
    "Отдел маркетинга банка\n",
    "\n",
    "1. Знакомство с данными\n",
    " - выргузка данных\n",
    " - первичный осмотр на пропуски, дубликаты\n",
    " - предобработка данных (типы, аномалии)\n",
    "\n",
    "\n",
    "2. Исследовательский анализ данных (EDA)\n",
    " - проверить распределения\n",
    " - найти какие признаки больше всего влияют на уход клиентов\n",
    " - выявить сегменты пользователей и процент оттока в них\n",
    " - получить общую картину пользьзователей с разбивкой на сегменты\n",
    " \n",
    " \n",
    "3. Изучить сегменты отткока отдельно и подборно\n",
    " - применить графики для визуализации\n",
    " - составить матрицу корреляции\n",
    " - выделите портреты клиентов, которые склонны уходить из банка\n",
    " \n",
    " \n",
    "4. Сформулировать гипотезы и проверить их\n",
    " - Проверьте гипотезу различия дохода между теми клиентами, которые ушли и теми, которые остались.\n",
    " - Сформулируйте и проверьте статистическую гипотезу относительно представленных данных\n",
    "\n",
    "\n",
    "5. Сформулировать выводы и рекомендации (если возможно)\n",
    "\n",
    "**По итогам** исследования подготовить **презентацию и дашборд** для отдела маркентинга «Метанпромбанк»."
   ]
  },
  {
   "cell_type": "code",
   "execution_count": null,
   "metadata": {},
   "outputs": [],
   "source": []
  },
  {
   "cell_type": "markdown",
   "metadata": {},
   "source": []
  },
  {
   "cell_type": "code",
   "execution_count": 1,
   "metadata": {},
   "outputs": [],
   "source": [
    "import pandas as pd\n",
    "import seaborn as sns\n",
    "import matplotlib.pyplot as plt\n",
    "import numpy as np\n",
    "import math as mth\n",
    "import plotly.express as px\n",
    "\n",
    "from scipy import stats as st\n",
    "from plotly import graph_objects as go"
   ]
  },
  {
   "cell_type": "code",
   "execution_count": 2,
   "metadata": {},
   "outputs": [],
   "source": [
    "df = pd.read_csv('https://code.s3.yandex.net/datasets/bank_dataset.csv')"
   ]
  },
  {
   "cell_type": "code",
   "execution_count": 3,
   "metadata": {},
   "outputs": [
    {
     "name": "stdout",
     "output_type": "stream",
     "text": [
      "<class 'pandas.core.frame.DataFrame'>\n",
      "RangeIndex: 10000 entries, 0 to 9999\n",
      "Data columns (total 12 columns):\n",
      " #   Column            Non-Null Count  Dtype  \n",
      "---  ------            --------------  -----  \n",
      " 0   userid            10000 non-null  int64  \n",
      " 1   score             10000 non-null  int64  \n",
      " 2   City              10000 non-null  object \n",
      " 3   Gender            10000 non-null  object \n",
      " 4   Age               10000 non-null  int64  \n",
      " 5   Objects           10000 non-null  int64  \n",
      " 6   Balance           6383 non-null   float64\n",
      " 7   Products          10000 non-null  int64  \n",
      " 8   CreditCard        10000 non-null  int64  \n",
      " 9   Loyalty           10000 non-null  int64  \n",
      " 10  estimated_salary  10000 non-null  float64\n",
      " 11  Churn             10000 non-null  int64  \n",
      "dtypes: float64(2), int64(8), object(2)\n",
      "memory usage: 937.6+ KB\n"
     ]
    }
   ],
   "source": [
    "df.info()"
   ]
  },
  {
   "cell_type": "code",
   "execution_count": null,
   "metadata": {},
   "outputs": [],
   "source": []
  }
 ],
 "metadata": {
  "ExecuteTimeLog": [
   {
    "duration": 71,
    "start_time": "2023-01-20T15:16:13.186Z"
   },
   {
    "duration": 1510,
    "start_time": "2023-01-20T15:16:30.684Z"
   },
   {
    "duration": 2147,
    "start_time": "2023-01-20T15:16:32.957Z"
   },
   {
    "duration": 1827,
    "start_time": "2023-01-20T15:17:43.742Z"
   },
   {
    "duration": 1430,
    "start_time": "2023-01-23T09:21:34.640Z"
   },
   {
    "duration": 81,
    "start_time": "2023-01-23T09:21:51.173Z"
   },
   {
    "duration": 15,
    "start_time": "2023-01-23T09:22:01.396Z"
   }
  ],
  "kernelspec": {
   "display_name": "Python 3 (ipykernel)",
   "language": "python",
   "name": "python3"
  },
  "language_info": {
   "codemirror_mode": {
    "name": "ipython",
    "version": 3
   },
   "file_extension": ".py",
   "mimetype": "text/x-python",
   "name": "python",
   "nbconvert_exporter": "python",
   "pygments_lexer": "ipython3",
   "version": "3.9.12"
  },
  "toc": {
   "base_numbering": 1,
   "nav_menu": {},
   "number_sections": true,
   "sideBar": true,
   "skip_h1_title": true,
   "title_cell": "Table of Contents",
   "title_sidebar": "Contents",
   "toc_cell": false,
   "toc_position": {},
   "toc_section_display": true,
   "toc_window_display": false
  }
 },
 "nbformat": 4,
 "nbformat_minor": 2
}
