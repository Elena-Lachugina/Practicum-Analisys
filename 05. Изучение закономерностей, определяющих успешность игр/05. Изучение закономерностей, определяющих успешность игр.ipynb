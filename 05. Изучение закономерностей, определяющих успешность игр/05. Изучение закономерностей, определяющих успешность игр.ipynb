{
 "cells": [
  {
   "cell_type": "markdown",
   "metadata": {
    "id": "-mM3mnLVPqXe"
   },
   "source": [
    "# Изучение закономерностей, определяющих успешность игр\n",
    "\n",
    "## Описание проекта\n",
    "Интернет-магазин «Стримчик», который продаёт по всему миру компьютерные игры. Из открытых источников доступны исторические данные о продажах игр, оценки пользователей и экспертов, жанры и платформы (например, Xbox или PlayStation). Нам нужно выявить определяющие успешность игры закономерности. Это позволит сделать ставку на потенциально популярный продукт и спланировать рекламные кампании.<br><br>\n",
    "Перед нами данные до 2016 года. Представим, что сейчас декабрь 2016 г., и мы планируем кампанию на 2017-й. Нужно отработать принцип работы с данными. Не важно, прогнозируем ли мы продажи на 2017 год по данным 2016-го или же 2027-й — по данным 2026 года.<br><br>\n",
    "В наборе данных попадается аббревиатура ESRB (Entertainment Software Rating Board) — это ассоциация, определяющая возрастной рейтинг компьютерных игр. ESRB оценивает игровой контент и присваивает ему подходящую возрастную категорию, например, «Для взрослых», «Для детей младшего возраста» или «Для подростков»."
   ]
  },
  {
   "cell_type": "markdown",
   "metadata": {
    "id": "MfJGOpwFPqXf"
   },
   "source": [
    "<h3>Описание данных</h3><br><br>\n",
    "<b>Name</b> — название игры<br>\n",
    "<b>Platform</b> — платформа<br>\n",
    "<b>Year_of_Release</b> — год выпуска<br>\n",
    "<b>Genre</b> — жанр игры<br>\n",
    "<b>NA_sales</b> — продажи в Северной Америке (миллионы долларов)<br>\n",
    "<b>EU_sales</b> — продажи в Европе (миллионы долларов)<br>\n",
    "<b>JP_sales</b> — продажи в Японии (миллионы долларов)<br>\n",
    "<b>Other_sales</b> — продажи в других странах (миллионы долларов)<br>\n",
    "<b>Critic_Score</b> — оценка критиков (максимум 100)<br>\n",
    "<b>User_Score</b> — оценка пользователей (максимум 10)<br>\n",
    "<b>Rating</b> — рейтинг от организации ESRB (англ. Entertainment Software Rating Board). Эта ассоциация определяет рейтинг компьютерных игр и присваивает им подходящую возрастную категорию.<br><br>\n",
    "    <i>* Данные за 2016 год могут быть неполными.</i><br>"
   ]
  },
  {
   "cell_type": "markdown",
   "metadata": {
    "id": "9cySuH4mPqXi"
   },
   "source": [
    "## Загружаем библиотеки и данные"
   ]
  },
  {
   "cell_type": "code",
   "execution_count": 1,
   "metadata": {
    "_cell_guid": "79c7e3d0-c299-4dcb-8224-4455121ee9b0",
    "_uuid": "d629ff2d2480ee46fbb7e2d37f6b5fab8052498a",
    "id": "Exk5ZGfbPqXi"
   },
   "outputs": [],
   "source": [
    "import pandas as pd\n",
    "import matplotlib.pyplot as plt\n",
    "import seaborn as sns\n",
    "import numpy as np\n",
    "from scipy import stats as st"
   ]
  },
  {
   "cell_type": "code",
   "execution_count": 2,
   "metadata": {
    "id": "6KMkmerMPqXj"
   },
   "outputs": [],
   "source": [
    "df = pd.read_csv('https://code.s3.yandex.net/datasets/games.csv')"
   ]
  },
  {
   "cell_type": "code",
   "execution_count": 4,
   "metadata": {
    "colab": {
     "base_uri": "https://localhost:8080/",
     "height": 990
    },
    "id": "GM8cM4DhQ9w8",
    "outputId": "95e482dc-44e5-44dd-b395-61474a1e7e01",
    "scrolled": false
   },
   "outputs": [
    {
     "data": {
      "text/html": [
       "<div>\n",
       "<style scoped>\n",
       "    .dataframe tbody tr th:only-of-type {\n",
       "        vertical-align: middle;\n",
       "    }\n",
       "\n",
       "    .dataframe tbody tr th {\n",
       "        vertical-align: top;\n",
       "    }\n",
       "\n",
       "    .dataframe thead th {\n",
       "        text-align: right;\n",
       "    }\n",
       "</style>\n",
       "<table border=\"1\" class=\"dataframe\">\n",
       "  <thead>\n",
       "    <tr style=\"text-align: right;\">\n",
       "      <th></th>\n",
       "      <th>Name</th>\n",
       "      <th>Platform</th>\n",
       "      <th>Year_of_Release</th>\n",
       "      <th>Genre</th>\n",
       "      <th>NA_sales</th>\n",
       "      <th>EU_sales</th>\n",
       "      <th>JP_sales</th>\n",
       "      <th>Other_sales</th>\n",
       "      <th>Critic_Score</th>\n",
       "      <th>User_Score</th>\n",
       "      <th>Rating</th>\n",
       "    </tr>\n",
       "  </thead>\n",
       "  <tbody>\n",
       "    <tr>\n",
       "      <th>0</th>\n",
       "      <td>Wii Sports</td>\n",
       "      <td>Wii</td>\n",
       "      <td>2006.0</td>\n",
       "      <td>Sports</td>\n",
       "      <td>41.36</td>\n",
       "      <td>28.96</td>\n",
       "      <td>3.77</td>\n",
       "      <td>8.45</td>\n",
       "      <td>76.0</td>\n",
       "      <td>8</td>\n",
       "      <td>E</td>\n",
       "    </tr>\n",
       "    <tr>\n",
       "      <th>1</th>\n",
       "      <td>Super Mario Bros.</td>\n",
       "      <td>NES</td>\n",
       "      <td>1985.0</td>\n",
       "      <td>Platform</td>\n",
       "      <td>29.08</td>\n",
       "      <td>3.58</td>\n",
       "      <td>6.81</td>\n",
       "      <td>0.77</td>\n",
       "      <td>NaN</td>\n",
       "      <td>NaN</td>\n",
       "      <td>NaN</td>\n",
       "    </tr>\n",
       "    <tr>\n",
       "      <th>2</th>\n",
       "      <td>Mario Kart Wii</td>\n",
       "      <td>Wii</td>\n",
       "      <td>2008.0</td>\n",
       "      <td>Racing</td>\n",
       "      <td>15.68</td>\n",
       "      <td>12.76</td>\n",
       "      <td>3.79</td>\n",
       "      <td>3.29</td>\n",
       "      <td>82.0</td>\n",
       "      <td>8.3</td>\n",
       "      <td>E</td>\n",
       "    </tr>\n",
       "    <tr>\n",
       "      <th>3</th>\n",
       "      <td>Wii Sports Resort</td>\n",
       "      <td>Wii</td>\n",
       "      <td>2009.0</td>\n",
       "      <td>Sports</td>\n",
       "      <td>15.61</td>\n",
       "      <td>10.93</td>\n",
       "      <td>3.28</td>\n",
       "      <td>2.95</td>\n",
       "      <td>80.0</td>\n",
       "      <td>8</td>\n",
       "      <td>E</td>\n",
       "    </tr>\n",
       "    <tr>\n",
       "      <th>4</th>\n",
       "      <td>Pokemon Red/Pokemon Blue</td>\n",
       "      <td>GB</td>\n",
       "      <td>1996.0</td>\n",
       "      <td>Role-Playing</td>\n",
       "      <td>11.27</td>\n",
       "      <td>8.89</td>\n",
       "      <td>10.22</td>\n",
       "      <td>1.00</td>\n",
       "      <td>NaN</td>\n",
       "      <td>NaN</td>\n",
       "      <td>NaN</td>\n",
       "    </tr>\n",
       "  </tbody>\n",
       "</table>\n",
       "</div>"
      ],
      "text/plain": [
       "                       Name Platform  Year_of_Release         Genre  NA_sales  \\\n",
       "0                Wii Sports      Wii           2006.0        Sports     41.36   \n",
       "1         Super Mario Bros.      NES           1985.0      Platform     29.08   \n",
       "2            Mario Kart Wii      Wii           2008.0        Racing     15.68   \n",
       "3         Wii Sports Resort      Wii           2009.0        Sports     15.61   \n",
       "4  Pokemon Red/Pokemon Blue       GB           1996.0  Role-Playing     11.27   \n",
       "\n",
       "   EU_sales  JP_sales  Other_sales  Critic_Score User_Score Rating  \n",
       "0     28.96      3.77         8.45          76.0          8      E  \n",
       "1      3.58      6.81         0.77           NaN        NaN    NaN  \n",
       "2     12.76      3.79         3.29          82.0        8.3      E  \n",
       "3     10.93      3.28         2.95          80.0          8      E  \n",
       "4      8.89     10.22         1.00           NaN        NaN    NaN  "
      ]
     },
     "execution_count": 4,
     "metadata": {},
     "output_type": "execute_result"
    }
   ],
   "source": [
    "df.head(5)"
   ]
  },
  {
   "cell_type": "code",
   "execution_count": 5,
   "metadata": {
    "colab": {
     "base_uri": "https://localhost:8080/"
    },
    "id": "s7FhN5bvPqXk",
    "outputId": "b66d9e1c-ae51-4bc6-a117-fa6e9a6ccaf6"
   },
   "outputs": [
    {
     "name": "stdout",
     "output_type": "stream",
     "text": [
      "<class 'pandas.core.frame.DataFrame'>\n",
      "RangeIndex: 16715 entries, 0 to 16714\n",
      "Data columns (total 11 columns):\n",
      " #   Column           Non-Null Count  Dtype  \n",
      "---  ------           --------------  -----  \n",
      " 0   Name             16713 non-null  object \n",
      " 1   Platform         16715 non-null  object \n",
      " 2   Year_of_Release  16446 non-null  float64\n",
      " 3   Genre            16713 non-null  object \n",
      " 4   NA_sales         16715 non-null  float64\n",
      " 5   EU_sales         16715 non-null  float64\n",
      " 6   JP_sales         16715 non-null  float64\n",
      " 7   Other_sales      16715 non-null  float64\n",
      " 8   Critic_Score     8137 non-null   float64\n",
      " 9   User_Score       10014 non-null  object \n",
      " 10  Rating           9949 non-null   object \n",
      "dtypes: float64(6), object(5)\n",
      "memory usage: 1.4+ MB\n"
     ]
    }
   ],
   "source": [
    "# Посмотрим информацию о нашей таблице\n",
    "df.info()"
   ]
  },
  {
   "cell_type": "code",
   "execution_count": 6,
   "metadata": {
    "colab": {
     "base_uri": "https://localhost:8080/",
     "height": 394
    },
    "id": "HLf6IK34RDcm",
    "outputId": "e335b485-4aaf-4fda-fb02-85112c051cb5"
   },
   "outputs": [
    {
     "data": {
      "text/html": [
       "<style  type=\"text/css\" >\n",
       "#T_d687c_row0_col0,#T_d687c_row1_col0,#T_d687c_row3_col0,#T_d687c_row4_col0,#T_d687c_row5_col0,#T_d687c_row6_col0,#T_d687c_row7_col0{\n",
       "            background-color:  #3b4cc0;\n",
       "            color:  #f1f1f1;\n",
       "        }#T_d687c_row2_col0{\n",
       "            background-color:  #445acc;\n",
       "            color:  #f1f1f1;\n",
       "        }#T_d687c_row8_col0{\n",
       "            background-color:  #b40426;\n",
       "            color:  #f1f1f1;\n",
       "        }#T_d687c_row9_col0{\n",
       "            background-color:  #f18d6f;\n",
       "            color:  #000000;\n",
       "        }#T_d687c_row10_col0{\n",
       "            background-color:  #f08a6c;\n",
       "            color:  #000000;\n",
       "        }</style><table id=\"T_d687c_\" ><thead>    <tr>        <th class=\"blank level0\" ></th>        <th class=\"col_heading level0 col0\" >0</th>    </tr></thead><tbody>\n",
       "                <tr>\n",
       "                        <th id=\"T_d687c_level0_row0\" class=\"row_heading level0 row0\" >Name</th>\n",
       "                        <td id=\"T_d687c_row0_col0\" class=\"data row0 col0\" >0.0%</td>\n",
       "            </tr>\n",
       "            <tr>\n",
       "                        <th id=\"T_d687c_level0_row1\" class=\"row_heading level0 row1\" >Platform</th>\n",
       "                        <td id=\"T_d687c_row1_col0\" class=\"data row1 col0\" >0.0%</td>\n",
       "            </tr>\n",
       "            <tr>\n",
       "                        <th id=\"T_d687c_level0_row2\" class=\"row_heading level0 row2\" >Year_of_Release</th>\n",
       "                        <td id=\"T_d687c_row2_col0\" class=\"data row2 col0\" >1.6%</td>\n",
       "            </tr>\n",
       "            <tr>\n",
       "                        <th id=\"T_d687c_level0_row3\" class=\"row_heading level0 row3\" >Genre</th>\n",
       "                        <td id=\"T_d687c_row3_col0\" class=\"data row3 col0\" >0.0%</td>\n",
       "            </tr>\n",
       "            <tr>\n",
       "                        <th id=\"T_d687c_level0_row4\" class=\"row_heading level0 row4\" >NA_sales</th>\n",
       "                        <td id=\"T_d687c_row4_col0\" class=\"data row4 col0\" >0.0%</td>\n",
       "            </tr>\n",
       "            <tr>\n",
       "                        <th id=\"T_d687c_level0_row5\" class=\"row_heading level0 row5\" >EU_sales</th>\n",
       "                        <td id=\"T_d687c_row5_col0\" class=\"data row5 col0\" >0.0%</td>\n",
       "            </tr>\n",
       "            <tr>\n",
       "                        <th id=\"T_d687c_level0_row6\" class=\"row_heading level0 row6\" >JP_sales</th>\n",
       "                        <td id=\"T_d687c_row6_col0\" class=\"data row6 col0\" >0.0%</td>\n",
       "            </tr>\n",
       "            <tr>\n",
       "                        <th id=\"T_d687c_level0_row7\" class=\"row_heading level0 row7\" >Other_sales</th>\n",
       "                        <td id=\"T_d687c_row7_col0\" class=\"data row7 col0\" >0.0%</td>\n",
       "            </tr>\n",
       "            <tr>\n",
       "                        <th id=\"T_d687c_level0_row8\" class=\"row_heading level0 row8\" >Critic_Score</th>\n",
       "                        <td id=\"T_d687c_row8_col0\" class=\"data row8 col0\" >51.3%</td>\n",
       "            </tr>\n",
       "            <tr>\n",
       "                        <th id=\"T_d687c_level0_row9\" class=\"row_heading level0 row9\" >User_Score</th>\n",
       "                        <td id=\"T_d687c_row9_col0\" class=\"data row9 col0\" >40.1%</td>\n",
       "            </tr>\n",
       "            <tr>\n",
       "                        <th id=\"T_d687c_level0_row10\" class=\"row_heading level0 row10\" >Rating</th>\n",
       "                        <td id=\"T_d687c_row10_col0\" class=\"data row10 col0\" >40.5%</td>\n",
       "            </tr>\n",
       "    </tbody></table>"
      ],
      "text/plain": [
       "<pandas.io.formats.style.Styler at 0x7f284540f220>"
      ]
     },
     "execution_count": 6,
     "metadata": {},
     "output_type": "execute_result"
    }
   ],
   "source": [
    "# примерная оценка пропусков\n",
    "pd.DataFrame(df.isna().mean()).style.background_gradient('coolwarm').format({0:'{:.1%}'})"
   ]
  },
  {
   "cell_type": "code",
   "execution_count": 7,
   "metadata": {
    "colab": {
     "base_uri": "https://localhost:8080/"
    },
    "id": "XIh3mkZxPqXl",
    "outputId": "0c3bca2d-7416-4978-c216-c02989afb575"
   },
   "outputs": [
    {
     "data": {
      "text/plain": [
       "Name                  2\n",
       "Platform              0\n",
       "Year_of_Release     269\n",
       "Genre                 2\n",
       "NA_sales              0\n",
       "EU_sales              0\n",
       "JP_sales              0\n",
       "Other_sales           0\n",
       "Critic_Score       8578\n",
       "User_Score         6701\n",
       "Rating             6766\n",
       "dtype: int64"
      ]
     },
     "execution_count": 7,
     "metadata": {},
     "output_type": "execute_result"
    }
   ],
   "source": [
    "#Посмотрим на количество пустых значений\n",
    "df.isna().sum()"
   ]
  },
  {
   "cell_type": "code",
   "execution_count": 8,
   "metadata": {
    "colab": {
     "base_uri": "https://localhost:8080/"
    },
    "id": "AR5reR7YPqXm",
    "outputId": "e0d3aa34-cfc3-4c22-fff0-c08c7438e349"
   },
   "outputs": [
    {
     "data": {
      "text/plain": [
       "0"
      ]
     },
     "execution_count": 8,
     "metadata": {},
     "output_type": "execute_result"
    }
   ],
   "source": [
    "#Посмотрим на колличество дубликатов\n",
    "df.duplicated().sum()"
   ]
  },
  {
   "cell_type": "markdown",
   "metadata": {
    "id": "97sJB7FJPqXn"
   },
   "source": [
    "## Предобработка данных"
   ]
  },
  {
   "cell_type": "code",
   "execution_count": 6,
   "metadata": {
    "colab": {
     "base_uri": "https://localhost:8080/"
    },
    "id": "Xu6Dv5tbPqXx",
    "outputId": "fee780ff-2811-4fbb-e626-42d096be72d5"
   },
   "outputs": [
    {
     "data": {
      "text/plain": [
       "Index(['name', 'platform', 'year_of_release', 'genre', 'na_sales', 'eu_sales',\n",
       "       'jp_sales', 'other_sales', 'critic_score', 'user_score', 'rating'],\n",
       "      dtype='object')"
      ]
     },
     "execution_count": 6,
     "metadata": {},
     "output_type": "execute_result"
    }
   ],
   "source": [
    "# Заменим названия столбцов (приведем к нижнему регистру) \n",
    "df.columns = df.columns.str.lower()\n",
    "df.columns"
   ]
  },
  {
   "cell_type": "code",
   "execution_count": 7,
   "metadata": {
    "id": "J_U0GSO7jM0y"
   },
   "outputs": [],
   "source": [
    "# Приведем столбцы к нижнему регистру\n",
    "for column in df[['platform','genre']]:\n",
    "    df[column] = df[column].str.lower()"
   ]
  },
  {
   "cell_type": "code",
   "execution_count": 8,
   "metadata": {
    "id": "0-BcqQwajUfo"
   },
   "outputs": [],
   "source": [
    "# Изменим тип данных в столбце year_of_release, что бы год выглядел нормально\n",
    "df['year_of_release'] = df['year_of_release'].astype('Int64')\n",
    "#Заменим tbd(означает что данные были пропущенны специально) на Nan\n",
    "df['user_score'] = df['user_score'].replace('tbd', np.nan, regex=True)\n",
    "# Поменяем формат столбца user_score на float\n",
    "df['user_score'] = df['user_score'].astype(float)"
   ]
  },
  {
   "cell_type": "code",
   "execution_count": 9,
   "metadata": {
    "id": "9I_vdfzxjWe8"
   },
   "outputs": [],
   "source": [
    "#Создадим новый столбец total_sales и сложим продажи всех столбцов\n",
    "df['total_sales'] = df['na_sales'] + df['eu_sales'] + df['jp_sales'] + df['other_sales']"
   ]
  },
  {
   "cell_type": "code",
   "execution_count": 10,
   "metadata": {
    "colab": {
     "base_uri": "https://localhost:8080/",
     "height": 206
    },
    "id": "tkC6vSD2jaYK",
    "outputId": "c7daf36e-e9b0-4cf8-b0f8-6946b694014e"
   },
   "outputs": [
    {
     "data": {
      "text/html": [
       "<div>\n",
       "<style scoped>\n",
       "    .dataframe tbody tr th:only-of-type {\n",
       "        vertical-align: middle;\n",
       "    }\n",
       "\n",
       "    .dataframe tbody tr th {\n",
       "        vertical-align: top;\n",
       "    }\n",
       "\n",
       "    .dataframe thead th {\n",
       "        text-align: right;\n",
       "    }\n",
       "</style>\n",
       "<table border=\"1\" class=\"dataframe\">\n",
       "  <thead>\n",
       "    <tr style=\"text-align: right;\">\n",
       "      <th></th>\n",
       "      <th>name</th>\n",
       "      <th>platform</th>\n",
       "      <th>year_of_release</th>\n",
       "      <th>genre</th>\n",
       "      <th>na_sales</th>\n",
       "      <th>eu_sales</th>\n",
       "      <th>jp_sales</th>\n",
       "      <th>other_sales</th>\n",
       "      <th>critic_score</th>\n",
       "      <th>user_score</th>\n",
       "      <th>rating</th>\n",
       "      <th>total_sales</th>\n",
       "    </tr>\n",
       "  </thead>\n",
       "  <tbody>\n",
       "    <tr>\n",
       "      <th>0</th>\n",
       "      <td>Wii Sports</td>\n",
       "      <td>wii</td>\n",
       "      <td>2006</td>\n",
       "      <td>sports</td>\n",
       "      <td>41.36</td>\n",
       "      <td>28.96</td>\n",
       "      <td>3.77</td>\n",
       "      <td>8.45</td>\n",
       "      <td>76.0</td>\n",
       "      <td>8.0</td>\n",
       "      <td>E</td>\n",
       "      <td>82.54</td>\n",
       "    </tr>\n",
       "    <tr>\n",
       "      <th>1</th>\n",
       "      <td>Super Mario Bros.</td>\n",
       "      <td>nes</td>\n",
       "      <td>1985</td>\n",
       "      <td>platform</td>\n",
       "      <td>29.08</td>\n",
       "      <td>3.58</td>\n",
       "      <td>6.81</td>\n",
       "      <td>0.77</td>\n",
       "      <td>NaN</td>\n",
       "      <td>NaN</td>\n",
       "      <td>NaN</td>\n",
       "      <td>40.24</td>\n",
       "    </tr>\n",
       "    <tr>\n",
       "      <th>2</th>\n",
       "      <td>Mario Kart Wii</td>\n",
       "      <td>wii</td>\n",
       "      <td>2008</td>\n",
       "      <td>racing</td>\n",
       "      <td>15.68</td>\n",
       "      <td>12.76</td>\n",
       "      <td>3.79</td>\n",
       "      <td>3.29</td>\n",
       "      <td>82.0</td>\n",
       "      <td>8.3</td>\n",
       "      <td>E</td>\n",
       "      <td>35.52</td>\n",
       "    </tr>\n",
       "    <tr>\n",
       "      <th>3</th>\n",
       "      <td>Wii Sports Resort</td>\n",
       "      <td>wii</td>\n",
       "      <td>2009</td>\n",
       "      <td>sports</td>\n",
       "      <td>15.61</td>\n",
       "      <td>10.93</td>\n",
       "      <td>3.28</td>\n",
       "      <td>2.95</td>\n",
       "      <td>80.0</td>\n",
       "      <td>8.0</td>\n",
       "      <td>E</td>\n",
       "      <td>32.77</td>\n",
       "    </tr>\n",
       "    <tr>\n",
       "      <th>4</th>\n",
       "      <td>Pokemon Red/Pokemon Blue</td>\n",
       "      <td>gb</td>\n",
       "      <td>1996</td>\n",
       "      <td>role-playing</td>\n",
       "      <td>11.27</td>\n",
       "      <td>8.89</td>\n",
       "      <td>10.22</td>\n",
       "      <td>1.00</td>\n",
       "      <td>NaN</td>\n",
       "      <td>NaN</td>\n",
       "      <td>NaN</td>\n",
       "      <td>31.38</td>\n",
       "    </tr>\n",
       "  </tbody>\n",
       "</table>\n",
       "</div>"
      ],
      "text/plain": [
       "                       name platform  year_of_release         genre  na_sales  \\\n",
       "0                Wii Sports      wii             2006        sports     41.36   \n",
       "1         Super Mario Bros.      nes             1985      platform     29.08   \n",
       "2            Mario Kart Wii      wii             2008        racing     15.68   \n",
       "3         Wii Sports Resort      wii             2009        sports     15.61   \n",
       "4  Pokemon Red/Pokemon Blue       gb             1996  role-playing     11.27   \n",
       "\n",
       "   eu_sales  jp_sales  other_sales  critic_score  user_score rating  \\\n",
       "0     28.96      3.77         8.45          76.0         8.0      E   \n",
       "1      3.58      6.81         0.77           NaN         NaN    NaN   \n",
       "2     12.76      3.79         3.29          82.0         8.3      E   \n",
       "3     10.93      3.28         2.95          80.0         8.0      E   \n",
       "4      8.89     10.22         1.00           NaN         NaN    NaN   \n",
       "\n",
       "   total_sales  \n",
       "0        82.54  \n",
       "1        40.24  \n",
       "2        35.52  \n",
       "3        32.77  \n",
       "4        31.38  "
      ]
     },
     "execution_count": 10,
     "metadata": {},
     "output_type": "execute_result"
    }
   ],
   "source": [
    "df.head()"
   ]
  },
  {
   "cell_type": "code",
   "execution_count": 14,
   "metadata": {},
   "outputs": [],
   "source": [
    "df = df.dropna(subset=['name', 'genre', 'year_of_release'])"
   ]
  },
  {
   "cell_type": "code",
   "execution_count": 15,
   "metadata": {},
   "outputs": [
    {
     "name": "stdout",
     "output_type": "stream",
     "text": [
      "<class 'pandas.core.frame.DataFrame'>\n",
      "Int64Index: 16444 entries, 0 to 16714\n",
      "Data columns (total 12 columns):\n",
      " #   Column           Non-Null Count  Dtype  \n",
      "---  ------           --------------  -----  \n",
      " 0   name             16444 non-null  object \n",
      " 1   platform         16444 non-null  object \n",
      " 2   year_of_release  16444 non-null  Int64  \n",
      " 3   genre            16444 non-null  object \n",
      " 4   na_sales         16444 non-null  float64\n",
      " 5   eu_sales         16444 non-null  float64\n",
      " 6   jp_sales         16444 non-null  float64\n",
      " 7   other_sales      16444 non-null  float64\n",
      " 8   critic_score     7983 non-null   float64\n",
      " 9   user_score       7463 non-null   float64\n",
      " 10  rating           9768 non-null   object \n",
      " 11  total_sales      16444 non-null  float64\n",
      "dtypes: Int64(1), float64(7), object(4)\n",
      "memory usage: 1.6+ MB\n",
      "None\n",
      "-------------------------\n",
      "name [' Beyblade Burst' ' Fire Emblem Fates' \" Frozen: Olaf's Quest\" ...\n",
      " 'uDraw Studio' 'uDraw Studio: Instant Artist'\n",
      " '¡Shin Chan Flipa en colores!']\n",
      "name : кол-во NaN 0 , процент NaN 0.0 %\n",
      "-------------------------\n",
      "platform ['2600' '3do' '3ds' 'dc' 'ds' 'gb' 'gba' 'gc' 'gen' 'gg' 'n64' 'nes' 'ng'\n",
      " 'pc' 'pcfx' 'ps' 'ps2' 'ps3' 'ps4' 'psp' 'psv' 'sat' 'scd' 'snes' 'tg16'\n",
      " 'wii' 'wiiu' 'ws' 'x360' 'xb' 'xone']\n",
      "platform : кол-во NaN 0 , процент NaN 0.0 %\n",
      "-------------------------\n",
      "year_of_release <IntegerArray>\n",
      "[1980, 1981, 1982, 1983, 1984, 1985, 1986, 1987, 1988, 1989, 1990, 1991, 1992,\n",
      " 1993, 1994, 1995, 1996, 1997, 1998, 1999, 2000, 2001, 2002, 2003, 2004, 2005,\n",
      " 2006, 2007, 2008, 2009, 2010, 2011, 2012, 2013, 2014, 2015, 2016]\n",
      "Length: 37, dtype: Int64\n",
      "year_of_release : кол-во NaN 0 , процент NaN 0.0 %\n",
      "-------------------------\n",
      "genre ['action' 'adventure' 'fighting' 'misc' 'platform' 'puzzle' 'racing'\n",
      " 'role-playing' 'shooter' 'simulation' 'sports' 'strategy']\n",
      "genre : кол-во NaN 0 , процент NaN 0.0 %\n",
      "-------------------------\n",
      "critic_score [13. 17. 19. 20. 21. 23. 24. 25. 26. 27. 28. 29. 30. 31. 32. 33. 34. 35.\n",
      " 36. 37. 38. 39. 40. 41. 42. 43. 44. 45. 46. 47. 48. 49. 50. 51. 52. 53.\n",
      " 54. 55. 56. 57. 58. 59. 60. 61. 62. 63. 64. 65. 66. 67. 68. 69. 70. 71.\n",
      " 72. 73. 74. 75. 76. 77. 78. 79. 80. 81. 82. 83. 84. 85. 86. 87. 88. 89.\n",
      " 90. 91. 92. 93. 94. 95. 96. 97. 98. nan]\n",
      "critic_score : кол-во NaN 8461 , процент NaN 51.45 %\n",
      "-------------------------\n",
      "user_score [0.  0.2 0.3 0.5 0.6 0.7 0.9 1.  1.1 1.2 1.3 1.4 1.5 1.6 1.7 1.8 1.9 2.\n",
      " 2.1 2.2 2.3 2.4 2.5 2.6 2.7 2.8 2.9 3.  3.1 3.2 3.3 3.4 3.5 3.6 3.7 3.8\n",
      " 3.9 4.  4.1 4.2 4.3 4.4 4.5 4.6 4.7 4.8 4.9 5.  5.1 5.2 5.3 5.4 5.5 5.6\n",
      " 5.7 5.8 5.9 6.  6.1 6.2 6.3 6.4 6.5 6.6 6.7 6.8 6.9 7.  7.1 7.2 7.3 7.4\n",
      " 7.5 7.6 7.7 7.8 7.9 8.  8.1 8.2 8.3 8.4 8.5 8.6 8.7 8.8 8.9 9.  9.1 9.2\n",
      " 9.3 9.4 9.5 9.6 9.7 nan]\n",
      "user_score : кол-во NaN 8981 , процент NaN 54.62 %\n",
      "-------------------------\n",
      "rating ['AO' 'E' 'E10+' 'EC' 'K-A' 'M' 'RP' 'T' nan]\n",
      "rating : кол-во NaN 6676 , процент NaN 40.6 %\n"
     ]
    }
   ],
   "source": [
    "# Посмотрим, что у нас осталось\n",
    "temp = df.copy() \n",
    "list_c = ['name', 'platform', 'year_of_release', 'genre', 'critic_score', 'user_score', 'rating']\n",
    "print(temp.info())\n",
    "for col_l in list_c:\n",
    "  print('-'* 25)\n",
    "  print(col_l, temp[col_l].sort_values().unique())\n",
    "  print(col_l,': кол-во NaN',temp[col_l].isna().sum(),\n",
    "        ', процент NaN', round(temp[col_l].isna().sum()/len(temp)*100, 2),'%')"
   ]
  },
  {
   "cell_type": "markdown",
   "metadata": {
    "id": "Ec5MIpD-jfZY"
   },
   "source": [
    "## Исследовательский анализ данных"
   ]
  },
  {
   "cell_type": "markdown",
   "metadata": {
    "id": "OvWWdxF_jkow"
   },
   "source": [
    "### 3.1 Посмотрите, сколько игр выпускалось в разные годы. Важны ли данные за все периоды?"
   ]
  },
  {
   "cell_type": "code",
   "execution_count": 11,
   "metadata": {
    "colab": {
     "base_uri": "https://localhost:8080/",
     "height": 295
    },
    "id": "RRF376cwjjE_",
    "outputId": "748c61ee-1b41-4aa4-9238-2153ce3ef49b",
    "scrolled": false
   },
   "outputs": [
    {
     "data": {
      "image/png": "[encoded data removed]",
      "text/plain": [
       "<Figure size 432x288 with 1 Axes>"
      ]
     },
     "metadata": {
      "needs_background": "light"
     },
     "output_type": "display_data"
    }
   ],
   "source": [
    "#Посмотрим сколько игр выпускалось в разные годы\n",
    "games_years = df.pivot_table(index='year_of_release', values='name', aggfunc='count')\n",
    "games_years.plot()\n",
    "plt.title(\"Количество игр в разные года\")\n",
    "plt.xlabel(\"Год\")\n",
    "plt.ylabel(\"Количество выпущенных игр\")\n",
    "plt.legend('')\n",
    "plt.grid()\n",
    "plt.show()"
   ]
  },
  {
   "cell_type": "markdown",
   "metadata": {
    "id": "zDdoJkx8kRA2"
   },
   "source": [
    "Вывод:\n",
    "\n",
    "- На графике видно, что активной рост производства игр начался в 2000 году, достиг своего пика в 2007-2009 годах, и после начался уверенный спад производства.\n",
    "- Предположим, что спад связан с появлением смартфонов, и переходом пользователей в мобильное пространство."
   ]
  },
  {
   "cell_type": "markdown",
   "metadata": {
    "id": "OMIUSmbYkUoY"
   },
   "source": [
    "### 3.2 - 3.5 Посмотрите, как менялись продажи по платформам. Выберите платформы с наибольшими суммарными продажами и постройте распределение по годам. За какой характерный срок появляются новые и исчезают старые платформы?\n",
    "\n",
    "Возьмите данные за соответствующий актуальный период. Актуальный период определите самостоятельно в результате исследования предыдущих вопросов. Основной фактор — эти данные помогут построить прогноз на 2017 год."
   ]
  },
  {
   "cell_type": "code",
   "execution_count": 12,
   "metadata": {
    "colab": {
     "base_uri": "https://localhost:8080/",
     "height": 1000
    },
    "id": "jDdXQOJJkLYj",
    "outputId": "5df22a84-9f07-4510-db22-84aad1543d19"
   },
   "outputs": [
    {
     "data": {
      "text/html": [
       "<div>\n",
       "<style scoped>\n",
       "    .dataframe tbody tr th:only-of-type {\n",
       "        vertical-align: middle;\n",
       "    }\n",
       "\n",
       "    .dataframe tbody tr th {\n",
       "        vertical-align: top;\n",
       "    }\n",
       "\n",
       "    .dataframe thead th {\n",
       "        text-align: right;\n",
       "    }\n",
       "</style>\n",
       "<table border=\"1\" class=\"dataframe\">\n",
       "  <thead>\n",
       "    <tr style=\"text-align: right;\">\n",
       "      <th></th>\n",
       "      <th>total_sales</th>\n",
       "    </tr>\n",
       "    <tr>\n",
       "      <th>platform</th>\n",
       "      <th></th>\n",
       "    </tr>\n",
       "  </thead>\n",
       "  <tbody>\n",
       "    <tr>\n",
       "      <th>ps2</th>\n",
       "      <td>1255.77</td>\n",
       "    </tr>\n",
       "    <tr>\n",
       "      <th>x360</th>\n",
       "      <td>971.42</td>\n",
       "    </tr>\n",
       "    <tr>\n",
       "      <th>ps3</th>\n",
       "      <td>939.65</td>\n",
       "    </tr>\n",
       "    <tr>\n",
       "      <th>wii</th>\n",
       "      <td>907.51</td>\n",
       "    </tr>\n",
       "    <tr>\n",
       "      <th>ds</th>\n",
       "      <td>806.12</td>\n",
       "    </tr>\n",
       "    <tr>\n",
       "      <th>ps</th>\n",
       "      <td>730.86</td>\n",
       "    </tr>\n",
       "    <tr>\n",
       "      <th>gba</th>\n",
       "      <td>317.85</td>\n",
       "    </tr>\n",
       "    <tr>\n",
       "      <th>ps4</th>\n",
       "      <td>314.14</td>\n",
       "    </tr>\n",
       "    <tr>\n",
       "      <th>psp</th>\n",
       "      <td>294.05</td>\n",
       "    </tr>\n",
       "    <tr>\n",
       "      <th>pc</th>\n",
       "      <td>259.52</td>\n",
       "    </tr>\n",
       "    <tr>\n",
       "      <th>3ds</th>\n",
       "      <td>259.00</td>\n",
       "    </tr>\n",
       "    <tr>\n",
       "      <th>xb</th>\n",
       "      <td>257.74</td>\n",
       "    </tr>\n",
       "    <tr>\n",
       "      <th>gb</th>\n",
       "      <td>255.46</td>\n",
       "    </tr>\n",
       "    <tr>\n",
       "      <th>nes</th>\n",
       "      <td>251.05</td>\n",
       "    </tr>\n",
       "    <tr>\n",
       "      <th>n64</th>\n",
       "      <td>218.68</td>\n",
       "    </tr>\n",
       "    <tr>\n",
       "      <th>snes</th>\n",
       "      <td>200.04</td>\n",
       "    </tr>\n",
       "    <tr>\n",
       "      <th>gc</th>\n",
       "      <td>198.93</td>\n",
       "    </tr>\n",
       "    <tr>\n",
       "      <th>xone</th>\n",
       "      <td>159.32</td>\n",
       "    </tr>\n",
       "    <tr>\n",
       "      <th>2600</th>\n",
       "      <td>96.98</td>\n",
       "    </tr>\n",
       "    <tr>\n",
       "      <th>wiiu</th>\n",
       "      <td>82.19</td>\n",
       "    </tr>\n",
       "    <tr>\n",
       "      <th>psv</th>\n",
       "      <td>54.07</td>\n",
       "    </tr>\n",
       "    <tr>\n",
       "      <th>sat</th>\n",
       "      <td>33.59</td>\n",
       "    </tr>\n",
       "    <tr>\n",
       "      <th>gen</th>\n",
       "      <td>30.77</td>\n",
       "    </tr>\n",
       "    <tr>\n",
       "      <th>dc</th>\n",
       "      <td>15.95</td>\n",
       "    </tr>\n",
       "    <tr>\n",
       "      <th>scd</th>\n",
       "      <td>1.86</td>\n",
       "    </tr>\n",
       "    <tr>\n",
       "      <th>ng</th>\n",
       "      <td>1.44</td>\n",
       "    </tr>\n",
       "    <tr>\n",
       "      <th>ws</th>\n",
       "      <td>1.42</td>\n",
       "    </tr>\n",
       "    <tr>\n",
       "      <th>tg16</th>\n",
       "      <td>0.16</td>\n",
       "    </tr>\n",
       "    <tr>\n",
       "      <th>3do</th>\n",
       "      <td>0.10</td>\n",
       "    </tr>\n",
       "    <tr>\n",
       "      <th>gg</th>\n",
       "      <td>0.04</td>\n",
       "    </tr>\n",
       "    <tr>\n",
       "      <th>pcfx</th>\n",
       "      <td>0.03</td>\n",
       "    </tr>\n",
       "  </tbody>\n",
       "</table>\n",
       "</div>"
      ],
      "text/plain": [
       "          total_sales\n",
       "platform             \n",
       "ps2           1255.77\n",
       "x360           971.42\n",
       "ps3            939.65\n",
       "wii            907.51\n",
       "ds             806.12\n",
       "ps             730.86\n",
       "gba            317.85\n",
       "ps4            314.14\n",
       "psp            294.05\n",
       "pc             259.52\n",
       "3ds            259.00\n",
       "xb             257.74\n",
       "gb             255.46\n",
       "nes            251.05\n",
       "n64            218.68\n",
       "snes           200.04\n",
       "gc             198.93\n",
       "xone           159.32\n",
       "2600            96.98\n",
       "wiiu            82.19\n",
       "psv             54.07\n",
       "sat             33.59\n",
       "gen             30.77\n",
       "dc              15.95\n",
       "scd              1.86\n",
       "ng               1.44\n",
       "ws               1.42\n",
       "tg16             0.16\n",
       "3do              0.10\n",
       "gg               0.04\n",
       "pcfx             0.03"
      ]
     },
     "execution_count": 12,
     "metadata": {},
     "output_type": "execute_result"
    }
   ],
   "source": [
    "platform_sales = pd.pivot_table(df, index=['platform'], values='total_sales', aggfunc='sum')\n",
    "platform_sales = platform_sales.sort_values('total_sales',ascending=False)\n",
    "platform_sales"
   ]
  },
  {
   "cell_type": "code",
   "execution_count": 13,
   "metadata": {
    "colab": {
     "base_uri": "https://localhost:8080/",
     "height": 567
    },
    "id": "T0fn8N1MkX50",
    "outputId": "d140f2e2-d929-4949-ae43-a89f138a814a"
   },
   "outputs": [
    {
     "data": {
      "image/png": "[encoded data removed]",
      "text/plain": [
       "<Figure size 1080x648 with 1 Axes>"
      ]
     },
     "metadata": {
      "needs_background": "light"
     },
     "output_type": "display_data"
    }
   ],
   "source": [
    "plt.figure(figsize=(15,9))\n",
    "sns.barplot(x=platform_sales['total_sales'], y=platform_sales.index, palette='hls')\n",
    "color='blue'\n",
    "plt.title(\"Продажи по платформам за весь период\")\n",
    "plt.xlabel(\"Количество продаж\")\n",
    "plt.ylabel(\"Название платформы\")\n",
    "plt.show()"
   ]
  },
  {
   "cell_type": "code",
   "execution_count": 14,
   "metadata": {
    "colab": {
     "base_uri": "https://localhost:8080/"
    },
    "id": "Myl1v0EKkbR9",
    "outputId": "8410fe73-d731-4641-ad26-4ab19afc56e4"
   },
   "outputs": [
    {
     "data": {
      "text/plain": [
       "['ps2', 'x360', 'ps3', 'wii', 'ds', 'ps', 'gba', 'ps4']"
      ]
     },
     "execution_count": 14,
     "metadata": {},
     "output_type": "execute_result"
    }
   ],
   "source": [
    "top8 = list(platform_sales.index[:8])\n",
    "top8"
   ]
  },
  {
   "cell_type": "code",
   "execution_count": 15,
   "metadata": {
    "colab": {
     "base_uri": "https://localhost:8080/"
    },
    "id": "IYKNN4pnkeVC",
    "outputId": "61762c97-0ead-487b-8ad4-9f7e4663c16b",
    "scrolled": false
   },
   "outputs": [
    {
     "data": {
      "text/plain": [
       "<Figure size 720x360 with 0 Axes>"
      ]
     },
     "metadata": {},
     "output_type": "display_data"
    },
    {
     "data": {
      "image/png": "[encoded data removed]",
      "text/plain": [
       "<Figure size 432x288 with 1 Axes>"
      ]
     },
     "metadata": {
      "needs_background": "light"
     },
     "output_type": "display_data"
    },
    {
     "name": "stdout",
     "output_type": "stream",
     "text": [
      "                          total_sales\n",
      "platform year_of_release             \n",
      "ps2      2000                   39.17\n",
      "         2001                  166.43\n",
      "         2002                  205.38\n",
      "         2003                  184.31\n",
      "         2004                  211.81\n",
      "         2005                  160.66\n",
      "         2006                  103.42\n",
      "         2007                   75.99\n",
      "         2008                   53.90\n",
      "         2009                   26.40\n",
      "         2010                    5.64\n",
      "         2011                    0.45\n",
      "\n"
     ]
    },
    {
     "data": {
      "text/plain": [
       "<Figure size 720x360 with 0 Axes>"
      ]
     },
     "metadata": {},
     "output_type": "display_data"
    },
    {
     "data": {
      "image/png": "[encoded data removed]",
      "text/plain": [
       "<Figure size 432x288 with 1 Axes>"
      ]
     },
     "metadata": {
      "needs_background": "light"
     },
     "output_type": "display_data"
    },
    {
     "name": "stdout",
     "output_type": "stream",
     "text": [
      "                          total_sales\n",
      "platform year_of_release             \n",
      "x360     2005                    8.25\n",
      "         2006                   51.62\n",
      "         2007                   95.41\n",
      "         2008                  135.26\n",
      "         2009                  120.29\n",
      "         2010                  170.03\n",
      "         2011                  143.84\n",
      "         2012                   99.74\n",
      "         2013                   88.58\n",
      "         2014                   34.74\n",
      "         2015                   11.96\n",
      "         2016                    1.52\n",
      "\n"
     ]
    },
    {
     "data": {
      "text/plain": [
       "<Figure size 720x360 with 0 Axes>"
      ]
     },
     "metadata": {},
     "output_type": "display_data"
    },
    {
     "data": {
      "image/png": "[encoded data removed]",
      "text/plain": [
       "<Figure size 432x288 with 1 Axes>"
      ]
     },
     "metadata": {
      "needs_background": "light"
     },
     "output_type": "display_data"
    },
    {
     "name": "stdout",
     "output_type": "stream",
     "text": [
      "                          total_sales\n",
      "platform year_of_release             \n",
      "ps3      2006                   20.96\n",
      "         2007                   73.19\n",
      "         2008                  118.52\n",
      "         2009                  130.93\n",
      "         2010                  142.17\n",
      "         2011                  156.78\n",
      "         2012                  107.36\n",
      "         2013                  113.25\n",
      "         2014                   47.76\n",
      "         2015                   16.82\n",
      "         2016                    3.60\n",
      "\n"
     ]
    },
    {
     "data": {
      "text/plain": [
       "<Figure size 720x360 with 0 Axes>"
      ]
     },
     "metadata": {},
     "output_type": "display_data"
    },
    {
     "data": {
      "image/png": "[encoded data removed]",
      "text/plain": [
       "<Figure size 432x288 with 1 Axes>"
      ]
     },
     "metadata": {
      "needs_background": "light"
     },
     "output_type": "display_data"
    },
    {
     "name": "stdout",
     "output_type": "stream",
     "text": [
      "                          total_sales\n",
      "platform year_of_release             \n",
      "wii      2006                  137.15\n",
      "         2007                  152.77\n",
      "         2008                  171.32\n",
      "         2009                  206.97\n",
      "         2010                  127.95\n",
      "         2011                   59.65\n",
      "         2012                   21.71\n",
      "         2013                    8.59\n",
      "         2014                    3.75\n",
      "         2015                    1.14\n",
      "         2016                    0.18\n",
      "\n"
     ]
    },
    {
     "data": {
      "text/plain": [
       "<Figure size 720x360 with 0 Axes>"
      ]
     },
     "metadata": {},
     "output_type": "display_data"
    },
    {
     "data": {
      "image/png": "[encoded data removed]",
      "text/plain": [
       "<Figure size 432x288 with 1 Axes>"
      ]
     },
     "metadata": {
      "needs_background": "light"
     },
     "output_type": "display_data"
    },
    {
     "name": "stdout",
     "output_type": "stream",
     "text": [
      "                          total_sales\n",
      "platform year_of_release             \n",
      "ds       1985                    0.02\n",
      "         2004                   17.27\n",
      "         2005                  130.14\n",
      "         2006                  119.81\n",
      "         2007                  146.94\n",
      "         2008                  145.31\n",
      "         2009                  119.54\n",
      "         2010                   85.02\n",
      "         2011                   26.18\n",
      "         2012                   11.01\n",
      "         2013                    1.54\n",
      "\n"
     ]
    },
    {
     "data": {
      "text/plain": [
       "<Figure size 720x360 with 0 Axes>"
      ]
     },
     "metadata": {},
     "output_type": "display_data"
    },
    {
     "data": {
      "image/png": "[encoded data removed]",
      "text/plain": [
       "<Figure size 432x288 with 1 Axes>"
      ]
     },
     "metadata": {
      "needs_background": "light"
     },
     "output_type": "display_data"
    },
    {
     "name": "stdout",
     "output_type": "stream",
     "text": [
      "                          total_sales\n",
      "platform year_of_release             \n",
      "ps       1994                    6.03\n",
      "         1995                   35.96\n",
      "         1996                   94.70\n",
      "         1997                  136.17\n",
      "         1998                  169.49\n",
      "         1999                  144.53\n",
      "         2000                   96.37\n",
      "         2001                   35.59\n",
      "         2002                    6.67\n",
      "         2003                    2.07\n",
      "\n"
     ]
    },
    {
     "data": {
      "text/plain": [
       "<Figure size 720x360 with 0 Axes>"
      ]
     },
     "metadata": {},
     "output_type": "display_data"
    },
    {
     "data": {
      "image/png": "[encoded data removed]",
      "text/plain": [
       "<Figure size 432x288 with 1 Axes>"
      ]
     },
     "metadata": {
      "needs_background": "light"
     },
     "output_type": "display_data"
    },
    {
     "name": "stdout",
     "output_type": "stream",
     "text": [
      "                          total_sales\n",
      "platform year_of_release             \n",
      "gba      2000                    0.07\n",
      "         2001                   61.53\n",
      "         2002                   74.16\n",
      "         2003                   56.67\n",
      "         2004                   77.91\n",
      "         2005                   33.86\n",
      "         2006                    5.28\n",
      "         2007                    3.40\n",
      "\n"
     ]
    },
    {
     "data": {
      "text/plain": [
       "<Figure size 720x360 with 0 Axes>"
      ]
     },
     "metadata": {},
     "output_type": "display_data"
    },
    {
     "data": {
      "image/png": "[encoded data removed]",
      "text/plain": [
       "<Figure size 432x288 with 1 Axes>"
      ]
     },
     "metadata": {
      "needs_background": "light"
     },
     "output_type": "display_data"
    },
    {
     "name": "stdout",
     "output_type": "stream",
     "text": [
      "                          total_sales\n",
      "platform year_of_release             \n",
      "ps4      2013                   25.99\n",
      "         2014                  100.00\n",
      "         2015                  118.90\n",
      "         2016                   69.25\n",
      "\n"
     ]
    }
   ],
   "source": [
    "for platform in top8:\n",
    "    platform_top8 = pd.pivot_table(df.query('platform == @platform'), index=['platform','year_of_release'], values='total_sales', aggfunc='sum')\n",
    "    \n",
    "    plt.figure(figsize=(10, 5))\n",
    "    platform_top8.plot()\n",
    "    plt.title(\"Количество игр в разные года\")\n",
    "    plt.xlabel(\"Год\")\n",
    "    plt.ylabel(\"Продажи\")\n",
    "    plt.legend('')\n",
    "    plt.grid()\n",
    "    plt.show()\n",
    "    print(platform_top8)\n",
    "    print()"
   ]
  },
  {
   "cell_type": "markdown",
   "metadata": {
    "id": "XTeeeTvDk6Wb"
   },
   "source": [
    "Вывод\n",
    "- Средний срок высокой популярности платформы 6-8 лет, а общий срок жизни около 10 лет\n",
    "- Можно рассмотреть как сменялись покаления PS по годам:\n",
    "\n",
    "* PS 1994 - 2003\n",
    "* PS2 2000 - 2011\n",
    "* PS3 2006-2016\n",
    "* PS4 2013 - по настоящее время\n",
    "\n",
    "\n",
    "\n",
    "- Компания Sony выпускает обновленные приставки каджые 6-7 лет, а игры со старых приставок поддерживаются еще окола 3-5 лет после выхода новых.\n",
    "- Можно предположить что пик продаж на PS4 придется на 2017-2019 года."
   ]
  },
  {
   "cell_type": "code",
   "execution_count": 16,
   "metadata": {
    "colab": {
     "base_uri": "https://localhost:8080/"
    },
    "id": "217O_xzjkhJi",
    "outputId": "7d5bb3ca-25a7-46bf-a955-b6cc6916b546"
   },
   "outputs": [
    {
     "name": "stdout",
     "output_type": "stream",
     "text": [
      "<class 'pandas.core.frame.DataFrame'>\n",
      "Int64Index: 1689 entries, 31 to 16714\n",
      "Data columns (total 12 columns):\n",
      " #   Column           Non-Null Count  Dtype  \n",
      "---  ------           --------------  -----  \n",
      " 0   name             1689 non-null   object \n",
      " 1   platform         1689 non-null   object \n",
      " 2   year_of_release  1689 non-null   Int64  \n",
      " 3   genre            1689 non-null   object \n",
      " 4   na_sales         1689 non-null   float64\n",
      " 5   eu_sales         1689 non-null   float64\n",
      " 6   jp_sales         1689 non-null   float64\n",
      " 7   other_sales      1689 non-null   float64\n",
      " 8   critic_score     718 non-null    float64\n",
      " 9   user_score       888 non-null    float64\n",
      " 10  rating           940 non-null    object \n",
      " 11  total_sales      1689 non-null   float64\n",
      "dtypes: Int64(1), float64(7), object(4)\n",
      "memory usage: 173.2+ KB\n"
     ]
    }
   ],
   "source": [
    "# Примем за актуальный период последние 3 года\n",
    "df_new = df[df['year_of_release'] > 2013]\n",
    "df_new.info()"
   ]
  },
  {
   "cell_type": "markdown",
   "metadata": {
    "id": "vG6hpvL3lGSe"
   },
   "source": [
    "### 3.6 Построим график «ящик с усами» по глобальным продажам игр в разбивке по платформам. Опишем результат."
   ]
  },
  {
   "cell_type": "code",
   "execution_count": 17,
   "metadata": {
    "colab": {
     "base_uri": "https://localhost:8080/",
     "height": 458
    },
    "id": "-KIcvkMxlKPz",
    "outputId": "9f7e163e-c843-4a86-d6cd-8f1b68f9428b"
   },
   "outputs": [
    {
     "data": {
      "image/png": "[encoded data removed]",
      "text/plain": [
       "<Figure size 1080x504 with 1 Axes>"
      ]
     },
     "metadata": {
      "needs_background": "light"
     },
     "output_type": "display_data"
    }
   ],
   "source": [
    "# Ящик с усами\n",
    "plt.figure(figsize=(15, 7))\n",
    "sns.boxplot(data=df_new, x='platform', y='total_sales', palette=\"Blues\")\n",
    "plt.title('Ящики с усами')\n",
    "plt.xlabel('Игровая консоль')\n",
    "plt.ylabel('Продажи')\n",
    "plt.show()"
   ]
  },
  {
   "cell_type": "code",
   "execution_count": 18,
   "metadata": {
    "colab": {
     "base_uri": "https://localhost:8080/",
     "height": 458
    },
    "id": "fNohrLYHooKD",
    "outputId": "3fec0efb-ef58-411c-898d-178044c5e62b"
   },
   "outputs": [
    {
     "data": {
      "image/png": "[encoded data removed]",
      "text/plain": [
       "<Figure size 1080x504 with 1 Axes>"
      ]
     },
     "metadata": {
      "needs_background": "light"
     },
     "output_type": "display_data"
    }
   ],
   "source": [
    "# Ящик с усами\n",
    "plt.figure(figsize=(15, 7))\n",
    "sns.boxplot(data=df_new, x='platform', y='total_sales', palette=\"Blues\")\n",
    "plt.title('Ящики с усами')\n",
    "plt.xlabel('Игровая консоль')\n",
    "plt.ylabel('Продажи')\n",
    "plt.ylim([0, 2])\n",
    "plt.grid()\n",
    "plt.show()"
   ]
  },
  {
   "cell_type": "markdown",
   "metadata": {
    "id": "67pCtVnUqJ4N"
   },
   "source": [
    "Вывод:\n",
    "    \n",
    "  - По графикм видно, что медианы на одной границе у  PS4, Xone, X360, WIIU, X360, WII\n",
    "  - Лидерство продаж распределяется так: Xone, WII, PS4, X360, WIIU.\n",
    "  - Выбросы имеются у всех моделей"
   ]
  },
  {
   "cell_type": "markdown",
   "metadata": {
    "id": "dkBdmrpyq3d4"
   },
   "source": [
    "### 3.7 Посмотрим, как влияют на продажи внутри одной популярной платформы отзывы пользователей и критиков. Построим диаграмму рассеяния и посчитаем корреляцию между отзывами и продажами. Сформулируем выводы. Для примера используем платформу Xone"
   ]
  },
  {
   "cell_type": "code",
   "execution_count": 19,
   "metadata": {},
   "outputs": [
    {
     "name": "stdout",
     "output_type": "stream",
     "text": [
      "888\n",
      "718\n",
      "704\n"
     ]
    }
   ],
   "source": [
    "# Комментарий ревьюера 2\n",
    "print(len(df_new.dropna(subset=['user_score'])))\n",
    "print(len(df_new.dropna(subset=['critic_score'])))\n",
    "print(len(df_new.dropna(subset=['user_score', 'critic_score'])))"
   ]
  },
  {
   "cell_type": "code",
   "execution_count": 20,
   "metadata": {
    "colab": {
     "base_uri": "https://localhost:8080/"
    },
    "id": "sfzV_IeYoqKR",
    "outputId": "2cc956eb-8de7-4624-9ff7-5ab88dd853e7"
   },
   "outputs": [
    {
     "data": {
      "text/plain": [
       "-0.0703839280647581"
      ]
     },
     "execution_count": 20,
     "metadata": {},
     "output_type": "execute_result"
    }
   ],
   "source": [
    "#Корреляция между оценками пользователей и продажами xone\n",
    "xone = df_new[df_new['platform'] == \"xone\"]\n",
    "xone['user_score'].corr(xone['total_sales'])"
   ]
  },
  {
   "cell_type": "code",
   "execution_count": 21,
   "metadata": {
    "colab": {
     "base_uri": "https://localhost:8080/",
     "height": 404
    },
    "id": "IyVqnksUq63A",
    "outputId": "52ec6d89-3282-444e-98b4-00282232252c"
   },
   "outputs": [
    {
     "data": {
      "image/png": "[encoded data removed]",
      "text/plain": [
       "<Figure size 720x432 with 1 Axes>"
      ]
     },
     "metadata": {
      "needs_background": "light"
     },
     "output_type": "display_data"
    }
   ],
   "source": [
    "#Диаграмма рассеяния по оценкам пользователей\n",
    "plt.figure(figsize=(10,6))\n",
    "sns.scatterplot(x='user_score', y='total_sales', data=xone)\n",
    "plt.title('Диаграмма рассеяния по оценкам пользователей xone')\n",
    "plt.grid()\n",
    "plt.show()"
   ]
  },
  {
   "cell_type": "code",
   "execution_count": 22,
   "metadata": {
    "colab": {
     "base_uri": "https://localhost:8080/",
     "height": 405
    },
    "id": "_HPzbBejq97i",
    "outputId": "d7cd146a-73c9-48be-d76d-7cf2a1cfab5e"
   },
   "outputs": [
    {
     "data": {
      "image/png": "[encoded data removed]",
      "text/plain": [
       "<Figure size 720x432 with 1 Axes>"
      ]
     },
     "metadata": {
      "needs_background": "light"
     },
     "output_type": "display_data"
    }
   ],
   "source": [
    "#Диаграмма рассеяния по оценкам критиков \n",
    "plt.figure(figsize=(10,6))\n",
    "sns.scatterplot(x='critic_score', y='total_sales', data=xone)\n",
    "plt.title('Диаграмма рассеяния по оценкам критиков xone')\n",
    "plt.grid()\n",
    "plt.show()"
   ]
  },
  {
   "cell_type": "code",
   "execution_count": 23,
   "metadata": {
    "colab": {
     "base_uri": "https://localhost:8080/"
    },
    "id": "JKngaAKrrA_4",
    "outputId": "4d68ddca-9b1a-442c-a502-62778fa053c8"
   },
   "outputs": [
    {
     "data": {
      "text/plain": [
       "0.428676943703332"
      ]
     },
     "execution_count": 23,
     "metadata": {},
     "output_type": "execute_result"
    }
   ],
   "source": [
    "#Корреляция между оценкой критиков и продажам\n",
    "xone['critic_score'].corr(xone['total_sales'])"
   ]
  },
  {
   "cell_type": "markdown",
   "metadata": {
    "id": "oR8Tzfjpst1G"
   },
   "source": [
    "### 3.8 Соотнесем выводы с продажами игр на других платформах."
   ]
  },
  {
   "cell_type": "code",
   "execution_count": 24,
   "metadata": {
    "id": "SjH-Zflqrjkz"
   },
   "outputs": [],
   "source": [
    "#Напишем функцию, которая будет создавать графики рассеивания и считать корреляции для каждой платформы\n",
    "def other(name_pl):\n",
    "    platform = df_new[df_new['platform']==name_pl]\n",
    "    fig, ax = plt.subplots(1 ,2, figsize=(15,6))\n",
    "    sns.scatterplot(x='user_score', y='total_sales', data=platform, ax=ax[0])\n",
    "    sns.scatterplot(x='critic_score', y='total_sales', data=platform, ax=ax[1])\n",
    "    fig.suptitle(name_pl, fontsize=10)\n",
    "    ax[0].set(xlabel='Оценка пользователей')\n",
    "    ax[1].set(xlabel='Оценка критиков')\n",
    "    ax[0].set(ylabel='Количество продаж')\n",
    "    ax[1].set(ylabel='Количество продаж')\n",
    "    plt.grid()\n",
    "    plt.show()\n",
    "    \n",
    "    correl = (platform['user_score'].corr(platform['total_sales']))\n",
    "    critic_correl = platform['critic_score'].corr(platform['total_sales'])\n",
    "    \n",
    "    if critic_correl <= 0:\n",
    "        print('Корреляция между отзывами критиков и игровой платформой ', name_pl, ': Отрицательная', correl)\n",
    "    if 0.3 >= critic_correl >= 0.1:\n",
    "        print('Корреляция между отзывами критиков и игровой платформой ', name_pl, ': Слабая', critic_correl)\n",
    "    if 0.5 >= critic_correl >= 0.3:\n",
    "        print('Корреляция между отзывами критиков и игровой платформой ', name_pl, ': Средняя', critic_correl)\n",
    "    if 0.7 >= critic_correl >= 0.5:\n",
    "        print('Корреляция между отзывами критиков и игровой платформой ', name_pl, ': Высокая', critic_correl)\n",
    "    if 0.9 >= critic_correl >= 0.7:\n",
    "        print('Корреляция между отзывами критиков и игровой платформой ', name_pl, ': Очень высокая', critic_correl)\n",
    "    if 1 >= critic_correl > 0.9:\n",
    "        print('Корреляция между отзывами критиков и игровой платформой ', name_pl, ': Наивысшая', critic_correl)\n",
    "    \n",
    "    if correl <= 0:\n",
    "        print('Корреляция между отзывами пользователей и продажами ', name_pl, ': Отрицательная', correl)\n",
    "    if 0.3 >= correl >= 0.1:\n",
    "        print('Корреляция между отзывами пользователей и продажами ', name_pl, ': Слабая', correl)\n",
    "    if 0.5 >= correl >= 0.3:\n",
    "        print('Корреляция между отзывами пользователей и продажами ', name_pl, ': Умеренная', correl)\n",
    "    if 0.7 >= correl >= 0.5:\n",
    "        print('Корреляция между отзывами пользователей и продажами ', name_pl, ': Высокая', correl)\n",
    "    if 0.9 >= correl >= 0.7:\n",
    "        print('Корреляция между отзывами пользователей и продажами ', name_pl, ': Очень высокая', correl)\n",
    "    if  correl > 0.9:\n",
    "        print('Корреляция между отзывами пользователей и продажами ', name_pl, ': Наивысшая', correl)\n",
    "    print('\\n')"
   ]
  },
  {
   "cell_type": "code",
   "execution_count": 25,
   "metadata": {},
   "outputs": [],
   "source": [
    "platforms_list = df_new['platform'].unique()"
   ]
  },
  {
   "cell_type": "code",
   "execution_count": 26,
   "metadata": {
    "colab": {
     "base_uri": "https://localhost:8080/",
     "height": 1000
    },
    "id": "ISDlZCrFstE3",
    "outputId": "4f4a94ad-f1d5-40bd-d9c1-cbe0f55c0d7b",
    "scrolled": false
   },
   "outputs": [
    {
     "data": {
      "image/png": "[encoded data removed]",
      "text/plain": [
       "<Figure size 1080x432 with 2 Axes>"
      ]
     },
     "metadata": {
      "needs_background": "light"
     },
     "output_type": "display_data"
    },
    {
     "name": "stdout",
     "output_type": "stream",
     "text": [
      "Корреляция между отзывами критиков и игровой платформой  ps4 : Средняя 0.40266141068104117\n",
      "Корреляция между отзывами пользователей и продажами  ps4 : Отрицательная -0.040131589472697266\n",
      "\n",
      "\n"
     ]
    },
    {
     "data": {
      "image/png": "[encoded data removed]",
      "text/plain": [
       "<Figure size 1080x432 with 2 Axes>"
      ]
     },
     "metadata": {
      "needs_background": "light"
     },
     "output_type": "display_data"
    },
    {
     "name": "stdout",
     "output_type": "stream",
     "text": [
      "Корреляция между отзывами критиков и игровой платформой  3ds : Средняя 0.31411749286905094\n",
      "Корреляция между отзывами пользователей и продажами  3ds : Слабая 0.21519327185270273\n",
      "\n",
      "\n"
     ]
    },
    {
     "data": {
      "image/png": "[encoded data removed]",
      "text/plain": [
       "<Figure size 1080x432 with 2 Axes>"
      ]
     },
     "metadata": {
      "needs_background": "light"
     },
     "output_type": "display_data"
    },
    {
     "name": "stdout",
     "output_type": "stream",
     "text": [
      "Корреляция между отзывами критиков и игровой платформой  xone : Средняя 0.428676943703332\n",
      "Корреляция между отзывами пользователей и продажами  xone : Отрицательная -0.0703839280647581\n",
      "\n",
      "\n"
     ]
    },
    {
     "data": {
      "image/png": "[encoded data removed]",
      "text/plain": [
       "<Figure size 1080x432 with 2 Axes>"
      ]
     },
     "metadata": {
      "needs_background": "light"
     },
     "output_type": "display_data"
    },
    {
     "name": "stdout",
     "output_type": "stream",
     "text": [
      "Корреляция между отзывами критиков и игровой платформой  wiiu : Средняя 0.3702014124808841\n",
      "Корреляция между отзывами пользователей и продажами  wiiu : Умеренная 0.40792645792170795\n",
      "\n",
      "\n"
     ]
    },
    {
     "data": {
      "image/png": "[encoded data removed]",
      "text/plain": [
       "<Figure size 1080x432 with 2 Axes>"
      ]
     },
     "metadata": {
      "needs_background": "light"
     },
     "output_type": "display_data"
    },
    {
     "name": "stdout",
     "output_type": "stream",
     "text": [
      "Корреляция между отзывами критиков и игровой платформой  ps3 : Средняя 0.44657460493190715\n",
      "Корреляция между отзывами пользователей и продажами  ps3 : Отрицательная -0.166761413476621\n",
      "\n",
      "\n"
     ]
    },
    {
     "data": {
      "image/png": "[encoded data removed]",
      "text/plain": [
       "<Figure size 1080x432 with 2 Axes>"
      ]
     },
     "metadata": {
      "needs_background": "light"
     },
     "output_type": "display_data"
    },
    {
     "name": "stdout",
     "output_type": "stream",
     "text": [
      "Корреляция между отзывами критиков и игровой платформой  x360 : Высокая 0.5257228356581521\n",
      "Корреляция между отзывами пользователей и продажами  x360 : Отрицательная -0.13844457094566506\n",
      "\n",
      "\n"
     ]
    },
    {
     "data": {
      "image/png": "[encoded data removed]",
      "text/plain": [
       "<Figure size 1080x432 with 2 Axes>"
      ]
     },
     "metadata": {
      "needs_background": "light"
     },
     "output_type": "display_data"
    },
    {
     "name": "stdout",
     "output_type": "stream",
     "text": [
      "Корреляция между отзывами критиков и игровой платформой  pc : Слабая 0.1746341376935003\n",
      "Корреляция между отзывами пользователей и продажами  pc : Отрицательная -0.07159665703472451\n",
      "\n",
      "\n"
     ]
    },
    {
     "data": {
      "image/png": "[encoded data removed]",
      "text/plain": [
       "<Figure size 1080x432 with 2 Axes>"
      ]
     },
     "metadata": {
      "needs_background": "light"
     },
     "output_type": "display_data"
    },
    {
     "name": "stdout",
     "output_type": "stream",
     "text": [
      "Корреляция между отзывами пользователей и продажами  wii : Наивысшая 1.0\n",
      "\n",
      "\n"
     ]
    },
    {
     "data": {
      "image/png": "[encoded data removed]",
      "text/plain": [
       "<Figure size 1080x432 with 2 Axes>"
      ]
     },
     "metadata": {
      "needs_background": "light"
     },
     "output_type": "display_data"
    },
    {
     "name": "stdout",
     "output_type": "stream",
     "text": [
      "Корреляция между отзывами пользователей и продажами  psv : Отрицательная -0.1684550497806444\n",
      "\n",
      "\n"
     ]
    },
    {
     "data": {
      "image/png": "[encoded data removed]",
      "text/plain": [
       "<Figure size 1080x432 with 2 Axes>"
      ]
     },
     "metadata": {
      "needs_background": "light"
     },
     "output_type": "display_data"
    },
    {
     "name": "stdout",
     "output_type": "stream",
     "text": [
      "\n",
      "\n"
     ]
    }
   ],
   "source": [
    "#С помощью цикла выведем все графики\n",
    "for platform in platforms_list:\n",
    "    other(platform)"
   ]
  },
  {
   "cell_type": "markdown",
   "metadata": {
    "id": "40v8ng-VuXmE"
   },
   "source": [
    "### Вывод \n",
    " - Мы можем заметить у всех платформ корреляцию, между оценками \n",
    "пользователей и критиков по отношению к продажам. \n",
    " - Однако оценки пользователей слабо влияет на продажи\n",
    " - Оцентки критиков имеют более сильное влияние на продажи. Вероятно люди склонны довкрять оцентам профессионалов.\n",
    " - У PS3 одна игра выпущенна, ввиду выбранного временного периода"
   ]
  },
  {
   "cell_type": "markdown",
   "metadata": {
    "id": "EGAkrgehuhiQ"
   },
   "source": [
    "### 3.9 Посмотрим на общее распределение игр по жанрам. Что можно сказать о самых прибыльных жанрах? Выделяются ли жанры с высокими и низкими продажами?"
   ]
  },
  {
   "cell_type": "code",
   "execution_count": 27,
   "metadata": {
    "id": "3LC1eXVpunUj"
   },
   "outputs": [],
   "source": [
    "genre_top = df_new.pivot_table(\n",
    "    index='genre', values='total_sales', aggfunc='sum').sort_values(by='total_sales', ascending=False)\n",
    "genre_top = genre_top.reset_index().rename_axis(None, axis=1)"
   ]
  },
  {
   "cell_type": "code",
   "execution_count": 28,
   "metadata": {
    "colab": {
     "base_uri": "https://localhost:8080/",
     "height": 404
    },
    "id": "4lePP9NfuiU6",
    "outputId": "86c91f5e-32d0-464b-9a14-778cce99c731"
   },
   "outputs": [
    {
     "data": {
      "image/png": "[encoded data removed]",
      "text/plain": [
       "<Figure size 864x432 with 1 Axes>"
      ]
     },
     "metadata": {
      "needs_background": "light"
     },
     "output_type": "display_data"
    }
   ],
   "source": [
    "plt.figure(figsize=(12,6))\n",
    "sns.barplot(data=genre_top, x='genre', y='total_sales')\n",
    "plt.title('Общее распределение игр по жанрам')\n",
    "plt.xlabel('Жанры игр')\n",
    "plt.ylabel('Продажи')\n",
    "plt.show()"
   ]
  },
  {
   "cell_type": "code",
   "execution_count": 29,
   "metadata": {},
   "outputs": [
    {
     "data": {
      "image/png": "[encoded data removed]",
      "text/plain": [
       "<Figure size 1080x504 with 1 Axes>"
      ]
     },
     "metadata": {
      "needs_background": "light"
     },
     "output_type": "display_data"
    }
   ],
   "source": [
    "# Ящик с усами\n",
    "plt.figure(figsize=(15, 7))\n",
    "sns.boxplot(data=df_new, x='genre', y='total_sales', palette=\"Blues\")\n",
    "plt.title('Ящики с усами')\n",
    "plt.xlabel('Жанр игры')\n",
    "plt.ylabel('Продажи')\n",
    "plt.grid()\n",
    "plt.show()"
   ]
  },
  {
   "cell_type": "code",
   "execution_count": 30,
   "metadata": {},
   "outputs": [
    {
     "data": {
      "image/png": "[encoded data removed]",
      "text/plain": [
       "<Figure size 1080x504 with 1 Axes>"
      ]
     },
     "metadata": {
      "needs_background": "light"
     },
     "output_type": "display_data"
    }
   ],
   "source": [
    "# Ящик с усами\n",
    "plt.figure(figsize=(15, 7))\n",
    "sns.boxplot(data=df_new, x='genre', y='total_sales', palette=\"Blues\")\n",
    "plt.title('Ящики с усами')\n",
    "plt.xlabel('Жанр игры')\n",
    "plt.ylabel('Продажи')\n",
    "plt.ylim([0, 4])\n",
    "plt.grid()\n",
    "plt.show()"
   ]
  },
  {
   "cell_type": "markdown",
   "metadata": {},
   "source": [
    " - Самые прибыльные жанры Shooter (с большим отрывом), Sports, Platform."
   ]
  },
  {
   "cell_type": "markdown",
   "metadata": {
    "id": "SEJZVvNVvium"
   },
   "source": [
    "Вывод по исследовательскому анализу данных:\n",
    "* Активной рост производства игр начался в 2000 году, достиг своего пика в 2007-2009 годах, и после начался уверенный спад производства.\n",
    "* Топ платформ за весь период : Sony PlayStation 2, Xbox 360, Sony Playstation 3, Nintendo WII, Nintendo DS, Sony Playstation, Game Boy Advance, Sony Playstation4. \n",
    "* Средний срок высокой популярности платформы 6-8 лет, а общий срок жизни около 10 лет\n",
    "* Мы можем заметить у всех платформ корреляцию, между оценками пользователей и критиков по отношению к продажам.\n",
    "Однако оценки пользователей слабо влияет на продажи\n",
    "Оцентки критиков имеют более сильное влияние на продажи. Вероятно люди склонны довкрять оцентам профессионалов.\n",
    "\n",
    " - Самые прибыльные жанры Shooter (с большим отрывом), Sports, Platform."
   ]
  },
  {
   "cell_type": "markdown",
   "metadata": {
    "id": "EmyKbU7EvwyF"
   },
   "source": [
    "## Шаг 4. Составим портрет пользователя каждого региона"
   ]
  },
  {
   "cell_type": "markdown",
   "metadata": {
    "id": "nJ8PbTlkvxox"
   },
   "source": [
    "Определите для пользователя каждого региона (NA, EU, JP):\n",
    "* Самые популярные платформы (топ-5). Опишите различия в долях продаж.\n",
    "* Самые популярные жанры (топ-5). Поясните разницу.\n",
    "* Влияет ли рейтинг ESRB на продажи в отдельном регионе?"
   ]
  },
  {
   "cell_type": "markdown",
   "metadata": {
    "id": "-0ylhZs_v3oH"
   },
   "source": [
    "### 4.1 Самые популярные платформы (топ-5). Опишите различия в долях продаж."
   ]
  },
  {
   "cell_type": "code",
   "execution_count": 31,
   "metadata": {
    "colab": {
     "base_uri": "https://localhost:8080/",
     "height": 577
    },
    "id": "j9Vtp6o8umcs",
    "outputId": "58cf8686-3a2b-4815-aabc-e1250af01bf5",
    "scrolled": false
   },
   "outputs": [
    {
     "name": "stdout",
     "output_type": "stream",
     "text": [
      "<class 'pandas.core.frame.DataFrame'>\n",
      "Int64Index: 981 entries, 31 to 16672\n",
      "Data columns (total 12 columns):\n",
      " #   Column           Non-Null Count  Dtype  \n",
      "---  ------           --------------  -----  \n",
      " 0   name             981 non-null    object \n",
      " 1   platform         981 non-null    object \n",
      " 2   year_of_release  981 non-null    Int64  \n",
      " 3   genre            981 non-null    object \n",
      " 4   na_sales         981 non-null    float64\n",
      " 5   eu_sales         981 non-null    float64\n",
      " 6   jp_sales         981 non-null    float64\n",
      " 7   other_sales      981 non-null    float64\n",
      " 8   critic_score     571 non-null    float64\n",
      " 9   user_score       713 non-null    float64\n",
      " 10  rating           747 non-null    object \n",
      " 11  total_sales      981 non-null    float64\n",
      "dtypes: Int64(1), float64(7), object(4)\n",
      "memory usage: 100.6+ KB\n"
     ]
    },
    {
     "data": {
      "text/html": [
       "<div>\n",
       "<style scoped>\n",
       "    .dataframe tbody tr th:only-of-type {\n",
       "        vertical-align: middle;\n",
       "    }\n",
       "\n",
       "    .dataframe tbody tr th {\n",
       "        vertical-align: top;\n",
       "    }\n",
       "\n",
       "    .dataframe thead th {\n",
       "        text-align: right;\n",
       "    }\n",
       "</style>\n",
       "<table border=\"1\" class=\"dataframe\">\n",
       "  <thead>\n",
       "    <tr style=\"text-align: right;\">\n",
       "      <th></th>\n",
       "      <th>na_sales</th>\n",
       "    </tr>\n",
       "    <tr>\n",
       "      <th>platform</th>\n",
       "      <th></th>\n",
       "    </tr>\n",
       "  </thead>\n",
       "  <tbody>\n",
       "    <tr>\n",
       "      <th>ps4</th>\n",
       "      <td>98.61</td>\n",
       "    </tr>\n",
       "    <tr>\n",
       "      <th>xone</th>\n",
       "      <td>81.27</td>\n",
       "    </tr>\n",
       "    <tr>\n",
       "      <th>x360</th>\n",
       "      <td>28.30</td>\n",
       "    </tr>\n",
       "    <tr>\n",
       "      <th>3ds</th>\n",
       "      <td>22.64</td>\n",
       "    </tr>\n",
       "    <tr>\n",
       "      <th>ps3</th>\n",
       "      <td>22.05</td>\n",
       "    </tr>\n",
       "  </tbody>\n",
       "</table>\n",
       "</div>"
      ],
      "text/plain": [
       "          na_sales\n",
       "platform          \n",
       "ps4          98.61\n",
       "xone         81.27\n",
       "x360         28.30\n",
       "3ds          22.64\n",
       "ps3          22.05"
      ]
     },
     "execution_count": 31,
     "metadata": {},
     "output_type": "execute_result"
    }
   ],
   "source": [
    "na_df = df_new.query('na_sales > 0')\n",
    "na_df.info()\n",
    "na_pivot_table = pd.pivot_table(na_df, index='platform', values='na_sales',\n",
    "                                        aggfunc='sum').sort_values('na_sales', ascending=False)\n",
    "na_pivot_table.head()"
   ]
  },
  {
   "cell_type": "markdown",
   "metadata": {},
   "source": [
    "- Самые популярные игровые платформы в **Америке** за все время это: PS4, XONE, X360, 3DS, PS3"
   ]
  },
  {
   "cell_type": "code",
   "execution_count": 32,
   "metadata": {
    "colab": {
     "base_uri": "https://localhost:8080/",
     "height": 577
    },
    "id": "ajYIrM-Yv7eG",
    "outputId": "34d4099c-4d93-4713-9b59-8d4e9eb2bbf3"
   },
   "outputs": [
    {
     "name": "stdout",
     "output_type": "stream",
     "text": [
      "<class 'pandas.core.frame.DataFrame'>\n",
      "Int64Index: 1067 entries, 31 to 16692\n",
      "Data columns (total 12 columns):\n",
      " #   Column           Non-Null Count  Dtype  \n",
      "---  ------           --------------  -----  \n",
      " 0   name             1067 non-null   object \n",
      " 1   platform         1067 non-null   object \n",
      " 2   year_of_release  1067 non-null   Int64  \n",
      " 3   genre            1067 non-null   object \n",
      " 4   na_sales         1067 non-null   float64\n",
      " 5   eu_sales         1067 non-null   float64\n",
      " 6   jp_sales         1067 non-null   float64\n",
      " 7   other_sales      1067 non-null   float64\n",
      " 8   critic_score     626 non-null    float64\n",
      " 9   user_score       774 non-null    float64\n",
      " 10  rating           803 non-null    object \n",
      " 11  total_sales      1067 non-null   float64\n",
      "dtypes: Int64(1), float64(7), object(4)\n",
      "memory usage: 109.4+ KB\n"
     ]
    },
    {
     "data": {
      "text/html": [
       "<div>\n",
       "<style scoped>\n",
       "    .dataframe tbody tr th:only-of-type {\n",
       "        vertical-align: middle;\n",
       "    }\n",
       "\n",
       "    .dataframe tbody tr th {\n",
       "        vertical-align: top;\n",
       "    }\n",
       "\n",
       "    .dataframe thead th {\n",
       "        text-align: right;\n",
       "    }\n",
       "</style>\n",
       "<table border=\"1\" class=\"dataframe\">\n",
       "  <thead>\n",
       "    <tr style=\"text-align: right;\">\n",
       "      <th></th>\n",
       "      <th>eu_sales</th>\n",
       "    </tr>\n",
       "    <tr>\n",
       "      <th>platform</th>\n",
       "      <th></th>\n",
       "    </tr>\n",
       "  </thead>\n",
       "  <tbody>\n",
       "    <tr>\n",
       "      <th>ps4</th>\n",
       "      <td>130.04</td>\n",
       "    </tr>\n",
       "    <tr>\n",
       "      <th>xone</th>\n",
       "      <td>46.25</td>\n",
       "    </tr>\n",
       "    <tr>\n",
       "      <th>ps3</th>\n",
       "      <td>25.54</td>\n",
       "    </tr>\n",
       "    <tr>\n",
       "      <th>pc</th>\n",
       "      <td>17.97</td>\n",
       "    </tr>\n",
       "    <tr>\n",
       "      <th>3ds</th>\n",
       "      <td>16.12</td>\n",
       "    </tr>\n",
       "  </tbody>\n",
       "</table>\n",
       "</div>"
      ],
      "text/plain": [
       "          eu_sales\n",
       "platform          \n",
       "ps4         130.04\n",
       "xone         46.25\n",
       "ps3          25.54\n",
       "pc           17.97\n",
       "3ds          16.12"
      ]
     },
     "execution_count": 32,
     "metadata": {},
     "output_type": "execute_result"
    }
   ],
   "source": [
    "eu_df = df_new.query('eu_sales > 0')\n",
    "eu_df.info()\n",
    "eu_pivot_table = pd.pivot_table(eu_df, index='platform', values='eu_sales',\n",
    "                                        aggfunc='sum').sort_values('eu_sales', ascending=False)\n",
    "eu_pivot_table.head()"
   ]
  },
  {
   "cell_type": "markdown",
   "metadata": {
    "id": "LKZi9U0Nx-ZZ"
   },
   "source": [
    "Самые популярные игровые платформы в **Европе** это: PS4, XONE, PC, 3DS, PS3"
   ]
  },
  {
   "cell_type": "code",
   "execution_count": 33,
   "metadata": {
    "colab": {
     "base_uri": "https://localhost:8080/",
     "height": 577
    },
    "id": "ipusLXX5x5wK",
    "outputId": "3bc04903-b45c-4c72-8277-834d455efcbe"
   },
   "outputs": [
    {
     "name": "stdout",
     "output_type": "stream",
     "text": [
      "<class 'pandas.core.frame.DataFrame'>\n",
      "Int64Index: 873 entries, 31 to 16714\n",
      "Data columns (total 12 columns):\n",
      " #   Column           Non-Null Count  Dtype  \n",
      "---  ------           --------------  -----  \n",
      " 0   name             873 non-null    object \n",
      " 1   platform         873 non-null    object \n",
      " 2   year_of_release  873 non-null    Int64  \n",
      " 3   genre            873 non-null    object \n",
      " 4   na_sales         873 non-null    float64\n",
      " 5   eu_sales         873 non-null    float64\n",
      " 6   jp_sales         873 non-null    float64\n",
      " 7   other_sales      873 non-null    float64\n",
      " 8   critic_score     278 non-null    float64\n",
      " 9   user_score       327 non-null    float64\n",
      " 10  rating           339 non-null    object \n",
      " 11  total_sales      873 non-null    float64\n",
      "dtypes: Int64(1), float64(7), object(4)\n",
      "memory usage: 89.5+ KB\n"
     ]
    },
    {
     "data": {
      "text/html": [
       "<div>\n",
       "<style scoped>\n",
       "    .dataframe tbody tr th:only-of-type {\n",
       "        vertical-align: middle;\n",
       "    }\n",
       "\n",
       "    .dataframe tbody tr th {\n",
       "        vertical-align: top;\n",
       "    }\n",
       "\n",
       "    .dataframe thead th {\n",
       "        text-align: right;\n",
       "    }\n",
       "</style>\n",
       "<table border=\"1\" class=\"dataframe\">\n",
       "  <thead>\n",
       "    <tr style=\"text-align: right;\">\n",
       "      <th></th>\n",
       "      <th>jp_sales</th>\n",
       "    </tr>\n",
       "    <tr>\n",
       "      <th>platform</th>\n",
       "      <th></th>\n",
       "    </tr>\n",
       "  </thead>\n",
       "  <tbody>\n",
       "    <tr>\n",
       "      <th>3ds</th>\n",
       "      <td>44.24</td>\n",
       "    </tr>\n",
       "    <tr>\n",
       "      <th>ps4</th>\n",
       "      <td>15.02</td>\n",
       "    </tr>\n",
       "    <tr>\n",
       "      <th>psv</th>\n",
       "      <td>14.54</td>\n",
       "    </tr>\n",
       "    <tr>\n",
       "      <th>ps3</th>\n",
       "      <td>11.22</td>\n",
       "    </tr>\n",
       "    <tr>\n",
       "      <th>wiiu</th>\n",
       "      <td>7.31</td>\n",
       "    </tr>\n",
       "  </tbody>\n",
       "</table>\n",
       "</div>"
      ],
      "text/plain": [
       "          jp_sales\n",
       "platform          \n",
       "3ds          44.24\n",
       "ps4          15.02\n",
       "psv          14.54\n",
       "ps3          11.22\n",
       "wiiu          7.31"
      ]
     },
     "execution_count": 33,
     "metadata": {},
     "output_type": "execute_result"
    }
   ],
   "source": [
    "jp_df = df_new.query('jp_sales > 0')\n",
    "jp_df.info()\n",
    "jp_pivot_table = pd.pivot_table(jp_df, index='platform', values='jp_sales',\n",
    "                                        aggfunc='sum').sort_values('jp_sales', ascending=False)\n",
    "jp_pivot_table.head()"
   ]
  },
  {
   "cell_type": "markdown",
   "metadata": {
    "id": "ZHGj3INFyKrV"
   },
   "source": [
    "Самые популярные игровые платформы в **Японии** это: 3DS, PS4, PSV, PS3, WIIU"
   ]
  },
  {
   "cell_type": "markdown",
   "metadata": {
    "id": "f036hJSVyPRX"
   },
   "source": [
    "Вывод:\n",
    "- Самые популярные игровые платформы в **Америке** за все время это: PS4, XONE, X360, 3DS, PS3\n",
    "- Самые популярные игровые платформы в **Европе** это: PS4, XONE, PC, 3DS, PS3\n",
    "- Самые популярные игровые платформы в **Японии** это: 3DS, PS4, PSV, PS3, WIIU\n",
    "\n",
    "Во всех рейтингах присутствуют платформы Sony. В Европе и Америке топ 5 схож, меняются лишь места в списке, в Японии же предпочтения сильно отличаются."
   ]
  },
  {
   "cell_type": "markdown",
   "metadata": {
    "id": "l8cvCoKHySTF"
   },
   "source": [
    "### 4.2 Самые популярные жанры (топ-5). Поясните разницу."
   ]
  },
  {
   "cell_type": "code",
   "execution_count": 34,
   "metadata": {
    "colab": {
     "base_uri": "https://localhost:8080/",
     "height": 238
    },
    "id": "pCN7Isa5x8U4",
    "outputId": "f42cfdcb-28b6-45ac-aab1-c6d1c31c27f6"
   },
   "outputs": [
    {
     "data": {
      "text/html": [
       "<div>\n",
       "<style scoped>\n",
       "    .dataframe tbody tr th:only-of-type {\n",
       "        vertical-align: middle;\n",
       "    }\n",
       "\n",
       "    .dataframe tbody tr th {\n",
       "        vertical-align: top;\n",
       "    }\n",
       "\n",
       "    .dataframe thead th {\n",
       "        text-align: right;\n",
       "    }\n",
       "</style>\n",
       "<table border=\"1\" class=\"dataframe\">\n",
       "  <thead>\n",
       "    <tr style=\"text-align: right;\">\n",
       "      <th></th>\n",
       "      <th>na_sales</th>\n",
       "    </tr>\n",
       "    <tr>\n",
       "      <th>genre</th>\n",
       "      <th></th>\n",
       "    </tr>\n",
       "  </thead>\n",
       "  <tbody>\n",
       "    <tr>\n",
       "      <th>shooter</th>\n",
       "      <td>79.02</td>\n",
       "    </tr>\n",
       "    <tr>\n",
       "      <th>action</th>\n",
       "      <td>72.53</td>\n",
       "    </tr>\n",
       "    <tr>\n",
       "      <th>sports</th>\n",
       "      <td>46.13</td>\n",
       "    </tr>\n",
       "    <tr>\n",
       "      <th>role-playing</th>\n",
       "      <td>33.47</td>\n",
       "    </tr>\n",
       "    <tr>\n",
       "      <th>misc</th>\n",
       "      <td>15.05</td>\n",
       "    </tr>\n",
       "  </tbody>\n",
       "</table>\n",
       "</div>"
      ],
      "text/plain": [
       "              na_sales\n",
       "genre                 \n",
       "shooter          79.02\n",
       "action           72.53\n",
       "sports           46.13\n",
       "role-playing     33.47\n",
       "misc             15.05"
      ]
     },
     "execution_count": 34,
     "metadata": {},
     "output_type": "execute_result"
    }
   ],
   "source": [
    "na_genre = pd.pivot_table(na_df, index='genre', values='na_sales',\n",
    "                                        aggfunc='sum').sort_values('na_sales', ascending=False)\n",
    "na_genre.head()"
   ]
  },
  {
   "cell_type": "markdown",
   "metadata": {
    "id": "Px-87PpTyfdS"
   },
   "source": [
    "Топ 5 по **Америке**: Shooter, Action, Sports, Role-playing, Misc"
   ]
  },
  {
   "cell_type": "code",
   "execution_count": 35,
   "metadata": {
    "colab": {
     "base_uri": "https://localhost:8080/",
     "height": 238
    },
    "id": "u-XmuMgiyJyu",
    "outputId": "78c4e2eb-50dd-4cc2-cd8b-4b5747e6363f"
   },
   "outputs": [
    {
     "data": {
      "text/html": [
       "<div>\n",
       "<style scoped>\n",
       "    .dataframe tbody tr th:only-of-type {\n",
       "        vertical-align: middle;\n",
       "    }\n",
       "\n",
       "    .dataframe tbody tr th {\n",
       "        vertical-align: top;\n",
       "    }\n",
       "\n",
       "    .dataframe thead th {\n",
       "        text-align: right;\n",
       "    }\n",
       "</style>\n",
       "<table border=\"1\" class=\"dataframe\">\n",
       "  <thead>\n",
       "    <tr style=\"text-align: right;\">\n",
       "      <th></th>\n",
       "      <th>eu_sales</th>\n",
       "    </tr>\n",
       "    <tr>\n",
       "      <th>genre</th>\n",
       "      <th></th>\n",
       "    </tr>\n",
       "  </thead>\n",
       "  <tbody>\n",
       "    <tr>\n",
       "      <th>action</th>\n",
       "      <td>74.68</td>\n",
       "    </tr>\n",
       "    <tr>\n",
       "      <th>shooter</th>\n",
       "      <td>65.52</td>\n",
       "    </tr>\n",
       "    <tr>\n",
       "      <th>sports</th>\n",
       "      <td>45.73</td>\n",
       "    </tr>\n",
       "    <tr>\n",
       "      <th>role-playing</th>\n",
       "      <td>28.17</td>\n",
       "    </tr>\n",
       "    <tr>\n",
       "      <th>racing</th>\n",
       "      <td>14.13</td>\n",
       "    </tr>\n",
       "  </tbody>\n",
       "</table>\n",
       "</div>"
      ],
      "text/plain": [
       "              eu_sales\n",
       "genre                 \n",
       "action           74.68\n",
       "shooter          65.52\n",
       "sports           45.73\n",
       "role-playing     28.17\n",
       "racing           14.13"
      ]
     },
     "execution_count": 35,
     "metadata": {},
     "output_type": "execute_result"
    }
   ],
   "source": [
    "eu_genre = pd.pivot_table(eu_df, index='genre', values='eu_sales',\n",
    "                                        aggfunc='sum').sort_values('eu_sales', ascending=False)\n",
    "eu_genre.head()"
   ]
  },
  {
   "cell_type": "markdown",
   "metadata": {
    "id": "hYw9xEv_ylmP"
   },
   "source": [
    "Топ 5 по **Европе**: Action, Shooter, Sports, , Role-playing, Racing"
   ]
  },
  {
   "cell_type": "code",
   "execution_count": 36,
   "metadata": {
    "colab": {
     "base_uri": "https://localhost:8080/",
     "height": 238
    },
    "id": "4yjHfFr2yiyr",
    "outputId": "de19ee8a-82e0-493c-8d5e-0840dc83f970"
   },
   "outputs": [
    {
     "data": {
      "text/html": [
       "<div>\n",
       "<style scoped>\n",
       "    .dataframe tbody tr th:only-of-type {\n",
       "        vertical-align: middle;\n",
       "    }\n",
       "\n",
       "    .dataframe tbody tr th {\n",
       "        vertical-align: top;\n",
       "    }\n",
       "\n",
       "    .dataframe thead th {\n",
       "        text-align: right;\n",
       "    }\n",
       "</style>\n",
       "<table border=\"1\" class=\"dataframe\">\n",
       "  <thead>\n",
       "    <tr style=\"text-align: right;\">\n",
       "      <th></th>\n",
       "      <th>jp_sales</th>\n",
       "    </tr>\n",
       "    <tr>\n",
       "      <th>genre</th>\n",
       "      <th></th>\n",
       "    </tr>\n",
       "  </thead>\n",
       "  <tbody>\n",
       "    <tr>\n",
       "      <th>role-playing</th>\n",
       "      <td>31.16</td>\n",
       "    </tr>\n",
       "    <tr>\n",
       "      <th>action</th>\n",
       "      <td>29.58</td>\n",
       "    </tr>\n",
       "    <tr>\n",
       "      <th>fighting</th>\n",
       "      <td>6.37</td>\n",
       "    </tr>\n",
       "    <tr>\n",
       "      <th>misc</th>\n",
       "      <td>5.61</td>\n",
       "    </tr>\n",
       "    <tr>\n",
       "      <th>shooter</th>\n",
       "      <td>4.87</td>\n",
       "    </tr>\n",
       "  </tbody>\n",
       "</table>\n",
       "</div>"
      ],
      "text/plain": [
       "              jp_sales\n",
       "genre                 \n",
       "role-playing     31.16\n",
       "action           29.58\n",
       "fighting          6.37\n",
       "misc              5.61\n",
       "shooter           4.87"
      ]
     },
     "execution_count": 36,
     "metadata": {},
     "output_type": "execute_result"
    }
   ],
   "source": [
    "jp_genre = pd.pivot_table(jp_df, index='genre', values='jp_sales',\n",
    "                                        aggfunc='sum').sort_values('jp_sales', ascending=False)\n",
    "jp_genre.head()"
   ]
  },
  {
   "cell_type": "markdown",
   "metadata": {
    "id": "aQZdCKmeypOi"
   },
   "source": [
    "Топ 5 по **Японии**: Role-Playing, Action, Fighting,  Misc, Shooter"
   ]
  },
  {
   "cell_type": "code",
   "execution_count": 41,
   "metadata": {},
   "outputs": [
    {
     "data": {
      "image/png": "[encoded data removed]",
      "text/plain": [
       "<Figure size 1080x360 with 3 Axes>"
      ]
     },
     "metadata": {},
     "output_type": "display_data"
    }
   ],
   "source": [
    "games_fresh = df_new.copy()\n",
    "countries = games_fresh.columns[4:7]\n",
    "# начертим круговую диаграмму для каждого региона\n",
    "fig, axs = plt.subplots(1, 3, figsize=(15, 5))\n",
    "fig.suptitle('ТОП-5 жанров в регионах')\n",
    "for i in range(3):\n",
    "  # выберем 5 самых продающих жанров\n",
    "  df_i = (games_fresh.groupby('genre')[countries[i]].sum().\n",
    "             reset_index().\n",
    "             sort_values(countries[i], ascending = False, ignore_index = True).\n",
    "             head(5))\n",
    "  # занесем все остальыне продажи в другие жанры\n",
    "  df_i = df_i.append({'genre': 'Other_genre', countries[i]: games_fresh[countries[i]].sum() - df_i[countries[i]].sum()}, ignore_index= True)\n",
    "  axs[i].pie(df_i[countries[i]], labels = df_i['genre'], autopct='%1.1f%%')\n",
    "  # Зададим название региона.\n",
    "  axs[i].set_title(df_i.columns[1].split('_')[0].upper())\n",
    "plt.show()"
   ]
  },
  {
   "cell_type": "markdown",
   "metadata": {
    "id": "DqgqfYpFywDx"
   },
   "source": [
    "Вывод:\n",
    "* Топ 5 по **Америке**: Shooter, Action, Sports, Role-playing, Misc\n",
    "* Топ 5 по **Европе**: Action, Shooter, Sports, , Role-playing, Racing\n",
    "* Топ 5 по **Японии**: Role-Playing, Action, Fighting,  Misc, Shooter\n",
    "\n",
    "В Европе и Америке топ 5 схож, в Японии же предпочтения сильно отличаются.\n",
    "\n",
    "Вне зависимости от региона всегда будут популярны игры Action and Shooter"
   ]
  },
  {
   "cell_type": "markdown",
   "metadata": {
    "id": "5IkEJs6ey1WC"
   },
   "source": [
    "### 4.3 Влияет ли рейтинг ESRB на продажи в отдельном регионе?"
   ]
  },
  {
   "cell_type": "code",
   "execution_count": 42,
   "metadata": {},
   "outputs": [
    {
     "name": "stderr",
     "output_type": "stream",
     "text": [
      "/var/folders/n5/hf1z1cjs4t97l4243vhg328m0000gp/T/ipykernel_99590/2872728172.py:2: SettingWithCopyWarning: \n",
      "A value is trying to be set on a copy of a slice from a DataFrame.\n",
      "Try using .loc[row_indexer,col_indexer] = value instead\n",
      "\n",
      "See the caveats in the documentation: https://pandas.pydata.org/pandas-docs/stable/user_guide/indexing.html#returning-a-view-versus-a-copy\n",
      "  df_new['rating'] = df_new['rating'].fillna('no_rating')\n"
     ]
    }
   ],
   "source": [
    "# поставим заглушку на пропуски в возрастном разряде(предположим, что это игры без возрастных ограничений)\n",
    "df_new['rating'] = df_new['rating'].fillna('no_rating')"
   ]
  },
  {
   "cell_type": "code",
   "execution_count": 43,
   "metadata": {
    "colab": {
     "base_uri": "https://localhost:8080/",
     "height": 238
    },
    "id": "01CSi1jAy12M",
    "outputId": "8fb84010-8035-465a-9122-a14b77b30b84"
   },
   "outputs": [
    {
     "data": {
      "text/html": [
       "<div>\n",
       "<style scoped>\n",
       "    .dataframe tbody tr th:only-of-type {\n",
       "        vertical-align: middle;\n",
       "    }\n",
       "\n",
       "    .dataframe tbody tr th {\n",
       "        vertical-align: top;\n",
       "    }\n",
       "\n",
       "    .dataframe thead th {\n",
       "        text-align: right;\n",
       "    }\n",
       "</style>\n",
       "<table border=\"1\" class=\"dataframe\">\n",
       "  <thead>\n",
       "    <tr style=\"text-align: right;\">\n",
       "      <th></th>\n",
       "      <th>na_sales</th>\n",
       "    </tr>\n",
       "    <tr>\n",
       "      <th>rating</th>\n",
       "      <th></th>\n",
       "    </tr>\n",
       "  </thead>\n",
       "  <tbody>\n",
       "    <tr>\n",
       "      <th>M</th>\n",
       "      <td>96.42</td>\n",
       "    </tr>\n",
       "    <tr>\n",
       "      <th>no_rating</th>\n",
       "      <td>64.72</td>\n",
       "    </tr>\n",
       "    <tr>\n",
       "      <th>E</th>\n",
       "      <td>50.74</td>\n",
       "    </tr>\n",
       "    <tr>\n",
       "      <th>T</th>\n",
       "      <td>38.95</td>\n",
       "    </tr>\n",
       "    <tr>\n",
       "      <th>E10+</th>\n",
       "      <td>33.23</td>\n",
       "    </tr>\n",
       "  </tbody>\n",
       "</table>\n",
       "</div>"
      ],
      "text/plain": [
       "           na_sales\n",
       "rating             \n",
       "M             96.42\n",
       "no_rating     64.72\n",
       "E             50.74\n",
       "T             38.95\n",
       "E10+          33.23"
      ]
     },
     "execution_count": 43,
     "metadata": {},
     "output_type": "execute_result"
    }
   ],
   "source": [
    "na_df = df_new.query('na_sales > 0')\n",
    "na_rating = pd.pivot_table(na_df, index='rating', values='na_sales',\n",
    "                                        aggfunc='sum').sort_values('na_sales', ascending=False)\n",
    "na_rating"
   ]
  },
  {
   "cell_type": "code",
   "execution_count": 44,
   "metadata": {
    "colab": {
     "base_uri": "https://localhost:8080/",
     "height": 238
    },
    "id": "IDyfUqJUy5Mm",
    "outputId": "3d2d59db-b33f-4905-8f21-1d0984dadd81"
   },
   "outputs": [
    {
     "data": {
      "text/html": [
       "<div>\n",
       "<style scoped>\n",
       "    .dataframe tbody tr th:only-of-type {\n",
       "        vertical-align: middle;\n",
       "    }\n",
       "\n",
       "    .dataframe tbody tr th {\n",
       "        vertical-align: top;\n",
       "    }\n",
       "\n",
       "    .dataframe thead th {\n",
       "        text-align: right;\n",
       "    }\n",
       "</style>\n",
       "<table border=\"1\" class=\"dataframe\">\n",
       "  <thead>\n",
       "    <tr style=\"text-align: right;\">\n",
       "      <th></th>\n",
       "      <th>eu_sales</th>\n",
       "    </tr>\n",
       "    <tr>\n",
       "      <th>rating</th>\n",
       "      <th></th>\n",
       "    </tr>\n",
       "  </thead>\n",
       "  <tbody>\n",
       "    <tr>\n",
       "      <th>M</th>\n",
       "      <td>93.44</td>\n",
       "    </tr>\n",
       "    <tr>\n",
       "      <th>no_rating</th>\n",
       "      <td>58.95</td>\n",
       "    </tr>\n",
       "    <tr>\n",
       "      <th>E</th>\n",
       "      <td>58.06</td>\n",
       "    </tr>\n",
       "    <tr>\n",
       "      <th>T</th>\n",
       "      <td>34.07</td>\n",
       "    </tr>\n",
       "    <tr>\n",
       "      <th>E10+</th>\n",
       "      <td>26.16</td>\n",
       "    </tr>\n",
       "  </tbody>\n",
       "</table>\n",
       "</div>"
      ],
      "text/plain": [
       "           eu_sales\n",
       "rating             \n",
       "M             93.44\n",
       "no_rating     58.95\n",
       "E             58.06\n",
       "T             34.07\n",
       "E10+          26.16"
      ]
     },
     "execution_count": 44,
     "metadata": {},
     "output_type": "execute_result"
    }
   ],
   "source": [
    "eu_df = df_new.query('eu_sales > 0')\n",
    "eu_rating = pd.pivot_table(eu_df, index='rating', values='eu_sales',\n",
    "                                        aggfunc='sum').sort_values('eu_sales', ascending=False)\n",
    "eu_rating"
   ]
  },
  {
   "cell_type": "code",
   "execution_count": 45,
   "metadata": {
    "colab": {
     "base_uri": "https://localhost:8080/",
     "height": 206
    },
    "id": "cp8Ex8cmy7qB",
    "outputId": "5ec4a4a0-60ed-4df3-db4a-78294fb29db1"
   },
   "outputs": [
    {
     "data": {
      "text/html": [
       "<div>\n",
       "<style scoped>\n",
       "    .dataframe tbody tr th:only-of-type {\n",
       "        vertical-align: middle;\n",
       "    }\n",
       "\n",
       "    .dataframe tbody tr th {\n",
       "        vertical-align: top;\n",
       "    }\n",
       "\n",
       "    .dataframe thead th {\n",
       "        text-align: right;\n",
       "    }\n",
       "</style>\n",
       "<table border=\"1\" class=\"dataframe\">\n",
       "  <thead>\n",
       "    <tr style=\"text-align: right;\">\n",
       "      <th></th>\n",
       "      <th>jp_sales</th>\n",
       "    </tr>\n",
       "    <tr>\n",
       "      <th>rating</th>\n",
       "      <th></th>\n",
       "    </tr>\n",
       "  </thead>\n",
       "  <tbody>\n",
       "    <tr>\n",
       "      <th>no_rating</th>\n",
       "      <td>56.90</td>\n",
       "    </tr>\n",
       "    <tr>\n",
       "      <th>T</th>\n",
       "      <td>14.78</td>\n",
       "    </tr>\n",
       "    <tr>\n",
       "      <th>E</th>\n",
       "      <td>8.94</td>\n",
       "    </tr>\n",
       "    <tr>\n",
       "      <th>M</th>\n",
       "      <td>8.01</td>\n",
       "    </tr>\n",
       "    <tr>\n",
       "      <th>E10+</th>\n",
       "      <td>4.46</td>\n",
       "    </tr>\n",
       "  </tbody>\n",
       "</table>\n",
       "</div>"
      ],
      "text/plain": [
       "           jp_sales\n",
       "rating             \n",
       "no_rating     56.90\n",
       "T             14.78\n",
       "E              8.94\n",
       "M              8.01\n",
       "E10+           4.46"
      ]
     },
     "execution_count": 45,
     "metadata": {},
     "output_type": "execute_result"
    }
   ],
   "source": [
    "jp_df = df_new.query('jp_sales > 0')\n",
    "jp_rating = pd.pivot_table(jp_df, index='rating', values='jp_sales',\n",
    "                                        aggfunc='sum').sort_values('jp_sales', ascending=False)\n",
    "jp_rating"
   ]
  },
  {
   "cell_type": "markdown",
   "metadata": {
    "id": "XTpmjk3zzAhs"
   },
   "source": [
    "Рейтинг возраста влияет по каждому региону.\n",
    "\n",
    "В Америке и Европе опять похожая ситуация. Самые популярные игры с рейтингом 17+, ориентированные на взрослых пользователей, за ними идут игры без возрастного ограничения.\n",
    "\n",
    "В Японии лидириуют игры с рейтингом 13+ и имеет огромный рынок игр без маркировки возраста. Компании пытаются продавать игры на более молодую аудиторию."
   ]
  },
  {
   "cell_type": "markdown",
   "metadata": {
    "id": "njHzF04ezDYe"
   },
   "source": [
    "## Шаг 5. Проверим гипотезы"
   ]
  },
  {
   "cell_type": "markdown",
   "metadata": {
    "id": "EZcfkXDezHre"
   },
   "source": [
    "### 5.1 Средние пользовательские рейтинги платформ Xbox One и PC одинаковые\n",
    "\n",
    "Сформулируем нулевые гипотезы:\n",
    "\n",
    "- Нулевая гипотеза H₀: Средние пользовательские рейтинги платформ Xbox One и PC одинаковые\n",
    "- Альтернативная гипотеза H₁: Средние пользовательские рейтинги платформ Xbox One и PC различаются\n"
   ]
  },
  {
   "cell_type": "code",
   "execution_count": 46,
   "metadata": {
    "colab": {
     "base_uri": "https://localhost:8080/"
    },
    "id": "fXOGHYiny9s_",
    "outputId": "c7db0e6d-3ea7-4bf2-854c-c06c72349a09"
   },
   "outputs": [
    {
     "name": "stdout",
     "output_type": "stream",
     "text": [
      "Срелняя оценка пользователей XONE: 6.594545454545453\n",
      "Срелняя оценка пользователей PC: 6.298360655737703\n"
     ]
    }
   ],
   "source": [
    "# Сохраним в переменных xone и pc соответствующие данные\n",
    "xone = df_new.query('platform == \"xone\"')['user_score']\n",
    "pc =df_new.query('platform==\"pc\"')['user_score']\n",
    "print('Срелняя оценка пользователей XONE:', xone.mean())\n",
    "print('Срелняя оценка пользователей PC:',pc.mean())"
   ]
  },
  {
   "cell_type": "code",
   "execution_count": 47,
   "metadata": {
    "colab": {
     "base_uri": "https://localhost:8080/"
    },
    "id": "c98zWaYnzHAN",
    "outputId": "f669b245-7901-4d1e-f2b2-0dd2adae2a1c"
   },
   "outputs": [
    {
     "name": "stdout",
     "output_type": "stream",
     "text": [
      "p-значение: 0.11601398086668827\n",
      "Не получилось отвергнуть нулевую гипотезу\n"
     ]
    }
   ],
   "source": [
    "alpha = 0.01\n",
    "\n",
    "results = st.ttest_ind(xone.dropna(), pc.dropna(), equal_var=False)\n",
    "\n",
    "print('p-значение:', results.pvalue)\n",
    "\n",
    "\n",
    "if (results.pvalue < alpha):\n",
    "    print(\"Отвергаем нулевую гипотезу\")\n",
    "else:\n",
    "    print(\"Не получилось отвергнуть нулевую гипотезу\")"
   ]
  },
  {
   "cell_type": "markdown",
   "metadata": {
    "id": "LQPYHjYW0Z0e"
   },
   "source": [
    "Вывод: \n",
    "Не получилось отвергнуть нулевую гипотезу.\n",
    "Рейтинги игр схожи"
   ]
  },
  {
   "cell_type": "markdown",
   "metadata": {
    "id": "stlWp8HO0e81"
   },
   "source": [
    "### 5.2 Средние пользовательские рейтинги жанров Action (англ. «действие», экшен-игры) и Sports (англ. «спортивные соревнования») разные"
   ]
  },
  {
   "cell_type": "markdown",
   "metadata": {
    "id": "_N0TyPZh0iB_"
   },
   "source": [
    "Сформулируем нулевые гипотезы:\n",
    "\n",
    "- Нулевая гипотеза H₀: Средние пользовательские рейтинги жанров Action и Sports одинаковые\n",
    "- Альтернативная гипотеза H₁: Средние пользовательские рейтинги жанров Action и Sports различаются"
   ]
  },
  {
   "cell_type": "code",
   "execution_count": 48,
   "metadata": {
    "colab": {
     "base_uri": "https://localhost:8080/"
    },
    "id": "dqKAFgurz1cJ",
    "outputId": "01d29749-0571-43de-b97f-b0f188a50ec5"
   },
   "outputs": [
    {
     "name": "stdout",
     "output_type": "stream",
     "text": [
      "Срелняя оценка пользователей жанра Экшн: 6.760606060606054\n",
      "Срелняя оценка пользователей жанра Спорт: 5.225196850393697\n"
     ]
    }
   ],
   "source": [
    "action = df_new.query('genre == \"action\"')['user_score']\n",
    "sports = df_new.query('genre == \"sports\"')['user_score']\n",
    "print('Срелняя оценка пользователей жанра Экшн:', action.mean())\n",
    "print('Срелняя оценка пользователей жанра Спорт:', sports.mean())"
   ]
  },
  {
   "cell_type": "code",
   "execution_count": 49,
   "metadata": {
    "colab": {
     "base_uri": "https://localhost:8080/"
    },
    "id": "AMmWqaSW1JdI",
    "outputId": "f30ab8a7-29e2-49c8-feec-c994887b097a"
   },
   "outputs": [
    {
     "name": "stdout",
     "output_type": "stream",
     "text": [
      "p-значение: 1.1825550382644557e-14\n",
      "Отвергаем нулевую гипотезу\n"
     ]
    }
   ],
   "source": [
    "alpha = 0.01\n",
    "\n",
    "results = st.ttest_ind(action.dropna(), sports.dropna(), equal_var=False)\n",
    "\n",
    "print('p-значение:', results.pvalue)\n",
    "\n",
    "\n",
    "if (results.pvalue < alpha):\n",
    "    print(\"Отвергаем нулевую гипотезу\")\n",
    "else:\n",
    "    print(\"Не получилось отвергнуть нулевую гипотезу\")"
   ]
  },
  {
   "cell_type": "markdown",
   "metadata": {
    "id": "xb8sF4ek1SnW"
   },
   "source": [
    "Вывод:\n",
    "По результатм рассчетов, мы отвергаетт нулевую гипотезу.\n",
    "\n",
    "Вероятность получить одинаковые средние рейнтинги по двум жанрам крайне мала."
   ]
  },
  {
   "cell_type": "markdown",
   "metadata": {
    "id": "rq5fk_yp1SZj"
   },
   "source": [
    "\n",
    "Вывод по проверке гипотез\n",
    "- Гипотеза: \"Средние пользовательские рейтинги платформ Xbox one и PC одинаковые\". Отвергаем нулевую гипотезу.\n",
    "- Гипотеза: \"Средние пользовательские рейтинги жанров Action и Sports разные\". Отвергаем нулевую гипотезу.\n"
   ]
  },
  {
   "cell_type": "markdown",
   "metadata": {
    "id": "CNQ7WMqz1auF"
   },
   "source": [
    "## Шаг 6. Общий вывод"
   ]
  },
  {
   "cell_type": "markdown",
   "metadata": {
    "id": "I0nmLPM21b63"
   },
   "source": [
    "Вывод:\n",
    "Рассмотрев данные, мы привели их к удобному виду: поменяли форматы, примели к нижнему регстру.\n",
    "\n",
    "Приступили к Исследовательскому анализу\n",
    "\n",
    "* Активной рост производства игр начался в 2000 году, достиг своего пика в 2007-2009 годах, и после начался уверенный спад производства.\n",
    "Предположим, что спад связан с появлением смартфонов, и переходом пользователей в мобильное пространство.\n",
    "\n",
    "\n",
    "\n",
    "* Средний срок высокой популярности платформы 6-8 лет, а общий срок жизни около 10 лет\n",
    "\n",
    "\n",
    "* Компания Sony выпускает обновленные приставки каджые 6-7 лет, а игры со старых приставок поддерживаются еще окола 3-5 лет после выхода новых.\n",
    "* Можно предположить что пик продаж на PS4 придется на 2017-2019 года.\n",
    "\n",
    "\n",
    "По графику боксплот мы сделали выводы, что:\n",
    "- медианы разлижаются у всех кроме PS3 и x360. \n",
    "- Лидерство продаж распределяется так: PS3, X360, PS2, WII и DS. \n",
    "- Выбросы имеются у всех моделей, но лидер по выбросам - ds\n",
    "\n",
    "\n",
    "\n",
    "Кассмотрели возможные взаимосвязи и заметили\n",
    " - У всех платформ корреляцию, между оценками \n",
    "пользователей и критиков по отношению к продажам. \n",
    " - Однако оценки пользователей слабо влияет на продажи\n",
    " - Оцентки критиков имеют более сильное влияние на продажи. Вероятно люди склонны довкрять оцентам профессионалов.\n",
    "\n",
    " Вывод по исследовательскому анализу данных:\n",
    "\n",
    "Активной рост производства игр начался в 2000 году, достиг своего пика в 2007-2009 годах, и после начался уверенный спад производства.\n",
    "Топ платформ за весь период : Sony PlayStation 2, Xbox 360, Sony Playstation 3, Nintendo WII, Nintendo DS, Sony Playstation, Game Boy Advance, Sony Playstation4.\n",
    "Средний срок высокой популярности платформы 6-8 лет, а общий срок жизни около 10 лет\n",
    "Мы можем заметить у всех платформ корреляцию, между оценками пользователей и критиков по отношению к продажам. Однако оценки пользователей слабо влияет на продажи Оцентки критиков имеют более сильное влияние на продажи. Вероятно люди склонны довкрять оцентам профессионалов.\n",
    "\n",
    "\n",
    "Примерный портрет игрока в\n",
    "\n",
    "Американский игрок:\n",
    "\n",
    "старше 17 лет\n",
    "предпочитает X360, WII, PS3\n",
    "играет в Экшен, Спорт или Шутер\n",
    "Европейский игрок:\n",
    "\n",
    "старше 17 лет\n",
    "выберет PS3, X360\n",
    "играет в Экшен, Спорт или Шутер\n",
    "Японский игрок:\n",
    "\n",
    "старше 13 лет\n",
    "выберет компактную приставку DS\n",
    "играет в РПГ или Экшн\n",
    "\n",
    "\n",
    "Вывод по проверке гипотез\n",
    "\n",
    "Гипотеза: \"Средние пользовательские рейтинги платформ Xbox one и PC одинаковые\". Не получилось отвергнуть нулевую гипотезу. Рейтинги игр схожи.\n",
    "\n",
    "Гипотеза: \"Средние пользовательские рейтинги жанров Action и Sports разные\". Отвергаем нулевую гипотезу. \n",
    "Вероятность получить одинаковые средние рейнтинги по двум жанрам крайне мала."
   ]
  }
 ],
 "metadata": {
  "ExecuteTimeLog": [
   {
    "duration": 1088,
    "start_time": "2022-09-28T20:50:50.239Z"
   },
   {
    "duration": 152,
    "start_time": "2022-09-28T20:50:51.329Z"
   },
   {
    "duration": 26,
    "start_time": "2022-09-28T20:50:51.482Z"
   },
   {
    "duration": 13,
    "start_time": "2022-09-28T20:50:51.510Z"
   },
   {
    "duration": 3,
    "start_time": "2022-09-28T20:50:51.525Z"
   },
   {
    "duration": 72,
    "start_time": "2022-09-28T20:50:51.529Z"
   },
   {
    "duration": 7,
    "start_time": "2022-09-28T20:50:51.603Z"
   },
   {
    "duration": 32,
    "start_time": "2022-09-28T20:50:51.612Z"
   },
   {
    "duration": 20,
    "start_time": "2022-09-28T20:50:51.646Z"
   },
   {
    "duration": 36,
    "start_time": "2022-09-28T20:50:51.668Z"
   },
   {
    "duration": 9,
    "start_time": "2022-09-28T20:50:51.705Z"
   },
   {
    "duration": 33,
    "start_time": "2022-09-28T20:50:51.715Z"
   },
   {
    "duration": 26,
    "start_time": "2022-09-28T20:50:51.750Z"
   },
   {
    "duration": 338,
    "start_time": "2022-09-28T20:50:51.777Z"
   },
   {
    "duration": 5,
    "start_time": "2022-09-28T20:50:52.117Z"
   },
   {
    "duration": 39,
    "start_time": "2022-09-28T20:50:52.123Z"
   },
   {
    "duration": 17,
    "start_time": "2022-09-28T20:50:52.163Z"
   },
   {
    "duration": 24,
    "start_time": "2022-09-28T20:50:52.182Z"
   },
   {
    "duration": 24,
    "start_time": "2022-09-28T20:50:52.208Z"
   },
   {
    "duration": 200,
    "start_time": "2022-09-28T20:50:52.234Z"
   },
   {
    "duration": 326,
    "start_time": "2022-09-28T20:50:52.436Z"
   },
   {
    "duration": 4,
    "start_time": "2022-09-28T20:50:52.763Z"
   },
   {
    "duration": 43,
    "start_time": "2022-09-28T20:50:52.768Z"
   },
   {
    "duration": 35,
    "start_time": "2022-09-28T20:50:52.813Z"
   },
   {
    "duration": 307,
    "start_time": "2022-09-28T20:50:52.849Z"
   },
   {
    "duration": 9,
    "start_time": "2022-09-28T20:50:53.158Z"
   },
   {
    "duration": 14,
    "start_time": "2022-09-28T20:50:53.178Z"
   },
   {
    "duration": 199,
    "start_time": "2022-09-28T20:50:53.196Z"
   },
   {
    "duration": 8,
    "start_time": "2022-09-28T20:50:53.396Z"
   },
   {
    "duration": 230,
    "start_time": "2022-09-28T20:50:53.406Z"
   },
   {
    "duration": 162,
    "start_time": "2022-09-28T20:50:53.638Z"
   },
   {
    "duration": 5,
    "start_time": "2022-09-28T20:50:53.802Z"
   },
   {
    "duration": 21,
    "start_time": "2022-09-28T20:50:53.809Z"
   },
   {
    "duration": 1298,
    "start_time": "2022-09-28T20:50:53.832Z"
   },
   {
    "duration": 72,
    "start_time": "2022-09-28T20:50:55.132Z"
   },
   {
    "duration": 93,
    "start_time": "2022-09-28T20:50:55.206Z"
   },
   {
    "duration": 22,
    "start_time": "2022-09-28T20:50:55.301Z"
   },
   {
    "duration": 230,
    "start_time": "2022-09-28T20:50:55.327Z"
   },
   {
    "duration": 7,
    "start_time": "2022-09-28T20:50:55.559Z"
   },
   {
    "duration": 388,
    "start_time": "2022-09-28T20:50:55.576Z"
   },
   {
    "duration": 462,
    "start_time": "2022-09-28T20:50:55.965Z"
   },
   {
    "duration": 403,
    "start_time": "2022-09-28T20:50:56.429Z"
   },
   {
    "duration": 429,
    "start_time": "2022-09-28T20:50:56.834Z"
   },
   {
    "duration": 402,
    "start_time": "2022-09-28T20:50:57.265Z"
   },
   {
    "duration": 397,
    "start_time": "2022-09-28T20:50:57.669Z"
   },
   {
    "duration": 15,
    "start_time": "2022-09-28T20:50:58.067Z"
   },
   {
    "duration": 12,
    "start_time": "2022-09-28T20:50:58.084Z"
   },
   {
    "duration": 24,
    "start_time": "2022-09-28T20:50:58.097Z"
   },
   {
    "duration": 32,
    "start_time": "2022-09-28T20:50:58.123Z"
   },
   {
    "duration": 4,
    "start_time": "2022-09-28T20:50:58.157Z"
   },
   {
    "duration": 25,
    "start_time": "2022-09-28T20:50:58.163Z"
   },
   {
    "duration": 1163,
    "start_time": "2022-10-03T16:11:48.719Z"
   },
   {
    "duration": 152,
    "start_time": "2022-10-03T16:11:49.884Z"
   },
   {
    "duration": 29,
    "start_time": "2022-10-03T16:11:50.038Z"
   },
   {
    "duration": 16,
    "start_time": "2022-10-03T16:11:50.069Z"
   },
   {
    "duration": 16,
    "start_time": "2022-10-03T16:11:50.087Z"
   },
   {
    "duration": 83,
    "start_time": "2022-10-03T16:11:50.105Z"
   },
   {
    "duration": 11,
    "start_time": "2022-10-03T16:11:50.190Z"
   },
   {
    "duration": 30,
    "start_time": "2022-10-03T16:11:50.203Z"
   },
   {
    "duration": 7,
    "start_time": "2022-10-03T16:11:50.235Z"
   },
   {
    "duration": 57,
    "start_time": "2022-10-03T16:11:50.243Z"
   },
   {
    "duration": 35,
    "start_time": "2022-10-03T16:11:50.302Z"
   },
   {
    "duration": 6,
    "start_time": "2022-10-03T16:11:50.338Z"
   },
   {
    "duration": 48,
    "start_time": "2022-10-03T16:11:50.345Z"
   },
   {
    "duration": 205,
    "start_time": "2022-10-03T16:11:50.396Z"
   },
   {
    "duration": 18,
    "start_time": "2022-10-03T16:11:50.602Z"
   },
   {
    "duration": 367,
    "start_time": "2022-10-03T16:11:50.622Z"
   },
   {
    "duration": 4,
    "start_time": "2022-10-03T16:11:50.990Z"
   },
   {
    "duration": 103,
    "start_time": "2022-10-03T16:11:50.996Z"
   },
   {
    "duration": 16,
    "start_time": "2022-10-03T16:11:51.100Z"
   },
   {
    "duration": 7,
    "start_time": "2022-10-03T16:11:51.117Z"
   },
   {
    "duration": 240,
    "start_time": "2022-10-03T16:11:51.126Z"
   },
   {
    "duration": 5,
    "start_time": "2022-10-03T16:11:51.368Z"
   },
   {
    "duration": 209,
    "start_time": "2022-10-03T16:11:51.376Z"
   },
   {
    "duration": 8,
    "start_time": "2022-10-03T16:11:51.587Z"
   },
   {
    "duration": 165,
    "start_time": "2022-10-03T16:11:51.597Z"
   },
   {
    "duration": 178,
    "start_time": "2022-10-03T16:11:51.764Z"
   },
   {
    "duration": 6,
    "start_time": "2022-10-03T16:11:51.943Z"
   },
   {
    "duration": 95,
    "start_time": "2022-10-03T16:11:51.951Z"
   },
   {
    "duration": 104,
    "start_time": "2022-10-03T16:11:52.048Z"
   },
   {
    "duration": 0,
    "start_time": "2022-10-03T16:11:52.154Z"
   },
   {
    "duration": 0,
    "start_time": "2022-10-03T16:11:52.155Z"
   },
   {
    "duration": 0,
    "start_time": "2022-10-03T16:11:52.156Z"
   },
   {
    "duration": 0,
    "start_time": "2022-10-03T16:11:52.158Z"
   },
   {
    "duration": 0,
    "start_time": "2022-10-03T16:11:52.159Z"
   },
   {
    "duration": 0,
    "start_time": "2022-10-03T16:11:52.176Z"
   },
   {
    "duration": 0,
    "start_time": "2022-10-03T16:11:52.177Z"
   },
   {
    "duration": 0,
    "start_time": "2022-10-03T16:11:52.178Z"
   },
   {
    "duration": 0,
    "start_time": "2022-10-03T16:11:52.180Z"
   },
   {
    "duration": 0,
    "start_time": "2022-10-03T16:11:52.181Z"
   },
   {
    "duration": 0,
    "start_time": "2022-10-03T16:11:52.182Z"
   },
   {
    "duration": 0,
    "start_time": "2022-10-03T16:11:52.183Z"
   },
   {
    "duration": 0,
    "start_time": "2022-10-03T16:11:52.184Z"
   },
   {
    "duration": 0,
    "start_time": "2022-10-03T16:11:52.185Z"
   },
   {
    "duration": 0,
    "start_time": "2022-10-03T16:11:52.186Z"
   },
   {
    "duration": 78,
    "start_time": "2022-10-03T16:14:06.605Z"
   },
   {
    "duration": 1227,
    "start_time": "2022-10-03T16:14:16.679Z"
   },
   {
    "duration": 84,
    "start_time": "2022-10-03T16:14:17.909Z"
   },
   {
    "duration": 30,
    "start_time": "2022-10-03T16:14:17.995Z"
   },
   {
    "duration": 16,
    "start_time": "2022-10-03T16:14:18.027Z"
   },
   {
    "duration": 5,
    "start_time": "2022-10-03T16:14:18.045Z"
   },
   {
    "duration": 81,
    "start_time": "2022-10-03T16:14:18.051Z"
   },
   {
    "duration": 11,
    "start_time": "2022-10-03T16:14:18.134Z"
   },
   {
    "duration": 37,
    "start_time": "2022-10-03T16:14:18.147Z"
   },
   {
    "duration": 4,
    "start_time": "2022-10-03T16:14:18.186Z"
   },
   {
    "duration": 28,
    "start_time": "2022-10-03T16:14:18.192Z"
   },
   {
    "duration": 21,
    "start_time": "2022-10-03T16:14:18.222Z"
   },
   {
    "duration": 6,
    "start_time": "2022-10-03T16:14:18.245Z"
   },
   {
    "duration": 36,
    "start_time": "2022-10-03T16:14:18.252Z"
   },
   {
    "duration": 99,
    "start_time": "2022-10-03T16:14:18.291Z"
   },
   {
    "duration": 198,
    "start_time": "2022-10-03T16:14:18.392Z"
   },
   {
    "duration": 19,
    "start_time": "2022-10-03T16:14:18.592Z"
   },
   {
    "duration": 374,
    "start_time": "2022-10-03T16:14:18.612Z"
   },
   {
    "duration": 4,
    "start_time": "2022-10-03T16:14:18.988Z"
   },
   {
    "duration": 110,
    "start_time": "2022-10-03T16:14:18.993Z"
   },
   {
    "duration": 15,
    "start_time": "2022-10-03T16:14:19.105Z"
   },
   {
    "duration": 5,
    "start_time": "2022-10-03T16:14:19.122Z"
   },
   {
    "duration": 222,
    "start_time": "2022-10-03T16:14:19.129Z"
   },
   {
    "duration": 6,
    "start_time": "2022-10-03T16:14:19.352Z"
   },
   {
    "duration": 219,
    "start_time": "2022-10-03T16:14:19.360Z"
   },
   {
    "duration": 9,
    "start_time": "2022-10-03T16:14:19.581Z"
   },
   {
    "duration": 180,
    "start_time": "2022-10-03T16:14:19.592Z"
   },
   {
    "duration": 209,
    "start_time": "2022-10-03T16:14:19.774Z"
   },
   {
    "duration": 7,
    "start_time": "2022-10-03T16:14:19.985Z"
   },
   {
    "duration": 101,
    "start_time": "2022-10-03T16:14:19.993Z"
   },
   {
    "duration": 111,
    "start_time": "2022-10-03T16:14:20.096Z"
   },
   {
    "duration": 0,
    "start_time": "2022-10-03T16:14:20.209Z"
   },
   {
    "duration": 0,
    "start_time": "2022-10-03T16:14:20.210Z"
   },
   {
    "duration": 0,
    "start_time": "2022-10-03T16:14:20.211Z"
   },
   {
    "duration": 0,
    "start_time": "2022-10-03T16:14:20.212Z"
   },
   {
    "duration": 0,
    "start_time": "2022-10-03T16:14:20.213Z"
   },
   {
    "duration": 0,
    "start_time": "2022-10-03T16:14:20.214Z"
   },
   {
    "duration": 0,
    "start_time": "2022-10-03T16:14:20.215Z"
   },
   {
    "duration": 0,
    "start_time": "2022-10-03T16:14:20.216Z"
   },
   {
    "duration": 0,
    "start_time": "2022-10-03T16:14:20.217Z"
   },
   {
    "duration": 0,
    "start_time": "2022-10-03T16:14:20.218Z"
   },
   {
    "duration": 0,
    "start_time": "2022-10-03T16:14:20.219Z"
   },
   {
    "duration": 0,
    "start_time": "2022-10-03T16:14:20.220Z"
   },
   {
    "duration": 0,
    "start_time": "2022-10-03T16:14:20.221Z"
   },
   {
    "duration": 0,
    "start_time": "2022-10-03T16:14:20.222Z"
   },
   {
    "duration": 0,
    "start_time": "2022-10-03T16:14:20.223Z"
   },
   {
    "duration": 1283,
    "start_time": "2022-10-03T19:09:40.813Z"
   },
   {
    "duration": 89,
    "start_time": "2022-10-03T19:09:42.099Z"
   },
   {
    "duration": 30,
    "start_time": "2022-10-03T19:09:42.192Z"
   },
   {
    "duration": 13,
    "start_time": "2022-10-03T19:09:42.224Z"
   },
   {
    "duration": 7,
    "start_time": "2022-10-03T19:09:42.239Z"
   },
   {
    "duration": 81,
    "start_time": "2022-10-03T19:09:42.247Z"
   },
   {
    "duration": 8,
    "start_time": "2022-10-03T19:09:42.330Z"
   },
   {
    "duration": 23,
    "start_time": "2022-10-03T19:09:42.340Z"
   },
   {
    "duration": 14,
    "start_time": "2022-10-03T19:09:42.366Z"
   },
   {
    "duration": 33,
    "start_time": "2022-10-03T19:09:42.382Z"
   },
   {
    "duration": 33,
    "start_time": "2022-10-03T19:09:42.418Z"
   },
   {
    "duration": 23,
    "start_time": "2022-10-03T19:09:42.453Z"
   },
   {
    "duration": 14,
    "start_time": "2022-10-03T19:09:42.478Z"
   },
   {
    "duration": 97,
    "start_time": "2022-10-03T19:09:42.494Z"
   },
   {
    "duration": 185,
    "start_time": "2022-10-03T19:09:42.593Z"
   },
   {
    "duration": 16,
    "start_time": "2022-10-03T19:09:42.780Z"
   },
   {
    "duration": 352,
    "start_time": "2022-10-03T19:09:42.797Z"
   },
   {
    "duration": 4,
    "start_time": "2022-10-03T19:09:43.151Z"
   },
   {
    "duration": 99,
    "start_time": "2022-10-03T19:09:43.157Z"
   },
   {
    "duration": 19,
    "start_time": "2022-10-03T19:09:43.258Z"
   },
   {
    "duration": 5,
    "start_time": "2022-10-03T19:09:43.280Z"
   },
   {
    "duration": 210,
    "start_time": "2022-10-03T19:09:43.287Z"
   },
   {
    "duration": 5,
    "start_time": "2022-10-03T19:09:43.498Z"
   },
   {
    "duration": 210,
    "start_time": "2022-10-03T19:09:43.504Z"
   },
   {
    "duration": 8,
    "start_time": "2022-10-03T19:09:43.716Z"
   },
   {
    "duration": 169,
    "start_time": "2022-10-03T19:09:43.726Z"
   },
   {
    "duration": 175,
    "start_time": "2022-10-03T19:09:43.898Z"
   },
   {
    "duration": 6,
    "start_time": "2022-10-03T19:09:44.076Z"
   },
   {
    "duration": 76,
    "start_time": "2022-10-03T19:09:44.084Z"
   },
   {
    "duration": 108,
    "start_time": "2022-10-03T19:09:44.161Z"
   },
   {
    "duration": 0,
    "start_time": "2022-10-03T19:09:44.276Z"
   },
   {
    "duration": 0,
    "start_time": "2022-10-03T19:09:44.278Z"
   },
   {
    "duration": 0,
    "start_time": "2022-10-03T19:09:44.279Z"
   },
   {
    "duration": 0,
    "start_time": "2022-10-03T19:09:44.280Z"
   },
   {
    "duration": 0,
    "start_time": "2022-10-03T19:09:44.281Z"
   },
   {
    "duration": 0,
    "start_time": "2022-10-03T19:09:44.282Z"
   },
   {
    "duration": 0,
    "start_time": "2022-10-03T19:09:44.283Z"
   },
   {
    "duration": 0,
    "start_time": "2022-10-03T19:09:44.284Z"
   },
   {
    "duration": 0,
    "start_time": "2022-10-03T19:09:44.285Z"
   },
   {
    "duration": 0,
    "start_time": "2022-10-03T19:09:44.286Z"
   },
   {
    "duration": 0,
    "start_time": "2022-10-03T19:09:44.287Z"
   },
   {
    "duration": 0,
    "start_time": "2022-10-03T19:09:44.289Z"
   },
   {
    "duration": 0,
    "start_time": "2022-10-03T19:09:44.290Z"
   },
   {
    "duration": 0,
    "start_time": "2022-10-03T19:09:44.290Z"
   },
   {
    "duration": 0,
    "start_time": "2022-10-03T19:09:44.292Z"
   },
   {
    "duration": 2772,
    "start_time": "2022-10-03T19:22:38.652Z"
   },
   {
    "duration": 12,
    "start_time": "2022-10-03T19:23:06.163Z"
   },
   {
    "duration": 198,
    "start_time": "2022-10-03T19:23:07.431Z"
   },
   {
    "duration": 17,
    "start_time": "2022-10-03T19:24:40.984Z"
   },
   {
    "duration": 5,
    "start_time": "2022-10-03T19:27:17.217Z"
   },
   {
    "duration": 14,
    "start_time": "2022-10-03T19:33:08.228Z"
   },
   {
    "duration": 13,
    "start_time": "2022-10-03T19:34:42.694Z"
   },
   {
    "duration": 235,
    "start_time": "2022-10-03T19:34:51.666Z"
   },
   {
    "duration": 248,
    "start_time": "2022-10-03T19:35:09.466Z"
   },
   {
    "duration": 294,
    "start_time": "2022-10-03T19:37:05.143Z"
   },
   {
    "duration": 258,
    "start_time": "2022-10-03T19:37:11.472Z"
   },
   {
    "duration": 57,
    "start_time": "2022-10-03T19:37:23.308Z"
   },
   {
    "duration": 305,
    "start_time": "2022-10-03T19:37:30.626Z"
   },
   {
    "duration": 266,
    "start_time": "2022-10-03T19:37:35.270Z"
   },
   {
    "duration": 78,
    "start_time": "2022-10-03T19:37:49.152Z"
   },
   {
    "duration": 91,
    "start_time": "2022-10-03T19:37:53.896Z"
   },
   {
    "duration": 228,
    "start_time": "2022-10-03T19:39:03.735Z"
   },
   {
    "duration": 279,
    "start_time": "2022-10-03T19:39:09.853Z"
   },
   {
    "duration": 294,
    "start_time": "2022-10-03T19:39:20.093Z"
   },
   {
    "duration": 247,
    "start_time": "2022-10-03T19:39:27.117Z"
   },
   {
    "duration": 370,
    "start_time": "2022-10-03T19:39:41.315Z"
   },
   {
    "duration": 272,
    "start_time": "2022-10-03T19:39:48.374Z"
   },
   {
    "duration": 247,
    "start_time": "2022-10-03T19:40:08.054Z"
   },
   {
    "duration": 288,
    "start_time": "2022-10-03T19:40:55.011Z"
   },
   {
    "duration": 8,
    "start_time": "2022-10-03T19:46:57.664Z"
   },
   {
    "duration": 188,
    "start_time": "2022-10-03T19:47:03.181Z"
   },
   {
    "duration": 138,
    "start_time": "2022-10-03T19:47:25.560Z"
   },
   {
    "duration": 7,
    "start_time": "2022-10-03T19:48:06.687Z"
   },
   {
    "duration": 7,
    "start_time": "2022-10-03T19:48:20.316Z"
   },
   {
    "duration": 187,
    "start_time": "2022-10-03T19:48:21.181Z"
   },
   {
    "duration": 219,
    "start_time": "2022-10-03T19:48:22.290Z"
   },
   {
    "duration": 9,
    "start_time": "2022-10-03T19:49:09.054Z"
   },
   {
    "duration": 1192,
    "start_time": "2022-10-03T19:54:19.116Z"
   },
   {
    "duration": 150,
    "start_time": "2022-10-03T19:54:20.311Z"
   },
   {
    "duration": 29,
    "start_time": "2022-10-03T19:54:20.463Z"
   },
   {
    "duration": 16,
    "start_time": "2022-10-03T19:54:20.494Z"
   },
   {
    "duration": 4,
    "start_time": "2022-10-03T19:54:20.513Z"
   },
   {
    "duration": 80,
    "start_time": "2022-10-03T19:54:20.519Z"
   },
   {
    "duration": 9,
    "start_time": "2022-10-03T19:54:20.601Z"
   },
   {
    "duration": 19,
    "start_time": "2022-10-03T19:54:20.612Z"
   },
   {
    "duration": 5,
    "start_time": "2022-10-03T19:54:20.633Z"
   },
   {
    "duration": 41,
    "start_time": "2022-10-03T19:54:20.640Z"
   },
   {
    "duration": 23,
    "start_time": "2022-10-03T19:54:20.682Z"
   },
   {
    "duration": 16,
    "start_time": "2022-10-03T19:54:20.707Z"
   },
   {
    "duration": 18,
    "start_time": "2022-10-03T19:54:20.724Z"
   },
   {
    "duration": 98,
    "start_time": "2022-10-03T19:54:20.746Z"
   },
   {
    "duration": 205,
    "start_time": "2022-10-03T19:54:20.846Z"
   },
   {
    "duration": 28,
    "start_time": "2022-10-03T19:54:21.053Z"
   },
   {
    "duration": 393,
    "start_time": "2022-10-03T19:54:21.083Z"
   },
   {
    "duration": 5,
    "start_time": "2022-10-03T19:54:21.477Z"
   },
   {
    "duration": 103,
    "start_time": "2022-10-03T19:54:21.484Z"
   },
   {
    "duration": 12,
    "start_time": "2022-10-03T19:54:21.589Z"
   },
   {
    "duration": 2,
    "start_time": "2022-10-03T19:54:21.603Z"
   },
   {
    "duration": 292,
    "start_time": "2022-10-03T19:54:21.608Z"
   },
   {
    "duration": 105,
    "start_time": "2022-10-03T19:54:21.902Z"
   },
   {
    "duration": 0,
    "start_time": "2022-10-03T19:54:22.010Z"
   },
   {
    "duration": 0,
    "start_time": "2022-10-03T19:54:22.011Z"
   },
   {
    "duration": 0,
    "start_time": "2022-10-03T19:54:22.012Z"
   },
   {
    "duration": 0,
    "start_time": "2022-10-03T19:54:22.014Z"
   },
   {
    "duration": 0,
    "start_time": "2022-10-03T19:54:22.016Z"
   },
   {
    "duration": 0,
    "start_time": "2022-10-03T19:54:22.017Z"
   },
   {
    "duration": 0,
    "start_time": "2022-10-03T19:54:22.019Z"
   },
   {
    "duration": 0,
    "start_time": "2022-10-03T19:54:22.020Z"
   },
   {
    "duration": 0,
    "start_time": "2022-10-03T19:54:22.021Z"
   },
   {
    "duration": 0,
    "start_time": "2022-10-03T19:54:22.023Z"
   },
   {
    "duration": 0,
    "start_time": "2022-10-03T19:54:22.024Z"
   },
   {
    "duration": 0,
    "start_time": "2022-10-03T19:54:22.026Z"
   },
   {
    "duration": 0,
    "start_time": "2022-10-03T19:54:22.027Z"
   },
   {
    "duration": 0,
    "start_time": "2022-10-03T19:54:22.028Z"
   },
   {
    "duration": 0,
    "start_time": "2022-10-03T19:54:22.030Z"
   },
   {
    "duration": 0,
    "start_time": "2022-10-03T19:54:22.031Z"
   },
   {
    "duration": 0,
    "start_time": "2022-10-03T19:54:22.033Z"
   },
   {
    "duration": 0,
    "start_time": "2022-10-03T19:54:22.034Z"
   },
   {
    "duration": 0,
    "start_time": "2022-10-03T19:54:22.077Z"
   },
   {
    "duration": 0,
    "start_time": "2022-10-03T19:54:22.080Z"
   },
   {
    "duration": 0,
    "start_time": "2022-10-03T19:54:22.081Z"
   },
   {
    "duration": 0,
    "start_time": "2022-10-03T19:54:22.083Z"
   },
   {
    "duration": 0,
    "start_time": "2022-10-03T19:54:22.084Z"
   },
   {
    "duration": 267,
    "start_time": "2022-10-03T19:55:13.737Z"
   },
   {
    "duration": 7,
    "start_time": "2022-10-03T19:55:18.405Z"
   },
   {
    "duration": 263,
    "start_time": "2022-10-03T19:55:19.319Z"
   },
   {
    "duration": 146,
    "start_time": "2022-10-03T19:55:21.011Z"
   },
   {
    "duration": 5,
    "start_time": "2022-10-03T19:55:22.691Z"
   },
   {
    "duration": 9,
    "start_time": "2022-10-03T19:55:29.829Z"
   },
   {
    "duration": 5,
    "start_time": "2022-10-03T19:55:30.840Z"
   },
   {
    "duration": 4,
    "start_time": "2022-10-03T19:55:50.212Z"
   },
   {
    "duration": 2819,
    "start_time": "2022-10-03T19:55:52.802Z"
   },
   {
    "duration": 4,
    "start_time": "2022-10-03T19:56:27.504Z"
   },
   {
    "duration": 2781,
    "start_time": "2022-10-03T19:56:28.340Z"
   },
   {
    "duration": 12,
    "start_time": "2022-10-03T19:57:10.890Z"
   },
   {
    "duration": 299,
    "start_time": "2022-10-03T19:57:11.675Z"
   },
   {
    "duration": 24,
    "start_time": "2022-10-03T19:57:27.670Z"
   },
   {
    "duration": 24,
    "start_time": "2022-10-03T19:57:28.956Z"
   },
   {
    "duration": 24,
    "start_time": "2022-10-03T19:57:30.225Z"
   },
   {
    "duration": 13,
    "start_time": "2022-10-03T19:57:32.500Z"
   },
   {
    "duration": 16,
    "start_time": "2022-10-03T19:57:33.583Z"
   },
   {
    "duration": 15,
    "start_time": "2022-10-03T19:57:35.436Z"
   },
   {
    "duration": 14,
    "start_time": "2022-10-03T19:57:37.785Z"
   },
   {
    "duration": 13,
    "start_time": "2022-10-03T19:57:38.271Z"
   },
   {
    "duration": 13,
    "start_time": "2022-10-03T19:57:38.719Z"
   },
   {
    "duration": 9,
    "start_time": "2022-10-03T19:57:41.481Z"
   },
   {
    "duration": 6,
    "start_time": "2022-10-03T19:57:42.170Z"
   },
   {
    "duration": 15,
    "start_time": "2022-10-03T19:57:45.221Z"
   },
   {
    "duration": 7,
    "start_time": "2022-10-03T19:57:45.725Z"
   },
   {
    "duration": 6,
    "start_time": "2022-10-03T20:01:30.495Z"
   },
   {
    "duration": 30,
    "start_time": "2022-10-03T20:02:00.472Z"
   },
   {
    "duration": 109,
    "start_time": "2022-10-03T20:02:07.142Z"
   },
   {
    "duration": 9,
    "start_time": "2022-10-03T20:12:23.528Z"
   },
   {
    "duration": 75,
    "start_time": "2022-10-03T20:12:25.514Z"
   },
   {
    "duration": 7,
    "start_time": "2022-10-03T20:13:21.126Z"
   },
   {
    "duration": 5,
    "start_time": "2022-10-03T20:13:27.379Z"
   },
   {
    "duration": 1108,
    "start_time": "2022-10-03T20:15:03.163Z"
   },
   {
    "duration": 111,
    "start_time": "2022-10-03T20:15:04.273Z"
   },
   {
    "duration": 27,
    "start_time": "2022-10-03T20:15:04.385Z"
   },
   {
    "duration": 17,
    "start_time": "2022-10-03T20:15:04.414Z"
   },
   {
    "duration": 4,
    "start_time": "2022-10-03T20:15:04.432Z"
   },
   {
    "duration": 73,
    "start_time": "2022-10-03T20:15:04.438Z"
   },
   {
    "duration": 8,
    "start_time": "2022-10-03T20:15:04.513Z"
   },
   {
    "duration": 16,
    "start_time": "2022-10-03T20:15:04.522Z"
   },
   {
    "duration": 5,
    "start_time": "2022-10-03T20:15:04.539Z"
   },
   {
    "duration": 41,
    "start_time": "2022-10-03T20:15:04.547Z"
   },
   {
    "duration": 19,
    "start_time": "2022-10-03T20:15:04.589Z"
   },
   {
    "duration": 5,
    "start_time": "2022-10-03T20:15:04.610Z"
   },
   {
    "duration": 17,
    "start_time": "2022-10-03T20:15:04.616Z"
   },
   {
    "duration": 13,
    "start_time": "2022-10-03T20:15:04.634Z"
   },
   {
    "duration": 101,
    "start_time": "2022-10-03T20:15:04.649Z"
   },
   {
    "duration": 178,
    "start_time": "2022-10-03T20:15:04.752Z"
   },
   {
    "duration": 16,
    "start_time": "2022-10-03T20:15:04.932Z"
   },
   {
    "duration": 394,
    "start_time": "2022-10-03T20:15:04.949Z"
   },
   {
    "duration": 4,
    "start_time": "2022-10-03T20:15:05.346Z"
   },
   {
    "duration": 101,
    "start_time": "2022-10-03T20:15:05.352Z"
   },
   {
    "duration": 22,
    "start_time": "2022-10-03T20:15:05.455Z"
   },
   {
    "duration": 2,
    "start_time": "2022-10-03T20:15:05.479Z"
   },
   {
    "duration": 269,
    "start_time": "2022-10-03T20:15:05.483Z"
   },
   {
    "duration": 280,
    "start_time": "2022-10-03T20:15:05.754Z"
   },
   {
    "duration": 6,
    "start_time": "2022-10-03T20:15:06.036Z"
   },
   {
    "duration": 269,
    "start_time": "2022-10-03T20:15:06.044Z"
   },
   {
    "duration": 147,
    "start_time": "2022-10-03T20:15:06.315Z"
   },
   {
    "duration": 4,
    "start_time": "2022-10-03T20:15:06.466Z"
   },
   {
    "duration": 7,
    "start_time": "2022-10-03T20:15:06.477Z"
   },
   {
    "duration": 8,
    "start_time": "2022-10-03T20:15:06.486Z"
   },
   {
    "duration": 2793,
    "start_time": "2022-10-03T20:15:06.495Z"
   },
   {
    "duration": 13,
    "start_time": "2022-10-03T20:15:09.290Z"
   },
   {
    "duration": 205,
    "start_time": "2022-10-03T20:15:09.304Z"
   },
   {
    "duration": 24,
    "start_time": "2022-10-03T20:15:09.511Z"
   },
   {
    "duration": 44,
    "start_time": "2022-10-03T20:15:09.537Z"
   },
   {
    "duration": 21,
    "start_time": "2022-10-03T20:15:09.583Z"
   },
   {
    "duration": 11,
    "start_time": "2022-10-03T20:15:09.606Z"
   },
   {
    "duration": 13,
    "start_time": "2022-10-03T20:15:09.619Z"
   },
   {
    "duration": 52,
    "start_time": "2022-10-03T20:15:09.633Z"
   },
   {
    "duration": 12,
    "start_time": "2022-10-03T20:15:09.686Z"
   },
   {
    "duration": 15,
    "start_time": "2022-10-03T20:15:09.700Z"
   },
   {
    "duration": 12,
    "start_time": "2022-10-03T20:15:09.716Z"
   },
   {
    "duration": 10,
    "start_time": "2022-10-03T20:15:09.730Z"
   },
   {
    "duration": 38,
    "start_time": "2022-10-03T20:15:09.742Z"
   },
   {
    "duration": 11,
    "start_time": "2022-10-03T20:15:09.781Z"
   },
   {
    "duration": 5,
    "start_time": "2022-10-03T20:15:09.794Z"
   },
   {
    "duration": 169,
    "start_time": "2022-10-03T20:26:52.957Z"
   },
   {
    "duration": 185,
    "start_time": "2022-10-03T20:27:02.154Z"
   },
   {
    "duration": 156,
    "start_time": "2022-10-03T20:27:06.030Z"
   },
   {
    "duration": 5,
    "start_time": "2022-10-03T20:27:47.200Z"
   },
   {
    "duration": 7,
    "start_time": "2022-10-03T20:38:02.210Z"
   },
   {
    "duration": 145,
    "start_time": "2022-10-03T20:38:03.502Z"
   },
   {
    "duration": 144,
    "start_time": "2022-10-03T20:38:10.128Z"
   },
   {
    "duration": 7,
    "start_time": "2022-10-03T20:38:31.990Z"
   },
   {
    "duration": 7,
    "start_time": "2022-10-03T20:38:39.848Z"
   },
   {
    "duration": 167,
    "start_time": "2022-10-03T20:38:40.617Z"
   },
   {
    "duration": 149,
    "start_time": "2022-10-03T20:38:45.433Z"
   },
   {
    "duration": 148,
    "start_time": "2022-10-03T20:38:50.744Z"
   },
   {
    "duration": 4,
    "start_time": "2022-10-03T20:38:58.173Z"
   },
   {
    "duration": 2748,
    "start_time": "2022-10-03T20:39:06.673Z"
   },
   {
    "duration": 22,
    "start_time": "2022-10-03T20:39:51.003Z"
   },
   {
    "duration": 23,
    "start_time": "2022-10-03T20:39:56.873Z"
   },
   {
    "duration": 23,
    "start_time": "2022-10-03T20:39:58.662Z"
   },
   {
    "duration": 8,
    "start_time": "2022-10-03T21:23:51.491Z"
   },
   {
    "duration": 4,
    "start_time": "2022-10-03T21:23:54.379Z"
   },
   {
    "duration": 354,
    "start_time": "2022-10-03T21:23:55.315Z"
   },
   {
    "duration": 9,
    "start_time": "2022-10-03T21:24:30.428Z"
   },
   {
    "duration": 3,
    "start_time": "2022-10-03T21:24:31.615Z"
   },
   {
    "duration": 256,
    "start_time": "2022-10-03T21:24:32.615Z"
   },
   {
    "duration": 16,
    "start_time": "2022-10-03T21:29:20.626Z"
   },
   {
    "duration": 12,
    "start_time": "2022-10-03T21:29:51.565Z"
   },
   {
    "duration": 11,
    "start_time": "2022-10-03T21:31:00.313Z"
   },
   {
    "duration": 241,
    "start_time": "2022-10-03T21:31:12.309Z"
   },
   {
    "duration": 149,
    "start_time": "2022-10-03T21:31:14.026Z"
   },
   {
    "duration": 11,
    "start_time": "2022-10-03T21:31:16.473Z"
   },
   {
    "duration": 8,
    "start_time": "2022-10-03T21:32:03.541Z"
   },
   {
    "duration": 3,
    "start_time": "2022-10-03T21:32:05.810Z"
   },
   {
    "duration": 7,
    "start_time": "2022-10-03T21:33:39.180Z"
   },
   {
    "duration": 4,
    "start_time": "2022-10-03T21:33:40.898Z"
   },
   {
    "duration": 8,
    "start_time": "2022-10-03T21:34:13.161Z"
   },
   {
    "duration": 3,
    "start_time": "2022-10-03T21:34:26.878Z"
   },
   {
    "duration": 213,
    "start_time": "2022-10-03T21:34:27.991Z"
   },
   {
    "duration": 209,
    "start_time": "2022-10-03T21:34:50.706Z"
   },
   {
    "duration": 4,
    "start_time": "2022-10-03T21:34:53.703Z"
   },
   {
    "duration": 207,
    "start_time": "2022-10-03T21:34:56.327Z"
   },
   {
    "duration": 1138,
    "start_time": "2022-10-03T21:35:03.870Z"
   },
   {
    "duration": 151,
    "start_time": "2022-10-03T21:35:05.010Z"
   },
   {
    "duration": 34,
    "start_time": "2022-10-03T21:35:05.163Z"
   },
   {
    "duration": 17,
    "start_time": "2022-10-03T21:35:05.199Z"
   },
   {
    "duration": 5,
    "start_time": "2022-10-03T21:35:05.219Z"
   },
   {
    "duration": 79,
    "start_time": "2022-10-03T21:35:05.226Z"
   },
   {
    "duration": 8,
    "start_time": "2022-10-03T21:35:05.307Z"
   },
   {
    "duration": 15,
    "start_time": "2022-10-03T21:35:05.316Z"
   },
   {
    "duration": 5,
    "start_time": "2022-10-03T21:35:05.333Z"
   },
   {
    "duration": 20,
    "start_time": "2022-10-03T21:35:05.340Z"
   },
   {
    "duration": 20,
    "start_time": "2022-10-03T21:35:05.377Z"
   },
   {
    "duration": 8,
    "start_time": "2022-10-03T21:35:05.399Z"
   },
   {
    "duration": 35,
    "start_time": "2022-10-03T21:35:05.408Z"
   },
   {
    "duration": 21,
    "start_time": "2022-10-03T21:35:05.447Z"
   },
   {
    "duration": 74,
    "start_time": "2022-10-03T21:35:05.469Z"
   },
   {
    "duration": 182,
    "start_time": "2022-10-03T21:35:05.545Z"
   },
   {
    "duration": 16,
    "start_time": "2022-10-03T21:35:05.729Z"
   },
   {
    "duration": 341,
    "start_time": "2022-10-03T21:35:05.746Z"
   },
   {
    "duration": 4,
    "start_time": "2022-10-03T21:35:06.089Z"
   },
   {
    "duration": 89,
    "start_time": "2022-10-03T21:35:06.094Z"
   },
   {
    "duration": 11,
    "start_time": "2022-10-03T21:35:06.184Z"
   },
   {
    "duration": 256,
    "start_time": "2022-10-03T21:35:06.197Z"
   },
   {
    "duration": 260,
    "start_time": "2022-10-03T21:35:06.454Z"
   },
   {
    "duration": 10,
    "start_time": "2022-10-03T21:35:06.716Z"
   },
   {
    "duration": 241,
    "start_time": "2022-10-03T21:35:06.727Z"
   },
   {
    "duration": 193,
    "start_time": "2022-10-03T21:35:06.969Z"
   },
   {
    "duration": 19,
    "start_time": "2022-10-03T21:35:07.164Z"
   },
   {
    "duration": 10,
    "start_time": "2022-10-03T21:35:07.184Z"
   },
   {
    "duration": 18,
    "start_time": "2022-10-03T21:35:07.195Z"
   },
   {
    "duration": 15,
    "start_time": "2022-10-03T21:35:07.214Z"
   },
   {
    "duration": 306,
    "start_time": "2022-10-03T21:35:07.231Z"
   },
   {
    "duration": 0,
    "start_time": "2022-10-03T21:35:07.539Z"
   },
   {
    "duration": 0,
    "start_time": "2022-10-03T21:35:07.540Z"
   },
   {
    "duration": 0,
    "start_time": "2022-10-03T21:35:07.541Z"
   },
   {
    "duration": 0,
    "start_time": "2022-10-03T21:35:07.542Z"
   },
   {
    "duration": 0,
    "start_time": "2022-10-03T21:35:07.543Z"
   },
   {
    "duration": 0,
    "start_time": "2022-10-03T21:35:07.544Z"
   },
   {
    "duration": 0,
    "start_time": "2022-10-03T21:35:07.545Z"
   },
   {
    "duration": 0,
    "start_time": "2022-10-03T21:35:07.546Z"
   },
   {
    "duration": 0,
    "start_time": "2022-10-03T21:35:07.547Z"
   },
   {
    "duration": 0,
    "start_time": "2022-10-03T21:35:07.548Z"
   },
   {
    "duration": 0,
    "start_time": "2022-10-03T21:35:07.549Z"
   },
   {
    "duration": 0,
    "start_time": "2022-10-03T21:35:07.550Z"
   },
   {
    "duration": 0,
    "start_time": "2022-10-03T21:35:07.551Z"
   },
   {
    "duration": 0,
    "start_time": "2022-10-03T21:35:07.552Z"
   },
   {
    "duration": 0,
    "start_time": "2022-10-03T21:35:07.553Z"
   },
   {
    "duration": 9,
    "start_time": "2022-10-03T21:35:38.317Z"
   },
   {
    "duration": 217,
    "start_time": "2022-10-03T21:35:48.138Z"
   },
   {
    "duration": 10,
    "start_time": "2022-10-03T21:36:11.806Z"
   },
   {
    "duration": 4,
    "start_time": "2022-10-03T21:36:12.562Z"
   },
   {
    "duration": 2219,
    "start_time": "2022-10-03T21:36:13.903Z"
   },
   {
    "duration": 2114,
    "start_time": "2022-10-03T21:36:31.136Z"
   },
   {
    "duration": 3,
    "start_time": "2022-10-03T21:36:34.247Z"
   },
   {
    "duration": 2194,
    "start_time": "2022-10-03T21:36:36.824Z"
   },
   {
    "duration": 6,
    "start_time": "2022-10-03T21:37:20.548Z"
   },
   {
    "duration": 4,
    "start_time": "2022-10-03T21:37:41.968Z"
   },
   {
    "duration": 6,
    "start_time": "2022-10-03T21:37:56.752Z"
   },
   {
    "duration": 3,
    "start_time": "2022-10-03T21:37:58.265Z"
   },
   {
    "duration": 2238,
    "start_time": "2022-10-03T21:37:59.944Z"
   },
   {
    "duration": 100,
    "start_time": "2022-10-03T21:39:30.201Z"
   },
   {
    "duration": 6,
    "start_time": "2022-10-03T21:39:32.405Z"
   },
   {
    "duration": 4,
    "start_time": "2022-10-03T21:39:33.700Z"
   },
   {
    "duration": 7,
    "start_time": "2022-10-03T21:42:14.910Z"
   },
   {
    "duration": 6,
    "start_time": "2022-10-03T21:42:16.854Z"
   },
   {
    "duration": 3,
    "start_time": "2022-10-03T21:42:18.024Z"
   },
   {
    "duration": 2188,
    "start_time": "2022-10-03T21:42:19.466Z"
   },
   {
    "duration": 6,
    "start_time": "2022-10-03T21:43:09.368Z"
   },
   {
    "duration": 8,
    "start_time": "2022-10-03T21:43:50.024Z"
   },
   {
    "duration": 6,
    "start_time": "2022-10-03T21:43:51.194Z"
   },
   {
    "duration": 3,
    "start_time": "2022-10-03T21:43:52.586Z"
   },
   {
    "duration": 1096,
    "start_time": "2022-10-03T21:44:14.992Z"
   },
   {
    "duration": 131,
    "start_time": "2022-10-03T21:44:16.090Z"
   },
   {
    "duration": 27,
    "start_time": "2022-10-03T21:44:16.222Z"
   },
   {
    "duration": 15,
    "start_time": "2022-10-03T21:44:16.251Z"
   },
   {
    "duration": 4,
    "start_time": "2022-10-03T21:44:16.268Z"
   },
   {
    "duration": 53,
    "start_time": "2022-10-03T21:44:16.274Z"
   },
   {
    "duration": 8,
    "start_time": "2022-10-03T21:44:16.328Z"
   },
   {
    "duration": 19,
    "start_time": "2022-10-03T21:44:16.337Z"
   },
   {
    "duration": 5,
    "start_time": "2022-10-03T21:44:16.357Z"
   },
   {
    "duration": 24,
    "start_time": "2022-10-03T21:44:16.363Z"
   },
   {
    "duration": 20,
    "start_time": "2022-10-03T21:44:16.388Z"
   },
   {
    "duration": 6,
    "start_time": "2022-10-03T21:44:16.409Z"
   },
   {
    "duration": 17,
    "start_time": "2022-10-03T21:44:16.416Z"
   },
   {
    "duration": 12,
    "start_time": "2022-10-03T21:44:16.436Z"
   },
   {
    "duration": 92,
    "start_time": "2022-10-03T21:44:16.449Z"
   },
   {
    "duration": 196,
    "start_time": "2022-10-03T21:44:16.543Z"
   },
   {
    "duration": 15,
    "start_time": "2022-10-03T21:44:16.741Z"
   },
   {
    "duration": 370,
    "start_time": "2022-10-03T21:44:16.758Z"
   },
   {
    "duration": 4,
    "start_time": "2022-10-03T21:44:17.130Z"
   },
   {
    "duration": 91,
    "start_time": "2022-10-03T21:44:17.135Z"
   },
   {
    "duration": 11,
    "start_time": "2022-10-03T21:44:17.228Z"
   },
   {
    "duration": 264,
    "start_time": "2022-10-03T21:44:17.241Z"
   },
   {
    "duration": 270,
    "start_time": "2022-10-03T21:44:17.506Z"
   },
   {
    "duration": 13,
    "start_time": "2022-10-03T21:44:17.778Z"
   },
   {
    "duration": 243,
    "start_time": "2022-10-03T21:44:17.793Z"
   },
   {
    "duration": 174,
    "start_time": "2022-10-03T21:44:18.038Z"
   },
   {
    "duration": 9,
    "start_time": "2022-10-03T21:44:18.214Z"
   },
   {
    "duration": 4,
    "start_time": "2022-10-03T21:44:18.225Z"
   },
   {
    "duration": 8,
    "start_time": "2022-10-03T21:44:18.230Z"
   },
   {
    "duration": 8,
    "start_time": "2022-10-03T21:44:18.239Z"
   },
   {
    "duration": 8,
    "start_time": "2022-10-03T21:44:18.248Z"
   },
   {
    "duration": 2993,
    "start_time": "2022-10-03T21:44:18.257Z"
   },
   {
    "duration": 13,
    "start_time": "2022-10-03T21:44:21.252Z"
   },
   {
    "duration": 207,
    "start_time": "2022-10-03T21:44:21.277Z"
   },
   {
    "duration": 26,
    "start_time": "2022-10-03T21:44:21.486Z"
   },
   {
    "duration": 27,
    "start_time": "2022-10-03T21:44:21.514Z"
   },
   {
    "duration": 42,
    "start_time": "2022-10-03T21:44:21.543Z"
   },
   {
    "duration": 12,
    "start_time": "2022-10-03T21:44:21.587Z"
   },
   {
    "duration": 15,
    "start_time": "2022-10-03T21:44:21.600Z"
   },
   {
    "duration": 14,
    "start_time": "2022-10-03T21:44:21.617Z"
   },
   {
    "duration": 12,
    "start_time": "2022-10-03T21:44:21.634Z"
   },
   {
    "duration": 15,
    "start_time": "2022-10-03T21:44:21.677Z"
   },
   {
    "duration": 15,
    "start_time": "2022-10-03T21:44:21.693Z"
   },
   {
    "duration": 14,
    "start_time": "2022-10-03T21:44:21.710Z"
   },
   {
    "duration": 10,
    "start_time": "2022-10-03T21:44:21.726Z"
   },
   {
    "duration": 18,
    "start_time": "2022-10-03T21:44:21.738Z"
   },
   {
    "duration": 10,
    "start_time": "2022-10-03T21:44:21.757Z"
   },
   {
    "duration": 10,
    "start_time": "2022-10-03T21:50:50.781Z"
   },
   {
    "duration": 3,
    "start_time": "2022-10-03T21:50:51.787Z"
   },
   {
    "duration": 2746,
    "start_time": "2022-10-03T21:50:52.850Z"
   },
   {
    "duration": 9,
    "start_time": "2022-10-03T21:51:59.890Z"
   },
   {
    "duration": 4,
    "start_time": "2022-10-03T21:52:02.211Z"
   },
   {
    "duration": 2719,
    "start_time": "2022-10-03T21:52:03.506Z"
   },
   {
    "duration": 8,
    "start_time": "2022-10-03T21:52:47.417Z"
   },
   {
    "duration": 3,
    "start_time": "2022-10-03T21:52:47.873Z"
   },
   {
    "duration": 2742,
    "start_time": "2022-10-03T21:52:48.424Z"
   },
   {
    "duration": 9,
    "start_time": "2022-10-03T21:53:54.090Z"
   },
   {
    "duration": 3,
    "start_time": "2022-10-03T21:53:55.902Z"
   },
   {
    "duration": 2808,
    "start_time": "2022-10-03T21:53:56.633Z"
   },
   {
    "duration": 853,
    "start_time": "2022-10-03T21:55:34.355Z"
   },
   {
    "duration": 7,
    "start_time": "2022-10-03T22:00:43.439Z"
   },
   {
    "duration": 152,
    "start_time": "2022-10-03T22:00:48.681Z"
   },
   {
    "duration": 163,
    "start_time": "2022-10-03T22:00:50.990Z"
   },
   {
    "duration": 5,
    "start_time": "2022-10-03T22:01:10.743Z"
   },
   {
    "duration": 1102,
    "start_time": "2022-10-03T22:03:32.259Z"
   },
   {
    "duration": 108,
    "start_time": "2022-10-03T22:03:33.363Z"
   },
   {
    "duration": 26,
    "start_time": "2022-10-03T22:03:33.472Z"
   },
   {
    "duration": 16,
    "start_time": "2022-10-03T22:03:33.500Z"
   },
   {
    "duration": 8,
    "start_time": "2022-10-03T22:03:33.518Z"
   },
   {
    "duration": 64,
    "start_time": "2022-10-03T22:03:33.528Z"
   },
   {
    "duration": 9,
    "start_time": "2022-10-03T22:03:33.594Z"
   },
   {
    "duration": 17,
    "start_time": "2022-10-03T22:03:33.604Z"
   },
   {
    "duration": 5,
    "start_time": "2022-10-03T22:03:33.623Z"
   },
   {
    "duration": 15,
    "start_time": "2022-10-03T22:03:33.630Z"
   },
   {
    "duration": 48,
    "start_time": "2022-10-03T22:03:33.646Z"
   },
   {
    "duration": 6,
    "start_time": "2022-10-03T22:03:33.696Z"
   },
   {
    "duration": 16,
    "start_time": "2022-10-03T22:03:33.704Z"
   },
   {
    "duration": 11,
    "start_time": "2022-10-03T22:03:33.723Z"
   },
   {
    "duration": 105,
    "start_time": "2022-10-03T22:03:33.735Z"
   },
   {
    "duration": 189,
    "start_time": "2022-10-03T22:03:33.841Z"
   },
   {
    "duration": 16,
    "start_time": "2022-10-03T22:03:34.032Z"
   },
   {
    "duration": 366,
    "start_time": "2022-10-03T22:03:34.050Z"
   },
   {
    "duration": 4,
    "start_time": "2022-10-03T22:03:34.417Z"
   },
   {
    "duration": 93,
    "start_time": "2022-10-03T22:03:34.423Z"
   },
   {
    "duration": 12,
    "start_time": "2022-10-03T22:03:34.518Z"
   },
   {
    "duration": 275,
    "start_time": "2022-10-03T22:03:34.531Z"
   },
   {
    "duration": 277,
    "start_time": "2022-10-03T22:03:34.808Z"
   },
   {
    "duration": 6,
    "start_time": "2022-10-03T22:03:35.086Z"
   },
   {
    "duration": 9,
    "start_time": "2022-10-03T22:03:35.093Z"
   },
   {
    "duration": 282,
    "start_time": "2022-10-03T22:03:35.103Z"
   },
   {
    "duration": 162,
    "start_time": "2022-10-03T22:03:35.387Z"
   },
   {
    "duration": 4,
    "start_time": "2022-10-03T22:03:35.551Z"
   },
   {
    "duration": 22,
    "start_time": "2022-10-03T22:03:35.557Z"
   },
   {
    "duration": 11,
    "start_time": "2022-10-03T22:03:35.580Z"
   },
   {
    "duration": 2813,
    "start_time": "2022-10-03T22:03:35.593Z"
   },
   {
    "duration": 11,
    "start_time": "2022-10-03T22:03:38.408Z"
   },
   {
    "duration": 229,
    "start_time": "2022-10-03T22:03:38.421Z"
   },
   {
    "duration": 31,
    "start_time": "2022-10-03T22:03:38.652Z"
   },
   {
    "duration": 26,
    "start_time": "2022-10-03T22:03:38.684Z"
   },
   {
    "duration": 22,
    "start_time": "2022-10-03T22:03:38.712Z"
   },
   {
    "duration": 13,
    "start_time": "2022-10-03T22:03:38.736Z"
   },
   {
    "duration": 36,
    "start_time": "2022-10-03T22:03:38.751Z"
   },
   {
    "duration": 14,
    "start_time": "2022-10-03T22:03:38.789Z"
   },
   {
    "duration": 13,
    "start_time": "2022-10-03T22:03:38.805Z"
   },
   {
    "duration": 15,
    "start_time": "2022-10-03T22:03:38.821Z"
   },
   {
    "duration": 39,
    "start_time": "2022-10-03T22:03:38.838Z"
   },
   {
    "duration": 10,
    "start_time": "2022-10-03T22:03:38.879Z"
   },
   {
    "duration": 7,
    "start_time": "2022-10-03T22:03:38.891Z"
   },
   {
    "duration": 11,
    "start_time": "2022-10-03T22:03:38.900Z"
   },
   {
    "duration": 9,
    "start_time": "2022-10-03T22:03:38.913Z"
   },
   {
    "duration": 8,
    "start_time": "2022-10-03T22:08:42.758Z"
   },
   {
    "duration": 4,
    "start_time": "2022-10-03T22:08:43.609Z"
   },
   {
    "duration": 2689,
    "start_time": "2022-10-03T22:08:44.545Z"
   },
   {
    "duration": 5,
    "start_time": "2022-10-03T22:09:21.768Z"
   },
   {
    "duration": 9,
    "start_time": "2022-10-03T22:09:22.811Z"
   },
   {
    "duration": 158,
    "start_time": "2022-10-03T22:09:31.202Z"
   },
   {
    "duration": 163,
    "start_time": "2022-10-03T22:09:32.646Z"
   },
   {
    "duration": 6,
    "start_time": "2022-10-03T22:09:34.123Z"
   },
   {
    "duration": 14,
    "start_time": "2022-10-03T22:09:44.669Z"
   },
   {
    "duration": 4,
    "start_time": "2022-10-03T22:09:46.928Z"
   },
   {
    "duration": 2539,
    "start_time": "2022-10-03T22:09:48.538Z"
   },
   {
    "duration": 1212,
    "start_time": "2022-10-03T22:10:39.647Z"
   },
   {
    "duration": 129,
    "start_time": "2022-10-03T22:10:40.861Z"
   },
   {
    "duration": 25,
    "start_time": "2022-10-03T22:10:40.992Z"
   },
   {
    "duration": 14,
    "start_time": "2022-10-03T22:10:41.019Z"
   },
   {
    "duration": 8,
    "start_time": "2022-10-03T22:10:41.034Z"
   },
   {
    "duration": 72,
    "start_time": "2022-10-03T22:10:41.044Z"
   },
   {
    "duration": 9,
    "start_time": "2022-10-03T22:10:41.118Z"
   },
   {
    "duration": 15,
    "start_time": "2022-10-03T22:10:41.129Z"
   },
   {
    "duration": 8,
    "start_time": "2022-10-03T22:10:41.145Z"
   },
   {
    "duration": 14,
    "start_time": "2022-10-03T22:10:41.177Z"
   },
   {
    "duration": 26,
    "start_time": "2022-10-03T22:10:41.193Z"
   },
   {
    "duration": 8,
    "start_time": "2022-10-03T22:10:41.222Z"
   },
   {
    "duration": 27,
    "start_time": "2022-10-03T22:10:41.232Z"
   },
   {
    "duration": 22,
    "start_time": "2022-10-03T22:10:41.262Z"
   },
   {
    "duration": 75,
    "start_time": "2022-10-03T22:10:41.286Z"
   },
   {
    "duration": 182,
    "start_time": "2022-10-03T22:10:41.377Z"
   },
   {
    "duration": 29,
    "start_time": "2022-10-03T22:10:41.561Z"
   },
   {
    "duration": 336,
    "start_time": "2022-10-03T22:10:41.592Z"
   },
   {
    "duration": 4,
    "start_time": "2022-10-03T22:10:41.929Z"
   },
   {
    "duration": 90,
    "start_time": "2022-10-03T22:10:41.934Z"
   },
   {
    "duration": 12,
    "start_time": "2022-10-03T22:10:42.025Z"
   },
   {
    "duration": 259,
    "start_time": "2022-10-03T22:10:42.039Z"
   },
   {
    "duration": 254,
    "start_time": "2022-10-03T22:10:42.299Z"
   },
   {
    "duration": 10,
    "start_time": "2022-10-03T22:10:42.555Z"
   },
   {
    "duration": 12,
    "start_time": "2022-10-03T22:10:42.567Z"
   },
   {
    "duration": 241,
    "start_time": "2022-10-03T22:10:42.581Z"
   },
   {
    "duration": 164,
    "start_time": "2022-10-03T22:10:42.824Z"
   },
   {
    "duration": 4,
    "start_time": "2022-10-03T22:10:42.990Z"
   },
   {
    "duration": 10,
    "start_time": "2022-10-03T22:10:42.995Z"
   },
   {
    "duration": 8,
    "start_time": "2022-10-03T22:10:43.006Z"
   },
   {
    "duration": 2671,
    "start_time": "2022-10-03T22:10:43.016Z"
   },
   {
    "duration": 11,
    "start_time": "2022-10-03T22:10:45.689Z"
   },
   {
    "duration": 201,
    "start_time": "2022-10-03T22:10:45.701Z"
   },
   {
    "duration": 28,
    "start_time": "2022-10-03T22:10:45.904Z"
   },
   {
    "duration": 43,
    "start_time": "2022-10-03T22:10:45.934Z"
   },
   {
    "duration": 25,
    "start_time": "2022-10-03T22:10:45.979Z"
   },
   {
    "duration": 14,
    "start_time": "2022-10-03T22:10:46.006Z"
   },
   {
    "duration": 14,
    "start_time": "2022-10-03T22:10:46.022Z"
   },
   {
    "duration": 49,
    "start_time": "2022-10-03T22:10:46.038Z"
   },
   {
    "duration": 13,
    "start_time": "2022-10-03T22:10:46.089Z"
   },
   {
    "duration": 13,
    "start_time": "2022-10-03T22:10:46.107Z"
   },
   {
    "duration": 13,
    "start_time": "2022-10-03T22:10:46.122Z"
   },
   {
    "duration": 43,
    "start_time": "2022-10-03T22:10:46.136Z"
   },
   {
    "duration": 11,
    "start_time": "2022-10-03T22:10:46.180Z"
   },
   {
    "duration": 12,
    "start_time": "2022-10-03T22:10:46.193Z"
   },
   {
    "duration": 7,
    "start_time": "2022-10-03T22:10:46.206Z"
   },
   {
    "duration": 11,
    "start_time": "2022-10-03T22:12:57.354Z"
   },
   {
    "duration": 255,
    "start_time": "2022-10-03T22:13:05.405Z"
   },
   {
    "duration": 266,
    "start_time": "2022-10-03T22:13:10.769Z"
   },
   {
    "duration": 6,
    "start_time": "2022-10-03T22:13:23.407Z"
   },
   {
    "duration": 8,
    "start_time": "2022-10-03T22:13:33.417Z"
   },
   {
    "duration": 156,
    "start_time": "2022-10-03T22:13:38.036Z"
   },
   {
    "duration": 148,
    "start_time": "2022-10-03T22:13:40.928Z"
   },
   {
    "duration": 5,
    "start_time": "2022-10-03T22:13:44.576Z"
   },
   {
    "duration": 8,
    "start_time": "2022-10-03T22:13:58.191Z"
   },
   {
    "duration": 3,
    "start_time": "2022-10-03T22:14:12.288Z"
   },
   {
    "duration": 2007,
    "start_time": "2022-10-03T22:14:14.454Z"
   },
   {
    "duration": 11,
    "start_time": "2022-10-03T22:14:54.278Z"
   },
   {
    "duration": 26,
    "start_time": "2022-10-03T22:15:17.232Z"
   },
   {
    "duration": 23,
    "start_time": "2022-10-03T22:15:24.139Z"
   },
   {
    "duration": 25,
    "start_time": "2022-10-03T22:15:33.993Z"
   },
   {
    "duration": 14,
    "start_time": "2022-10-03T22:15:47.457Z"
   },
   {
    "duration": 14,
    "start_time": "2022-10-03T22:15:49.217Z"
   },
   {
    "duration": 14,
    "start_time": "2022-10-03T22:15:51.292Z"
   },
   {
    "duration": 12,
    "start_time": "2022-10-03T22:16:36.930Z"
   },
   {
    "duration": 21,
    "start_time": "2022-10-03T22:16:39.137Z"
   },
   {
    "duration": 6,
    "start_time": "2022-10-03T22:17:03.221Z"
   },
   {
    "duration": 7,
    "start_time": "2022-10-03T22:17:38.382Z"
   },
   {
    "duration": 17,
    "start_time": "2022-10-03T22:17:39.609Z"
   },
   {
    "duration": 16,
    "start_time": "2022-10-03T22:18:16.416Z"
   },
   {
    "duration": 6,
    "start_time": "2022-10-03T22:18:21.150Z"
   },
   {
    "duration": 16,
    "start_time": "2022-10-03T22:18:21.894Z"
   },
   {
    "duration": 15,
    "start_time": "2022-10-03T22:18:42.562Z"
   },
   {
    "duration": 1077,
    "start_time": "2022-10-03T22:19:05.580Z"
   },
   {
    "duration": 159,
    "start_time": "2022-10-03T22:19:06.659Z"
   },
   {
    "duration": 26,
    "start_time": "2022-10-03T22:19:06.820Z"
   },
   {
    "duration": 14,
    "start_time": "2022-10-03T22:19:06.848Z"
   },
   {
    "duration": 4,
    "start_time": "2022-10-03T22:19:06.864Z"
   },
   {
    "duration": 60,
    "start_time": "2022-10-03T22:19:06.876Z"
   },
   {
    "duration": 9,
    "start_time": "2022-10-03T22:19:06.939Z"
   },
   {
    "duration": 26,
    "start_time": "2022-10-03T22:19:06.950Z"
   },
   {
    "duration": 8,
    "start_time": "2022-10-03T22:19:06.977Z"
   },
   {
    "duration": 25,
    "start_time": "2022-10-03T22:19:06.987Z"
   },
   {
    "duration": 41,
    "start_time": "2022-10-03T22:19:07.014Z"
   },
   {
    "duration": 7,
    "start_time": "2022-10-03T22:19:07.057Z"
   },
   {
    "duration": 42,
    "start_time": "2022-10-03T22:19:07.065Z"
   },
   {
    "duration": 21,
    "start_time": "2022-10-03T22:19:07.111Z"
   },
   {
    "duration": 88,
    "start_time": "2022-10-03T22:19:07.134Z"
   },
   {
    "duration": 183,
    "start_time": "2022-10-03T22:19:07.224Z"
   },
   {
    "duration": 16,
    "start_time": "2022-10-03T22:19:07.409Z"
   },
   {
    "duration": 349,
    "start_time": "2022-10-03T22:19:07.427Z"
   },
   {
    "duration": 4,
    "start_time": "2022-10-03T22:19:07.777Z"
   },
   {
    "duration": 89,
    "start_time": "2022-10-03T22:19:07.783Z"
   },
   {
    "duration": 11,
    "start_time": "2022-10-03T22:19:07.877Z"
   },
   {
    "duration": 259,
    "start_time": "2022-10-03T22:19:07.890Z"
   },
   {
    "duration": 254,
    "start_time": "2022-10-03T22:19:08.151Z"
   },
   {
    "duration": 5,
    "start_time": "2022-10-03T22:19:08.406Z"
   },
   {
    "duration": 11,
    "start_time": "2022-10-03T22:19:08.413Z"
   },
   {
    "duration": 231,
    "start_time": "2022-10-03T22:19:08.425Z"
   },
   {
    "duration": 162,
    "start_time": "2022-10-03T22:19:08.658Z"
   },
   {
    "duration": 4,
    "start_time": "2022-10-03T22:19:08.822Z"
   },
   {
    "duration": 15,
    "start_time": "2022-10-03T22:19:08.828Z"
   },
   {
    "duration": 12,
    "start_time": "2022-10-03T22:19:08.845Z"
   },
   {
    "duration": 1805,
    "start_time": "2022-10-03T22:19:08.858Z"
   },
   {
    "duration": 21,
    "start_time": "2022-10-03T22:19:10.664Z"
   },
   {
    "duration": 191,
    "start_time": "2022-10-03T22:19:10.686Z"
   },
   {
    "duration": 23,
    "start_time": "2022-10-03T22:19:10.878Z"
   },
   {
    "duration": 20,
    "start_time": "2022-10-03T22:19:10.903Z"
   },
   {
    "duration": 21,
    "start_time": "2022-10-03T22:19:10.924Z"
   },
   {
    "duration": 43,
    "start_time": "2022-10-03T22:19:10.946Z"
   },
   {
    "duration": 14,
    "start_time": "2022-10-03T22:19:10.990Z"
   },
   {
    "duration": 14,
    "start_time": "2022-10-03T22:19:11.005Z"
   },
   {
    "duration": 11,
    "start_time": "2022-10-03T22:19:11.021Z"
   },
   {
    "duration": 45,
    "start_time": "2022-10-03T22:19:11.035Z"
   },
   {
    "duration": 15,
    "start_time": "2022-10-03T22:19:11.082Z"
   },
   {
    "duration": 15,
    "start_time": "2022-10-03T22:19:11.099Z"
   },
   {
    "duration": 117,
    "start_time": "2022-10-03T22:19:11.116Z"
   },
   {
    "duration": 0,
    "start_time": "2022-10-03T22:19:11.235Z"
   },
   {
    "duration": 0,
    "start_time": "2022-10-03T22:19:11.237Z"
   },
   {
    "duration": 0,
    "start_time": "2022-10-03T22:19:11.238Z"
   },
   {
    "duration": 5,
    "start_time": "2022-10-03T22:25:19.891Z"
   },
   {
    "duration": 10,
    "start_time": "2022-10-03T22:27:53.258Z"
   },
   {
    "duration": 12,
    "start_time": "2022-10-03T22:27:59.981Z"
   },
   {
    "duration": 49,
    "start_time": "2022-10-03T22:28:57.028Z"
   },
   {
    "duration": 6,
    "start_time": "2022-10-03T22:29:08.182Z"
   },
   {
    "duration": 14,
    "start_time": "2022-10-03T22:29:08.992Z"
   },
   {
    "duration": 24,
    "start_time": "2022-10-03T22:29:23.181Z"
   },
   {
    "duration": 1136,
    "start_time": "2022-10-03T22:29:31.568Z"
   },
   {
    "duration": 147,
    "start_time": "2022-10-03T22:29:32.705Z"
   },
   {
    "duration": 26,
    "start_time": "2022-10-03T22:29:32.853Z"
   },
   {
    "duration": 13,
    "start_time": "2022-10-03T22:29:32.880Z"
   },
   {
    "duration": 4,
    "start_time": "2022-10-03T22:29:32.895Z"
   },
   {
    "duration": 54,
    "start_time": "2022-10-03T22:29:32.901Z"
   },
   {
    "duration": 11,
    "start_time": "2022-10-03T22:29:32.977Z"
   },
   {
    "duration": 33,
    "start_time": "2022-10-03T22:29:32.989Z"
   },
   {
    "duration": 39,
    "start_time": "2022-10-03T22:29:33.024Z"
   },
   {
    "duration": 58,
    "start_time": "2022-10-03T22:29:33.065Z"
   },
   {
    "duration": 36,
    "start_time": "2022-10-03T22:29:33.125Z"
   },
   {
    "duration": 5,
    "start_time": "2022-10-03T22:29:33.163Z"
   },
   {
    "duration": 15,
    "start_time": "2022-10-03T22:29:33.169Z"
   },
   {
    "duration": 13,
    "start_time": "2022-10-03T22:29:33.187Z"
   },
   {
    "duration": 76,
    "start_time": "2022-10-03T22:29:33.202Z"
   },
   {
    "duration": 164,
    "start_time": "2022-10-03T22:29:33.280Z"
   },
   {
    "duration": 16,
    "start_time": "2022-10-03T22:29:33.445Z"
   },
   {
    "duration": 371,
    "start_time": "2022-10-03T22:29:33.463Z"
   },
   {
    "duration": 5,
    "start_time": "2022-10-03T22:29:33.836Z"
   },
   {
    "duration": 106,
    "start_time": "2022-10-03T22:29:33.842Z"
   },
   {
    "duration": 13,
    "start_time": "2022-10-03T22:29:33.950Z"
   },
   {
    "duration": 260,
    "start_time": "2022-10-03T22:29:33.976Z"
   },
   {
    "duration": 256,
    "start_time": "2022-10-03T22:29:34.238Z"
   },
   {
    "duration": 6,
    "start_time": "2022-10-03T22:29:34.495Z"
   },
   {
    "duration": 8,
    "start_time": "2022-10-03T22:29:34.503Z"
   },
   {
    "duration": 248,
    "start_time": "2022-10-03T22:29:34.512Z"
   },
   {
    "duration": 158,
    "start_time": "2022-10-03T22:29:34.761Z"
   },
   {
    "duration": 5,
    "start_time": "2022-10-03T22:29:34.921Z"
   },
   {
    "duration": 14,
    "start_time": "2022-10-03T22:29:34.928Z"
   },
   {
    "duration": 6,
    "start_time": "2022-10-03T22:29:34.945Z"
   },
   {
    "duration": 1878,
    "start_time": "2022-10-03T22:29:34.953Z"
   },
   {
    "duration": 11,
    "start_time": "2022-10-03T22:29:36.833Z"
   },
   {
    "duration": 242,
    "start_time": "2022-10-03T22:29:36.845Z"
   },
   {
    "duration": 25,
    "start_time": "2022-10-03T22:29:37.089Z"
   },
   {
    "duration": 35,
    "start_time": "2022-10-03T22:29:37.116Z"
   },
   {
    "duration": 36,
    "start_time": "2022-10-03T22:29:37.153Z"
   },
   {
    "duration": 19,
    "start_time": "2022-10-03T22:29:37.191Z"
   },
   {
    "duration": 41,
    "start_time": "2022-10-03T22:29:37.212Z"
   },
   {
    "duration": 21,
    "start_time": "2022-10-03T22:29:37.255Z"
   },
   {
    "duration": 33,
    "start_time": "2022-10-03T22:29:37.278Z"
   },
   {
    "duration": 116,
    "start_time": "2022-10-03T22:29:37.316Z"
   },
   {
    "duration": 0,
    "start_time": "2022-10-03T22:29:37.434Z"
   },
   {
    "duration": 0,
    "start_time": "2022-10-03T22:29:37.436Z"
   },
   {
    "duration": 0,
    "start_time": "2022-10-03T22:29:37.437Z"
   },
   {
    "duration": 0,
    "start_time": "2022-10-03T22:29:37.438Z"
   },
   {
    "duration": 0,
    "start_time": "2022-10-03T22:29:37.439Z"
   },
   {
    "duration": 0,
    "start_time": "2022-10-03T22:29:37.440Z"
   },
   {
    "duration": 0,
    "start_time": "2022-10-03T22:29:37.442Z"
   },
   {
    "duration": 18,
    "start_time": "2022-10-03T22:30:28.410Z"
   },
   {
    "duration": 15,
    "start_time": "2022-10-03T22:30:34.329Z"
   },
   {
    "duration": 11,
    "start_time": "2022-10-03T22:30:40.770Z"
   },
   {
    "duration": 65,
    "start_time": "2022-10-03T22:30:46.619Z"
   },
   {
    "duration": 5,
    "start_time": "2022-10-03T22:30:53.104Z"
   },
   {
    "duration": 22,
    "start_time": "2022-10-03T22:31:02.242Z"
   },
   {
    "duration": 1061,
    "start_time": "2022-10-03T22:32:11.416Z"
   },
   {
    "duration": 94,
    "start_time": "2022-10-03T22:32:12.479Z"
   },
   {
    "duration": 27,
    "start_time": "2022-10-03T22:32:12.574Z"
   },
   {
    "duration": 15,
    "start_time": "2022-10-03T22:32:12.602Z"
   },
   {
    "duration": 6,
    "start_time": "2022-10-03T22:32:12.619Z"
   },
   {
    "duration": 71,
    "start_time": "2022-10-03T22:32:12.627Z"
   },
   {
    "duration": 8,
    "start_time": "2022-10-03T22:32:12.700Z"
   },
   {
    "duration": 17,
    "start_time": "2022-10-03T22:32:12.709Z"
   },
   {
    "duration": 4,
    "start_time": "2022-10-03T22:32:12.728Z"
   },
   {
    "duration": 47,
    "start_time": "2022-10-03T22:32:12.734Z"
   },
   {
    "duration": 19,
    "start_time": "2022-10-03T22:32:12.783Z"
   },
   {
    "duration": 5,
    "start_time": "2022-10-03T22:32:12.804Z"
   },
   {
    "duration": 16,
    "start_time": "2022-10-03T22:32:12.810Z"
   },
   {
    "duration": 15,
    "start_time": "2022-10-03T22:32:12.829Z"
   },
   {
    "duration": 101,
    "start_time": "2022-10-03T22:32:12.845Z"
   },
   {
    "duration": 199,
    "start_time": "2022-10-03T22:32:12.948Z"
   },
   {
    "duration": 16,
    "start_time": "2022-10-03T22:32:13.148Z"
   },
   {
    "duration": 353,
    "start_time": "2022-10-03T22:32:13.166Z"
   },
   {
    "duration": 5,
    "start_time": "2022-10-03T22:32:13.521Z"
   },
   {
    "duration": 94,
    "start_time": "2022-10-03T22:32:13.527Z"
   },
   {
    "duration": 10,
    "start_time": "2022-10-03T22:32:13.623Z"
   },
   {
    "duration": 264,
    "start_time": "2022-10-03T22:32:13.635Z"
   },
   {
    "duration": 248,
    "start_time": "2022-10-03T22:32:13.901Z"
   },
   {
    "duration": 6,
    "start_time": "2022-10-03T22:32:14.150Z"
   },
   {
    "duration": 20,
    "start_time": "2022-10-03T22:32:14.158Z"
   },
   {
    "duration": 258,
    "start_time": "2022-10-03T22:32:14.180Z"
   },
   {
    "duration": 166,
    "start_time": "2022-10-03T22:32:14.440Z"
   },
   {
    "duration": 6,
    "start_time": "2022-10-03T22:32:14.608Z"
   },
   {
    "duration": 8,
    "start_time": "2022-10-03T22:32:14.616Z"
   },
   {
    "duration": 11,
    "start_time": "2022-10-03T22:32:14.626Z"
   },
   {
    "duration": 2007,
    "start_time": "2022-10-03T22:32:14.638Z"
   },
   {
    "duration": 30,
    "start_time": "2022-10-03T22:32:16.647Z"
   },
   {
    "duration": 210,
    "start_time": "2022-10-03T22:32:16.678Z"
   },
   {
    "duration": 23,
    "start_time": "2022-10-03T22:32:16.889Z"
   },
   {
    "duration": 46,
    "start_time": "2022-10-03T22:32:16.913Z"
   },
   {
    "duration": 44,
    "start_time": "2022-10-03T22:32:16.960Z"
   },
   {
    "duration": 27,
    "start_time": "2022-10-03T22:32:17.006Z"
   },
   {
    "duration": 30,
    "start_time": "2022-10-03T22:32:17.035Z"
   },
   {
    "duration": 14,
    "start_time": "2022-10-03T22:32:17.066Z"
   },
   {
    "duration": 7,
    "start_time": "2022-10-03T22:32:17.082Z"
   },
   {
    "duration": 780,
    "start_time": "2022-10-03T22:32:17.092Z"
   },
   {
    "duration": 0,
    "start_time": "2022-10-03T22:32:17.873Z"
   },
   {
    "duration": 0,
    "start_time": "2022-10-03T22:32:17.874Z"
   },
   {
    "duration": 0,
    "start_time": "2022-10-03T22:32:17.875Z"
   },
   {
    "duration": 1,
    "start_time": "2022-10-03T22:32:17.876Z"
   },
   {
    "duration": 0,
    "start_time": "2022-10-03T22:32:17.878Z"
   },
   {
    "duration": 0,
    "start_time": "2022-10-03T22:32:17.879Z"
   },
   {
    "duration": 0,
    "start_time": "2022-10-03T22:32:17.880Z"
   },
   {
    "duration": 896,
    "start_time": "2022-10-03T22:32:51.912Z"
   },
   {
    "duration": 700,
    "start_time": "2022-10-03T22:32:52.811Z"
   },
   {
    "duration": 802,
    "start_time": "2022-10-03T22:33:51.552Z"
   },
   {
    "duration": 617,
    "start_time": "2022-10-03T22:34:29.389Z"
   },
   {
    "duration": 996,
    "start_time": "2022-10-03T22:35:22.938Z"
   },
   {
    "duration": 744,
    "start_time": "2022-10-03T22:40:46.069Z"
   },
   {
    "duration": 738,
    "start_time": "2022-10-03T22:41:25.492Z"
   },
   {
    "duration": 1202,
    "start_time": "2022-10-03T22:41:31.046Z"
   },
   {
    "duration": 7,
    "start_time": "2022-10-03T22:42:17.590Z"
   },
   {
    "duration": 5,
    "start_time": "2022-10-03T22:42:34.969Z"
   },
   {
    "duration": 14,
    "start_time": "2022-10-03T22:43:46.585Z"
   },
   {
    "duration": 11,
    "start_time": "2022-10-03T22:43:51.617Z"
   },
   {
    "duration": 15,
    "start_time": "2022-10-03T22:44:06.944Z"
   },
   {
    "duration": 29,
    "start_time": "2022-10-03T22:44:14.097Z"
   },
   {
    "duration": 26,
    "start_time": "2022-10-03T22:45:16.782Z"
   },
   {
    "duration": 30,
    "start_time": "2022-10-03T22:45:33.735Z"
   },
   {
    "duration": 4,
    "start_time": "2022-10-03T22:45:48.801Z"
   },
   {
    "duration": 15,
    "start_time": "2022-10-03T22:46:00.840Z"
   },
   {
    "duration": 16,
    "start_time": "2022-10-03T22:46:34.280Z"
   },
   {
    "duration": 12,
    "start_time": "2022-10-03T22:47:09.980Z"
   },
   {
    "duration": 7,
    "start_time": "2022-10-03T22:47:16.780Z"
   },
   {
    "duration": 8,
    "start_time": "2022-10-03T22:47:36.733Z"
   },
   {
    "duration": 16,
    "start_time": "2022-10-03T22:48:05.314Z"
   },
   {
    "duration": 17,
    "start_time": "2022-10-03T22:48:06.042Z"
   },
   {
    "duration": 17,
    "start_time": "2022-10-03T22:48:06.865Z"
   },
   {
    "duration": 8,
    "start_time": "2022-10-03T22:56:39.123Z"
   },
   {
    "duration": 99,
    "start_time": "2022-10-03T22:57:49.443Z"
   },
   {
    "duration": 11,
    "start_time": "2022-10-03T22:58:05.197Z"
   },
   {
    "duration": 9,
    "start_time": "2022-10-03T22:58:09.485Z"
   },
   {
    "duration": 122,
    "start_time": "2022-10-03T23:00:34.022Z"
   },
   {
    "duration": 205,
    "start_time": "2022-10-03T23:00:39.172Z"
   },
   {
    "duration": 103,
    "start_time": "2022-10-03T23:00:42.104Z"
   },
   {
    "duration": 121,
    "start_time": "2022-10-03T23:00:46.890Z"
   },
   {
    "duration": 101,
    "start_time": "2022-10-03T23:00:47.845Z"
   },
   {
    "duration": 20,
    "start_time": "2022-10-03T23:01:56.525Z"
   },
   {
    "duration": 96,
    "start_time": "2022-10-03T23:02:04.309Z"
   },
   {
    "duration": 23,
    "start_time": "2022-10-03T23:03:08.193Z"
   },
   {
    "duration": 20,
    "start_time": "2022-10-03T23:03:35.114Z"
   },
   {
    "duration": 75,
    "start_time": "2022-10-03T23:03:36.024Z"
   },
   {
    "duration": 69,
    "start_time": "2022-10-03T23:03:51.612Z"
   },
   {
    "duration": 1457,
    "start_time": "2022-10-03T23:04:51.789Z"
   },
   {
    "duration": 9,
    "start_time": "2022-10-03T23:04:53.899Z"
   },
   {
    "duration": 1356,
    "start_time": "2022-10-03T23:05:05.801Z"
   },
   {
    "duration": 0,
    "start_time": "2022-10-03T23:05:07.159Z"
   },
   {
    "duration": 11,
    "start_time": "2022-10-03T23:05:16.099Z"
   },
   {
    "duration": 29,
    "start_time": "2022-10-03T23:05:34.259Z"
   },
   {
    "duration": 1534,
    "start_time": "2022-10-03T23:05:49.275Z"
   },
   {
    "duration": 9,
    "start_time": "2022-10-03T23:06:08.183Z"
   },
   {
    "duration": 13,
    "start_time": "2022-10-03T23:10:27.584Z"
   },
   {
    "duration": 14,
    "start_time": "2022-10-03T23:11:23.728Z"
   },
   {
    "duration": 22,
    "start_time": "2022-10-03T23:12:15.039Z"
   },
   {
    "duration": 105,
    "start_time": "2022-10-03T23:12:55.978Z"
   },
   {
    "duration": 838,
    "start_time": "2022-10-03T23:18:53.862Z"
   },
   {
    "duration": 1228,
    "start_time": "2022-10-03T23:21:48.362Z"
   },
   {
    "duration": 1135,
    "start_time": "2022-10-03T23:23:06.803Z"
   },
   {
    "duration": 2131,
    "start_time": "2022-10-03T23:23:54.525Z"
   },
   {
    "duration": 1320,
    "start_time": "2022-10-03T23:24:11.283Z"
   },
   {
    "duration": 1267,
    "start_time": "2022-10-03T23:24:20.817Z"
   },
   {
    "duration": 172,
    "start_time": "2022-10-03T23:28:15.835Z"
   },
   {
    "duration": 125,
    "start_time": "2022-10-03T23:29:11.015Z"
   },
   {
    "duration": 1000,
    "start_time": "2022-10-03T23:29:15.596Z"
   },
   {
    "duration": 1079,
    "start_time": "2022-10-03T23:29:36.412Z"
   },
   {
    "duration": 214,
    "start_time": "2022-10-03T23:29:42.106Z"
   },
   {
    "duration": 1174,
    "start_time": "2022-10-03T23:30:37.955Z"
   },
   {
    "duration": 135,
    "start_time": "2022-10-03T23:33:57.540Z"
   },
   {
    "duration": 56,
    "start_time": "2022-10-03T23:34:03.362Z"
   },
   {
    "duration": 1216,
    "start_time": "2022-10-03T23:34:21.614Z"
   },
   {
    "duration": 1220,
    "start_time": "2022-10-03T23:37:46.147Z"
   },
   {
    "duration": 135,
    "start_time": "2022-10-03T23:37:47.369Z"
   },
   {
    "duration": 27,
    "start_time": "2022-10-03T23:37:47.505Z"
   },
   {
    "duration": 18,
    "start_time": "2022-10-03T23:37:47.533Z"
   },
   {
    "duration": 4,
    "start_time": "2022-10-03T23:37:47.553Z"
   },
   {
    "duration": 52,
    "start_time": "2022-10-03T23:37:47.577Z"
   },
   {
    "duration": 10,
    "start_time": "2022-10-03T23:37:47.630Z"
   },
   {
    "duration": 37,
    "start_time": "2022-10-03T23:37:47.642Z"
   },
   {
    "duration": 5,
    "start_time": "2022-10-03T23:37:47.681Z"
   },
   {
    "duration": 16,
    "start_time": "2022-10-03T23:37:47.687Z"
   },
   {
    "duration": 22,
    "start_time": "2022-10-03T23:37:47.705Z"
   },
   {
    "duration": 7,
    "start_time": "2022-10-03T23:37:47.728Z"
   },
   {
    "duration": 47,
    "start_time": "2022-10-03T23:37:47.737Z"
   },
   {
    "duration": 10,
    "start_time": "2022-10-03T23:37:47.787Z"
   },
   {
    "duration": 87,
    "start_time": "2022-10-03T23:37:47.799Z"
   },
   {
    "duration": 176,
    "start_time": "2022-10-03T23:37:47.888Z"
   },
   {
    "duration": 22,
    "start_time": "2022-10-03T23:37:48.065Z"
   },
   {
    "duration": 337,
    "start_time": "2022-10-03T23:37:48.088Z"
   },
   {
    "duration": 4,
    "start_time": "2022-10-03T23:37:48.427Z"
   },
   {
    "duration": 1245,
    "start_time": "2022-10-03T23:37:48.433Z"
   },
   {
    "duration": 14,
    "start_time": "2022-10-03T23:37:49.679Z"
   },
   {
    "duration": 25,
    "start_time": "2022-10-03T23:37:49.694Z"
   },
   {
    "duration": 263,
    "start_time": "2022-10-03T23:37:49.721Z"
   },
   {
    "duration": 265,
    "start_time": "2022-10-03T23:37:49.986Z"
   },
   {
    "duration": 6,
    "start_time": "2022-10-03T23:37:50.253Z"
   },
   {
    "duration": 17,
    "start_time": "2022-10-03T23:37:50.261Z"
   },
   {
    "duration": 157,
    "start_time": "2022-10-03T23:37:50.280Z"
   },
   {
    "duration": 173,
    "start_time": "2022-10-03T23:37:50.439Z"
   },
   {
    "duration": 6,
    "start_time": "2022-10-03T23:37:50.613Z"
   },
   {
    "duration": 9,
    "start_time": "2022-10-03T23:37:50.620Z"
   },
   {
    "duration": 17,
    "start_time": "2022-10-03T23:37:50.631Z"
   },
   {
    "duration": 1915,
    "start_time": "2022-10-03T23:37:50.650Z"
   },
   {
    "duration": 17,
    "start_time": "2022-10-03T23:37:52.566Z"
   },
   {
    "duration": 195,
    "start_time": "2022-10-03T23:37:52.585Z"
   },
   {
    "duration": 24,
    "start_time": "2022-10-03T23:37:52.782Z"
   },
   {
    "duration": 36,
    "start_time": "2022-10-03T23:37:52.808Z"
   },
   {
    "duration": 43,
    "start_time": "2022-10-03T23:37:52.845Z"
   },
   {
    "duration": 14,
    "start_time": "2022-10-03T23:37:52.890Z"
   },
   {
    "duration": 19,
    "start_time": "2022-10-03T23:37:52.906Z"
   },
   {
    "duration": 17,
    "start_time": "2022-10-03T23:37:52.927Z"
   },
   {
    "duration": 51,
    "start_time": "2022-10-03T23:37:52.948Z"
   },
   {
    "duration": 13,
    "start_time": "2022-10-03T23:37:53.001Z"
   },
   {
    "duration": 13,
    "start_time": "2022-10-03T23:37:53.015Z"
   },
   {
    "duration": 37,
    "start_time": "2022-10-03T23:37:53.030Z"
   },
   {
    "duration": 19,
    "start_time": "2022-10-03T23:37:53.069Z"
   },
   {
    "duration": 16,
    "start_time": "2022-10-03T23:37:53.090Z"
   },
   {
    "duration": 110,
    "start_time": "2022-10-03T23:37:53.108Z"
   },
   {
    "duration": 0,
    "start_time": "2022-10-03T23:37:53.219Z"
   },
   {
    "duration": 0,
    "start_time": "2022-10-03T23:37:53.221Z"
   },
   {
    "duration": 0,
    "start_time": "2022-10-03T23:37:53.222Z"
   },
   {
    "duration": 21,
    "start_time": "2022-10-03T23:40:38.604Z"
   },
   {
    "duration": 4,
    "start_time": "2022-10-03T23:41:31.206Z"
   },
   {
    "duration": 9,
    "start_time": "2022-10-03T23:41:39.201Z"
   },
   {
    "duration": 4,
    "start_time": "2022-10-03T23:44:26.090Z"
   },
   {
    "duration": 25,
    "start_time": "2022-10-03T23:44:40.461Z"
   },
   {
    "duration": 16,
    "start_time": "2022-10-03T23:44:43.111Z"
   },
   {
    "duration": 13,
    "start_time": "2022-10-03T23:46:36.073Z"
   },
   {
    "duration": 10,
    "start_time": "2022-10-03T23:46:50.169Z"
   },
   {
    "duration": 10,
    "start_time": "2022-10-03T23:47:04.785Z"
   },
   {
    "duration": 10,
    "start_time": "2022-10-03T23:47:20.479Z"
   },
   {
    "duration": 6,
    "start_time": "2022-10-03T23:47:23.133Z"
   },
   {
    "duration": 1137,
    "start_time": "2022-10-03T23:48:02.318Z"
   },
   {
    "duration": 154,
    "start_time": "2022-10-03T23:48:03.456Z"
   },
   {
    "duration": 27,
    "start_time": "2022-10-03T23:48:03.612Z"
   },
   {
    "duration": 13,
    "start_time": "2022-10-03T23:48:03.641Z"
   },
   {
    "duration": 19,
    "start_time": "2022-10-03T23:48:03.657Z"
   },
   {
    "duration": 50,
    "start_time": "2022-10-03T23:48:03.677Z"
   },
   {
    "duration": 8,
    "start_time": "2022-10-03T23:48:03.728Z"
   },
   {
    "duration": 16,
    "start_time": "2022-10-03T23:48:03.737Z"
   },
   {
    "duration": 4,
    "start_time": "2022-10-03T23:48:03.776Z"
   },
   {
    "duration": 16,
    "start_time": "2022-10-03T23:48:03.782Z"
   },
   {
    "duration": 19,
    "start_time": "2022-10-03T23:48:03.799Z"
   },
   {
    "duration": 6,
    "start_time": "2022-10-03T23:48:03.820Z"
   },
   {
    "duration": 17,
    "start_time": "2022-10-03T23:48:03.828Z"
   },
   {
    "duration": 34,
    "start_time": "2022-10-03T23:48:03.848Z"
   },
   {
    "duration": 71,
    "start_time": "2022-10-03T23:48:03.884Z"
   },
   {
    "duration": 184,
    "start_time": "2022-10-03T23:48:03.957Z"
   },
   {
    "duration": 17,
    "start_time": "2022-10-03T23:48:04.142Z"
   },
   {
    "duration": 338,
    "start_time": "2022-10-03T23:48:04.161Z"
   },
   {
    "duration": 4,
    "start_time": "2022-10-03T23:48:04.500Z"
   },
   {
    "duration": 1257,
    "start_time": "2022-10-03T23:48:04.505Z"
   },
   {
    "duration": 19,
    "start_time": "2022-10-03T23:48:05.764Z"
   },
   {
    "duration": 249,
    "start_time": "2022-10-03T23:48:05.784Z"
   },
   {
    "duration": 260,
    "start_time": "2022-10-03T23:48:06.035Z"
   },
   {
    "duration": 5,
    "start_time": "2022-10-03T23:48:06.297Z"
   },
   {
    "duration": 9,
    "start_time": "2022-10-03T23:48:06.304Z"
   },
   {
    "duration": 165,
    "start_time": "2022-10-03T23:48:06.314Z"
   },
   {
    "duration": 161,
    "start_time": "2022-10-03T23:48:06.480Z"
   },
   {
    "duration": 5,
    "start_time": "2022-10-03T23:48:06.642Z"
   },
   {
    "duration": 10,
    "start_time": "2022-10-03T23:48:06.648Z"
   },
   {
    "duration": 22,
    "start_time": "2022-10-03T23:48:06.660Z"
   },
   {
    "duration": 1945,
    "start_time": "2022-10-03T23:48:06.684Z"
   },
   {
    "duration": 10,
    "start_time": "2022-10-03T23:48:08.631Z"
   },
   {
    "duration": 186,
    "start_time": "2022-10-03T23:48:08.643Z"
   },
   {
    "duration": 24,
    "start_time": "2022-10-03T23:48:08.831Z"
   },
   {
    "duration": 36,
    "start_time": "2022-10-03T23:48:08.857Z"
   },
   {
    "duration": 24,
    "start_time": "2022-10-03T23:48:08.895Z"
   },
   {
    "duration": 11,
    "start_time": "2022-10-03T23:48:08.921Z"
   },
   {
    "duration": 16,
    "start_time": "2022-10-03T23:48:08.933Z"
   },
   {
    "duration": 14,
    "start_time": "2022-10-03T23:48:08.977Z"
   },
   {
    "duration": 8,
    "start_time": "2022-10-03T23:48:08.993Z"
   },
   {
    "duration": 17,
    "start_time": "2022-10-03T23:48:09.004Z"
   },
   {
    "duration": 18,
    "start_time": "2022-10-03T23:48:09.023Z"
   },
   {
    "duration": 38,
    "start_time": "2022-10-03T23:48:09.043Z"
   },
   {
    "duration": 9,
    "start_time": "2022-10-03T23:48:09.082Z"
   },
   {
    "duration": 10,
    "start_time": "2022-10-03T23:48:09.093Z"
   },
   {
    "duration": 14,
    "start_time": "2022-10-03T23:48:09.105Z"
   },
   {
    "duration": 7,
    "start_time": "2022-10-03T23:48:09.121Z"
   },
   {
    "duration": 1389,
    "start_time": "2022-10-04T10:30:22.269Z"
   },
   {
    "duration": 133,
    "start_time": "2022-10-04T10:30:23.660Z"
   },
   {
    "duration": 28,
    "start_time": "2022-10-04T10:30:23.795Z"
   },
   {
    "duration": 15,
    "start_time": "2022-10-04T10:30:23.825Z"
   },
   {
    "duration": 6,
    "start_time": "2022-10-04T10:30:23.842Z"
   },
   {
    "duration": 61,
    "start_time": "2022-10-04T10:30:23.850Z"
   },
   {
    "duration": 26,
    "start_time": "2022-10-04T10:30:23.913Z"
   },
   {
    "duration": 18,
    "start_time": "2022-10-04T10:30:23.940Z"
   },
   {
    "duration": 5,
    "start_time": "2022-10-04T10:30:23.960Z"
   },
   {
    "duration": 19,
    "start_time": "2022-10-04T10:30:23.968Z"
   },
   {
    "duration": 25,
    "start_time": "2022-10-04T10:30:23.988Z"
   },
   {
    "duration": 23,
    "start_time": "2022-10-04T10:30:24.015Z"
   },
   {
    "duration": 16,
    "start_time": "2022-10-04T10:30:24.040Z"
   },
   {
    "duration": 11,
    "start_time": "2022-10-04T10:30:24.058Z"
   },
   {
    "duration": 110,
    "start_time": "2022-10-04T10:30:24.071Z"
   },
   {
    "duration": 203,
    "start_time": "2022-10-04T10:30:24.183Z"
   },
   {
    "duration": 19,
    "start_time": "2022-10-04T10:30:24.388Z"
   },
   {
    "duration": 392,
    "start_time": "2022-10-04T10:30:24.408Z"
   },
   {
    "duration": 4,
    "start_time": "2022-10-04T10:30:24.801Z"
   },
   {
    "duration": 1374,
    "start_time": "2022-10-04T10:30:24.807Z"
   },
   {
    "duration": 12,
    "start_time": "2022-10-04T10:30:26.183Z"
   },
   {
    "duration": 284,
    "start_time": "2022-10-04T10:30:26.197Z"
   },
   {
    "duration": 291,
    "start_time": "2022-10-04T10:30:26.482Z"
   },
   {
    "duration": 6,
    "start_time": "2022-10-04T10:30:26.775Z"
   },
   {
    "duration": 14,
    "start_time": "2022-10-04T10:30:26.783Z"
   },
   {
    "duration": 186,
    "start_time": "2022-10-04T10:30:26.799Z"
   },
   {
    "duration": 189,
    "start_time": "2022-10-04T10:30:26.987Z"
   },
   {
    "duration": 5,
    "start_time": "2022-10-04T10:30:27.180Z"
   },
   {
    "duration": 12,
    "start_time": "2022-10-04T10:30:27.187Z"
   },
   {
    "duration": 13,
    "start_time": "2022-10-04T10:30:27.200Z"
   },
   {
    "duration": 2262,
    "start_time": "2022-10-04T10:30:27.215Z"
   },
   {
    "duration": 11,
    "start_time": "2022-10-04T10:30:29.479Z"
   },
   {
    "duration": 216,
    "start_time": "2022-10-04T10:30:29.492Z"
   },
   {
    "duration": 35,
    "start_time": "2022-10-04T10:30:29.709Z"
   },
   {
    "duration": 30,
    "start_time": "2022-10-04T10:30:29.746Z"
   },
   {
    "duration": 27,
    "start_time": "2022-10-04T10:30:29.777Z"
   },
   {
    "duration": 43,
    "start_time": "2022-10-04T10:30:29.807Z"
   },
   {
    "duration": 19,
    "start_time": "2022-10-04T10:30:29.851Z"
   },
   {
    "duration": 22,
    "start_time": "2022-10-04T10:30:29.872Z"
   },
   {
    "duration": 10,
    "start_time": "2022-10-04T10:30:29.895Z"
   },
   {
    "duration": 38,
    "start_time": "2022-10-04T10:30:29.907Z"
   },
   {
    "duration": 20,
    "start_time": "2022-10-04T10:30:29.947Z"
   },
   {
    "duration": 15,
    "start_time": "2022-10-04T10:30:29.969Z"
   },
   {
    "duration": 17,
    "start_time": "2022-10-04T10:30:29.986Z"
   },
   {
    "duration": 12,
    "start_time": "2022-10-04T10:30:30.005Z"
   },
   {
    "duration": 27,
    "start_time": "2022-10-04T10:30:30.019Z"
   },
   {
    "duration": 14,
    "start_time": "2022-10-04T10:30:30.048Z"
   },
   {
    "duration": 51,
    "start_time": "2022-10-04T10:56:59.871Z"
   },
   {
    "duration": 9,
    "start_time": "2022-10-04T10:57:14.176Z"
   },
   {
    "duration": 50,
    "start_time": "2022-10-04T11:35:06.263Z"
   },
   {
    "duration": 1334,
    "start_time": "2022-10-04T11:35:16.373Z"
   },
   {
    "duration": 125,
    "start_time": "2022-10-04T11:35:17.708Z"
   },
   {
    "duration": 25,
    "start_time": "2022-10-04T11:35:17.834Z"
   },
   {
    "duration": 12,
    "start_time": "2022-10-04T11:35:17.861Z"
   },
   {
    "duration": 10,
    "start_time": "2022-10-04T11:35:17.875Z"
   },
   {
    "duration": 59,
    "start_time": "2022-10-04T11:35:17.887Z"
   },
   {
    "duration": 8,
    "start_time": "2022-10-04T11:35:17.947Z"
   },
   {
    "duration": 18,
    "start_time": "2022-10-04T11:35:17.956Z"
   },
   {
    "duration": 5,
    "start_time": "2022-10-04T11:35:17.976Z"
   },
   {
    "duration": 28,
    "start_time": "2022-10-04T11:35:17.984Z"
   },
   {
    "duration": 20,
    "start_time": "2022-10-04T11:35:18.014Z"
   },
   {
    "duration": 6,
    "start_time": "2022-10-04T11:35:18.036Z"
   },
   {
    "duration": 18,
    "start_time": "2022-10-04T11:35:18.043Z"
   },
   {
    "duration": 12,
    "start_time": "2022-10-04T11:35:18.062Z"
   },
   {
    "duration": 85,
    "start_time": "2022-10-04T11:35:18.076Z"
   },
   {
    "duration": 166,
    "start_time": "2022-10-04T11:35:18.163Z"
   },
   {
    "duration": 15,
    "start_time": "2022-10-04T11:35:18.331Z"
   },
   {
    "duration": 316,
    "start_time": "2022-10-04T11:35:18.348Z"
   },
   {
    "duration": 4,
    "start_time": "2022-10-04T11:35:18.665Z"
   },
   {
    "duration": 1134,
    "start_time": "2022-10-04T11:35:18.670Z"
   },
   {
    "duration": 11,
    "start_time": "2022-10-04T11:35:19.808Z"
   },
   {
    "duration": 256,
    "start_time": "2022-10-04T11:35:19.821Z"
   },
   {
    "duration": 256,
    "start_time": "2022-10-04T11:35:20.078Z"
   },
   {
    "duration": 4,
    "start_time": "2022-10-04T11:35:20.336Z"
   },
   {
    "duration": 12,
    "start_time": "2022-10-04T11:35:20.342Z"
   },
   {
    "duration": 5,
    "start_time": "2022-10-04T11:35:20.355Z"
   },
   {
    "duration": 163,
    "start_time": "2022-10-04T11:35:20.361Z"
   },
   {
    "duration": 159,
    "start_time": "2022-10-04T11:35:20.527Z"
   },
   {
    "duration": 4,
    "start_time": "2022-10-04T11:35:20.688Z"
   },
   {
    "duration": 18,
    "start_time": "2022-10-04T11:35:20.694Z"
   },
   {
    "duration": 9,
    "start_time": "2022-10-04T11:35:20.713Z"
   },
   {
    "duration": 2314,
    "start_time": "2022-10-04T11:35:20.723Z"
   },
   {
    "duration": 10,
    "start_time": "2022-10-04T11:35:23.039Z"
   },
   {
    "duration": 192,
    "start_time": "2022-10-04T11:35:23.051Z"
   },
   {
    "duration": 28,
    "start_time": "2022-10-04T11:35:23.244Z"
   },
   {
    "duration": 36,
    "start_time": "2022-10-04T11:35:23.274Z"
   },
   {
    "duration": 21,
    "start_time": "2022-10-04T11:35:23.312Z"
   },
   {
    "duration": 12,
    "start_time": "2022-10-04T11:35:23.335Z"
   },
   {
    "duration": 16,
    "start_time": "2022-10-04T11:35:23.348Z"
   },
   {
    "duration": 14,
    "start_time": "2022-10-04T11:35:23.366Z"
   },
   {
    "duration": 32,
    "start_time": "2022-10-04T11:35:23.381Z"
   },
   {
    "duration": 14,
    "start_time": "2022-10-04T11:35:23.415Z"
   },
   {
    "duration": 13,
    "start_time": "2022-10-04T11:35:23.431Z"
   },
   {
    "duration": 23,
    "start_time": "2022-10-04T11:35:23.446Z"
   },
   {
    "duration": 8,
    "start_time": "2022-10-04T11:35:23.471Z"
   },
   {
    "duration": 31,
    "start_time": "2022-10-04T11:35:23.481Z"
   },
   {
    "duration": 10,
    "start_time": "2022-10-04T11:35:23.514Z"
   },
   {
    "duration": 6,
    "start_time": "2022-10-04T11:35:23.525Z"
   },
   {
    "duration": 12,
    "start_time": "2022-10-04T11:36:22.888Z"
   },
   {
    "duration": 228,
    "start_time": "2022-10-04T11:37:52.512Z"
   },
   {
    "duration": 302,
    "start_time": "2022-10-04T11:38:04.651Z"
   },
   {
    "duration": 242,
    "start_time": "2022-10-04T11:38:20.388Z"
   },
   {
    "duration": 237,
    "start_time": "2022-10-04T11:38:25.498Z"
   },
   {
    "duration": 1031,
    "start_time": "2022-10-04T11:39:52.655Z"
   },
   {
    "duration": 124,
    "start_time": "2022-10-04T11:39:53.688Z"
   },
   {
    "duration": 25,
    "start_time": "2022-10-04T11:39:53.814Z"
   },
   {
    "duration": 13,
    "start_time": "2022-10-04T11:39:53.841Z"
   },
   {
    "duration": 5,
    "start_time": "2022-10-04T11:39:53.857Z"
   },
   {
    "duration": 77,
    "start_time": "2022-10-04T11:39:53.863Z"
   },
   {
    "duration": 9,
    "start_time": "2022-10-04T11:39:53.942Z"
   },
   {
    "duration": 23,
    "start_time": "2022-10-04T11:39:53.952Z"
   },
   {
    "duration": 4,
    "start_time": "2022-10-04T11:39:53.977Z"
   },
   {
    "duration": 27,
    "start_time": "2022-10-04T11:39:53.982Z"
   },
   {
    "duration": 18,
    "start_time": "2022-10-04T11:39:54.010Z"
   },
   {
    "duration": 13,
    "start_time": "2022-10-04T11:39:54.030Z"
   },
   {
    "duration": 31,
    "start_time": "2022-10-04T11:39:54.045Z"
   },
   {
    "duration": 13,
    "start_time": "2022-10-04T11:39:54.079Z"
   },
   {
    "duration": 73,
    "start_time": "2022-10-04T11:39:54.093Z"
   },
   {
    "duration": 162,
    "start_time": "2022-10-04T11:39:54.168Z"
   },
   {
    "duration": 16,
    "start_time": "2022-10-04T11:39:54.332Z"
   },
   {
    "duration": 386,
    "start_time": "2022-10-04T11:39:54.349Z"
   },
   {
    "duration": 5,
    "start_time": "2022-10-04T11:39:54.737Z"
   },
   {
    "duration": 1181,
    "start_time": "2022-10-04T11:39:54.743Z"
   },
   {
    "duration": 13,
    "start_time": "2022-10-04T11:39:55.925Z"
   },
   {
    "duration": 257,
    "start_time": "2022-10-04T11:39:55.940Z"
   },
   {
    "duration": 279,
    "start_time": "2022-10-04T11:39:56.199Z"
   },
   {
    "duration": 3,
    "start_time": "2022-10-04T11:39:56.480Z"
   },
   {
    "duration": 24,
    "start_time": "2022-10-04T11:39:56.485Z"
   },
   {
    "duration": 114,
    "start_time": "2022-10-04T11:39:56.510Z"
   },
   {
    "duration": 0,
    "start_time": "2022-10-04T11:39:56.626Z"
   },
   {
    "duration": 0,
    "start_time": "2022-10-04T11:39:56.627Z"
   },
   {
    "duration": 0,
    "start_time": "2022-10-04T11:39:56.628Z"
   },
   {
    "duration": 0,
    "start_time": "2022-10-04T11:39:56.629Z"
   },
   {
    "duration": 0,
    "start_time": "2022-10-04T11:39:56.630Z"
   },
   {
    "duration": 0,
    "start_time": "2022-10-04T11:39:56.631Z"
   },
   {
    "duration": 0,
    "start_time": "2022-10-04T11:39:56.632Z"
   },
   {
    "duration": 0,
    "start_time": "2022-10-04T11:39:56.633Z"
   },
   {
    "duration": 0,
    "start_time": "2022-10-04T11:39:56.634Z"
   },
   {
    "duration": 0,
    "start_time": "2022-10-04T11:39:56.635Z"
   },
   {
    "duration": 0,
    "start_time": "2022-10-04T11:39:56.635Z"
   },
   {
    "duration": 0,
    "start_time": "2022-10-04T11:39:56.636Z"
   },
   {
    "duration": 0,
    "start_time": "2022-10-04T11:39:56.637Z"
   },
   {
    "duration": 0,
    "start_time": "2022-10-04T11:39:56.638Z"
   },
   {
    "duration": 0,
    "start_time": "2022-10-04T11:39:56.639Z"
   },
   {
    "duration": 0,
    "start_time": "2022-10-04T11:39:56.639Z"
   },
   {
    "duration": 0,
    "start_time": "2022-10-04T11:39:56.640Z"
   },
   {
    "duration": 0,
    "start_time": "2022-10-04T11:39:56.641Z"
   },
   {
    "duration": 0,
    "start_time": "2022-10-04T11:39:56.642Z"
   },
   {
    "duration": 0,
    "start_time": "2022-10-04T11:39:56.643Z"
   },
   {
    "duration": 0,
    "start_time": "2022-10-04T11:39:56.644Z"
   },
   {
    "duration": 0,
    "start_time": "2022-10-04T11:39:56.645Z"
   },
   {
    "duration": 7,
    "start_time": "2022-10-04T11:42:14.976Z"
   },
   {
    "duration": 146,
    "start_time": "2022-10-04T11:42:20.215Z"
   },
   {
    "duration": 151,
    "start_time": "2022-10-04T11:42:23.489Z"
   },
   {
    "duration": 4,
    "start_time": "2022-10-04T11:42:26.826Z"
   },
   {
    "duration": 8,
    "start_time": "2022-10-04T11:42:42.866Z"
   },
   {
    "duration": 4,
    "start_time": "2022-10-04T11:42:51.201Z"
   },
   {
    "duration": 11,
    "start_time": "2022-10-04T11:42:57.854Z"
   },
   {
    "duration": 9,
    "start_time": "2022-10-04T11:43:14.328Z"
   },
   {
    "duration": 4,
    "start_time": "2022-10-04T11:43:15.266Z"
   },
   {
    "duration": 2589,
    "start_time": "2022-10-04T11:43:16.146Z"
   },
   {
    "duration": 1171,
    "start_time": "2022-10-04T12:42:38.692Z"
   },
   {
    "duration": 195,
    "start_time": "2022-10-04T12:42:39.865Z"
   },
   {
    "duration": 24,
    "start_time": "2022-10-04T12:42:40.061Z"
   },
   {
    "duration": 17,
    "start_time": "2022-10-04T12:42:40.087Z"
   },
   {
    "duration": 4,
    "start_time": "2022-10-04T12:42:40.106Z"
   },
   {
    "duration": 60,
    "start_time": "2022-10-04T12:42:40.111Z"
   },
   {
    "duration": 8,
    "start_time": "2022-10-04T12:42:40.172Z"
   },
   {
    "duration": 18,
    "start_time": "2022-10-04T12:42:40.181Z"
   },
   {
    "duration": 10,
    "start_time": "2022-10-04T12:42:40.200Z"
   },
   {
    "duration": 15,
    "start_time": "2022-10-04T12:42:40.212Z"
   },
   {
    "duration": 20,
    "start_time": "2022-10-04T12:42:40.228Z"
   },
   {
    "duration": 5,
    "start_time": "2022-10-04T12:42:40.249Z"
   },
   {
    "duration": 18,
    "start_time": "2022-10-04T12:42:40.255Z"
   },
   {
    "duration": 16,
    "start_time": "2022-10-04T12:42:40.276Z"
   },
   {
    "duration": 87,
    "start_time": "2022-10-04T12:42:40.293Z"
   },
   {
    "duration": 172,
    "start_time": "2022-10-04T12:42:40.381Z"
   },
   {
    "duration": 17,
    "start_time": "2022-10-04T12:42:40.555Z"
   },
   {
    "duration": 314,
    "start_time": "2022-10-04T12:42:40.573Z"
   },
   {
    "duration": 5,
    "start_time": "2022-10-04T12:42:40.888Z"
   },
   {
    "duration": 1224,
    "start_time": "2022-10-04T12:42:40.895Z"
   },
   {
    "duration": 11,
    "start_time": "2022-10-04T12:42:42.121Z"
   },
   {
    "duration": 246,
    "start_time": "2022-10-04T12:42:42.134Z"
   },
   {
    "duration": 250,
    "start_time": "2022-10-04T12:42:42.382Z"
   },
   {
    "duration": 3,
    "start_time": "2022-10-04T12:42:42.634Z"
   },
   {
    "duration": 11,
    "start_time": "2022-10-04T12:42:42.638Z"
   },
   {
    "duration": 5,
    "start_time": "2022-10-04T12:42:42.651Z"
   },
   {
    "duration": 168,
    "start_time": "2022-10-04T12:42:42.657Z"
   },
   {
    "duration": 156,
    "start_time": "2022-10-04T12:42:42.826Z"
   },
   {
    "duration": 4,
    "start_time": "2022-10-04T12:42:42.984Z"
   },
   {
    "duration": 20,
    "start_time": "2022-10-04T12:42:42.989Z"
   },
   {
    "duration": 7,
    "start_time": "2022-10-04T12:42:43.011Z"
   },
   {
    "duration": 2646,
    "start_time": "2022-10-04T12:42:43.020Z"
   },
   {
    "duration": 9,
    "start_time": "2022-10-04T12:42:45.668Z"
   },
   {
    "duration": 195,
    "start_time": "2022-10-04T12:42:45.678Z"
   },
   {
    "duration": 22,
    "start_time": "2022-10-04T12:42:45.875Z"
   },
   {
    "duration": 21,
    "start_time": "2022-10-04T12:42:45.909Z"
   },
   {
    "duration": 20,
    "start_time": "2022-10-04T12:42:45.932Z"
   },
   {
    "duration": 13,
    "start_time": "2022-10-04T12:42:45.953Z"
   },
   {
    "duration": 43,
    "start_time": "2022-10-04T12:42:45.967Z"
   },
   {
    "duration": 14,
    "start_time": "2022-10-04T12:42:46.013Z"
   },
   {
    "duration": 3,
    "start_time": "2022-10-04T12:42:46.031Z"
   },
   {
    "duration": 16,
    "start_time": "2022-10-04T12:42:46.036Z"
   },
   {
    "duration": 14,
    "start_time": "2022-10-04T12:42:46.053Z"
   },
   {
    "duration": 49,
    "start_time": "2022-10-04T12:42:46.068Z"
   },
   {
    "duration": 119,
    "start_time": "2022-10-04T12:42:46.118Z"
   },
   {
    "duration": 0,
    "start_time": "2022-10-04T12:42:46.238Z"
   },
   {
    "duration": 0,
    "start_time": "2022-10-04T12:42:46.240Z"
   },
   {
    "duration": 0,
    "start_time": "2022-10-04T12:42:46.241Z"
   },
   {
    "duration": 11,
    "start_time": "2022-10-04T12:49:40.633Z"
   },
   {
    "duration": 9,
    "start_time": "2022-10-04T12:49:47.235Z"
   },
   {
    "duration": 5,
    "start_time": "2022-10-04T12:51:31.335Z"
   },
   {
    "duration": 11,
    "start_time": "2022-10-04T12:51:53.024Z"
   },
   {
    "duration": 5,
    "start_time": "2022-10-04T12:51:56.226Z"
   },
   {
    "duration": 7,
    "start_time": "2022-10-04T12:58:52.550Z"
   },
   {
    "duration": 187,
    "start_time": "2022-10-04T12:58:54.478Z"
   },
   {
    "duration": 230,
    "start_time": "2022-10-04T12:58:55.547Z"
   },
   {
    "duration": 4,
    "start_time": "2022-10-04T12:58:56.724Z"
   },
   {
    "duration": 8,
    "start_time": "2022-10-04T12:59:00.728Z"
   },
   {
    "duration": 3,
    "start_time": "2022-10-04T12:59:01.881Z"
   },
   {
    "duration": 2852,
    "start_time": "2022-10-04T12:59:02.504Z"
   },
   {
    "duration": 279,
    "start_time": "2022-10-04T13:04:18.221Z"
   },
   {
    "duration": 267,
    "start_time": "2022-10-04T13:04:40.927Z"
   },
   {
    "duration": 266,
    "start_time": "2022-10-04T13:04:50.909Z"
   },
   {
    "duration": 341,
    "start_time": "2022-10-04T13:04:58.499Z"
   },
   {
    "duration": 282,
    "start_time": "2022-10-04T13:05:42.661Z"
   },
   {
    "duration": 270,
    "start_time": "2022-10-04T13:05:51.975Z"
   },
   {
    "duration": 79,
    "start_time": "2022-10-04T13:07:18.736Z"
   },
   {
    "duration": 269,
    "start_time": "2022-10-04T13:08:09.811Z"
   },
   {
    "duration": 327,
    "start_time": "2022-10-04T13:08:24.372Z"
   },
   {
    "duration": 60,
    "start_time": "2022-10-04T13:16:24.615Z"
   },
   {
    "duration": 178,
    "start_time": "2022-10-04T13:16:35.412Z"
   },
   {
    "duration": 81,
    "start_time": "2022-10-04T13:16:48.809Z"
   },
   {
    "duration": 2,
    "start_time": "2022-10-04T13:16:59.549Z"
   },
   {
    "duration": 124,
    "start_time": "2022-10-04T13:17:01.168Z"
   },
   {
    "duration": 0,
    "start_time": "2022-10-04T13:20:35.730Z"
   },
   {
    "duration": 0,
    "start_time": "2022-10-04T13:20:35.731Z"
   },
   {
    "duration": 2,
    "start_time": "2022-10-04T13:20:40.185Z"
   },
   {
    "duration": 10,
    "start_time": "2022-10-04T13:20:41.654Z"
   },
   {
    "duration": 0,
    "start_time": "2022-10-04T13:22:34.625Z"
   },
   {
    "duration": 2,
    "start_time": "2022-10-04T13:22:38.008Z"
   },
   {
    "duration": 8,
    "start_time": "2022-10-04T13:22:38.672Z"
   },
   {
    "duration": 98,
    "start_time": "2022-10-04T13:22:44.819Z"
   },
   {
    "duration": 190,
    "start_time": "2022-10-04T13:24:54.738Z"
   },
   {
    "duration": 91,
    "start_time": "2022-10-04T13:25:23.624Z"
   },
   {
    "duration": 1134,
    "start_time": "2022-10-04T13:26:18.116Z"
   },
   {
    "duration": 181,
    "start_time": "2022-10-04T13:26:19.252Z"
   },
   {
    "duration": 27,
    "start_time": "2022-10-04T13:26:19.435Z"
   },
   {
    "duration": 19,
    "start_time": "2022-10-04T13:26:19.464Z"
   },
   {
    "duration": 23,
    "start_time": "2022-10-04T13:26:19.486Z"
   },
   {
    "duration": 49,
    "start_time": "2022-10-04T13:26:19.510Z"
   },
   {
    "duration": 9,
    "start_time": "2022-10-04T13:26:19.561Z"
   },
   {
    "duration": 16,
    "start_time": "2022-10-04T13:26:19.571Z"
   },
   {
    "duration": 5,
    "start_time": "2022-10-04T13:26:19.608Z"
   },
   {
    "duration": 21,
    "start_time": "2022-10-04T13:26:19.614Z"
   },
   {
    "duration": 20,
    "start_time": "2022-10-04T13:26:19.636Z"
   },
   {
    "duration": 5,
    "start_time": "2022-10-04T13:26:19.658Z"
   },
   {
    "duration": 17,
    "start_time": "2022-10-04T13:26:19.665Z"
   },
   {
    "duration": 26,
    "start_time": "2022-10-04T13:26:19.686Z"
   },
   {
    "duration": 81,
    "start_time": "2022-10-04T13:26:19.713Z"
   },
   {
    "duration": 172,
    "start_time": "2022-10-04T13:26:19.810Z"
   },
   {
    "duration": 27,
    "start_time": "2022-10-04T13:26:19.984Z"
   },
   {
    "duration": 310,
    "start_time": "2022-10-04T13:26:20.013Z"
   },
   {
    "duration": 4,
    "start_time": "2022-10-04T13:26:20.324Z"
   },
   {
    "duration": 1310,
    "start_time": "2022-10-04T13:26:20.329Z"
   },
   {
    "duration": 12,
    "start_time": "2022-10-04T13:26:21.640Z"
   },
   {
    "duration": 255,
    "start_time": "2022-10-04T13:26:21.654Z"
   },
   {
    "duration": 255,
    "start_time": "2022-10-04T13:26:21.911Z"
   },
   {
    "duration": 12,
    "start_time": "2022-10-04T13:26:22.168Z"
   },
   {
    "duration": 8,
    "start_time": "2022-10-04T13:26:22.181Z"
   },
   {
    "duration": 148,
    "start_time": "2022-10-04T13:26:22.208Z"
   },
   {
    "duration": 165,
    "start_time": "2022-10-04T13:26:22.358Z"
   },
   {
    "duration": 5,
    "start_time": "2022-10-04T13:26:22.525Z"
   },
   {
    "duration": 12,
    "start_time": "2022-10-04T13:26:22.532Z"
   },
   {
    "duration": 14,
    "start_time": "2022-10-04T13:26:22.546Z"
   },
   {
    "duration": 2742,
    "start_time": "2022-10-04T13:26:22.562Z"
   },
   {
    "duration": 12,
    "start_time": "2022-10-04T13:26:25.306Z"
   },
   {
    "duration": 197,
    "start_time": "2022-10-04T13:26:25.319Z"
   },
   {
    "duration": 346,
    "start_time": "2022-10-04T13:26:25.517Z"
   },
   {
    "duration": 313,
    "start_time": "2022-10-04T13:26:25.864Z"
   },
   {
    "duration": 34,
    "start_time": "2022-10-04T13:26:26.179Z"
   },
   {
    "duration": 25,
    "start_time": "2022-10-04T13:26:26.215Z"
   },
   {
    "duration": 28,
    "start_time": "2022-10-04T13:26:26.242Z"
   },
   {
    "duration": 44,
    "start_time": "2022-10-04T13:26:26.271Z"
   },
   {
    "duration": 13,
    "start_time": "2022-10-04T13:26:26.316Z"
   },
   {
    "duration": 12,
    "start_time": "2022-10-04T13:26:26.332Z"
   },
   {
    "duration": 3,
    "start_time": "2022-10-04T13:26:26.345Z"
   },
   {
    "duration": 190,
    "start_time": "2022-10-04T13:26:26.350Z"
   },
   {
    "duration": 0,
    "start_time": "2022-10-04T13:26:26.542Z"
   },
   {
    "duration": 0,
    "start_time": "2022-10-04T13:26:26.543Z"
   },
   {
    "duration": 0,
    "start_time": "2022-10-04T13:26:26.544Z"
   },
   {
    "duration": 0,
    "start_time": "2022-10-04T13:26:26.545Z"
   },
   {
    "duration": 0,
    "start_time": "2022-10-04T13:26:26.546Z"
   },
   {
    "duration": 0,
    "start_time": "2022-10-04T13:26:26.548Z"
   },
   {
    "duration": 0,
    "start_time": "2022-10-04T13:26:26.550Z"
   },
   {
    "duration": 0,
    "start_time": "2022-10-04T13:26:26.551Z"
   },
   {
    "duration": 0,
    "start_time": "2022-10-04T13:26:26.552Z"
   },
   {
    "duration": 115,
    "start_time": "2022-10-04T13:26:38.785Z"
   },
   {
    "duration": 13,
    "start_time": "2022-10-04T13:26:41.225Z"
   },
   {
    "duration": 0,
    "start_time": "2022-10-04T13:30:43.154Z"
   },
   {
    "duration": 0,
    "start_time": "2022-10-04T13:30:43.156Z"
   },
   {
    "duration": 0,
    "start_time": "2022-10-04T13:30:43.157Z"
   },
   {
    "duration": 0,
    "start_time": "2022-10-04T13:30:43.158Z"
   },
   {
    "duration": 0,
    "start_time": "2022-10-04T13:30:43.159Z"
   },
   {
    "duration": 0,
    "start_time": "2022-10-04T13:30:43.160Z"
   },
   {
    "duration": 0,
    "start_time": "2022-10-04T13:30:43.160Z"
   },
   {
    "duration": 0,
    "start_time": "2022-10-04T13:30:43.162Z"
   },
   {
    "duration": 0,
    "start_time": "2022-10-04T13:30:43.163Z"
   },
   {
    "duration": 0,
    "start_time": "2022-10-04T13:30:43.163Z"
   },
   {
    "duration": 0,
    "start_time": "2022-10-04T13:30:43.164Z"
   },
   {
    "duration": 0,
    "start_time": "2022-10-04T13:30:43.165Z"
   },
   {
    "duration": 0,
    "start_time": "2022-10-04T13:30:43.165Z"
   },
   {
    "duration": 0,
    "start_time": "2022-10-04T13:30:43.166Z"
   },
   {
    "duration": 0,
    "start_time": "2022-10-04T13:30:43.167Z"
   },
   {
    "duration": 0,
    "start_time": "2022-10-04T13:30:43.168Z"
   },
   {
    "duration": 0,
    "start_time": "2022-10-04T13:30:43.168Z"
   },
   {
    "duration": 0,
    "start_time": "2022-10-04T13:30:43.169Z"
   },
   {
    "duration": 0,
    "start_time": "2022-10-04T13:30:43.170Z"
   },
   {
    "duration": 0,
    "start_time": "2022-10-04T13:30:43.170Z"
   },
   {
    "duration": 0,
    "start_time": "2022-10-04T13:30:43.172Z"
   },
   {
    "duration": 0,
    "start_time": "2022-10-04T13:30:43.172Z"
   },
   {
    "duration": 0,
    "start_time": "2022-10-04T13:30:43.173Z"
   },
   {
    "duration": 0,
    "start_time": "2022-10-04T13:30:43.174Z"
   },
   {
    "duration": 0,
    "start_time": "2022-10-04T13:30:43.174Z"
   },
   {
    "duration": 0,
    "start_time": "2022-10-04T13:30:43.175Z"
   },
   {
    "duration": 0,
    "start_time": "2022-10-04T13:30:43.176Z"
   },
   {
    "duration": 0,
    "start_time": "2022-10-04T13:30:43.177Z"
   },
   {
    "duration": 0,
    "start_time": "2022-10-04T13:30:43.178Z"
   },
   {
    "duration": 0,
    "start_time": "2022-10-04T13:30:43.178Z"
   },
   {
    "duration": 0,
    "start_time": "2022-10-04T13:30:43.179Z"
   },
   {
    "duration": 0,
    "start_time": "2022-10-04T13:30:43.180Z"
   },
   {
    "duration": 0,
    "start_time": "2022-10-04T13:30:43.181Z"
   },
   {
    "duration": 1,
    "start_time": "2022-10-04T13:30:43.181Z"
   },
   {
    "duration": 0,
    "start_time": "2022-10-04T13:30:43.182Z"
   },
   {
    "duration": 0,
    "start_time": "2022-10-04T13:30:43.209Z"
   },
   {
    "duration": 0,
    "start_time": "2022-10-04T13:30:43.210Z"
   },
   {
    "duration": 0,
    "start_time": "2022-10-04T13:30:43.211Z"
   },
   {
    "duration": 0,
    "start_time": "2022-10-04T13:30:43.212Z"
   },
   {
    "duration": 0,
    "start_time": "2022-10-04T13:30:43.213Z"
   },
   {
    "duration": 0,
    "start_time": "2022-10-04T13:30:43.213Z"
   },
   {
    "duration": 0,
    "start_time": "2022-10-04T13:30:43.214Z"
   },
   {
    "duration": 0,
    "start_time": "2022-10-04T13:30:43.215Z"
   },
   {
    "duration": 0,
    "start_time": "2022-10-04T13:30:43.216Z"
   },
   {
    "duration": 0,
    "start_time": "2022-10-04T13:30:43.217Z"
   },
   {
    "duration": 0,
    "start_time": "2022-10-04T13:30:43.217Z"
   },
   {
    "duration": 0,
    "start_time": "2022-10-04T13:30:43.218Z"
   },
   {
    "duration": 0,
    "start_time": "2022-10-04T13:30:43.220Z"
   },
   {
    "duration": 0,
    "start_time": "2022-10-04T13:30:43.220Z"
   },
   {
    "duration": 0,
    "start_time": "2022-10-04T13:30:43.221Z"
   },
   {
    "duration": 0,
    "start_time": "2022-10-04T13:30:43.222Z"
   },
   {
    "duration": 1092,
    "start_time": "2022-10-04T13:32:06.004Z"
   },
   {
    "duration": 86,
    "start_time": "2022-10-04T13:32:07.098Z"
   },
   {
    "duration": 26,
    "start_time": "2022-10-04T13:32:07.186Z"
   },
   {
    "duration": 33,
    "start_time": "2022-10-04T13:32:07.213Z"
   },
   {
    "duration": 16,
    "start_time": "2022-10-04T13:32:07.248Z"
   },
   {
    "duration": 65,
    "start_time": "2022-10-04T13:32:07.266Z"
   },
   {
    "duration": 9,
    "start_time": "2022-10-04T13:32:07.333Z"
   },
   {
    "duration": 34,
    "start_time": "2022-10-04T13:32:07.344Z"
   },
   {
    "duration": 14,
    "start_time": "2022-10-04T13:32:07.380Z"
   },
   {
    "duration": 23,
    "start_time": "2022-10-04T13:32:07.396Z"
   },
   {
    "duration": 29,
    "start_time": "2022-10-04T13:32:07.420Z"
   },
   {
    "duration": 5,
    "start_time": "2022-10-04T13:32:07.450Z"
   },
   {
    "duration": 23,
    "start_time": "2022-10-04T13:32:07.456Z"
   },
   {
    "duration": 22,
    "start_time": "2022-10-04T13:32:07.480Z"
   },
   {
    "duration": 79,
    "start_time": "2022-10-04T13:32:07.503Z"
   },
   {
    "duration": 164,
    "start_time": "2022-10-04T13:32:07.583Z"
   },
   {
    "duration": 16,
    "start_time": "2022-10-04T13:32:07.749Z"
   },
   {
    "duration": 316,
    "start_time": "2022-10-04T13:32:07.767Z"
   },
   {
    "duration": 4,
    "start_time": "2022-10-04T13:32:08.084Z"
   },
   {
    "duration": 1189,
    "start_time": "2022-10-04T13:32:08.090Z"
   },
   {
    "duration": 12,
    "start_time": "2022-10-04T13:32:09.281Z"
   },
   {
    "duration": 249,
    "start_time": "2022-10-04T13:32:09.308Z"
   },
   {
    "duration": 259,
    "start_time": "2022-10-04T13:32:09.559Z"
   },
   {
    "duration": 11,
    "start_time": "2022-10-04T13:32:09.819Z"
   },
   {
    "duration": 52,
    "start_time": "2022-10-04T13:32:09.831Z"
   },
   {
    "duration": 179,
    "start_time": "2022-10-04T13:32:09.885Z"
   },
   {
    "duration": 157,
    "start_time": "2022-10-04T13:32:10.066Z"
   },
   {
    "duration": 4,
    "start_time": "2022-10-04T13:32:10.226Z"
   },
   {
    "duration": 18,
    "start_time": "2022-10-04T13:32:10.232Z"
   },
   {
    "duration": 48,
    "start_time": "2022-10-04T13:32:10.251Z"
   },
   {
    "duration": 2579,
    "start_time": "2022-10-04T13:32:10.300Z"
   },
   {
    "duration": 11,
    "start_time": "2022-10-04T13:32:12.880Z"
   },
   {
    "duration": 202,
    "start_time": "2022-10-04T13:32:12.892Z"
   },
   {
    "duration": 719,
    "start_time": "2022-10-04T13:32:13.096Z"
   },
   {
    "duration": 528,
    "start_time": "2022-10-04T13:32:13.817Z"
   },
   {
    "duration": 84,
    "start_time": "2022-10-04T13:32:14.346Z"
   },
   {
    "duration": 76,
    "start_time": "2022-10-04T13:32:14.433Z"
   },
   {
    "duration": 26,
    "start_time": "2022-10-04T13:32:14.512Z"
   },
   {
    "duration": 72,
    "start_time": "2022-10-04T13:32:14.540Z"
   },
   {
    "duration": 42,
    "start_time": "2022-10-04T13:32:14.614Z"
   },
   {
    "duration": 59,
    "start_time": "2022-10-04T13:32:14.658Z"
   },
   {
    "duration": 7,
    "start_time": "2022-10-04T13:32:14.718Z"
   },
   {
    "duration": 1112,
    "start_time": "2022-10-04T13:32:14.727Z"
   },
   {
    "duration": 0,
    "start_time": "2022-10-04T13:32:15.840Z"
   },
   {
    "duration": 0,
    "start_time": "2022-10-04T13:32:15.842Z"
   },
   {
    "duration": 0,
    "start_time": "2022-10-04T13:32:15.843Z"
   },
   {
    "duration": 0,
    "start_time": "2022-10-04T13:32:15.844Z"
   },
   {
    "duration": 0,
    "start_time": "2022-10-04T13:32:15.845Z"
   },
   {
    "duration": 0,
    "start_time": "2022-10-04T13:32:15.846Z"
   },
   {
    "duration": 0,
    "start_time": "2022-10-04T13:32:15.847Z"
   },
   {
    "duration": 0,
    "start_time": "2022-10-04T13:32:15.848Z"
   },
   {
    "duration": 282,
    "start_time": "2022-10-04T13:32:52.025Z"
   },
   {
    "duration": 270,
    "start_time": "2022-10-04T13:34:07.741Z"
   },
   {
    "duration": 258,
    "start_time": "2022-10-04T13:34:23.599Z"
   },
   {
    "duration": 255,
    "start_time": "2022-10-04T13:34:31.639Z"
   },
   {
    "duration": 51,
    "start_time": "2022-10-04T13:34:49.167Z"
   },
   {
    "duration": 263,
    "start_time": "2022-10-04T13:35:47.507Z"
   },
   {
    "duration": 255,
    "start_time": "2022-10-04T13:36:05.320Z"
   },
   {
    "duration": 10,
    "start_time": "2022-10-04T13:41:49.925Z"
   },
   {
    "duration": 10,
    "start_time": "2022-10-04T13:42:25.987Z"
   },
   {
    "duration": 96,
    "start_time": "2022-10-04T13:42:37.036Z"
   },
   {
    "duration": 8,
    "start_time": "2022-10-04T13:46:50.620Z"
   },
   {
    "duration": 55,
    "start_time": "2022-10-04T13:48:39.833Z"
   },
   {
    "duration": 21,
    "start_time": "2022-10-04T13:48:59.552Z"
   },
   {
    "duration": 1120,
    "start_time": "2022-10-04T13:53:41.688Z"
   },
   {
    "duration": 90,
    "start_time": "2022-10-04T13:53:42.809Z"
   },
   {
    "duration": 26,
    "start_time": "2022-10-04T13:53:42.900Z"
   },
   {
    "duration": 15,
    "start_time": "2022-10-04T13:53:42.927Z"
   },
   {
    "duration": 4,
    "start_time": "2022-10-04T13:53:42.944Z"
   },
   {
    "duration": 64,
    "start_time": "2022-10-04T13:53:42.950Z"
   },
   {
    "duration": 8,
    "start_time": "2022-10-04T13:53:43.015Z"
   },
   {
    "duration": 14,
    "start_time": "2022-10-04T13:53:43.025Z"
   },
   {
    "duration": 4,
    "start_time": "2022-10-04T13:53:43.041Z"
   },
   {
    "duration": 13,
    "start_time": "2022-10-04T13:53:43.047Z"
   },
   {
    "duration": 50,
    "start_time": "2022-10-04T13:53:43.062Z"
   },
   {
    "duration": 6,
    "start_time": "2022-10-04T13:53:43.114Z"
   },
   {
    "duration": 14,
    "start_time": "2022-10-04T13:53:43.121Z"
   },
   {
    "duration": 11,
    "start_time": "2022-10-04T13:53:43.137Z"
   },
   {
    "duration": 91,
    "start_time": "2022-10-04T13:53:43.149Z"
   },
   {
    "duration": 173,
    "start_time": "2022-10-04T13:53:43.241Z"
   },
   {
    "duration": 16,
    "start_time": "2022-10-04T13:53:43.416Z"
   },
   {
    "duration": 312,
    "start_time": "2022-10-04T13:53:43.434Z"
   },
   {
    "duration": 4,
    "start_time": "2022-10-04T13:53:43.748Z"
   },
   {
    "duration": 1222,
    "start_time": "2022-10-04T13:53:43.754Z"
   },
   {
    "duration": 11,
    "start_time": "2022-10-04T13:53:44.977Z"
   },
   {
    "duration": 244,
    "start_time": "2022-10-04T13:53:44.990Z"
   },
   {
    "duration": 254,
    "start_time": "2022-10-04T13:53:45.236Z"
   },
   {
    "duration": 18,
    "start_time": "2022-10-04T13:53:45.492Z"
   },
   {
    "duration": 6,
    "start_time": "2022-10-04T13:53:45.511Z"
   },
   {
    "duration": 169,
    "start_time": "2022-10-04T13:53:45.518Z"
   },
   {
    "duration": 157,
    "start_time": "2022-10-04T13:53:45.688Z"
   },
   {
    "duration": 4,
    "start_time": "2022-10-04T13:53:45.847Z"
   },
   {
    "duration": 8,
    "start_time": "2022-10-04T13:53:45.853Z"
   },
   {
    "duration": 14,
    "start_time": "2022-10-04T13:53:45.862Z"
   },
   {
    "duration": 2607,
    "start_time": "2022-10-04T13:53:45.877Z"
   },
   {
    "duration": 9,
    "start_time": "2022-10-04T13:53:48.486Z"
   },
   {
    "duration": 185,
    "start_time": "2022-10-04T13:53:48.496Z"
   },
   {
    "duration": 345,
    "start_time": "2022-10-04T13:53:48.682Z"
   },
   {
    "duration": 282,
    "start_time": "2022-10-04T13:53:49.029Z"
   },
   {
    "duration": 22,
    "start_time": "2022-10-04T13:53:49.312Z"
   },
   {
    "duration": 20,
    "start_time": "2022-10-04T13:53:49.336Z"
   },
   {
    "duration": 20,
    "start_time": "2022-10-04T13:53:49.357Z"
   },
   {
    "duration": 40,
    "start_time": "2022-10-04T13:53:49.378Z"
   },
   {
    "duration": 16,
    "start_time": "2022-10-04T13:53:49.419Z"
   },
   {
    "duration": 12,
    "start_time": "2022-10-04T13:53:49.438Z"
   },
   {
    "duration": 289,
    "start_time": "2022-10-04T13:53:49.451Z"
   },
   {
    "duration": 267,
    "start_time": "2022-10-04T13:53:49.742Z"
   },
   {
    "duration": 265,
    "start_time": "2022-10-04T13:53:50.010Z"
   },
   {
    "duration": 4,
    "start_time": "2022-10-04T13:53:50.276Z"
   },
   {
    "duration": 18,
    "start_time": "2022-10-04T13:53:50.281Z"
   },
   {
    "duration": 13,
    "start_time": "2022-10-04T13:53:50.309Z"
   },
   {
    "duration": 14,
    "start_time": "2022-10-04T13:53:50.324Z"
   },
   {
    "duration": 8,
    "start_time": "2022-10-04T13:53:50.339Z"
   },
   {
    "duration": 4,
    "start_time": "2022-10-04T13:53:50.349Z"
   },
   {
    "duration": 9,
    "start_time": "2022-10-04T13:53:50.355Z"
   },
   {
    "duration": 4,
    "start_time": "2022-10-04T13:53:50.366Z"
   },
   {
    "duration": 62,
    "start_time": "2023-01-23T10:31:13.835Z"
   },
   {
    "duration": 1258,
    "start_time": "2023-01-23T10:31:21.499Z"
   },
   {
    "duration": 202,
    "start_time": "2023-01-23T10:31:22.760Z"
   },
   {
    "duration": 29,
    "start_time": "2023-01-23T10:31:22.964Z"
   },
   {
    "duration": 16,
    "start_time": "2023-01-23T10:31:22.996Z"
   },
   {
    "duration": 28,
    "start_time": "2023-01-23T10:31:23.013Z"
   },
   {
    "duration": 86,
    "start_time": "2023-01-23T10:31:23.043Z"
   },
   {
    "duration": 22,
    "start_time": "2023-01-23T10:31:23.131Z"
   },
   {
    "duration": 24,
    "start_time": "2023-01-23T10:31:23.155Z"
   },
   {
    "duration": 11,
    "start_time": "2023-01-23T10:31:23.181Z"
   },
   {
    "duration": 52,
    "start_time": "2023-01-23T10:31:23.196Z"
   },
   {
    "duration": 29,
    "start_time": "2023-01-23T10:31:23.250Z"
   },
   {
    "duration": 6,
    "start_time": "2023-01-23T10:31:23.281Z"
   },
   {
    "duration": 28,
    "start_time": "2023-01-23T10:31:23.288Z"
   },
   {
    "duration": 19,
    "start_time": "2023-01-23T10:31:23.317Z"
   },
   {
    "duration": 126,
    "start_time": "2023-01-23T10:31:23.338Z"
   },
   {
    "duration": 204,
    "start_time": "2023-01-23T10:31:23.466Z"
   },
   {
    "duration": 19,
    "start_time": "2023-01-23T10:31:23.671Z"
   },
   {
    "duration": 410,
    "start_time": "2023-01-23T10:31:23.691Z"
   },
   {
    "duration": 5,
    "start_time": "2023-01-23T10:31:24.103Z"
   },
   {
    "duration": 1509,
    "start_time": "2023-01-23T10:31:24.109Z"
   },
   {
    "duration": 35,
    "start_time": "2023-01-23T10:31:25.620Z"
   },
   {
    "duration": 293,
    "start_time": "2023-01-23T10:31:25.656Z"
   },
   {
    "duration": 319,
    "start_time": "2023-01-23T10:31:25.951Z"
   },
   {
    "duration": 12,
    "start_time": "2023-01-23T10:31:26.272Z"
   },
   {
    "duration": 18,
    "start_time": "2023-01-23T10:31:26.286Z"
   },
   {
    "duration": 200,
    "start_time": "2023-01-23T10:31:26.306Z"
   },
   {
    "duration": 210,
    "start_time": "2023-01-23T10:31:26.508Z"
   },
   {
    "duration": 15,
    "start_time": "2023-01-23T10:31:26.722Z"
   },
   {
    "duration": 16,
    "start_time": "2023-01-23T10:31:26.738Z"
   },
   {
    "duration": 24,
    "start_time": "2023-01-23T10:31:26.757Z"
   },
   {
    "duration": 3282,
    "start_time": "2023-01-23T10:31:26.783Z"
   },
   {
    "duration": 12,
    "start_time": "2023-01-23T10:31:30.069Z"
   },
   {
    "duration": 244,
    "start_time": "2023-01-23T10:31:30.083Z"
   },
   {
    "duration": 451,
    "start_time": "2023-01-23T10:31:30.329Z"
   },
   {
    "duration": 378,
    "start_time": "2023-01-23T10:31:30.782Z"
   },
   {
    "duration": 26,
    "start_time": "2023-01-23T10:31:31.162Z"
   },
   {
    "duration": 24,
    "start_time": "2023-01-23T10:31:31.190Z"
   },
   {
    "duration": 57,
    "start_time": "2023-01-23T10:31:31.216Z"
   },
   {
    "duration": 18,
    "start_time": "2023-01-23T10:31:31.275Z"
   },
   {
    "duration": 21,
    "start_time": "2023-01-23T10:31:31.295Z"
   },
   {
    "duration": 72,
    "start_time": "2023-01-23T10:31:31.318Z"
   },
   {
    "duration": 384,
    "start_time": "2023-01-23T10:31:31.392Z"
   },
   {
    "duration": 375,
    "start_time": "2023-01-23T10:31:31.778Z"
   },
   {
    "duration": 349,
    "start_time": "2023-01-23T10:31:32.156Z"
   },
   {
    "duration": 396,
    "start_time": "2023-01-23T10:31:32.507Z"
   },
   {
    "duration": 5,
    "start_time": "2023-01-23T10:31:32.906Z"
   },
   {
    "duration": 43,
    "start_time": "2023-01-23T10:31:32.912Z"
   },
   {
    "duration": 26,
    "start_time": "2023-01-23T10:31:32.957Z"
   },
   {
    "duration": 17,
    "start_time": "2023-01-23T10:31:32.985Z"
   },
   {
    "duration": 32,
    "start_time": "2023-01-23T10:31:33.004Z"
   },
   {
    "duration": 32,
    "start_time": "2023-01-23T10:31:33.042Z"
   },
   {
    "duration": 21,
    "start_time": "2023-01-23T10:31:33.076Z"
   },
   {
    "duration": 11,
    "start_time": "2023-01-23T10:31:33.099Z"
   }
  ],
  "colab": {
   "collapsed_sections": [
    "i0EEGjJqPqXu",
    "WNbErTqJPqXv",
    "Emds8dX7PqXw"
   ],
   "provenance": []
  },
  "kernelspec": {
   "display_name": "Python 3 (ipykernel)",
   "language": "python",
   "name": "python3"
  },
  "language_info": {
   "codemirror_mode": {
    "name": "ipython",
    "version": 3
   },
   "file_extension": ".py",
   "mimetype": "text/x-python",
   "name": "python",
   "nbconvert_exporter": "python",
   "pygments_lexer": "ipython3",
   "version": "3.9.12"
  },
  "toc": {
   "base_numbering": 1,
   "nav_menu": {},
   "number_sections": true,
   "sideBar": true,
   "skip_h1_title": true,
   "title_cell": "Table of Contents",
   "title_sidebar": "Contents",
   "toc_cell": false,
   "toc_position": {
    "height": "calc(100% - 180px)",
    "left": "10px",
    "top": "150px",
    "width": "165px"
   },
   "toc_section_display": true,
   "toc_window_display": true
  }
 },
 "nbformat": 4,
 "nbformat_minor": 1
}
