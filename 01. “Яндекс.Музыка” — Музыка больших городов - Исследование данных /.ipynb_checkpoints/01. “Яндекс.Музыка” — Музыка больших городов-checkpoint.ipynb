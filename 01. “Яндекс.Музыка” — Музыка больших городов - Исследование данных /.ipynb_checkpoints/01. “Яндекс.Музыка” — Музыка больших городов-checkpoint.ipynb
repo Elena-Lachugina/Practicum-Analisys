{
 "cells": [
  {
   "cell_type": "markdown",
   "metadata": {
    "deletable": false,
    "editable": false,
    "id": "E0vqbgi9ay0H"
   },
   "source": [
    "# Яндекс Музыка"
   ]
  },
  {
   "cell_type": "markdown",
   "metadata": {
    "deletable": false,
    "editable": false,
    "id": "VUC88oWjTJw2"
   },
   "source": [
    "Сравнение Москвы и Петербурга окружено мифами. Например:\n",
    " * Москва — мегаполис, подчинённый жёсткому ритму рабочей недели;\n",
    " * Петербург — культурная столица, со своими вкусами.\n",
    "\n",
    "На данных Яндекс Музыки вы сравните поведение пользователей двух столиц.\n",
    "\n",
    "**Цель исследования** — проверьте три гипотезы:\n",
    "1. Активность пользователей зависит от дня недели. Причём в Москве и Петербурге это проявляется по-разному.\n",
    "2. В понедельник утром в Москве преобладают одни жанры, а в Петербурге — другие. Так же и вечером пятницы преобладают разные жанры — в зависимости от города. \n",
    "3. Москва и Петербург предпочитают разные жанры музыки. В Москве чаще слушают поп-музыку, в Петербурге — русский рэп.\n",
    "\n",
    "**Ход исследования**\n",
    "\n",
    "Данные о поведении пользователей вы получите из файла `yandex_music_project.csv`. О качестве данных ничего не известно. Поэтому перед проверкой гипотез понадобится обзор данных. \n",
    "\n",
    "Вы проверите данные на ошибки и оцените их влияние на исследование. Затем, на этапе предобработки вы поищете возможность исправить самые критичные ошибки данных.\n",
    " \n",
    "Таким образом, исследование пройдёт в три этапа:\n",
    " 1. Обзор данных.\n",
    " 2. Предобработка данных.\n",
    " 3. Проверка гипотез.\n",
    "\n"
   ]
  },
  {
   "cell_type": "markdown",
   "metadata": {
    "deletable": false,
    "editable": false,
    "id": "Ml1hmfXC_Zcs"
   },
   "source": [
    "## Обзор данных\n",
    "\n",
    "Составьте первое представление о данных Яндекс Музыки.\n",
    "\n",
    "\n"
   ]
  },
  {
   "cell_type": "markdown",
   "metadata": {
    "deletable": false,
    "editable": false,
    "id": "57eAOGIz_Zcs",
    "tags": [
     "start_task"
    ]
   },
   "source": [
    "**Задание 1**\n",
    "\n",
    "Основной инструмент аналитика — `pandas`. Импортируйте эту библиотеку."
   ]
  },
  {
   "cell_type": "code",
   "execution_count": 2,
   "metadata": {
    "deletable": false,
    "id": "AXN7PHPN_Zcs"
   },
   "outputs": [],
   "source": [
    "# импорт библиотеки pandas\n",
    "import pandas as pd"
   ]
  },
  {
   "cell_type": "markdown",
   "metadata": {
    "deletable": false,
    "editable": false,
    "id": "SG23P8tt_Zcs",
    "tags": [
     "start_task"
    ]
   },
   "source": [
    "**Задание 2**\n",
    "\n",
    "Прочитайте файл `yandex_music_project.csv` из папки `/datasets` и сохраните его в переменной `df`:"
   ]
  },
  {
   "cell_type": "code",
   "execution_count": 3,
   "metadata": {
    "deletable": false,
    "id": "fFVu7vqh_Zct"
   },
   "outputs": [],
   "source": [
    "# чтение файла с данными и сохранение в df\n",
    "df = pd.read_csv('https://code.s3.yandex.net/datasets/yandex_music_project.csv')"
   ]
  },
  {
   "cell_type": "markdown",
   "metadata": {
    "deletable": false,
    "editable": false,
    "id": "rDoOMd3uTqnZ",
    "tags": [
     "start_task"
    ]
   },
   "source": [
    "**Задание 3**\n",
    "\n",
    "\n",
    "Выведите на экран первые десять строк таблицы:"
   ]
  },
  {
   "cell_type": "code",
   "execution_count": 4,
   "metadata": {
    "deletable": false,
    "id": "oWTVX3gW_Zct"
   },
   "outputs": [
    {
     "data": {
      "text/html": [
       "<div>\n",
       "<style scoped>\n",
       "    .dataframe tbody tr th:only-of-type {\n",
       "        vertical-align: middle;\n",
       "    }\n",
       "\n",
       "    .dataframe tbody tr th {\n",
       "        vertical-align: top;\n",
       "    }\n",
       "\n",
       "    .dataframe thead th {\n",
       "        text-align: right;\n",
       "    }\n",
       "</style>\n",
       "<table border=\"1\" class=\"dataframe\">\n",
       "  <thead>\n",
       "    <tr style=\"text-align: right;\">\n",
       "      <th></th>\n",
       "      <th>userID</th>\n",
       "      <th>Track</th>\n",
       "      <th>artist</th>\n",
       "      <th>genre</th>\n",
       "      <th>City</th>\n",
       "      <th>time</th>\n",
       "      <th>Day</th>\n",
       "    </tr>\n",
       "  </thead>\n",
       "  <tbody>\n",
       "    <tr>\n",
       "      <th>0</th>\n",
       "      <td>FFB692EC</td>\n",
       "      <td>Kamigata To Boots</td>\n",
       "      <td>The Mass Missile</td>\n",
       "      <td>rock</td>\n",
       "      <td>Saint-Petersburg</td>\n",
       "      <td>20:28:33</td>\n",
       "      <td>Wednesday</td>\n",
       "    </tr>\n",
       "    <tr>\n",
       "      <th>1</th>\n",
       "      <td>55204538</td>\n",
       "      <td>Delayed Because of Accident</td>\n",
       "      <td>Andreas Rönnberg</td>\n",
       "      <td>rock</td>\n",
       "      <td>Moscow</td>\n",
       "      <td>14:07:09</td>\n",
       "      <td>Friday</td>\n",
       "    </tr>\n",
       "    <tr>\n",
       "      <th>2</th>\n",
       "      <td>20EC38</td>\n",
       "      <td>Funiculì funiculà</td>\n",
       "      <td>Mario Lanza</td>\n",
       "      <td>pop</td>\n",
       "      <td>Saint-Petersburg</td>\n",
       "      <td>20:58:07</td>\n",
       "      <td>Wednesday</td>\n",
       "    </tr>\n",
       "    <tr>\n",
       "      <th>3</th>\n",
       "      <td>A3DD03C9</td>\n",
       "      <td>Dragons in the Sunset</td>\n",
       "      <td>Fire + Ice</td>\n",
       "      <td>folk</td>\n",
       "      <td>Saint-Petersburg</td>\n",
       "      <td>08:37:09</td>\n",
       "      <td>Monday</td>\n",
       "    </tr>\n",
       "    <tr>\n",
       "      <th>4</th>\n",
       "      <td>E2DC1FAE</td>\n",
       "      <td>Soul People</td>\n",
       "      <td>Space Echo</td>\n",
       "      <td>dance</td>\n",
       "      <td>Moscow</td>\n",
       "      <td>08:34:34</td>\n",
       "      <td>Monday</td>\n",
       "    </tr>\n",
       "    <tr>\n",
       "      <th>5</th>\n",
       "      <td>842029A1</td>\n",
       "      <td>Преданная</td>\n",
       "      <td>IMPERVTOR</td>\n",
       "      <td>rusrap</td>\n",
       "      <td>Saint-Petersburg</td>\n",
       "      <td>13:09:41</td>\n",
       "      <td>Friday</td>\n",
       "    </tr>\n",
       "    <tr>\n",
       "      <th>6</th>\n",
       "      <td>4CB90AA5</td>\n",
       "      <td>True</td>\n",
       "      <td>Roman Messer</td>\n",
       "      <td>dance</td>\n",
       "      <td>Moscow</td>\n",
       "      <td>13:00:07</td>\n",
       "      <td>Wednesday</td>\n",
       "    </tr>\n",
       "    <tr>\n",
       "      <th>7</th>\n",
       "      <td>F03E1C1F</td>\n",
       "      <td>Feeling This Way</td>\n",
       "      <td>Polina Griffith</td>\n",
       "      <td>dance</td>\n",
       "      <td>Moscow</td>\n",
       "      <td>20:47:49</td>\n",
       "      <td>Wednesday</td>\n",
       "    </tr>\n",
       "    <tr>\n",
       "      <th>8</th>\n",
       "      <td>8FA1D3BE</td>\n",
       "      <td>И вновь продолжается бой</td>\n",
       "      <td>NaN</td>\n",
       "      <td>ruspop</td>\n",
       "      <td>Moscow</td>\n",
       "      <td>09:17:40</td>\n",
       "      <td>Friday</td>\n",
       "    </tr>\n",
       "    <tr>\n",
       "      <th>9</th>\n",
       "      <td>E772D5C0</td>\n",
       "      <td>Pessimist</td>\n",
       "      <td>NaN</td>\n",
       "      <td>dance</td>\n",
       "      <td>Saint-Petersburg</td>\n",
       "      <td>21:20:49</td>\n",
       "      <td>Wednesday</td>\n",
       "    </tr>\n",
       "  </tbody>\n",
       "</table>\n",
       "</div>"
      ],
      "text/plain": [
       "     userID                        Track            artist   genre  \\\n",
       "0  FFB692EC            Kamigata To Boots  The Mass Missile    rock   \n",
       "1  55204538  Delayed Because of Accident  Andreas Rönnberg    rock   \n",
       "2    20EC38            Funiculì funiculà       Mario Lanza     pop   \n",
       "3  A3DD03C9        Dragons in the Sunset        Fire + Ice    folk   \n",
       "4  E2DC1FAE                  Soul People        Space Echo   dance   \n",
       "5  842029A1                    Преданная         IMPERVTOR  rusrap   \n",
       "6  4CB90AA5                         True      Roman Messer   dance   \n",
       "7  F03E1C1F             Feeling This Way   Polina Griffith   dance   \n",
       "8  8FA1D3BE     И вновь продолжается бой               NaN  ruspop   \n",
       "9  E772D5C0                    Pessimist               NaN   dance   \n",
       "\n",
       "             City        time        Day  \n",
       "0  Saint-Petersburg  20:28:33  Wednesday  \n",
       "1            Moscow  14:07:09     Friday  \n",
       "2  Saint-Petersburg  20:58:07  Wednesday  \n",
       "3  Saint-Petersburg  08:37:09     Monday  \n",
       "4            Moscow  08:34:34     Monday  \n",
       "5  Saint-Petersburg  13:09:41     Friday  \n",
       "6            Moscow  13:00:07  Wednesday  \n",
       "7            Moscow  20:47:49  Wednesday  \n",
       "8            Moscow  09:17:40     Friday  \n",
       "9  Saint-Petersburg  21:20:49  Wednesday  "
      ]
     },
     "execution_count": 4,
     "metadata": {},
     "output_type": "execute_result"
    }
   ],
   "source": [
    "# получение первых 10 строк таблицы df\n",
    "df.head(10)"
   ]
  },
  {
   "cell_type": "markdown",
   "metadata": {
    "deletable": false,
    "editable": false,
    "id": "EO73Kwic_Zct",
    "tags": [
     "start_task"
    ]
   },
   "source": [
    "**Задание 4**\n",
    "\n",
    "\n",
    "Одной командой получить общую информацию о таблице c помощью метода `info()`:"
   ]
  },
  {
   "cell_type": "code",
   "execution_count": 5,
   "metadata": {
    "deletable": false,
    "id": "DSf2kIb-_Zct"
   },
   "outputs": [
    {
     "name": "stdout",
     "output_type": "stream",
     "text": [
      "<class 'pandas.core.frame.DataFrame'>\n",
      "RangeIndex: 65079 entries, 0 to 65078\n",
      "Data columns (total 7 columns):\n",
      " #   Column    Non-Null Count  Dtype \n",
      "---  ------    --------------  ----- \n",
      " 0     userID  65079 non-null  object\n",
      " 1   Track     63848 non-null  object\n",
      " 2   artist    57876 non-null  object\n",
      " 3   genre     63881 non-null  object\n",
      " 4     City    65079 non-null  object\n",
      " 5   time      65079 non-null  object\n",
      " 6   Day       65079 non-null  object\n",
      "dtypes: object(7)\n",
      "memory usage: 3.5+ MB\n"
     ]
    }
   ],
   "source": [
    "# получение общей информации о данных в таблице df\n",
    "df.info()"
   ]
  },
  {
   "cell_type": "markdown",
   "metadata": {
    "deletable": false,
    "editable": false,
    "id": "TaQ2Iwbr_Zct"
   },
   "source": [
    "Итак, в таблице семь столбцов. Тип данных во всех столбцах — `object`.\n",
    "\n",
    "Согласно документации к данным:\n",
    "* `userID` — идентификатор пользователя;\n",
    "* `Track` — название трека;  \n",
    "* `artist` — имя исполнителя;\n",
    "* `genre` — название жанра;\n",
    "* `City` — город пользователя;\n",
    "* `time` — время начала прослушивания;\n",
    "* `Day` — день недели.\n",
    "\n",
    "Количество значений в столбцах различается. Значит, в данных есть пропущенные значения."
   ]
  },
  {
   "cell_type": "markdown",
   "metadata": {
    "deletable": false,
    "editable": false,
    "id": "rAfziTBDmf2h",
    "tags": [
     "start_task"
    ]
   },
   "source": [
    "**Задание 5**\n",
    "\n",
    "**Вопрос со свободной формой ответа**\n",
    "\n",
    "В названиях колонок видны нарушения стиля:\n",
    "* Строчные буквы сочетаются с прописными.\n",
    "* Встречаются пробелы.\n",
    "\n",
    "Какое третье нарушение?"
   ]
  },
  {
   "cell_type": "markdown",
   "metadata": {
    "deletable": false,
    "editable": false,
    "id": "MCB6-dXG_Zct"
   },
   "source": [
    "**Выводы**\n",
    "\n",
    "В каждой строке таблицы — данные о прослушанном треке. Часть колонок описывает саму композицию: название, исполнителя и жанр. Остальные данные рассказывают о пользователе: из какого он города, когда он слушал музыку. \n",
    "\n",
    "Предварительно можно утверждать, что данных достаточно для проверки гипотез. Но встречаются пропуски в данных, а в названиях колонок — расхождения с хорошим стилем.\n",
    "\n",
    "Чтобы двигаться дальше, нужно устранить проблемы в данных."
   ]
  },
  {
   "cell_type": "markdown",
   "metadata": {
    "deletable": false,
    "editable": false,
    "id": "SjYF6Ub9_Zct"
   },
   "source": [
    "## Предобработка данных\n",
    "Исправьте стиль в заголовках столбцов, исключите пропуски. Затем проверьте данные на дубликаты."
   ]
  },
  {
   "cell_type": "markdown",
   "metadata": {
    "deletable": false,
    "editable": false,
    "id": "dIaKXr29_Zct",
    "tags": [
     "start_task"
    ]
   },
   "source": [
    "### Стиль заголовков\n",
    "\n",
    "**Задание 6**\n",
    "\n",
    "Выведите на экран названия столбцов:"
   ]
  },
  {
   "cell_type": "code",
   "execution_count": 7,
   "metadata": {
    "deletable": false,
    "id": "oKOTdF_Q_Zct"
   },
   "outputs": [
    {
     "data": {
      "text/plain": [
       "Index(['  userID', 'Track', 'artist', 'genre', '  City  ', 'time', 'Day'], dtype='object')"
      ]
     },
     "execution_count": 7,
     "metadata": {},
     "output_type": "execute_result"
    }
   ],
   "source": [
    "# перечень названий столбцов таблицы df\n",
    "df.columns"
   ]
  },
  {
   "cell_type": "markdown",
   "metadata": {
    "deletable": false,
    "editable": false,
    "id": "zj5534cv_Zct",
    "tags": [
     "start_task"
    ]
   },
   "source": [
    "**Задание 7**\n",
    "\n",
    "\n",
    "Приведите названия в соответствие с хорошим стилем:\n",
    "* несколько слов в названии запишите в «змеином_регистре»,\n",
    "* все символы сделайте строчными,\n",
    "* устраните пробелы.\n",
    "\n",
    "Для этого переименуйте колонки так:\n",
    "* `'  userID'` → `'user_id'`;\n",
    "* `'Track'` → `'track'`;\n",
    "* `'  City  '` → `'city'`;\n",
    "* `'Day'` → `'day'`."
   ]
  },
  {
   "cell_type": "code",
   "execution_count": 8,
   "metadata": {
    "deletable": false,
    "id": "ISlFqs5y_Zct"
   },
   "outputs": [],
   "source": [
    "# переименование столбцов\n",
    "\n",
    "df = df.rename(\n",
    "    columns={\n",
    "        '  userID': 'user_id',\n",
    "        'Track': 'track',\n",
    "        '  City  ': 'city',\n",
    "        'Day': 'day'\n",
    "    }\n",
    ")"
   ]
  },
  {
   "cell_type": "markdown",
   "metadata": {
    "deletable": false,
    "editable": false,
    "id": "1dqbh00J_Zct",
    "tags": [
     "start_task"
    ]
   },
   "source": [
    "**Задание 8**\n",
    "\n",
    "\n",
    "Проверьте результат. Для этого ещё раз выведите на экран названия столбцов:"
   ]
  },
  {
   "cell_type": "code",
   "execution_count": 9,
   "metadata": {
    "deletable": false,
    "id": "d4NOAmTW_Zct"
   },
   "outputs": [
    {
     "data": {
      "text/plain": [
       "Index(['user_id', 'track', 'artist', 'genre', 'city', 'time', 'day'], dtype='object')"
      ]
     },
     "execution_count": 9,
     "metadata": {},
     "output_type": "execute_result"
    }
   ],
   "source": [
    "# проверка результатов - перечень названий столбцов\n",
    "df.columns"
   ]
  },
  {
   "cell_type": "markdown",
   "metadata": {
    "deletable": false,
    "editable": false,
    "id": "5ISfbcfY_Zct",
    "tags": [
     "start_task"
    ]
   },
   "source": [
    "### Пропуски значений\n",
    "\n",
    "**Задание 9**\n",
    "\n",
    "Сначала посчитайте, сколько в таблице пропущенных значений. Для этого достаточно двух методов `pandas`:"
   ]
  },
  {
   "cell_type": "code",
   "execution_count": 10,
   "metadata": {
    "deletable": false,
    "id": "RskX29qr_Zct"
   },
   "outputs": [
    {
     "data": {
      "text/plain": [
       "user_id       0\n",
       "track      1231\n",
       "artist     7203\n",
       "genre      1198\n",
       "city          0\n",
       "time          0\n",
       "day           0\n",
       "dtype: int64"
      ]
     },
     "execution_count": 10,
     "metadata": {},
     "output_type": "execute_result"
    }
   ],
   "source": [
    "# подсчёт пропусков\n",
    "df.isna().sum()"
   ]
  },
  {
   "cell_type": "markdown",
   "metadata": {
    "deletable": false,
    "editable": false,
    "id": "qubhgnlO_Zct"
   },
   "source": [
    "Не все пропущенные значения влияют на исследование. Так в `track` и `artist` пропуски не важны для вашей работы. Достаточно заменить их явными обозначениями.\n",
    "\n",
    "Но пропуски в `genre` могут помешать сравнению музыкальных вкусов в Москве и Санкт-Петербурге. На практике было бы правильно установить причину пропусков и восстановить данные. Такой возможности нет в учебном проекте. Придётся:\n",
    "* заполнить и эти пропуски явными обозначениями;\n",
    "* оценить, насколько они повредят расчётам. "
   ]
  },
  {
   "cell_type": "markdown",
   "metadata": {
    "deletable": false,
    "editable": false,
    "id": "fSv2laPA_Zct",
    "tags": [
     "start_task"
    ]
   },
   "source": [
    "**Задание 10**\n",
    "\n",
    "Замените пропущенные значения в столбцах `track`, `artist` и `genre` на строку `'unknown'`. Для этого создайте список `columns_to_replace`, переберите его элементы циклом `for` и для каждого столбца выполните замену пропущенных значений:"
   ]
  },
  {
   "cell_type": "code",
   "execution_count": 11,
   "metadata": {
    "deletable": false,
    "id": "KplB5qWs_Zct"
   },
   "outputs": [],
   "source": [
    "# перебор названий столбцов в цикле и замена пропущенных значений на 'unknown'\n",
    "columns_to_replace =['track', 'artist', 'genre']\n",
    "for i in columns_to_replace:\n",
    "    df[i] = df[i].fillna('unknown')"
   ]
  },
  {
   "cell_type": "markdown",
   "metadata": {
    "deletable": false,
    "editable": false,
    "id": "Ilsm-MZo_Zct",
    "tags": [
     "start_task"
    ]
   },
   "source": [
    "**Задание 11**\n",
    "\n",
    "Убедитесь, что в таблице не осталось пропусков. Для этого ещё раз посчитайте пропущенные значения."
   ]
  },
  {
   "cell_type": "code",
   "execution_count": 12,
   "metadata": {
    "deletable": false,
    "id": "Tq4nYRX4_Zct"
   },
   "outputs": [
    {
     "data": {
      "text/plain": [
       "user_id    0\n",
       "track      0\n",
       "artist     0\n",
       "genre      0\n",
       "city       0\n",
       "time       0\n",
       "day        0\n",
       "dtype: int64"
      ]
     },
     "execution_count": 12,
     "metadata": {},
     "output_type": "execute_result"
    }
   ],
   "source": [
    "# подсчёт пропусков\n",
    "df.isna().sum()"
   ]
  },
  {
   "cell_type": "markdown",
   "metadata": {
    "deletable": false,
    "editable": false,
    "id": "BWKRtBJ3_Zct",
    "tags": [
     "start_task"
    ]
   },
   "source": [
    "### Дубликаты\n",
    "\n",
    "**Задание 12**\n",
    "\n",
    "Посчитайте явные дубликаты в таблице одной командой:"
   ]
  },
  {
   "cell_type": "code",
   "execution_count": 13,
   "metadata": {
    "deletable": false,
    "id": "36eES_S0_Zct"
   },
   "outputs": [
    {
     "data": {
      "text/plain": [
       "3826"
      ]
     },
     "execution_count": 13,
     "metadata": {},
     "output_type": "execute_result"
    }
   ],
   "source": [
    "# подсчёт явных дубликатов\n",
    "df.duplicated().sum()"
   ]
  },
  {
   "cell_type": "markdown",
   "metadata": {
    "deletable": false,
    "editable": false,
    "id": "Ot25h6XR_Zct",
    "tags": [
     "start_task"
    ]
   },
   "source": [
    "**Задание 13**\n",
    "\n",
    "Вызовите специальный метод `pandas`, чтобы удалить явные дубликаты:"
   ]
  },
  {
   "cell_type": "code",
   "execution_count": 14,
   "metadata": {
    "deletable": false,
    "id": "exFHq6tt_Zct"
   },
   "outputs": [],
   "source": [
    "# удаление явных дубликатов\n",
    "df = df.drop_duplicates().reset_index(drop=True)"
   ]
  },
  {
   "cell_type": "markdown",
   "metadata": {
    "deletable": false,
    "editable": false,
    "id": "Im2YwBEG_Zct",
    "tags": [
     "start_task"
    ]
   },
   "source": [
    "**Задание 14**\n",
    "\n",
    "Ещё раз посчитайте явные дубликаты в таблице — убедитесь, что полностью от них избавились:"
   ]
  },
  {
   "cell_type": "code",
   "execution_count": 15,
   "metadata": {
    "deletable": false,
    "id": "-8PuNWQ0_Zct"
   },
   "outputs": [
    {
     "data": {
      "text/plain": [
       "0"
      ]
     },
     "execution_count": 15,
     "metadata": {},
     "output_type": "execute_result"
    }
   ],
   "source": [
    "# проверка на отсутствие дубликатов\n",
    "df.duplicated().sum()"
   ]
  },
  {
   "cell_type": "markdown",
   "metadata": {
    "deletable": false,
    "editable": false,
    "id": "QlFBsxAr_Zct"
   },
   "source": [
    "Теперь избавьтесь от неявных дубликатов в колонке `genre`. Например, название одного и того же жанра может быть записано немного по-разному. Такие ошибки тоже повлияют на результат исследования."
   ]
  },
  {
   "cell_type": "markdown",
   "metadata": {
    "deletable": false,
    "editable": false,
    "id": "eSjWwsOh_Zct",
    "tags": [
     "start_task"
    ]
   },
   "source": [
    "**Задание 15**\n",
    "\n",
    "Выведите на экран список уникальных названий жанров, отсортированный в алфавитном порядке. Для этого:\n",
    "1. извлеките нужный столбец датафрейма; \n",
    "2. примените к нему метод сортировки;\n",
    "3. для отсортированного столбца вызовите метод, который вернёт уникальные значения из столбца."
   ]
  },
  {
   "cell_type": "code",
   "execution_count": 16,
   "metadata": {
    "deletable": false,
    "id": "JIUcqzZN_Zct"
   },
   "outputs": [
    {
     "data": {
      "text/plain": [
       "array(['acid', 'acoustic', 'action', 'adult', 'africa', 'afrikaans',\n",
       "       'alternative', 'alternativepunk', 'ambient', 'americana',\n",
       "       'animated', 'anime', 'arabesk', 'arabic', 'arena',\n",
       "       'argentinetango', 'art', 'audiobook', 'author', 'avantgarde',\n",
       "       'axé', 'baile', 'balkan', 'beats', 'bigroom', 'black', 'bluegrass',\n",
       "       'blues', 'bollywood', 'bossa', 'brazilian', 'breakbeat', 'breaks',\n",
       "       'broadway', 'cantautori', 'cantopop', 'canzone', 'caribbean',\n",
       "       'caucasian', 'celtic', 'chamber', 'chanson', 'children', 'chill',\n",
       "       'chinese', 'choral', 'christian', 'christmas', 'classical',\n",
       "       'classicmetal', 'club', 'colombian', 'comedy', 'conjazz',\n",
       "       'contemporary', 'country', 'cuban', 'dance', 'dancehall',\n",
       "       'dancepop', 'dark', 'death', 'deep', 'deutschrock', 'deutschspr',\n",
       "       'dirty', 'disco', 'dnb', 'documentary', 'downbeat', 'downtempo',\n",
       "       'drum', 'dub', 'dubstep', 'eastern', 'easy', 'electronic',\n",
       "       'electropop', 'emo', 'entehno', 'epicmetal', 'estrada', 'ethnic',\n",
       "       'eurofolk', 'european', 'experimental', 'extrememetal', 'fado',\n",
       "       'fairytail', 'film', 'fitness', 'flamenco', 'folk', 'folklore',\n",
       "       'folkmetal', 'folkrock', 'folktronica', 'forró', 'frankreich',\n",
       "       'französisch', 'french', 'funk', 'future', 'gangsta', 'garage',\n",
       "       'german', 'ghazal', 'gitarre', 'glitch', 'gospel', 'gothic',\n",
       "       'grime', 'grunge', 'gypsy', 'handsup', \"hard'n'heavy\", 'hardcore',\n",
       "       'hardstyle', 'hardtechno', 'hip', 'hip-hop', 'hiphop',\n",
       "       'historisch', 'holiday', 'hop', 'horror', 'house', 'hymn', 'idm',\n",
       "       'independent', 'indian', 'indie', 'indipop', 'industrial',\n",
       "       'inspirational', 'instrumental', 'international', 'irish', 'jam',\n",
       "       'japanese', 'jazz', 'jewish', 'jpop', 'jungle', 'k-pop',\n",
       "       'karadeniz', 'karaoke', 'kayokyoku', 'korean', 'laiko', 'latin',\n",
       "       'latino', 'leftfield', 'local', 'lounge', 'loungeelectronic',\n",
       "       'lovers', 'malaysian', 'mandopop', 'marschmusik', 'meditative',\n",
       "       'mediterranean', 'melodic', 'metal', 'metalcore', 'mexican',\n",
       "       'middle', 'minimal', 'miscellaneous', 'modern', 'mood', 'mpb',\n",
       "       'muslim', 'native', 'neoklassik', 'neue', 'new', 'newage',\n",
       "       'newwave', 'nu', 'nujazz', 'numetal', 'oceania', 'old', 'opera',\n",
       "       'orchestral', 'other', 'piano', 'podcasts', 'pop', 'popdance',\n",
       "       'popelectronic', 'popeurodance', 'poprussian', 'post',\n",
       "       'posthardcore', 'postrock', 'power', 'progmetal', 'progressive',\n",
       "       'psychedelic', 'punjabi', 'punk', 'quebecois', 'ragga', 'ram',\n",
       "       'rancheras', 'rap', 'rave', 'reggae', 'reggaeton', 'regional',\n",
       "       'relax', 'religious', 'retro', 'rhythm', 'rnb', 'rnr', 'rock',\n",
       "       'rockabilly', 'rockalternative', 'rockindie', 'rockother',\n",
       "       'romance', 'roots', 'ruspop', 'rusrap', 'rusrock', 'russian',\n",
       "       'salsa', 'samba', 'scenic', 'schlager', 'self', 'sertanejo',\n",
       "       'shanson', 'shoegazing', 'showtunes', 'singer', 'ska', 'skarock',\n",
       "       'slow', 'smooth', 'soft', 'soul', 'soulful', 'sound', 'soundtrack',\n",
       "       'southern', 'specialty', 'speech', 'spiritual', 'sport',\n",
       "       'stonerrock', 'surf', 'swing', 'synthpop', 'synthrock',\n",
       "       'sängerportrait', 'tango', 'tanzorchester', 'taraftar', 'tatar',\n",
       "       'tech', 'techno', 'teen', 'thrash', 'top', 'traditional',\n",
       "       'tradjazz', 'trance', 'tribal', 'trip', 'triphop', 'tropical',\n",
       "       'türk', 'türkçe', 'ukrrock', 'unknown', 'urban', 'uzbek',\n",
       "       'variété', 'vi', 'videogame', 'vocal', 'western', 'world',\n",
       "       'worldbeat', 'ïîï', 'электроника'], dtype=object)"
      ]
     },
     "execution_count": 16,
     "metadata": {},
     "output_type": "execute_result"
    }
   ],
   "source": [
    "# Просмотр уникальных названий жанров\n",
    "genre_unique = df['genre'].sort_values().unique()\n",
    "genre_unique\n"
   ]
  },
  {
   "cell_type": "markdown",
   "metadata": {
    "deletable": false,
    "editable": false,
    "id": "qej-Qmuo_Zct",
    "tags": [
     "start_task"
    ]
   },
   "source": [
    "**Задание 16**\n",
    "\n",
    "Просмотрите список и найдите неявные дубликаты названия `hiphop`. Это могут быть названия с ошибками или альтернативные названия того же жанра.\n",
    "\n",
    "Вы увидите следующие неявные дубликаты:\n",
    "* *hip*,\n",
    "* *hop*,\n",
    "* *hip-hop*.\n",
    "\n",
    "Чтобы очистить от них таблицу используйте метод `replace()` с двумя аргументами: списком строк-дубликатов (включащий *hip*, *hop* и *hip-hop*) и строкой с правильным значением. Вам нужно исправить колонку `genre` в таблице `df`: заменить каждое значение из списка дубликатов на верное. Вместо `hip`, `hop` и `hip-hop` в таблице должно быть значение `hiphop`:"
   ]
  },
  {
   "cell_type": "code",
   "execution_count": 17,
   "metadata": {
    "deletable": false,
    "id": "ErNDkmns_Zct"
   },
   "outputs": [],
   "source": [
    "# Устранение неявных дубликатов\n",
    "wrong =['hip', 'hop', 'hip-hop']\n",
    "genre_hiphop = 'hiphop'\n",
    "df['genre'] = df['genre'].replace(wrong, genre_hiphop)"
   ]
  },
  {
   "cell_type": "markdown",
   "metadata": {
    "deletable": false,
    "editable": false,
    "id": "zQKF16_RG15m",
    "tags": [
     "start_task"
    ]
   },
   "source": [
    "**Задание 17**\n",
    "\n",
    "Проверьте, что заменили неправильные названия:\n",
    "\n",
    "*   hip,\n",
    "*   hop,\n",
    "*   hip-hop.\n",
    "\n",
    "Выведите отсортированный список уникальных значений столбца `genre`:"
   ]
  },
  {
   "cell_type": "code",
   "execution_count": 18,
   "metadata": {
    "deletable": false,
    "id": "wvixALnFG15m"
   },
   "outputs": [
    {
     "data": {
      "text/plain": [
       "array(['acid', 'acoustic', 'action', 'adult', 'africa', 'afrikaans',\n",
       "       'alternative', 'alternativepunk', 'ambient', 'americana',\n",
       "       'animated', 'anime', 'arabesk', 'arabic', 'arena',\n",
       "       'argentinetango', 'art', 'audiobook', 'author', 'avantgarde',\n",
       "       'axé', 'baile', 'balkan', 'beats', 'bigroom', 'black', 'bluegrass',\n",
       "       'blues', 'bollywood', 'bossa', 'brazilian', 'breakbeat', 'breaks',\n",
       "       'broadway', 'cantautori', 'cantopop', 'canzone', 'caribbean',\n",
       "       'caucasian', 'celtic', 'chamber', 'chanson', 'children', 'chill',\n",
       "       'chinese', 'choral', 'christian', 'christmas', 'classical',\n",
       "       'classicmetal', 'club', 'colombian', 'comedy', 'conjazz',\n",
       "       'contemporary', 'country', 'cuban', 'dance', 'dancehall',\n",
       "       'dancepop', 'dark', 'death', 'deep', 'deutschrock', 'deutschspr',\n",
       "       'dirty', 'disco', 'dnb', 'documentary', 'downbeat', 'downtempo',\n",
       "       'drum', 'dub', 'dubstep', 'eastern', 'easy', 'electronic',\n",
       "       'electropop', 'emo', 'entehno', 'epicmetal', 'estrada', 'ethnic',\n",
       "       'eurofolk', 'european', 'experimental', 'extrememetal', 'fado',\n",
       "       'fairytail', 'film', 'fitness', 'flamenco', 'folk', 'folklore',\n",
       "       'folkmetal', 'folkrock', 'folktronica', 'forró', 'frankreich',\n",
       "       'französisch', 'french', 'funk', 'future', 'gangsta', 'garage',\n",
       "       'german', 'ghazal', 'gitarre', 'glitch', 'gospel', 'gothic',\n",
       "       'grime', 'grunge', 'gypsy', 'handsup', \"hard'n'heavy\", 'hardcore',\n",
       "       'hardstyle', 'hardtechno', 'hiphop', 'historisch', 'holiday',\n",
       "       'horror', 'house', 'hymn', 'idm', 'independent', 'indian', 'indie',\n",
       "       'indipop', 'industrial', 'inspirational', 'instrumental',\n",
       "       'international', 'irish', 'jam', 'japanese', 'jazz', 'jewish',\n",
       "       'jpop', 'jungle', 'k-pop', 'karadeniz', 'karaoke', 'kayokyoku',\n",
       "       'korean', 'laiko', 'latin', 'latino', 'leftfield', 'local',\n",
       "       'lounge', 'loungeelectronic', 'lovers', 'malaysian', 'mandopop',\n",
       "       'marschmusik', 'meditative', 'mediterranean', 'melodic', 'metal',\n",
       "       'metalcore', 'mexican', 'middle', 'minimal', 'miscellaneous',\n",
       "       'modern', 'mood', 'mpb', 'muslim', 'native', 'neoklassik', 'neue',\n",
       "       'new', 'newage', 'newwave', 'nu', 'nujazz', 'numetal', 'oceania',\n",
       "       'old', 'opera', 'orchestral', 'other', 'piano', 'podcasts', 'pop',\n",
       "       'popdance', 'popelectronic', 'popeurodance', 'poprussian', 'post',\n",
       "       'posthardcore', 'postrock', 'power', 'progmetal', 'progressive',\n",
       "       'psychedelic', 'punjabi', 'punk', 'quebecois', 'ragga', 'ram',\n",
       "       'rancheras', 'rap', 'rave', 'reggae', 'reggaeton', 'regional',\n",
       "       'relax', 'religious', 'retro', 'rhythm', 'rnb', 'rnr', 'rock',\n",
       "       'rockabilly', 'rockalternative', 'rockindie', 'rockother',\n",
       "       'romance', 'roots', 'ruspop', 'rusrap', 'rusrock', 'russian',\n",
       "       'salsa', 'samba', 'scenic', 'schlager', 'self', 'sertanejo',\n",
       "       'shanson', 'shoegazing', 'showtunes', 'singer', 'ska', 'skarock',\n",
       "       'slow', 'smooth', 'soft', 'soul', 'soulful', 'sound', 'soundtrack',\n",
       "       'southern', 'specialty', 'speech', 'spiritual', 'sport',\n",
       "       'stonerrock', 'surf', 'swing', 'synthpop', 'synthrock',\n",
       "       'sängerportrait', 'tango', 'tanzorchester', 'taraftar', 'tatar',\n",
       "       'tech', 'techno', 'teen', 'thrash', 'top', 'traditional',\n",
       "       'tradjazz', 'trance', 'tribal', 'trip', 'triphop', 'tropical',\n",
       "       'türk', 'türkçe', 'ukrrock', 'unknown', 'urban', 'uzbek',\n",
       "       'variété', 'vi', 'videogame', 'vocal', 'western', 'world',\n",
       "       'worldbeat', 'ïîï', 'электроника'], dtype=object)"
      ]
     },
     "execution_count": 18,
     "metadata": {},
     "output_type": "execute_result"
    }
   ],
   "source": [
    "# Проверка на неявные дубликаты\n",
    "genre_unique = df['genre'].sort_values().unique()\n",
    "genre_unique"
   ]
  },
  {
   "cell_type": "markdown",
   "metadata": {
    "deletable": false,
    "editable": false,
    "id": "jz6a9-7HQUDd"
   },
   "source": [
    "**Выводы**\n",
    "\n",
    "Предобработка обнаружила три проблемы в данных:\n",
    "\n",
    "- нарушения в стиле заголовков,\n",
    "- пропущенные значения,\n",
    "- дубликаты — явные и неявные.\n",
    "\n",
    "Вы исправили заголовки, чтобы упростить работу с таблицей. Без дубликатов исследование станет более точным.\n",
    "\n",
    "Пропущенные значения вы заменили на `'unknown'`. Ещё предстоит увидеть, не повредят ли исследованию пропуски в колонке `genre`.\n",
    "\n",
    "Теперь можно перейти к проверке гипотез. "
   ]
  },
  {
   "cell_type": "markdown",
   "metadata": {
    "deletable": false,
    "editable": false,
    "id": "WttZHXH0SqKk"
   },
   "source": [
    "## Проверка гипотез"
   ]
  },
  {
   "cell_type": "markdown",
   "metadata": {
    "deletable": false,
    "editable": false,
    "id": "Im936VVi_Zcu"
   },
   "source": [
    "### Сравнение поведения пользователей двух столиц"
   ]
  },
  {
   "cell_type": "markdown",
   "metadata": {
    "deletable": false,
    "editable": false,
    "id": "nwt_MuaL_Zcu"
   },
   "source": [
    "Первая гипотеза утверждает, что пользователи по-разному слушают музыку в Москве и Санкт-Петербурге. Проверьте это предположение по данным о трёх днях недели — понедельнике, среде и пятнице. Для этого:\n",
    "\n",
    "* Разделите пользователей Москвы и Санкт-Петербурга.\n",
    "* Сравните, сколько треков послушала каждая группа пользователей в понедельник, среду и пятницу.\n"
   ]
  },
  {
   "cell_type": "markdown",
   "metadata": {
    "deletable": false,
    "editable": false,
    "id": "8Dw_YMmT_Zcu",
    "tags": [
     "start_task"
    ]
   },
   "source": [
    "**Задание 18**\n",
    "\n",
    "Для тренировки сначала выполните каждый из расчётов по отдельности. \n",
    "\n",
    "Оцените активность пользователей в каждом городе. Сгруппируйте данные по городу и посчитайте прослушивания в каждой группе.\n",
    "\n"
   ]
  },
  {
   "cell_type": "code",
   "execution_count": 19,
   "metadata": {
    "deletable": false,
    "id": "0_Qs96oh_Zcu"
   },
   "outputs": [
    {
     "data": {
      "text/plain": [
       "city\n",
       "Moscow              42741\n",
       "Saint-Petersburg    18512\n",
       "Name: user_id, dtype: int64"
      ]
     },
     "execution_count": 19,
     "metadata": {},
     "output_type": "execute_result"
    }
   ],
   "source": [
    "# Подсчёт прослушиваний в каждом городе\n",
    "col = df.groupby('city')['user_id'].count()\n",
    "col"
   ]
  },
  {
   "cell_type": "markdown",
   "metadata": {
    "deletable": false,
    "editable": false,
    "id": "dzli3w8o_Zcu",
    "tags": [
     "start_task"
    ]
   },
   "source": [
    "В Москве прослушиваний больше, чем в Петербурге. Из этого не следует, что московские пользователи чаще слушают музыку. Просто самих пользователей в Москве больше.\n",
    "\n",
    "**Задание 19**\n",
    "\n",
    "Теперь сгруппируйте данные по дню недели и посчитайте прослушивания в понедельник, среду и пятницу. Учтите, что в данных есть информация о прослушиваниях только за эти дни.\n"
   ]
  },
  {
   "cell_type": "code",
   "execution_count": 20,
   "metadata": {
    "deletable": false,
    "id": "uZMKjiJz_Zcu"
   },
   "outputs": [
    {
     "data": {
      "text/plain": [
       "day\n",
       "Friday       21840\n",
       "Monday       21354\n",
       "Wednesday    18059\n",
       "Name: city, dtype: int64"
      ]
     },
     "execution_count": 20,
     "metadata": {},
     "output_type": "execute_result"
    }
   ],
   "source": [
    "# Подсчёт прослушиваний в каждый из трёх дней\n",
    "col_day = df.groupby('day')['city'].count()\n",
    "col_day"
   ]
  },
  {
   "cell_type": "markdown",
   "metadata": {
    "deletable": false,
    "editable": false,
    "id": "cC2tNrlL_Zcu"
   },
   "source": [
    "В среднем пользователи из двух городов менее активны по средам. Но картина может измениться, если рассмотреть каждый город в отдельности."
   ]
  },
  {
   "cell_type": "markdown",
   "metadata": {
    "deletable": false,
    "editable": false,
    "id": "POzs8bGa_Zcu",
    "tags": [
     "start_task"
    ]
   },
   "source": [
    "**Задание 20**\n",
    "\n",
    "\n",
    "Вы видели, как работает группировка по городу и по дням недели. Теперь напишите функцию, которая объединит два эти расчёта.\n",
    "\n",
    "Создайте функцию `number_tracks()`, которая посчитает прослушивания для заданного дня и города. Ей понадобятся два параметра:\n",
    "* день недели,\n",
    "* название города.\n",
    "\n",
    "В функции сохраните в переменную строки исходной таблицы, у которых значение:\n",
    "  * в колонке `day` равно параметру `day`,\n",
    "  * в колонке `city` равно параметру `city`.\n",
    "\n",
    "Для этого примените последовательную фильтрацию с логической индексацией (или сложные логические выражения в одну строку, если вы уже знакомы с ними).\n",
    "\n",
    "Затем посчитайте значения в столбце `user_id` получившейся таблицы. Результат сохраните в новую переменную. Верните эту переменную из функции."
   ]
  },
  {
   "cell_type": "code",
   "execution_count": 25,
   "metadata": {
    "deletable": false,
    "id": "Nz3GdQB1_Zcu"
   },
   "outputs": [
    {
     "data": {
      "text/plain": [
       "15945"
      ]
     },
     "execution_count": 25,
     "metadata": {},
     "output_type": "execute_result"
    }
   ],
   "source": [
    "def number_tracks(day,city):\n",
    "    track_list = df[(df['day'] == day)&(df['city'] == city)]\n",
    "    track_list_count = track_list['user_id'].count()\n",
    "    return track_list_count\n",
    "number_tracks('Friday', 'Moscow')"
   ]
  },
  {
   "cell_type": "markdown",
   "metadata": {
    "deletable": false,
    "editable": false,
    "id": "ytf7xFrFJQ2r",
    "tags": [
     "start_task"
    ]
   },
   "source": [
    "**Задание 21**\n",
    "\n",
    "Вызовите `number_tracks()` шесть раз, меняя значение параметров — так, чтобы получить данные для каждого города в каждый из трёх дней."
   ]
  },
  {
   "cell_type": "code",
   "execution_count": 26,
   "metadata": {
    "deletable": false,
    "id": "rJcRATNQ_Zcu"
   },
   "outputs": [
    {
     "name": "stdout",
     "output_type": "stream",
     "text": [
      "Количество прослушиваний в Москве по понедельникам 15740\n"
     ]
    }
   ],
   "source": [
    "print(f\"Количество прослушиваний в Москве по понедельникам {number_tracks('Monday', 'Moscow')}\")"
   ]
  },
  {
   "cell_type": "code",
   "execution_count": 28,
   "metadata": {
    "deletable": false,
    "id": "hq_ncZ5T_Zcu"
   },
   "outputs": [
    {
     "name": "stdout",
     "output_type": "stream",
     "text": [
      "Количество прослушиваний в Санкт-Петербурге по понедельникам 5614\n"
     ]
    }
   ],
   "source": [
    "print(f\"Количество прослушиваний в Санкт-Петербурге по понедельникам {number_tracks('Monday', 'Saint-Petersburg')}\")"
   ]
  },
  {
   "cell_type": "code",
   "execution_count": 29,
   "metadata": {
    "deletable": false,
    "id": "_NTy2VPU_Zcu"
   },
   "outputs": [
    {
     "name": "stdout",
     "output_type": "stream",
     "text": [
      "Количество прослушиваний в Москве по средам 11056\n"
     ]
    }
   ],
   "source": [
    "print(f\"Количество прослушиваний в Москве по средам {number_tracks('Wednesday', 'Moscow')}\")"
   ]
  },
  {
   "cell_type": "code",
   "execution_count": 30,
   "metadata": {
    "deletable": false,
    "id": "j2y3TAwo_Zcu"
   },
   "outputs": [
    {
     "name": "stdout",
     "output_type": "stream",
     "text": [
      "Количество прослушиваний в Санкт-Петербурге по средам 7003\n"
     ]
    }
   ],
   "source": [
    "print(f\"Количество прослушиваний в Санкт-Петербурге по средам {number_tracks('Wednesday', 'Saint-Petersburg')}\")"
   ]
  },
  {
   "cell_type": "code",
   "execution_count": 31,
   "metadata": {
    "deletable": false,
    "id": "vYDw5u_K_Zcu"
   },
   "outputs": [
    {
     "name": "stdout",
     "output_type": "stream",
     "text": [
      "Количество прослушиваний в Москве по пятницам 15945\n"
     ]
    }
   ],
   "source": [
    "print(f\"Количество прослушиваний в Москве по пятницам {number_tracks('Friday', 'Moscow')}\")"
   ]
  },
  {
   "cell_type": "code",
   "execution_count": 32,
   "metadata": {
    "deletable": false,
    "id": "8_yzFtW3_Zcu"
   },
   "outputs": [
    {
     "name": "stdout",
     "output_type": "stream",
     "text": [
      "Количество прослушиваний в Санкт-Петербурге по пятницам 5895\n"
     ]
    }
   ],
   "source": [
    "print(f\"Количество прослушиваний в Санкт-Петербурге по пятницам {number_tracks('Friday', 'Saint-Petersburg')}\")"
   ]
  },
  {
   "cell_type": "markdown",
   "metadata": {
    "deletable": false,
    "editable": false,
    "id": "7QXffbO-_Zcu",
    "tags": [
     "start_task"
    ]
   },
   "source": [
    "**Задание 22**\n",
    "\n",
    "Создайте c помощью конструктора `pd.DataFrame` таблицу, где\n",
    "* названия колонок — `['city', 'monday', 'wednesday', 'friday']`;\n",
    "* данные — результаты, которые вы получили с помощью `number_tracks`."
   ]
  },
  {
   "cell_type": "code",
   "execution_count": 33,
   "metadata": {
    "deletable": false,
    "id": "APAcLpOr_Zcu"
   },
   "outputs": [
    {
     "data": {
      "text/html": [
       "<div>\n",
       "<style scoped>\n",
       "    .dataframe tbody tr th:only-of-type {\n",
       "        vertical-align: middle;\n",
       "    }\n",
       "\n",
       "    .dataframe tbody tr th {\n",
       "        vertical-align: top;\n",
       "    }\n",
       "\n",
       "    .dataframe thead th {\n",
       "        text-align: right;\n",
       "    }\n",
       "</style>\n",
       "<table border=\"1\" class=\"dataframe\">\n",
       "  <thead>\n",
       "    <tr style=\"text-align: right;\">\n",
       "      <th></th>\n",
       "      <th>Город</th>\n",
       "      <th>Понедельник</th>\n",
       "      <th>Среда</th>\n",
       "      <th>Пятница</th>\n",
       "    </tr>\n",
       "  </thead>\n",
       "  <tbody>\n",
       "    <tr>\n",
       "      <th>0</th>\n",
       "      <td>Москва</td>\n",
       "      <td>15740</td>\n",
       "      <td>11056</td>\n",
       "      <td>15945</td>\n",
       "    </tr>\n",
       "    <tr>\n",
       "      <th>1</th>\n",
       "      <td>Санкт-Петербург</td>\n",
       "      <td>5614</td>\n",
       "      <td>7003</td>\n",
       "      <td>5895</td>\n",
       "    </tr>\n",
       "  </tbody>\n",
       "</table>\n",
       "</div>"
      ],
      "text/plain": [
       "             Город  Понедельник  Среда  Пятница\n",
       "0           Москва        15740  11056    15945\n",
       "1  Санкт-Петербург         5614   7003     5895"
      ]
     },
     "execution_count": 33,
     "metadata": {},
     "output_type": "execute_result"
    }
   ],
   "source": [
    "# Таблица с результатами\n",
    "\n",
    "info = pd.DataFrame(data=[['Москва', 15740, 11056, 15945], ['Санкт-Петербург', 5614, 7003, 5895]], columns=['Город', 'Понедельник', 'Среда', 'Пятница'])\n",
    "info"
   ]
  },
  {
   "cell_type": "markdown",
   "metadata": {
    "deletable": false,
    "editable": false,
    "id": "-EgPIHYu_Zcu"
   },
   "source": [
    "**Выводы**\n",
    "\n",
    "Данные показывают разницу поведения пользователей:\n",
    "\n",
    "- В Москве пик прослушиваний приходится на понедельник и пятницу, а в среду заметен спад.\n",
    "- В Петербурге, наоборот, больше слушают музыку по средам. Активность в понедельник и пятницу здесь почти в равной мере уступает среде.\n",
    "\n",
    "Значит, данные говорят в пользу первой гипотезы."
   ]
  },
  {
   "cell_type": "markdown",
   "metadata": {
    "deletable": false,
    "editable": false,
    "id": "atZAxtq4_Zcu"
   },
   "source": [
    "### Музыка в начале и в конце недели"
   ]
  },
  {
   "cell_type": "markdown",
   "metadata": {
    "deletable": false,
    "editable": false,
    "id": "eXrQqXFH_Zcu"
   },
   "source": [
    "Согласно второй гипотезе, утром в понедельник в Москве преобладают одни жанры, а в Петербурге — другие. Так же и вечером пятницы преобладают разные жанры — в зависимости от города."
   ]
  },
  {
   "cell_type": "markdown",
   "metadata": {
    "deletable": false,
    "editable": false,
    "id": "S8UcW6Hw_Zcu",
    "tags": [
     "start_task"
    ]
   },
   "source": [
    "**Задание 23**\n",
    "\n",
    "Сохраните таблицы с данными в две переменные:\n",
    "* по Москве — в `moscow_general`;\n",
    "* по Санкт-Петербургу — в `spb_general`."
   ]
  },
  {
   "cell_type": "code",
   "execution_count": 34,
   "metadata": {
    "deletable": false,
    "id": "qeaFfM_P_Zcu"
   },
   "outputs": [],
   "source": [
    "moscow_general = df[(df['city']) == 'Moscow']\n",
    "# для которых значение в столбце 'city' равно 'Moscow'\n"
   ]
  },
  {
   "cell_type": "code",
   "execution_count": 35,
   "metadata": {
    "deletable": false,
    "id": "ORaVRKto_Zcu"
   },
   "outputs": [],
   "source": [
    "spb_general = df[(df['city']) == 'Saint-Petersburg'] \n",
    "# для которых значение в столбце 'city' равно ''\n"
   ]
  },
  {
   "cell_type": "markdown",
   "metadata": {
    "deletable": false,
    "editable": false,
    "id": "MEJV-CX2_Zcu",
    "tags": [
     "start_task"
    ]
   },
   "source": [
    "**Задание 24**\n",
    "\n",
    "Создайте функцию `genre_weekday()` с четырьмя параметрами:\n",
    "* таблица (датафрейм) с данными,\n",
    "* день недели,\n",
    "* начальная временная метка в формате 'hh:mm', \n",
    "* последняя временная метка в формате 'hh:mm'.\n",
    "\n",
    "Функция должна вернуть информацию о топ-10 жанров тех треков, которые прослушивали в указанный день, в промежутке между двумя отметками времени."
   ]
  },
  {
   "cell_type": "code",
   "execution_count": 36,
   "metadata": {
    "deletable": false,
    "id": "laJT9BYl_Zcu"
   },
   "outputs": [],
   "source": [
    "def genre_weekday(df, day, time1, time2):\n",
    "    genre_df = df[df['day'] == day]\n",
    "    genre_df = genre_df[genre_df['time'] < time2]\n",
    "    genre_df = genre_df[genre_df['time'] > time1]\n",
    "    genre_df_grouped = genre_df.groupby('genre')['genre'].count()\n",
    "    genre_df_sorted = genre_df_grouped.sort_values(ascending=False)\n",
    "    return genre_df_sorted[:10]\n"
   ]
  },
  {
   "cell_type": "markdown",
   "metadata": {
    "deletable": false,
    "editable": false,
    "id": "la2s2_PF_Zcu",
    "tags": [
     "start_task"
    ]
   },
   "source": [
    "**Задание 25**\n",
    "\n",
    "\n",
    "Cравните результаты функции `genre_weekday()` для Москвы и Санкт-Петербурга в понедельник утром (с 7:00 до 11:00) и в пятницу вечером (с 17:00 до 23:00):"
   ]
  },
  {
   "cell_type": "code",
   "execution_count": 37,
   "metadata": {
    "deletable": false,
    "id": "yz7itPUQ_Zcu"
   },
   "outputs": [
    {
     "data": {
      "text/plain": [
       "genre\n",
       "pop            781\n",
       "dance          549\n",
       "electronic     480\n",
       "rock           474\n",
       "hiphop         286\n",
       "ruspop         186\n",
       "world          181\n",
       "rusrap         175\n",
       "alternative    164\n",
       "unknown        161\n",
       "Name: genre, dtype: int64"
      ]
     },
     "execution_count": 37,
     "metadata": {},
     "output_type": "execute_result"
    }
   ],
   "source": [
    "genre_weekday(moscow_general, 'Monday', '07:00', '11:00')"
   ]
  },
  {
   "cell_type": "code",
   "execution_count": 38,
   "metadata": {
    "deletable": false,
    "id": "kwUcHPdy_Zcu"
   },
   "outputs": [
    {
     "data": {
      "text/plain": [
       "genre\n",
       "pop            218\n",
       "dance          182\n",
       "rock           162\n",
       "electronic     147\n",
       "hiphop          80\n",
       "ruspop          64\n",
       "alternative     58\n",
       "rusrap          55\n",
       "jazz            44\n",
       "classical       40\n",
       "Name: genre, dtype: int64"
      ]
     },
     "execution_count": 38,
     "metadata": {},
     "output_type": "execute_result"
    }
   ],
   "source": [
    "# вызов функции для утра понедельника в Петербурге (вместо df — таблица spb_general)\n",
    "genre_weekday(spb_general, 'Monday', '07:00', '11:00')"
   ]
  },
  {
   "cell_type": "code",
   "execution_count": 39,
   "metadata": {
    "deletable": false,
    "id": "EzXVRE1o_Zcu"
   },
   "outputs": [
    {
     "data": {
      "text/plain": [
       "genre\n",
       "pop            713\n",
       "rock           517\n",
       "dance          495\n",
       "electronic     482\n",
       "hiphop         273\n",
       "world          208\n",
       "ruspop         170\n",
       "alternative    163\n",
       "classical      163\n",
       "rusrap         142\n",
       "Name: genre, dtype: int64"
      ]
     },
     "execution_count": 39,
     "metadata": {},
     "output_type": "execute_result"
    }
   ],
   "source": [
    "# вызов функции для вечера пятницы в Москв\n",
    "genre_weekday(moscow_general, 'Friday', '17:00', '23:00')"
   ]
  },
  {
   "cell_type": "code",
   "execution_count": 40,
   "metadata": {
    "deletable": false,
    "id": "JZaEKu5v_Zcu"
   },
   "outputs": [
    {
     "data": {
      "text/plain": [
       "genre\n",
       "pop            256\n",
       "electronic     216\n",
       "rock           216\n",
       "dance          210\n",
       "hiphop          97\n",
       "alternative     63\n",
       "jazz            61\n",
       "classical       60\n",
       "rusrap          59\n",
       "world           54\n",
       "Name: genre, dtype: int64"
      ]
     },
     "execution_count": 40,
     "metadata": {},
     "output_type": "execute_result"
    }
   ],
   "source": [
    "# вызов функции для вечера пятницы в Петербурге\n",
    "genre_weekday(spb_general, 'Friday', '17:00', '23:00')"
   ]
  },
  {
   "cell_type": "markdown",
   "metadata": {
    "deletable": false,
    "editable": false,
    "id": "wrCe4MNX_Zcu"
   },
   "source": [
    "**Выводы**\n",
    "\n",
    "Если сравнить топ-10 жанров в понедельник утром, можно сделать такие выводы:\n",
    "\n",
    "1. В Москве и Петербурге слушают похожую музыку. Единственное отличие — в московский рейтинг вошёл жанр “world”, а в петербургский — джаз и классика.\n",
    "\n",
    "2. В Москве пропущенных значений оказалось так много, что значение `'unknown'` заняло десятое место среди самых популярных жанров. Значит, пропущенные значения занимают существенную долю в данных и угрожают достоверности исследования.\n",
    "\n",
    "Вечер пятницы не меняет эту картину. Некоторые жанры поднимаются немного выше, другие спускаются, но в целом топ-10 остаётся тем же самым.\n",
    "\n",
    "Таким образом, вторая гипотеза подтвердилась лишь частично:\n",
    "* Пользователи слушают похожую музыку в начале недели и в конце.\n",
    "* Разница между Москвой и Петербургом не слишком выражена. В Москве чаще слушают русскую популярную музыку, в Петербурге — джаз.\n",
    "\n",
    "Однако пропуски в данных ставят под сомнение этот результат. В Москве их так много, что рейтинг топ-10 мог бы выглядеть иначе, если бы не утерянные  данные о жанрах."
   ]
  },
  {
   "cell_type": "markdown",
   "metadata": {
    "deletable": false,
    "editable": false,
    "id": "JolODAqr_Zcu"
   },
   "source": [
    "### Жанровые предпочтения в Москве и Петербурге\n",
    "\n",
    "Гипотеза: Петербург — столица рэпа, музыку этого жанра там слушают чаще, чем в Москве.  А Москва — город контрастов, в котором, тем не менее, преобладает поп-музыка."
   ]
  },
  {
   "cell_type": "markdown",
   "metadata": {
    "deletable": false,
    "editable": false,
    "id": "DlegSvaT_Zcu",
    "tags": [
     "start_task"
    ]
   },
   "source": [
    "**Задание 26**\n",
    "\n",
    "Сгруппируйте таблицу `moscow_general` по жанру и посчитайте прослушивания треков каждого жанра методом `count()`. Затем отсортируйте результат в порядке убывания и сохраните его в таблице `moscow_genres`."
   ]
  },
  {
   "cell_type": "code",
   "execution_count": 41,
   "metadata": {
    "deletable": false,
    "id": "r19lIPke_Zcu"
   },
   "outputs": [],
   "source": [
    "moscow_genres = moscow_general.groupby('genre')['genre'].count().sort_values(ascending=False)"
   ]
  },
  {
   "cell_type": "markdown",
   "metadata": {
    "deletable": false,
    "editable": false,
    "id": "6kMuomxTiIr8",
    "tags": [
     "start_task"
    ]
   },
   "source": [
    "**Задание 27**\n",
    "\n",
    "Выведите на экран первые десять строк `moscow_genres`:"
   ]
  },
  {
   "cell_type": "code",
   "execution_count": 42,
   "metadata": {
    "deletable": false,
    "id": "WhCSooF8_Zcv"
   },
   "outputs": [
    {
     "data": {
      "text/plain": [
       "genre\n",
       "pop            5892\n",
       "dance          4435\n",
       "rock           3965\n",
       "electronic     3786\n",
       "hiphop         2096\n",
       "classical      1616\n",
       "world          1432\n",
       "alternative    1379\n",
       "ruspop         1372\n",
       "rusrap         1161\n",
       "Name: genre, dtype: int64"
      ]
     },
     "execution_count": 42,
     "metadata": {},
     "output_type": "execute_result"
    }
   ],
   "source": [
    "moscow_genres[:10]"
   ]
  },
  {
   "cell_type": "markdown",
   "metadata": {
    "deletable": false,
    "editable": false,
    "id": "cnPG2vnN_Zcv",
    "tags": [
     "start_task"
    ]
   },
   "source": [
    "**Задание 28**\n",
    "\n",
    "\n",
    "Теперь повторите то же и для Петербурга.\n",
    "\n",
    "Сгруппируйте таблицу `spb_general` по жанру. Посчитайте прослушивания треков каждого жанра. Результат отсортируйте в порядке убывания и сохраните в таблице `spb_genres`:\n"
   ]
  },
  {
   "cell_type": "code",
   "execution_count": 43,
   "metadata": {
    "deletable": false,
    "id": "gluLIpE7_Zcv"
   },
   "outputs": [],
   "source": [
    "spb_genres = spb_general.groupby('genre')['genre'].count().sort_values(ascending=False)\n",
    "# одной строкой: группировка таблицы spb_general по столбцу 'genre', \n",
    "# подсчёт числа значений 'genre' в этой группировке методом count(), \n",
    "# сортировка получившегося Series в порядке убывания и сохранение в spb_genres"
   ]
  },
  {
   "cell_type": "markdown",
   "metadata": {
    "deletable": false,
    "editable": false,
    "id": "5Doha_ODgyQ8",
    "tags": [
     "start_task"
    ]
   },
   "source": [
    "**Задание 29**\n",
    "\n",
    "Выведите на экран первые десять строк `spb_genres`:"
   ]
  },
  {
   "cell_type": "code",
   "execution_count": 44,
   "metadata": {
    "deletable": false,
    "id": "uaGJHjVU_Zcv"
   },
   "outputs": [
    {
     "data": {
      "text/plain": [
       "genre\n",
       "pop            2431\n",
       "dance          1932\n",
       "rock           1879\n",
       "electronic     1736\n",
       "hiphop          960\n",
       "alternative     649\n",
       "classical       646\n",
       "rusrap          564\n",
       "ruspop          538\n",
       "world           515\n",
       "Name: genre, dtype: int64"
      ]
     },
     "execution_count": 44,
     "metadata": {},
     "output_type": "execute_result"
    }
   ],
   "source": [
    "# просмотр первых 10 строк spb_genres\n",
    "spb_genres[:10]"
   ]
  },
  {
   "cell_type": "markdown",
   "metadata": {
    "deletable": false,
    "editable": false,
    "id": "RY51YJYu_Zcv"
   },
   "source": [
    "**Выводы**"
   ]
  },
  {
   "cell_type": "markdown",
   "metadata": {
    "deletable": false,
    "editable": false,
    "id": "nVhnJEm__Zcv"
   },
   "source": [
    "Гипотеза частично подтвердилась:\n",
    "* Поп-музыка — самый популярный жанр в Москве, как и предполагала гипотеза. Более того, в топ-10 жанров встречается близкий жанр — русская популярная музыка.\n",
    "* Вопреки ожиданиям, рэп одинаково популярен в Москве и Петербурге. \n"
   ]
  },
  {
   "cell_type": "markdown",
   "metadata": {
    "deletable": false,
    "editable": false,
    "id": "ykKQ0N65_Zcv"
   },
   "source": [
    "## Итоги исследования"
   ]
  },
  {
   "cell_type": "markdown",
   "metadata": {
    "deletable": false,
    "editable": false,
    "id": "tjUwbHb3_Zcv"
   },
   "source": [
    "Вы проверили три гипотезы и установили:\n",
    "\n",
    "1. День недели по-разному влияет на активность пользователей в Москве и Петербурге. \n",
    "\n",
    "Первая гипотеза полностью подтвердилась.\n",
    "\n",
    "2. Музыкальные предпочтения не сильно меняются в течение недели — будь то Москва или Петербург. Небольшие различия заметны в начале недели, по понедельникам:\n",
    "* в Москве слушают музыку жанра “world”,\n",
    "* в Петербурге — джаз и классику.\n",
    "\n",
    "Таким образом, вторая гипотеза подтвердилась лишь отчасти. Этот результат мог оказаться иным, если бы не пропуски в данных.\n",
    "\n",
    "3. Во вкусах пользователей Москвы и Петербурга больше общего чем различий. Вопреки ожиданиям, предпочтения жанров в Петербурге напоминают московские.\n",
    "\n",
    "Третья гипотеза не подтвердилась. Если различия в предпочтениях и существуют, на основной массе пользователей они незаметны.\n",
    "\n",
    "**На практике исследования содержат проверки статистических гипотез.**\n",
    "Из данных одного сервиса не всегда можно сделать вывод о всех жителях города.\n",
    "Проверки статистических гипотез покажут, насколько они достоверны, исходя из имеющихся данных. \n",
    "С методами проверок гипотез вы ещё познакомитесь в следующих темах."
   ]
  },
  {
   "cell_type": "code",
   "execution_count": null,
   "metadata": {},
   "outputs": [],
   "source": []
  }
 ],
 "metadata": {
  "ExecuteTimeLog": [
   {
    "duration": 440,
    "start_time": "2022-07-29T18:20:01.184Z"
   },
   {
    "duration": 109,
    "start_time": "2022-07-29T18:21:23.326Z"
   },
   {
    "duration": 3,
    "start_time": "2022-07-29T18:21:39.552Z"
   },
   {
    "duration": 78,
    "start_time": "2022-07-29T18:29:03.427Z"
   },
   {
    "duration": 52,
    "start_time": "2022-07-29T18:29:27.121Z"
   },
   {
    "duration": 50,
    "start_time": "2022-07-29T18:30:13.326Z"
   },
   {
    "duration": 48,
    "start_time": "2022-07-29T18:30:20.068Z"
   },
   {
    "duration": 49,
    "start_time": "2022-07-29T18:30:29.274Z"
   },
   {
    "duration": 457,
    "start_time": "2022-07-29T18:31:38.229Z"
   },
   {
    "duration": 23,
    "start_time": "2022-07-29T18:32:20.145Z"
   },
   {
    "duration": 35,
    "start_time": "2022-07-29T18:33:01.398Z"
   },
   {
    "duration": 8,
    "start_time": "2022-07-29T18:40:38.765Z"
   },
   {
    "duration": 7,
    "start_time": "2022-07-29T18:41:01.717Z"
   },
   {
    "duration": 10,
    "start_time": "2022-07-29T18:41:25.231Z"
   },
   {
    "duration": 4,
    "start_time": "2022-07-29T18:42:03.999Z"
   },
   {
    "duration": 74,
    "start_time": "2022-07-29T18:46:43.540Z"
   },
   {
    "duration": 12,
    "start_time": "2022-07-29T18:47:44.412Z"
   },
   {
    "duration": 4,
    "start_time": "2022-07-29T18:48:08.154Z"
   },
   {
    "duration": 7,
    "start_time": "2022-07-29T18:51:35.983Z"
   },
   {
    "duration": 24,
    "start_time": "2022-07-29T18:52:54.804Z"
   },
   {
    "duration": 1189,
    "start_time": "2022-07-29T18:55:58.130Z"
   },
   {
    "duration": 1527,
    "start_time": "2022-07-29T18:57:16.962Z"
   },
   {
    "duration": 20,
    "start_time": "2022-07-29T18:57:53.445Z"
   },
   {
    "duration": 23,
    "start_time": "2022-07-29T18:59:13.755Z"
   },
   {
    "duration": 8,
    "start_time": "2022-07-29T19:00:59.226Z"
   },
   {
    "duration": 73,
    "start_time": "2022-07-29T19:01:14.375Z"
   },
   {
    "duration": 68,
    "start_time": "2022-07-29T19:01:29.710Z"
   },
   {
    "duration": 89,
    "start_time": "2022-07-29T19:03:01.880Z"
   },
   {
    "duration": 87,
    "start_time": "2022-07-29T19:03:30.156Z"
   },
   {
    "duration": 5,
    "start_time": "2022-07-29T19:06:52.489Z"
   },
   {
    "duration": 6,
    "start_time": "2022-07-29T19:06:59.578Z"
   },
   {
    "duration": 8,
    "start_time": "2022-07-29T19:07:38.982Z"
   },
   {
    "duration": 10,
    "start_time": "2022-07-29T19:08:07.764Z"
   },
   {
    "duration": 41,
    "start_time": "2022-07-29T19:10:33.680Z"
   },
   {
    "duration": 24,
    "start_time": "2022-07-29T19:16:02.131Z"
   },
   {
    "duration": 80,
    "start_time": "2022-07-29T19:20:03.578Z"
   },
   {
    "duration": 17,
    "start_time": "2022-07-29T19:20:45.893Z"
   },
   {
    "duration": 11,
    "start_time": "2022-07-29T19:23:59.162Z"
   },
   {
    "duration": 11,
    "start_time": "2022-07-29T19:24:03.607Z"
   },
   {
    "duration": 11,
    "start_time": "2022-07-29T19:24:31.966Z"
   },
   {
    "duration": 7,
    "start_time": "2022-07-29T19:25:30.234Z"
   },
   {
    "duration": 8,
    "start_time": "2022-07-29T19:26:20.497Z"
   },
   {
    "duration": 11,
    "start_time": "2022-07-29T19:27:46.048Z"
   },
   {
    "duration": 9,
    "start_time": "2022-07-29T19:28:47.125Z"
   },
   {
    "duration": 11,
    "start_time": "2022-07-29T19:31:41.493Z"
   },
   {
    "duration": 10,
    "start_time": "2022-07-29T19:31:49.681Z"
   },
   {
    "duration": 12,
    "start_time": "2022-07-29T19:32:56.478Z"
   },
   {
    "duration": 10,
    "start_time": "2022-07-29T19:33:01.299Z"
   },
   {
    "duration": 11,
    "start_time": "2022-07-29T19:33:32.330Z"
   },
   {
    "duration": 2,
    "start_time": "2022-07-29T19:33:45.996Z"
   },
   {
    "duration": 199,
    "start_time": "2022-07-29T19:33:46.000Z"
   },
   {
    "duration": 12,
    "start_time": "2022-07-29T19:33:46.201Z"
   },
   {
    "duration": 95,
    "start_time": "2022-07-29T19:33:46.215Z"
   },
   {
    "duration": 56,
    "start_time": "2022-07-29T19:33:46.313Z"
   },
   {
    "duration": 62,
    "start_time": "2022-07-29T19:33:46.371Z"
   },
   {
    "duration": 31,
    "start_time": "2022-07-29T19:33:46.435Z"
   },
   {
    "duration": 33,
    "start_time": "2022-07-29T19:33:46.468Z"
   },
   {
    "duration": 43,
    "start_time": "2022-07-29T19:33:46.503Z"
   },
   {
    "duration": 56,
    "start_time": "2022-07-29T19:33:46.548Z"
   },
   {
    "duration": 43,
    "start_time": "2022-07-29T19:33:46.606Z"
   },
   {
    "duration": 103,
    "start_time": "2022-07-29T19:33:46.651Z"
   },
   {
    "duration": 107,
    "start_time": "2022-07-29T19:33:46.756Z"
   },
   {
    "duration": 72,
    "start_time": "2022-07-29T19:33:46.866Z"
   },
   {
    "duration": 39,
    "start_time": "2022-07-29T19:33:46.940Z"
   },
   {
    "duration": 2,
    "start_time": "2022-07-29T19:33:46.981Z"
   },
   {
    "duration": 2,
    "start_time": "2022-07-29T19:33:47.004Z"
   },
   {
    "duration": 7,
    "start_time": "2022-07-29T19:33:47.008Z"
   },
   {
    "duration": 6,
    "start_time": "2022-07-29T19:33:47.016Z"
   },
   {
    "duration": 6,
    "start_time": "2022-07-29T19:33:47.024Z"
   },
   {
    "duration": 5,
    "start_time": "2022-07-29T19:33:47.032Z"
   },
   {
    "duration": 7,
    "start_time": "2022-07-29T19:33:47.039Z"
   },
   {
    "duration": 5,
    "start_time": "2022-07-29T19:33:47.048Z"
   },
   {
    "duration": 6,
    "start_time": "2022-07-29T19:33:47.055Z"
   },
   {
    "duration": 6,
    "start_time": "2022-07-29T19:33:47.062Z"
   },
   {
    "duration": 5,
    "start_time": "2022-07-29T19:33:47.070Z"
   },
   {
    "duration": 5,
    "start_time": "2022-07-29T19:33:47.077Z"
   },
   {
    "duration": 29,
    "start_time": "2022-07-29T19:33:47.084Z"
   },
   {
    "duration": 6,
    "start_time": "2022-07-29T19:33:47.115Z"
   },
   {
    "duration": 111,
    "start_time": "2022-07-29T19:33:47.123Z"
   },
   {
    "duration": 0,
    "start_time": "2022-07-29T19:33:47.236Z"
   },
   {
    "duration": 0,
    "start_time": "2022-07-29T19:33:47.237Z"
   },
   {
    "duration": 0,
    "start_time": "2022-07-29T19:33:47.239Z"
   },
   {
    "duration": 0,
    "start_time": "2022-07-29T19:33:47.240Z"
   },
   {
    "duration": 0,
    "start_time": "2022-07-29T19:33:47.242Z"
   },
   {
    "duration": 0,
    "start_time": "2022-07-29T19:33:47.244Z"
   },
   {
    "duration": 0,
    "start_time": "2022-07-29T19:33:47.245Z"
   },
   {
    "duration": 0,
    "start_time": "2022-07-29T19:33:47.246Z"
   },
   {
    "duration": 75,
    "start_time": "2022-07-29T19:34:22.699Z"
   },
   {
    "duration": 50,
    "start_time": "2022-07-29T19:34:29.239Z"
   },
   {
    "duration": 29,
    "start_time": "2022-07-29T19:34:33.497Z"
   },
   {
    "duration": 34,
    "start_time": "2022-07-29T19:34:38.219Z"
   },
   {
    "duration": 32,
    "start_time": "2022-07-29T19:34:49.752Z"
   },
   {
    "duration": 30,
    "start_time": "2022-07-29T19:36:02.571Z"
   },
   {
    "duration": 158,
    "start_time": "2022-07-29T19:37:11.192Z"
   },
   {
    "duration": 10,
    "start_time": "2022-07-29T19:37:31.488Z"
   },
   {
    "duration": 22,
    "start_time": "2022-07-29T19:37:50.473Z"
   },
   {
    "duration": 12,
    "start_time": "2022-07-29T19:40:30.333Z"
   },
   {
    "duration": 10,
    "start_time": "2022-07-29T19:40:36.749Z"
   },
   {
    "duration": 7,
    "start_time": "2022-07-29T19:41:52.093Z"
   },
   {
    "duration": 9,
    "start_time": "2022-07-29T19:42:03.709Z"
   },
   {
    "duration": 12,
    "start_time": "2022-07-29T19:42:19.113Z"
   },
   {
    "duration": 7,
    "start_time": "2022-07-29T19:43:26.365Z"
   },
   {
    "duration": 9,
    "start_time": "2022-07-29T19:56:05.553Z"
   },
   {
    "duration": 10,
    "start_time": "2022-07-29T19:56:18.715Z"
   },
   {
    "duration": 10,
    "start_time": "2022-07-29T19:59:01.724Z"
   },
   {
    "duration": 9,
    "start_time": "2022-07-29T19:59:06.719Z"
   },
   {
    "duration": 10,
    "start_time": "2022-07-29T19:59:35.056Z"
   },
   {
    "duration": 10,
    "start_time": "2022-07-29T20:05:57.287Z"
   },
   {
    "duration": 10,
    "start_time": "2022-07-29T20:06:47.013Z"
   },
   {
    "duration": 10,
    "start_time": "2022-07-29T20:07:51.740Z"
   },
   {
    "duration": 11,
    "start_time": "2022-07-29T20:08:55.880Z"
   },
   {
    "duration": 9,
    "start_time": "2022-07-29T20:09:09.240Z"
   },
   {
    "duration": 2,
    "start_time": "2022-07-29T20:09:17.682Z"
   },
   {
    "duration": 177,
    "start_time": "2022-07-29T20:09:17.686Z"
   },
   {
    "duration": 12,
    "start_time": "2022-07-29T20:09:17.865Z"
   },
   {
    "duration": 47,
    "start_time": "2022-07-29T20:09:17.879Z"
   },
   {
    "duration": 3,
    "start_time": "2022-07-29T20:09:17.928Z"
   },
   {
    "duration": 8,
    "start_time": "2022-07-29T20:09:17.932Z"
   },
   {
    "duration": 12,
    "start_time": "2022-07-29T20:09:17.942Z"
   },
   {
    "duration": 4,
    "start_time": "2022-07-29T20:09:17.956Z"
   },
   {
    "duration": 51,
    "start_time": "2022-07-29T20:09:17.961Z"
   },
   {
    "duration": 21,
    "start_time": "2022-07-29T20:09:18.014Z"
   },
   {
    "duration": 24,
    "start_time": "2022-07-29T20:09:18.037Z"
   },
   {
    "duration": 93,
    "start_time": "2022-07-29T20:09:18.062Z"
   },
   {
    "duration": 78,
    "start_time": "2022-07-29T20:09:18.157Z"
   },
   {
    "duration": 69,
    "start_time": "2022-07-29T20:09:18.236Z"
   },
   {
    "duration": 41,
    "start_time": "2022-07-29T20:09:18.306Z"
   },
   {
    "duration": 11,
    "start_time": "2022-07-29T20:09:18.348Z"
   },
   {
    "duration": 57,
    "start_time": "2022-07-29T20:09:18.360Z"
   },
   {
    "duration": 2,
    "start_time": "2022-07-29T20:09:18.419Z"
   },
   {
    "duration": 6,
    "start_time": "2022-07-29T20:09:18.422Z"
   },
   {
    "duration": 7,
    "start_time": "2022-07-29T20:09:18.430Z"
   },
   {
    "duration": 8,
    "start_time": "2022-07-29T20:09:18.438Z"
   },
   {
    "duration": 7,
    "start_time": "2022-07-29T20:09:18.447Z"
   },
   {
    "duration": 7,
    "start_time": "2022-07-29T20:09:18.455Z"
   },
   {
    "duration": 9,
    "start_time": "2022-07-29T20:09:18.464Z"
   },
   {
    "duration": 7,
    "start_time": "2022-07-29T20:09:18.474Z"
   },
   {
    "duration": 5,
    "start_time": "2022-07-29T20:09:18.483Z"
   },
   {
    "duration": 5,
    "start_time": "2022-07-29T20:09:18.490Z"
   },
   {
    "duration": 2,
    "start_time": "2022-07-29T20:09:18.506Z"
   },
   {
    "duration": 9,
    "start_time": "2022-07-29T20:09:18.509Z"
   },
   {
    "duration": 84,
    "start_time": "2022-07-29T20:09:18.519Z"
   },
   {
    "duration": 1,
    "start_time": "2022-07-29T20:09:18.604Z"
   },
   {
    "duration": 1,
    "start_time": "2022-07-29T20:09:18.605Z"
   },
   {
    "duration": 0,
    "start_time": "2022-07-29T20:09:18.606Z"
   },
   {
    "duration": 0,
    "start_time": "2022-07-29T20:09:18.608Z"
   },
   {
    "duration": 0,
    "start_time": "2022-07-29T20:09:18.609Z"
   },
   {
    "duration": 0,
    "start_time": "2022-07-29T20:09:18.609Z"
   },
   {
    "duration": 0,
    "start_time": "2022-07-29T20:09:18.610Z"
   },
   {
    "duration": 0,
    "start_time": "2022-07-29T20:09:18.612Z"
   },
   {
    "duration": 10,
    "start_time": "2022-07-29T20:15:39.386Z"
   },
   {
    "duration": 15,
    "start_time": "2022-07-29T20:15:42.006Z"
   },
   {
    "duration": 14,
    "start_time": "2022-07-29T20:16:08.122Z"
   },
   {
    "duration": 12,
    "start_time": "2022-07-29T20:19:05.597Z"
   },
   {
    "duration": 4,
    "start_time": "2022-07-29T20:33:52.037Z"
   },
   {
    "duration": 4,
    "start_time": "2022-07-29T20:33:56.742Z"
   },
   {
    "duration": 5,
    "start_time": "2022-07-29T20:35:01.439Z"
   },
   {
    "duration": 7,
    "start_time": "2022-07-29T20:35:15.873Z"
   },
   {
    "duration": 9,
    "start_time": "2022-07-29T20:37:11.716Z"
   },
   {
    "duration": 4,
    "start_time": "2022-07-29T20:37:26.248Z"
   },
   {
    "duration": 7,
    "start_time": "2022-07-29T20:38:24.988Z"
   },
   {
    "duration": 14,
    "start_time": "2022-07-29T20:39:34.159Z"
   },
   {
    "duration": 8,
    "start_time": "2022-07-29T20:40:00.956Z"
   },
   {
    "duration": 124,
    "start_time": "2022-07-29T20:40:17.759Z"
   },
   {
    "duration": 8,
    "start_time": "2022-07-29T20:40:25.950Z"
   },
   {
    "duration": 19,
    "start_time": "2022-07-29T20:41:05.661Z"
   },
   {
    "duration": 17,
    "start_time": "2022-07-29T20:43:11.658Z"
   },
   {
    "duration": 14,
    "start_time": "2022-07-29T20:43:15.674Z"
   },
   {
    "duration": 15,
    "start_time": "2022-07-29T20:43:16.341Z"
   },
   {
    "duration": 15,
    "start_time": "2022-07-29T20:43:17.753Z"
   },
   {
    "duration": 18,
    "start_time": "2022-07-29T20:43:18.462Z"
   },
   {
    "duration": 19,
    "start_time": "2022-07-29T20:43:19.128Z"
   },
   {
    "duration": 9,
    "start_time": "2022-07-29T20:50:02.458Z"
   },
   {
    "duration": 9,
    "start_time": "2022-07-29T20:50:46.315Z"
   },
   {
    "duration": 10,
    "start_time": "2022-07-29T20:54:07.378Z"
   },
   {
    "duration": 11,
    "start_time": "2022-07-29T20:54:09.472Z"
   },
   {
    "duration": 81,
    "start_time": "2022-07-29T21:03:57.685Z"
   },
   {
    "duration": 4,
    "start_time": "2022-07-29T21:04:27.542Z"
   },
   {
    "duration": 5,
    "start_time": "2022-07-29T21:07:22.650Z"
   },
   {
    "duration": 4,
    "start_time": "2022-07-29T21:08:26.978Z"
   },
   {
    "duration": 4,
    "start_time": "2022-07-29T21:09:30.202Z"
   },
   {
    "duration": 4,
    "start_time": "2022-07-29T21:12:14.603Z"
   },
   {
    "duration": 5,
    "start_time": "2022-07-29T21:14:02.029Z"
   },
   {
    "duration": 1238,
    "start_time": "2022-07-29T21:15:32.626Z"
   },
   {
    "duration": 7,
    "start_time": "2022-07-29T21:17:55.251Z"
   },
   {
    "duration": 7,
    "start_time": "2022-07-29T21:19:21.669Z"
   },
   {
    "duration": 6,
    "start_time": "2022-07-29T21:20:50.597Z"
   },
   {
    "duration": 5,
    "start_time": "2022-07-29T21:21:16.476Z"
   },
   {
    "duration": 6,
    "start_time": "2022-07-29T21:23:49.794Z"
   },
   {
    "duration": 5,
    "start_time": "2022-07-29T21:25:13.790Z"
   },
   {
    "duration": 2,
    "start_time": "2022-07-29T21:25:28.228Z"
   },
   {
    "duration": 185,
    "start_time": "2022-07-29T21:25:28.233Z"
   },
   {
    "duration": 12,
    "start_time": "2022-07-29T21:25:28.420Z"
   },
   {
    "duration": 29,
    "start_time": "2022-07-29T21:25:28.434Z"
   },
   {
    "duration": 2,
    "start_time": "2022-07-29T21:25:28.466Z"
   },
   {
    "duration": 6,
    "start_time": "2022-07-29T21:25:28.470Z"
   },
   {
    "duration": 33,
    "start_time": "2022-07-29T21:25:28.478Z"
   },
   {
    "duration": 4,
    "start_time": "2022-07-29T21:25:28.513Z"
   },
   {
    "duration": 26,
    "start_time": "2022-07-29T21:25:28.518Z"
   },
   {
    "duration": 18,
    "start_time": "2022-07-29T21:25:28.545Z"
   },
   {
    "duration": 50,
    "start_time": "2022-07-29T21:25:28.564Z"
   },
   {
    "duration": 67,
    "start_time": "2022-07-29T21:25:28.617Z"
   },
   {
    "duration": 77,
    "start_time": "2022-07-29T21:25:28.703Z"
   },
   {
    "duration": 71,
    "start_time": "2022-07-29T21:25:28.784Z"
   },
   {
    "duration": 48,
    "start_time": "2022-07-29T21:25:28.857Z"
   },
   {
    "duration": 14,
    "start_time": "2022-07-29T21:25:28.907Z"
   },
   {
    "duration": 40,
    "start_time": "2022-07-29T21:25:28.923Z"
   },
   {
    "duration": 44,
    "start_time": "2022-07-29T21:25:28.965Z"
   },
   {
    "duration": 12,
    "start_time": "2022-07-29T21:25:29.011Z"
   },
   {
    "duration": 20,
    "start_time": "2022-07-29T21:25:29.025Z"
   },
   {
    "duration": 18,
    "start_time": "2022-07-29T21:25:29.046Z"
   },
   {
    "duration": 43,
    "start_time": "2022-07-29T21:25:29.066Z"
   },
   {
    "duration": 16,
    "start_time": "2022-07-29T21:25:29.111Z"
   },
   {
    "duration": 15,
    "start_time": "2022-07-29T21:25:29.128Z"
   },
   {
    "duration": 17,
    "start_time": "2022-07-29T21:25:29.145Z"
   },
   {
    "duration": 45,
    "start_time": "2022-07-29T21:25:29.164Z"
   },
   {
    "duration": 9,
    "start_time": "2022-07-29T21:25:29.211Z"
   },
   {
    "duration": 20,
    "start_time": "2022-07-29T21:25:29.222Z"
   },
   {
    "duration": 10,
    "start_time": "2022-07-29T21:25:29.244Z"
   },
   {
    "duration": 4,
    "start_time": "2022-07-29T21:25:29.255Z"
   },
   {
    "duration": 54,
    "start_time": "2022-07-29T21:25:29.261Z"
   },
   {
    "duration": 2,
    "start_time": "2022-07-29T21:25:29.317Z"
   },
   {
    "duration": 5,
    "start_time": "2022-07-29T21:25:29.320Z"
   },
   {
    "duration": 5,
    "start_time": "2022-07-29T21:25:29.327Z"
   },
   {
    "duration": 4,
    "start_time": "2022-07-29T21:25:29.333Z"
   },
   {
    "duration": 5,
    "start_time": "2022-07-29T21:25:29.339Z"
   },
   {
    "duration": 4,
    "start_time": "2022-07-29T21:25:29.345Z"
   },
   {
    "duration": 7,
    "start_time": "2022-07-29T21:25:29.350Z"
   },
   {
    "duration": 5,
    "start_time": "2022-07-29T21:27:15.877Z"
   },
   {
    "duration": 724,
    "start_time": "2022-07-29T21:27:21.455Z"
   },
   {
    "duration": 3,
    "start_time": "2022-07-29T21:28:07.270Z"
   },
   {
    "duration": 174,
    "start_time": "2022-07-29T21:28:07.276Z"
   },
   {
    "duration": 12,
    "start_time": "2022-07-29T21:28:07.452Z"
   },
   {
    "duration": 83,
    "start_time": "2022-07-29T21:28:07.465Z"
   },
   {
    "duration": 65,
    "start_time": "2022-07-29T21:28:07.550Z"
   },
   {
    "duration": 36,
    "start_time": "2022-07-29T21:28:07.618Z"
   },
   {
    "duration": 18,
    "start_time": "2022-07-29T21:28:07.656Z"
   },
   {
    "duration": 23,
    "start_time": "2022-07-29T21:28:07.676Z"
   },
   {
    "duration": 32,
    "start_time": "2022-07-29T21:28:07.700Z"
   },
   {
    "duration": 18,
    "start_time": "2022-07-29T21:28:07.734Z"
   },
   {
    "duration": 27,
    "start_time": "2022-07-29T21:28:07.754Z"
   },
   {
    "duration": 77,
    "start_time": "2022-07-29T21:28:07.783Z"
   },
   {
    "duration": 89,
    "start_time": "2022-07-29T21:28:07.862Z"
   },
   {
    "duration": 62,
    "start_time": "2022-07-29T21:28:07.953Z"
   },
   {
    "duration": 36,
    "start_time": "2022-07-29T21:28:08.018Z"
   },
   {
    "duration": 10,
    "start_time": "2022-07-29T21:28:08.055Z"
   },
   {
    "duration": 58,
    "start_time": "2022-07-29T21:28:08.067Z"
   },
   {
    "duration": 11,
    "start_time": "2022-07-29T21:28:08.127Z"
   },
   {
    "duration": 12,
    "start_time": "2022-07-29T21:28:08.140Z"
   },
   {
    "duration": 17,
    "start_time": "2022-07-29T21:28:08.153Z"
   },
   {
    "duration": 40,
    "start_time": "2022-07-29T21:28:08.171Z"
   },
   {
    "duration": 12,
    "start_time": "2022-07-29T21:28:08.213Z"
   },
   {
    "duration": 14,
    "start_time": "2022-07-29T21:28:08.227Z"
   },
   {
    "duration": 12,
    "start_time": "2022-07-29T21:28:08.243Z"
   },
   {
    "duration": 15,
    "start_time": "2022-07-29T21:28:08.256Z"
   },
   {
    "duration": 15,
    "start_time": "2022-07-29T21:28:08.304Z"
   },
   {
    "duration": 8,
    "start_time": "2022-07-29T21:28:08.321Z"
   },
   {
    "duration": 12,
    "start_time": "2022-07-29T21:28:08.330Z"
   },
   {
    "duration": 10,
    "start_time": "2022-07-29T21:28:08.344Z"
   },
   {
    "duration": 4,
    "start_time": "2022-07-29T21:28:08.356Z"
   },
   {
    "duration": 689,
    "start_time": "2022-07-29T21:28:08.361Z"
   },
   {
    "duration": 0,
    "start_time": "2022-07-29T21:28:09.051Z"
   },
   {
    "duration": 0,
    "start_time": "2022-07-29T21:28:09.053Z"
   },
   {
    "duration": 0,
    "start_time": "2022-07-29T21:28:09.054Z"
   },
   {
    "duration": 0,
    "start_time": "2022-07-29T21:28:09.055Z"
   },
   {
    "duration": 0,
    "start_time": "2022-07-29T21:28:09.056Z"
   },
   {
    "duration": 0,
    "start_time": "2022-07-29T21:28:09.057Z"
   },
   {
    "duration": 0,
    "start_time": "2022-07-29T21:28:09.058Z"
   },
   {
    "duration": 3,
    "start_time": "2022-07-29T21:28:38.454Z"
   },
   {
    "duration": 169,
    "start_time": "2022-07-29T21:28:38.459Z"
   },
   {
    "duration": 13,
    "start_time": "2022-07-29T21:28:38.629Z"
   },
   {
    "duration": 31,
    "start_time": "2022-07-29T21:28:38.644Z"
   },
   {
    "duration": 3,
    "start_time": "2022-07-29T21:28:38.678Z"
   },
   {
    "duration": 23,
    "start_time": "2022-07-29T21:28:38.683Z"
   },
   {
    "duration": 9,
    "start_time": "2022-07-29T21:28:38.708Z"
   },
   {
    "duration": 4,
    "start_time": "2022-07-29T21:28:38.719Z"
   },
   {
    "duration": 26,
    "start_time": "2022-07-29T21:28:38.725Z"
   },
   {
    "duration": 53,
    "start_time": "2022-07-29T21:28:38.753Z"
   },
   {
    "duration": 25,
    "start_time": "2022-07-29T21:28:38.808Z"
   },
   {
    "duration": 77,
    "start_time": "2022-07-29T21:28:38.835Z"
   },
   {
    "duration": 70,
    "start_time": "2022-07-29T21:28:38.914Z"
   },
   {
    "duration": 66,
    "start_time": "2022-07-29T21:28:38.987Z"
   },
   {
    "duration": 50,
    "start_time": "2022-07-29T21:28:39.055Z"
   },
   {
    "duration": 10,
    "start_time": "2022-07-29T21:28:39.107Z"
   },
   {
    "duration": 35,
    "start_time": "2022-07-29T21:28:39.118Z"
   },
   {
    "duration": 12,
    "start_time": "2022-07-29T21:28:39.154Z"
   },
   {
    "duration": 38,
    "start_time": "2022-07-29T21:28:39.167Z"
   },
   {
    "duration": 17,
    "start_time": "2022-07-29T21:28:39.206Z"
   },
   {
    "duration": 16,
    "start_time": "2022-07-29T21:28:39.225Z"
   },
   {
    "duration": 14,
    "start_time": "2022-07-29T21:28:39.242Z"
   },
   {
    "duration": 15,
    "start_time": "2022-07-29T21:28:39.258Z"
   },
   {
    "duration": 14,
    "start_time": "2022-07-29T21:28:39.304Z"
   },
   {
    "duration": 16,
    "start_time": "2022-07-29T21:28:39.320Z"
   },
   {
    "duration": 14,
    "start_time": "2022-07-29T21:28:39.337Z"
   },
   {
    "duration": 9,
    "start_time": "2022-07-29T21:28:39.352Z"
   },
   {
    "duration": 43,
    "start_time": "2022-07-29T21:28:39.363Z"
   },
   {
    "duration": 11,
    "start_time": "2022-07-29T21:28:39.408Z"
   },
   {
    "duration": 4,
    "start_time": "2022-07-29T21:28:39.421Z"
   },
   {
    "duration": 34,
    "start_time": "2022-07-29T21:28:39.426Z"
   },
   {
    "duration": 2,
    "start_time": "2022-07-29T21:28:39.462Z"
   },
   {
    "duration": 5,
    "start_time": "2022-07-29T21:28:39.466Z"
   },
   {
    "duration": 5,
    "start_time": "2022-07-29T21:28:39.472Z"
   },
   {
    "duration": 26,
    "start_time": "2022-07-29T21:28:39.478Z"
   },
   {
    "duration": 5,
    "start_time": "2022-07-29T21:28:39.506Z"
   },
   {
    "duration": 4,
    "start_time": "2022-07-29T21:28:39.512Z"
   },
   {
    "duration": 7,
    "start_time": "2022-07-29T21:28:39.518Z"
   },
   {
    "duration": 22,
    "start_time": "2022-07-29T21:29:30.826Z"
   },
   {
    "duration": 28,
    "start_time": "2022-07-29T21:31:02.652Z"
   },
   {
    "duration": 23,
    "start_time": "2022-07-29T21:31:07.909Z"
   },
   {
    "duration": 3,
    "start_time": "2022-07-29T21:35:10.035Z"
   },
   {
    "duration": 19,
    "start_time": "2022-07-29T21:35:50.204Z"
   },
   {
    "duration": 13,
    "start_time": "2022-07-29T21:35:52.832Z"
   },
   {
    "duration": 23,
    "start_time": "2022-07-29T21:35:54.900Z"
   },
   {
    "duration": 13,
    "start_time": "2022-07-29T21:35:56.960Z"
   },
   {
    "duration": 13,
    "start_time": "2022-07-29T21:40:02.044Z"
   },
   {
    "duration": 13,
    "start_time": "2022-07-29T21:40:05.189Z"
   },
   {
    "duration": 18,
    "start_time": "2022-07-29T21:40:07.933Z"
   },
   {
    "duration": 36,
    "start_time": "2022-07-29T21:44:14.551Z"
   },
   {
    "duration": 42,
    "start_time": "2022-07-29T21:45:00.115Z"
   },
   {
    "duration": 33,
    "start_time": "2022-07-29T21:46:11.437Z"
   },
   {
    "duration": 1405,
    "start_time": "2022-07-29T21:46:19.794Z"
   },
   {
    "duration": 40,
    "start_time": "2022-07-29T21:46:51.712Z"
   },
   {
    "duration": 10,
    "start_time": "2022-07-29T21:47:39.024Z"
   },
   {
    "duration": 8,
    "start_time": "2022-07-29T21:49:22.252Z"
   },
   {
    "duration": 12,
    "start_time": "2022-07-29T21:49:36.544Z"
   },
   {
    "duration": 11,
    "start_time": "2022-07-29T21:51:36.634Z"
   },
   {
    "duration": 8,
    "start_time": "2022-07-29T21:53:43.278Z"
   },
   {
    "duration": 3,
    "start_time": "2022-07-29T21:53:56.660Z"
   },
   {
    "duration": 193,
    "start_time": "2022-07-29T21:53:56.665Z"
   },
   {
    "duration": 11,
    "start_time": "2022-07-29T21:53:56.860Z"
   },
   {
    "duration": 42,
    "start_time": "2022-07-29T21:53:56.873Z"
   },
   {
    "duration": 2,
    "start_time": "2022-07-29T21:53:56.917Z"
   },
   {
    "duration": 6,
    "start_time": "2022-07-29T21:53:56.921Z"
   },
   {
    "duration": 10,
    "start_time": "2022-07-29T21:53:56.929Z"
   },
   {
    "duration": 5,
    "start_time": "2022-07-29T21:53:56.941Z"
   },
   {
    "duration": 29,
    "start_time": "2022-07-29T21:53:56.947Z"
   },
   {
    "duration": 44,
    "start_time": "2022-07-29T21:53:56.978Z"
   },
   {
    "duration": 26,
    "start_time": "2022-07-29T21:53:57.024Z"
   },
   {
    "duration": 89,
    "start_time": "2022-07-29T21:53:57.051Z"
   },
   {
    "duration": 91,
    "start_time": "2022-07-29T21:53:57.142Z"
   },
   {
    "duration": 68,
    "start_time": "2022-07-29T21:53:57.237Z"
   },
   {
    "duration": 38,
    "start_time": "2022-07-29T21:53:57.307Z"
   },
   {
    "duration": 25,
    "start_time": "2022-07-29T21:53:57.346Z"
   },
   {
    "duration": 61,
    "start_time": "2022-07-29T21:53:57.373Z"
   },
   {
    "duration": 13,
    "start_time": "2022-07-29T21:53:57.435Z"
   },
   {
    "duration": 11,
    "start_time": "2022-07-29T21:53:57.450Z"
   },
   {
    "duration": 42,
    "start_time": "2022-07-29T21:53:57.463Z"
   },
   {
    "duration": 17,
    "start_time": "2022-07-29T21:53:57.506Z"
   },
   {
    "duration": 14,
    "start_time": "2022-07-29T21:53:57.525Z"
   },
   {
    "duration": 16,
    "start_time": "2022-07-29T21:53:57.540Z"
   },
   {
    "duration": 14,
    "start_time": "2022-07-29T21:53:57.558Z"
   },
   {
    "duration": 45,
    "start_time": "2022-07-29T21:53:57.574Z"
   },
   {
    "duration": 14,
    "start_time": "2022-07-29T21:53:57.620Z"
   },
   {
    "duration": 9,
    "start_time": "2022-07-29T21:53:57.636Z"
   },
   {
    "duration": 14,
    "start_time": "2022-07-29T21:53:57.646Z"
   },
   {
    "duration": 42,
    "start_time": "2022-07-29T21:53:57.662Z"
   },
   {
    "duration": 3,
    "start_time": "2022-07-29T21:53:57.706Z"
   },
   {
    "duration": 105,
    "start_time": "2022-07-29T21:53:57.711Z"
   },
   {
    "duration": 51,
    "start_time": "2022-07-29T21:53:57.818Z"
   },
   {
    "duration": 35,
    "start_time": "2022-07-29T21:53:57.871Z"
   },
   {
    "duration": 35,
    "start_time": "2022-07-29T21:53:57.908Z"
   },
   {
    "duration": 79,
    "start_time": "2022-07-29T21:53:57.945Z"
   },
   {
    "duration": 25,
    "start_time": "2022-07-29T21:53:58.026Z"
   },
   {
    "duration": 14,
    "start_time": "2022-07-29T21:53:58.053Z"
   },
   {
    "duration": 28,
    "start_time": "2022-07-29T21:53:58.070Z"
   },
   {
    "duration": 4,
    "start_time": "2022-07-29T21:54:39.434Z"
   },
   {
    "duration": 6,
    "start_time": "2022-07-29T21:55:50.939Z"
   },
   {
    "duration": 5,
    "start_time": "2022-07-29T21:56:31.944Z"
   }
  ],
  "colab": {
   "collapsed_sections": [
    "E0vqbgi9ay0H",
    "VUC88oWjTJw2"
   ],
   "name": "automatization_template_upd4.ipynb",
   "provenance": []
  },
  "kernelspec": {
   "display_name": "Python 3 (ipykernel)",
   "language": "python",
   "name": "python3"
  },
  "language_info": {
   "codemirror_mode": {
    "name": "ipython",
    "version": 3
   },
   "file_extension": ".py",
   "mimetype": "text/x-python",
   "name": "python",
   "nbconvert_exporter": "python",
   "pygments_lexer": "ipython3",
   "version": "3.9.12"
  },
  "toc": {
   "base_numbering": 1,
   "nav_menu": {
    "height": "215px",
    "width": "403px"
   },
   "number_sections": true,
   "sideBar": true,
   "skip_h1_title": true,
   "title_cell": "Table of Contents",
   "title_sidebar": "Contents",
   "toc_cell": false,
   "toc_position": {
    "height": "calc(100% - 180px)",
    "left": "10px",
    "top": "150px",
    "width": "285.825px"
   },
   "toc_section_display": true,
   "toc_window_display": false
  }
 },
 "nbformat": 4,
 "nbformat_minor": 1
}
