{
 "cells": [
  {
   "cell_type": "markdown",
   "metadata": {},
   "source": [
    "# Проверка гипотез по увеличению выручки в интернет-магазине —оценить результаты A/B теста"
   ]
  },
  {
   "cell_type": "markdown",
   "metadata": {},
   "source": [
    "Мы — аналитик крупного интернет-магазина. Вместе с отделом маркетинга мы подготовили список гипотез для увеличения выручки.\n",
    "Задача: Приоритизируйте гипотезы, запустите A/B-тест и проанализируйте результаты.\n",
    "\n",
    "## Выгрузка данных\n"
   ]
  },
  {
   "cell_type": "code",
   "execution_count": 1,
   "metadata": {
    "colab": {
     "base_uri": "https://localhost:8080/"
    },
    "id": "er1yrjYdHCM2",
    "outputId": "d2128ed5-3609-45ea-cb88-8472bcba15c1"
   },
   "outputs": [
    {
     "name": "stdout",
     "output_type": "stream",
     "text": [
      "                                          Hypothesis  Reach  Impact  \\\n",
      "0  Добавить два новых канала привлечения трафика,...      3      10   \n",
      "1  Запустить собственную службу доставки, что сок...      2       5   \n",
      "2  Добавить блоки рекомендаций товаров на сайт ин...      8       3   \n",
      "3  Изменить структура категорий, что увеличит кон...      8       3   \n",
      "4  Изменить цвет фона главной страницы, чтобы уве...      3       1   \n",
      "5  Добавить страницу отзывов клиентов о магазине,...      3       2   \n",
      "6  Показать на главной странице баннеры с актуаль...      5       3   \n",
      "7  Добавить форму подписки на все основные страни...     10       7   \n",
      "8  Запустить акцию, дающую скидку на товар в день...      1       9   \n",
      "\n",
      "   Confidence  Efforts  \n",
      "0           8        6  \n",
      "1           4       10  \n",
      "2           7        3  \n",
      "3           3        8  \n",
      "4           1        1  \n",
      "5           2        3  \n",
      "6           8        3  \n",
      "7           8        5  \n",
      "8           9        5  \n"
     ]
    }
   ],
   "source": [
    "import pandas as pd\n",
    "\n",
    "df = pd.read_csv('https://code.s3.yandex.net/datasets/hypothesis.csv')\n",
    "print(df)"
   ]
  },
  {
   "cell_type": "code",
   "execution_count": 2,
   "metadata": {},
   "outputs": [
    {
     "name": "stdout",
     "output_type": "stream",
     "text": [
      "['Добавить два новых канала привлечения трафика, что позволит привлекать на 30% больше пользователей'\n",
      " 'Запустить собственную службу доставки, что сократит срок доставки заказов'\n",
      " 'Добавить блоки рекомендаций товаров на сайт интернет магазина, чтобы повысить конверсию и средний чек заказа'\n",
      " 'Изменить структура категорий, что увеличит конверсию, т.к. пользователи быстрее найдут нужный товар'\n",
      " 'Изменить цвет фона главной страницы, чтобы увеличить вовлеченность пользователей'\n",
      " 'Добавить страницу отзывов клиентов о магазине, что позволит увеличить количество заказов'\n",
      " 'Показать на главной странице баннеры с актуальными акциями и распродажами, чтобы увеличить конверсию'\n",
      " 'Добавить форму подписки на все основные страницы, чтобы собрать базу клиентов для email-рассылок'\n",
      " 'Запустить акцию, дающую скидку на товар в день рождения']\n"
     ]
    }
   ],
   "source": [
    "print(df['Hypothesis'].unique())"
   ]
  },
  {
   "cell_type": "markdown",
   "metadata": {
    "id": "iEf5bcuvIVNx"
   },
   "source": [
    "## Предобработка данных"
   ]
  },
  {
   "cell_type": "code",
   "execution_count": 3,
   "metadata": {
    "colab": {
     "base_uri": "https://localhost:8080/"
    },
    "id": "Sg8f5VH2HC3L",
    "outputId": "445f64a5-61c9-42d0-8cb0-28af0b6fe1e2"
   },
   "outputs": [
    {
     "name": "stdout",
     "output_type": "stream",
     "text": [
      "<class 'pandas.core.frame.DataFrame'>\n",
      "RangeIndex: 9 entries, 0 to 8\n",
      "Data columns (total 5 columns):\n",
      " #   Column      Non-Null Count  Dtype \n",
      "---  ------      --------------  ----- \n",
      " 0   Hypothesis  9 non-null      object\n",
      " 1   Reach       9 non-null      int64 \n",
      " 2   Impact      9 non-null      int64 \n",
      " 3   Confidence  9 non-null      int64 \n",
      " 4   Efforts     9 non-null      int64 \n",
      "dtypes: int64(4), object(1)\n",
      "memory usage: 488.0+ bytes\n"
     ]
    },
    {
     "data": {
      "text/plain": [
       "Hypothesis    0.0\n",
       "Reach         0.0\n",
       "Impact        0.0\n",
       "Confidence    0.0\n",
       "Efforts       0.0\n",
       "dtype: float64"
      ]
     },
     "execution_count": 3,
     "metadata": {},
     "output_type": "execute_result"
    }
   ],
   "source": [
    "#выведем общую информацию по таблице\n",
    "df.info() \n",
    "# и по проценту пропусков\n",
    "df.isna().mean().sort_values(ascending=False) "
   ]
  },
  {
   "cell_type": "code",
   "execution_count": 4,
   "metadata": {
    "colab": {
     "base_uri": "https://localhost:8080/"
    },
    "id": "VyD0SDQHCrHZ",
    "outputId": "756ecaa0-22e5-4a19-b6e8-f4d2bae9e363"
   },
   "outputs": [
    {
     "name": "stdout",
     "output_type": "stream",
     "text": [
      "<class 'pandas.core.frame.DataFrame'>\n",
      "RangeIndex: 9 entries, 0 to 8\n",
      "Data columns (total 5 columns):\n",
      " #   Column      Non-Null Count  Dtype \n",
      "---  ------      --------------  ----- \n",
      " 0   hypothesis  9 non-null      object\n",
      " 1   reach       9 non-null      int64 \n",
      " 2   impact      9 non-null      int64 \n",
      " 3   confidence  9 non-null      int64 \n",
      " 4   efforts     9 non-null      int64 \n",
      "dtypes: int64(4), object(1)\n",
      "memory usage: 488.0+ bytes\n"
     ]
    }
   ],
   "source": [
    "# привести названия столбцов к нижнему регистру\n",
    "df.columns = df.columns.str.lower()\n",
    "df.info()"
   ]
  },
  {
   "cell_type": "code",
   "execution_count": 5,
   "metadata": {
    "colab": {
     "base_uri": "https://localhost:8080/"
    },
    "id": "MyRR4kZDC5IO",
    "outputId": "a8470b82-2c39-4a42-dce5-938a4c5eb039"
   },
   "outputs": [
    {
     "data": {
      "text/plain": [
       "0"
      ]
     },
     "execution_count": 5,
     "metadata": {},
     "output_type": "execute_result"
    }
   ],
   "source": [
    "#Посмотрим на колличество дубликатов\n",
    "df.duplicated().sum()"
   ]
  },
  {
   "cell_type": "code",
   "execution_count": 6,
   "metadata": {
    "colab": {
     "base_uri": "https://localhost:8080/"
    },
    "id": "kOUs1k3CDelL",
    "outputId": "683bf19e-c88b-4511-9d66-e0baf49e480a"
   },
   "outputs": [
    {
     "name": "stdout",
     "output_type": "stream",
     "text": [
      "                                          hypothesis    ICE\n",
      "8  Запустить акцию, дающую скидку на товар в день...  16.20\n",
      "0  Добавить два новых канала привлечения трафика,...  13.33\n",
      "7  Добавить форму подписки на все основные страни...  11.20\n",
      "6  Показать на главной странице баннеры с актуаль...   8.00\n",
      "2  Добавить блоки рекомендаций товаров на сайт ин...   7.00\n",
      "1  Запустить собственную службу доставки, что сок...   2.00\n",
      "5  Добавить страницу отзывов клиентов о магазине,...   1.33\n",
      "3  Изменить структура категорий, что увеличит кон...   1.12\n",
      "4  Изменить цвет фона главной страницы, чтобы уве...   1.00\n"
     ]
    }
   ],
   "source": [
    "df['ICE'] = (df['impact']*df['confidence'])/df['efforts']\n",
    "print(round((df.loc[:, ['hypothesis', 'ICE']].sort_values(by='ICE', ascending=False)), 2))"
   ]
  },
  {
   "cell_type": "code",
   "execution_count": 7,
   "metadata": {
    "colab": {
     "base_uri": "https://localhost:8080/"
    },
    "id": "MTFz7m96Ej_E",
    "outputId": "7452f47f-f2cf-4ecf-b63e-457859505058"
   },
   "outputs": [
    {
     "name": "stdout",
     "output_type": "stream",
     "text": [
      "                                          hypothesis   RICE\n",
      "7  Добавить форму подписки на все основные страни...  112.0\n",
      "2  Добавить блоки рекомендаций товаров на сайт ин...   56.0\n",
      "0  Добавить два новых канала привлечения трафика,...   40.0\n",
      "6  Показать на главной странице баннеры с актуаль...   40.0\n",
      "8  Запустить акцию, дающую скидку на товар в день...   16.0\n",
      "3  Изменить структура категорий, что увеличит кон...    9.0\n",
      "1  Запустить собственную службу доставки, что сок...    4.0\n",
      "5  Добавить страницу отзывов клиентов о магазине,...    4.0\n",
      "4  Изменить цвет фона главной страницы, чтобы уве...    3.0 2\n"
     ]
    }
   ],
   "source": [
    "df['RICE'] = (df['reach']*df['impact']*df['confidence'])/df['efforts']\n",
    "print(round(df.loc[:, ['hypothesis', 'RICE']].sort_values(by='RICE', ascending=False)), 2)"
   ]
  },
  {
   "cell_type": "markdown",
   "metadata": {
    "id": "MH8_ztU6IPCu"
   },
   "source": [
    "## Вывод\n",
    "\n",
    "- При применении способа приоретизации гипотез ICE лидерами стали гипотезы номер 8, 0, 7.\n",
    "- При применении способа приоретизации гипотез RICE лидерами стали гипотезы номер 7, 2, 0. На изменеия приоритета влияет параметр Reach (Охват пользователей)\n",
    "\n",
    "Рекомендуем в первую очерень проверять гипотезы:\n",
    "\n",
    "#7. Добавить форму подписки на все основные страницы, чтобы собрать базу клиентов для email-рассылок,\n",
    "\n",
    "#0. Добавить два новых канала привлечения трафика, что позволит привлекать на 30% больше пользователей, \n",
    "\n",
    "#8. Запустить акцию, дающую скидку на товар в день рождения, \n",
    "\n",
    "#2. Добавить блоки рекомендаций товаров на сайт интернет магазина, чтобы повысить конверсию и средний чек заказа."
   ]
  },
  {
   "cell_type": "markdown",
   "metadata": {
    "id": "tKolg4YoFU_7"
   },
   "source": [
    "## Часть 2\n",
    "\n",
    "## Анализ A/B-теста\n",
    "Мы провели A/B-тест и получили результаты, которые описаны в файлах /datasets/orders.csv и /datasets/visitors.csv.\n",
    "Задача\n",
    "Проанализировать A/B-тест."
   ]
  },
  {
   "cell_type": "code",
   "execution_count": 2,
   "metadata": {
    "id": "_GMV9GG6FXfi"
   },
   "outputs": [],
   "source": [
    "import pandas as pd\n",
    "import scipy.stats as stats\n",
    "import datetime as dt\n",
    "import numpy as np\n",
    "import matplotlib.pyplot as plt\n",
    "\n",
    "\n",
    "orders = pd.read_csv('https://code.s3.yandex.net/datasets/orders.csv')\n",
    "visitors = pd.read_csv('https://code.s3.yandex.net/datasets/visitors.csv')"
   ]
  },
  {
   "cell_type": "markdown",
   "metadata": {
    "id": "C2TFuCtQIHnc"
   },
   "source": [
    "## Предобработка данных"
   ]
  },
  {
   "cell_type": "code",
   "execution_count": 3,
   "metadata": {
    "colab": {
     "base_uri": "https://localhost:8080/",
     "height": 206
    },
    "id": "082ravfmFulC",
    "outputId": "22019a1c-d179-4249-f074-16f8997c971e"
   },
   "outputs": [
    {
     "data": {
      "text/html": [
       "<div>\n",
       "<style scoped>\n",
       "    .dataframe tbody tr th:only-of-type {\n",
       "        vertical-align: middle;\n",
       "    }\n",
       "\n",
       "    .dataframe tbody tr th {\n",
       "        vertical-align: top;\n",
       "    }\n",
       "\n",
       "    .dataframe thead th {\n",
       "        text-align: right;\n",
       "    }\n",
       "</style>\n",
       "<table border=\"1\" class=\"dataframe\">\n",
       "  <thead>\n",
       "    <tr style=\"text-align: right;\">\n",
       "      <th></th>\n",
       "      <th>transactionId</th>\n",
       "      <th>visitorId</th>\n",
       "      <th>date</th>\n",
       "      <th>revenue</th>\n",
       "      <th>group</th>\n",
       "    </tr>\n",
       "  </thead>\n",
       "  <tbody>\n",
       "    <tr>\n",
       "      <th>0</th>\n",
       "      <td>3667963787</td>\n",
       "      <td>3312258926</td>\n",
       "      <td>2019-08-15</td>\n",
       "      <td>1650</td>\n",
       "      <td>B</td>\n",
       "    </tr>\n",
       "    <tr>\n",
       "      <th>1</th>\n",
       "      <td>2804400009</td>\n",
       "      <td>3642806036</td>\n",
       "      <td>2019-08-15</td>\n",
       "      <td>730</td>\n",
       "      <td>B</td>\n",
       "    </tr>\n",
       "    <tr>\n",
       "      <th>2</th>\n",
       "      <td>2961555356</td>\n",
       "      <td>4069496402</td>\n",
       "      <td>2019-08-15</td>\n",
       "      <td>400</td>\n",
       "      <td>A</td>\n",
       "    </tr>\n",
       "    <tr>\n",
       "      <th>3</th>\n",
       "      <td>3797467345</td>\n",
       "      <td>1196621759</td>\n",
       "      <td>2019-08-15</td>\n",
       "      <td>9759</td>\n",
       "      <td>B</td>\n",
       "    </tr>\n",
       "    <tr>\n",
       "      <th>4</th>\n",
       "      <td>2282983706</td>\n",
       "      <td>2322279887</td>\n",
       "      <td>2019-08-15</td>\n",
       "      <td>2308</td>\n",
       "      <td>B</td>\n",
       "    </tr>\n",
       "  </tbody>\n",
       "</table>\n",
       "</div>"
      ],
      "text/plain": [
       "   transactionId   visitorId        date  revenue group\n",
       "0     3667963787  3312258926  2019-08-15     1650     B\n",
       "1     2804400009  3642806036  2019-08-15      730     B\n",
       "2     2961555356  4069496402  2019-08-15      400     A\n",
       "3     3797467345  1196621759  2019-08-15     9759     B\n",
       "4     2282983706  2322279887  2019-08-15     2308     B"
      ]
     },
     "execution_count": 3,
     "metadata": {},
     "output_type": "execute_result"
    }
   ],
   "source": [
    "orders.head()"
   ]
  },
  {
   "cell_type": "code",
   "execution_count": 4,
   "metadata": {
    "colab": {
     "base_uri": "https://localhost:8080/",
     "height": 206
    },
    "id": "mqBqaXWHFzut",
    "outputId": "b1b5c1ef-0cc5-46c5-a69a-238749dabe75"
   },
   "outputs": [
    {
     "data": {
      "text/html": [
       "<div>\n",
       "<style scoped>\n",
       "    .dataframe tbody tr th:only-of-type {\n",
       "        vertical-align: middle;\n",
       "    }\n",
       "\n",
       "    .dataframe tbody tr th {\n",
       "        vertical-align: top;\n",
       "    }\n",
       "\n",
       "    .dataframe thead th {\n",
       "        text-align: right;\n",
       "    }\n",
       "</style>\n",
       "<table border=\"1\" class=\"dataframe\">\n",
       "  <thead>\n",
       "    <tr style=\"text-align: right;\">\n",
       "      <th></th>\n",
       "      <th>date</th>\n",
       "      <th>group</th>\n",
       "      <th>visitors</th>\n",
       "    </tr>\n",
       "  </thead>\n",
       "  <tbody>\n",
       "    <tr>\n",
       "      <th>0</th>\n",
       "      <td>2019-08-01</td>\n",
       "      <td>A</td>\n",
       "      <td>719</td>\n",
       "    </tr>\n",
       "    <tr>\n",
       "      <th>1</th>\n",
       "      <td>2019-08-02</td>\n",
       "      <td>A</td>\n",
       "      <td>619</td>\n",
       "    </tr>\n",
       "    <tr>\n",
       "      <th>2</th>\n",
       "      <td>2019-08-03</td>\n",
       "      <td>A</td>\n",
       "      <td>507</td>\n",
       "    </tr>\n",
       "    <tr>\n",
       "      <th>3</th>\n",
       "      <td>2019-08-04</td>\n",
       "      <td>A</td>\n",
       "      <td>717</td>\n",
       "    </tr>\n",
       "    <tr>\n",
       "      <th>4</th>\n",
       "      <td>2019-08-05</td>\n",
       "      <td>A</td>\n",
       "      <td>756</td>\n",
       "    </tr>\n",
       "  </tbody>\n",
       "</table>\n",
       "</div>"
      ],
      "text/plain": [
       "         date group  visitors\n",
       "0  2019-08-01     A       719\n",
       "1  2019-08-02     A       619\n",
       "2  2019-08-03     A       507\n",
       "3  2019-08-04     A       717\n",
       "4  2019-08-05     A       756"
      ]
     },
     "execution_count": 4,
     "metadata": {},
     "output_type": "execute_result"
    }
   ],
   "source": [
    "visitors.head()"
   ]
  },
  {
   "cell_type": "code",
   "execution_count": 5,
   "metadata": {
    "colab": {
     "base_uri": "https://localhost:8080/"
    },
    "id": "fZK6uiggF3go",
    "outputId": "bc6567ba-39dd-4e4a-b945-aae13bf60509"
   },
   "outputs": [
    {
     "name": "stdout",
     "output_type": "stream",
     "text": [
      "<class 'pandas.core.frame.DataFrame'>\n",
      "RangeIndex: 1197 entries, 0 to 1196\n",
      "Data columns (total 5 columns):\n",
      " #   Column         Non-Null Count  Dtype \n",
      "---  ------         --------------  ----- \n",
      " 0   transactionId  1197 non-null   int64 \n",
      " 1   visitorId      1197 non-null   int64 \n",
      " 2   date           1197 non-null   object\n",
      " 3   revenue        1197 non-null   int64 \n",
      " 4   group          1197 non-null   object\n",
      "dtypes: int64(3), object(2)\n",
      "memory usage: 46.9+ KB\n"
     ]
    },
    {
     "data": {
      "text/plain": [
       "transactionId    0.0\n",
       "visitorId        0.0\n",
       "date             0.0\n",
       "revenue          0.0\n",
       "group            0.0\n",
       "dtype: float64"
      ]
     },
     "execution_count": 5,
     "metadata": {},
     "output_type": "execute_result"
    }
   ],
   "source": [
    "#выведем общую информацию по таблице\n",
    "orders.info()\n",
    "# и по проценту пропусков\n",
    "orders.isna().mean().sort_values(ascending=False) "
   ]
  },
  {
   "cell_type": "code",
   "execution_count": 6,
   "metadata": {
    "id": "9Urp8rsjGbNP"
   },
   "outputs": [],
   "source": [
    "orders['date'] = pd.to_datetime(\n",
    "    orders['date'], format='%Y-%m-%d'\n",
    ")"
   ]
  },
  {
   "cell_type": "code",
   "execution_count": 7,
   "metadata": {
    "colab": {
     "base_uri": "https://localhost:8080/"
    },
    "id": "3_ZQxJkjIbI7",
    "outputId": "3a7ec722-91e6-41ab-9533-356f556ebaad"
   },
   "outputs": [
    {
     "data": {
      "text/plain": [
       "0"
      ]
     },
     "execution_count": 7,
     "metadata": {},
     "output_type": "execute_result"
    }
   ],
   "source": [
    "#Посмотрим на колличество дубликатов\n",
    "orders.duplicated().sum()"
   ]
  },
  {
   "cell_type": "markdown",
   "metadata": {},
   "source": [
    "## Анадиз данных"
   ]
  },
  {
   "cell_type": "code",
   "execution_count": 8,
   "metadata": {
    "colab": {
     "base_uri": "https://localhost:8080/"
    },
    "id": "dCJkpL5iHXye",
    "outputId": "3db4295a-010d-41a2-e804-74bba7e9bae9"
   },
   "outputs": [
    {
     "name": "stdout",
     "output_type": "stream",
     "text": [
      "<class 'pandas.core.frame.DataFrame'>\n",
      "RangeIndex: 62 entries, 0 to 61\n",
      "Data columns (total 3 columns):\n",
      " #   Column    Non-Null Count  Dtype \n",
      "---  ------    --------------  ----- \n",
      " 0   date      62 non-null     object\n",
      " 1   group     62 non-null     object\n",
      " 2   visitors  62 non-null     int64 \n",
      "dtypes: int64(1), object(2)\n",
      "memory usage: 1.6+ KB\n"
     ]
    },
    {
     "data": {
      "text/plain": [
       "date        0.0\n",
       "group       0.0\n",
       "visitors    0.0\n",
       "dtype: float64"
      ]
     },
     "execution_count": 8,
     "metadata": {},
     "output_type": "execute_result"
    }
   ],
   "source": [
    "#выведем общую информацию по таблице\n",
    "visitors.info()\n",
    "# и по проценту пропусков\n",
    "visitors.isna().mean().sort_values(ascending=False) "
   ]
  },
  {
   "cell_type": "code",
   "execution_count": 9,
   "metadata": {
    "id": "fOikLJ6jH7QF"
   },
   "outputs": [],
   "source": [
    "visitors['date'] = pd.to_datetime(\n",
    "    visitors['date'], format='%Y-%m-%d'\n",
    ")"
   ]
  },
  {
   "cell_type": "code",
   "execution_count": 10,
   "metadata": {
    "colab": {
     "base_uri": "https://localhost:8080/"
    },
    "id": "x8l03CCUICvm",
    "outputId": "18f2c7dc-1716-4844-a9fb-f077c03d82ee"
   },
   "outputs": [
    {
     "data": {
      "text/plain": [
       "0"
      ]
     },
     "execution_count": 10,
     "metadata": {},
     "output_type": "execute_result"
    }
   ],
   "source": [
    "#Посмотрим на колличество дубликатов\n",
    "visitors.duplicated().sum()"
   ]
  },
  {
   "cell_type": "code",
   "execution_count": 58,
   "metadata": {},
   "outputs": [
    {
     "name": "stdout",
     "output_type": "stream",
     "text": [
      "       visitorId   group\n",
      "0        5114589     [B]\n",
      "1        6958315     [B]\n",
      "2        8300375  [B, A]\n",
      "3       11685486     [A]\n",
      "4       39475350     [B]\n",
      "...          ...     ...\n",
      "1026  4266935830  [A, B]\n",
      "1027  4278982564     [A]\n",
      "1028  4279090005     [B]\n",
      "1029  4281247801     [B]\n",
      "1030  4283872382     [B]\n",
      "\n",
      "[1031 rows x 2 columns]\n"
     ]
    }
   ],
   "source": [
    "ordersByGroups = (\n",
    "    orders.groupby('visitorId', as_index=False)\n",
    "    .agg({'group': 'unique'})\n",
    ")\n",
    "\n",
    "ordersByGroups.columns = ['visitorId', 'group']\n",
    "\n",
    "print(ordersByGroups)\n"
   ]
  },
  {
   "cell_type": "markdown",
   "metadata": {},
   "source": [
    "Видим пользователей попавших в обе группы теста. Оставим их на месте"
   ]
  },
  {
   "cell_type": "code",
   "execution_count": 17,
   "metadata": {},
   "outputs": [
    {
     "name": "stdout",
     "output_type": "stream",
     "text": [
      "['A' 'B']\n",
      "['B' 'A']\n"
     ]
    }
   ],
   "source": [
    "print(visitors['group'].unique())\n",
    "print(orders['group'].unique())"
   ]
  },
  {
   "cell_type": "markdown",
   "metadata": {
    "id": "YM6DCXdrjih2"
   },
   "source": [
    "### Постройте график кумулятивной выручки по группам. Сделайте выводы и предположения.\n",
    "\n",
    "\n",
    "Создадим массив уникальных пар значений дат и групп теста методом drop_duplicates():"
   ]
  },
  {
   "cell_type": "code",
   "execution_count": 18,
   "metadata": {
    "id": "G5GiCIkgjjPb"
   },
   "outputs": [],
   "source": [
    "# создаем массив уникальных пар значений дат и групп теста\n",
    "datesGroups = orders[['date','group']].drop_duplicates()"
   ]
  },
  {
   "cell_type": "markdown",
   "metadata": {
    "id": "_Au0vF_gjnKN"
   },
   "source": [
    "### Соберём агрегированные кумулятивные по дням данные о заказах "
   ]
  },
  {
   "cell_type": "code",
   "execution_count": 19,
   "metadata": {
    "colab": {
     "base_uri": "https://localhost:8080/"
    },
    "id": "m3WTcFX9jnrj",
    "outputId": "8dc01540-7686-4213-de6e-15e4d8d770ff"
   },
   "outputs": [
    {
     "name": "stdout",
     "output_type": "stream",
     "text": [
      "        date group  orders  buyers  revenue  visitors\n",
      "0 2019-08-01     A      24      20   148579       719\n",
      "1 2019-08-01     B      21      20   101217       713\n",
      "2 2019-08-02     A      44      38   242401      1338\n",
      "3 2019-08-02     B      45      43   266748      1294\n",
      "4 2019-08-03     A      68      62   354874      1845\n"
     ]
    }
   ],
   "source": [
    "ordersAggregated = datesGroups.apply(lambda x: orders[np.logical_and(orders['date'] <= x['date'], orders['group'] == x['group'])]\\\n",
    "                                     .agg({'date' : 'max', 'group' : 'max', 'transactionId' : 'nunique', 'visitorId' : 'nunique', 'revenue' : 'sum'}), axis=1).sort_values(by=['date','group']) \n",
    "visitorsAggregated = datesGroups.apply(lambda x: visitors[np.logical_and(visitors['date'] <= x['date'], visitors['group'] == x['group'])].agg({'date' : 'max', 'group' : 'max', 'visitors' : 'sum'}), axis=1).sort_values(by=['date','group']) \n",
    "\n",
    "cumulativeData = ordersAggregated.merge(visitorsAggregated, left_on=['date', 'group'], right_on=['date', 'group'])\n",
    "cumulativeData.columns = ['date', 'group', 'orders', 'buyers', 'revenue', 'visitors']\n",
    "\n",
    "print(cumulativeData.head(5)) \n"
   ]
  },
  {
   "cell_type": "markdown",
   "metadata": {},
   "source": [
    "\n",
    "### Построим графики кумулятивной выручки по дням и группам A/B-тестирования:"
   ]
  },
  {
   "cell_type": "code",
   "execution_count": 20,
   "metadata": {
    "colab": {
     "base_uri": "https://localhost:8080/",
     "height": 294
    },
    "id": "phb3W5WtjogZ",
    "outputId": "c7c4c45b-1111-4f10-e847-bf7bcfd05f03"
   },
   "outputs": [
    {
     "data": {
      "image/png": "[encoded data removed]",
      "text/plain": [
       "<Figure size 432x288 with 1 Axes>"
      ]
     },
     "metadata": {
      "needs_background": "light"
     },
     "output_type": "display_data"
    }
   ],
   "source": [
    "# датафрейм с кумулятивным количеством заказов и кумулятивной выручкой по дням в группе А\n",
    "cumulativeRevenueA = cumulativeData[cumulativeData['group']=='A'][['date','revenue', 'orders']]\n",
    "\n",
    "# датафрейм с кумулятивным количеством заказов и кумулятивной выручкой по дням в группе B\n",
    "cumulativeRevenueB = cumulativeData[cumulativeData['group']=='B'][['date','revenue', 'orders']]\n",
    "\n",
    "# Строим график выручки группы А\n",
    "plt.plot(cumulativeRevenueA['date'], cumulativeRevenueA['revenue'], label='A')\n",
    "\n",
    "# Строим график выручки группы B\n",
    "plt.plot(cumulativeRevenueB['date'], cumulativeRevenueB['revenue'], label='B')\n",
    "\n",
    "plt.xticks(fontsize=10, rotation=45)\n",
    "plt.yticks(fontsize=10)\n",
    "\n",
    "plt.title('Графики кумулятивной выручки по дням и группам')\n",
    "plt.xlabel('Дата')\n",
    "plt.ylabel('Выручка')\n",
    "plt.legend() \n",
    "plt.show()"
   ]
  },
  {
   "cell_type": "markdown",
   "metadata": {},
   "source": [
    "## Вывод 1: \n",
    "Выручка увеличивается в течение всего теста.\n",
    "График выручки группы А растет равномерно, в то время как в группе В мы наблюдаем сильный скачек, что может сигнализировать нам о аномально дорогом заказе или о большом колличестве заказов в одном временном периоде. Проверим далее."
   ]
  },
  {
   "cell_type": "markdown",
   "metadata": {
    "id": "toGkAgG4k9Yc"
   },
   "source": [
    "### 2. Постройте график кумулятивного среднего чека по группам. Сделайте выводы и предположения.\n"
   ]
  },
  {
   "cell_type": "code",
   "execution_count": 21,
   "metadata": {
    "colab": {
     "base_uri": "https://localhost:8080/",
     "height": 283
    },
    "id": "NGU4tP4Zk-QL",
    "outputId": "db9076f3-fccb-4d5f-9f92-9498996a9898"
   },
   "outputs": [
    {
     "data": {
      "image/png": "[encoded data removed]",
      "text/plain": [
       "<Figure size 432x288 with 1 Axes>"
      ]
     },
     "metadata": {
      "needs_background": "light"
     },
     "output_type": "display_data"
    }
   ],
   "source": [
    "plt.plot(cumulativeRevenueA['date'], cumulativeRevenueA['revenue']/cumulativeRevenueA['orders'], label='A')\n",
    "plt.plot(cumulativeRevenueB['date'], cumulativeRevenueB['revenue']/cumulativeRevenueB['orders'], label='B')\n",
    "plt.xticks(fontsize=10, rotation=45)\n",
    "plt.yticks(fontsize=10)\n",
    "\n",
    "plt.title('График кумулятивного среднего чека по группам')\n",
    "plt.xlabel('Дата')\n",
    "plt.ylabel('Средняя выручка')\n",
    "plt.legend() \n",
    "plt.show()"
   ]
  },
  {
   "cell_type": "markdown",
   "metadata": {},
   "source": [
    "## Вывод 2.\n",
    "Средний чек для группы А становится равномерным ближе к концу теста, так же отмеитим одно сильное падение в начале, и следующий за ним резкий рост.\n",
    "Группа В ведет себя более нестабильно. Волнообразны скачки в начале, потом резкий скачек, который мы отмечели и на преъидущем графике, и постепенное выранивание.\n",
    "К концу теста мы видим стабилизацию обеих групп."
   ]
  },
  {
   "cell_type": "markdown",
   "metadata": {
    "id": "CI4Mn1TclVCB"
   },
   "source": [
    "### 3. Постройте график относительного изменения кумулятивного среднего чека группы B к группе A. Сделайте выводы и предположения."
   ]
  },
  {
   "cell_type": "code",
   "execution_count": 22,
   "metadata": {
    "colab": {
     "base_uri": "https://localhost:8080/",
     "height": 283
    },
    "id": "biHCjEyOlVzf",
    "outputId": "159e1c3d-d0c8-4c57-ef5b-ae0b3a010371"
   },
   "outputs": [
    {
     "data": {
      "image/png": "[encoded data removed]",
      "text/plain": [
       "<Figure size 432x288 with 1 Axes>"
      ]
     },
     "metadata": {
      "needs_background": "light"
     },
     "output_type": "display_data"
    }
   ],
   "source": [
    "# собираем данные в одном датафрейме\n",
    "mergedCumulativeRevenue = cumulativeRevenueA.merge(cumulativeRevenueB, left_on='date', right_on='date', how='left', suffixes=['A', 'B'])\n",
    "\n",
    "# cтроим отношение средних чеков\n",
    "plt.plot(mergedCumulativeRevenue['date'], (mergedCumulativeRevenue['revenueB']/mergedCumulativeRevenue['ordersB'])/(mergedCumulativeRevenue['revenueA']/mergedCumulativeRevenue['ordersA'])-1)\n",
    "\n",
    "# добавляем ось X\n",
    "plt.axhline(y=0, color='black', linestyle='--')\n",
    "plt.xticks(fontsize=10, rotation=45)\n",
    "\n",
    "plt.title('Отн. изм. кумулятивного среднего чека B к A.')\n",
    "plt.xlabel('Дата')\n",
    "plt.ylabel('Кумулятивное среднее')\n",
    "plt.show()"
   ]
  },
  {
   "cell_type": "markdown",
   "metadata": {},
   "source": [
    "### Вывод 3.\n",
    "График различия между сегментами резко «скачет». Где-то спрятались крупные заказы и выбросы."
   ]
  },
  {
   "cell_type": "markdown",
   "metadata": {},
   "source": [
    "##  4. Постройте график кумулятивной конверсии по группам. Сделайте выводы и предположения."
   ]
  },
  {
   "cell_type": "code",
   "execution_count": 1,
   "metadata": {
    "colab": {
     "base_uri": "https://localhost:8080/",
     "height": 283
    },
    "id": "VgenmyqRldYo",
    "outputId": "f020f6dc-49dd-4dec-f82e-4f600f970503"
   },
   "outputs": [
    {
     "ename": "NameError",
     "evalue": "name 'cumulativeData' is not defined",
     "output_type": "error",
     "traceback": [
      "\u001b[0;31m---------------------------------------------------------------------------\u001b[0m",
      "\u001b[0;31mNameError\u001b[0m                                 Traceback (most recent call last)",
      "Input \u001b[0;32mIn [1]\u001b[0m, in \u001b[0;36m<cell line: 2>\u001b[0;34m()\u001b[0m\n\u001b[1;32m      1\u001b[0m \u001b[38;5;66;03m# считаем кумулятивную конверсию\u001b[39;00m\n\u001b[0;32m----> 2\u001b[0m cumulativeData[\u001b[38;5;124m'\u001b[39m\u001b[38;5;124mconversion\u001b[39m\u001b[38;5;124m'\u001b[39m] \u001b[38;5;241m=\u001b[39m \u001b[43mcumulativeData\u001b[49m[\u001b[38;5;124m'\u001b[39m\u001b[38;5;124morders\u001b[39m\u001b[38;5;124m'\u001b[39m]\u001b[38;5;241m/\u001b[39mcumulativeData[\u001b[38;5;124m'\u001b[39m\u001b[38;5;124mvisitors\u001b[39m\u001b[38;5;124m'\u001b[39m]\n\u001b[1;32m      4\u001b[0m \u001b[38;5;66;03m# отделяем данные по группе A\u001b[39;00m\n\u001b[1;32m      5\u001b[0m cumulativeDataA \u001b[38;5;241m=\u001b[39m cumulativeData[cumulativeData[\u001b[38;5;124m'\u001b[39m\u001b[38;5;124mgroup\u001b[39m\u001b[38;5;124m'\u001b[39m]\u001b[38;5;241m==\u001b[39m\u001b[38;5;124m'\u001b[39m\u001b[38;5;124mA\u001b[39m\u001b[38;5;124m'\u001b[39m]\n",
      "\u001b[0;31mNameError\u001b[0m: name 'cumulativeData' is not defined"
     ]
    }
   ],
   "source": [
    "# считаем кумулятивную конверсию\n",
    "cumulativeData['conversion'] = cumulativeData['orders']/cumulativeData['visitors']\n",
    "\n",
    "# отделяем данные по группе A\n",
    "cumulativeDataA = cumulativeData[cumulativeData['group']=='A']\n",
    "\n",
    "# отделяем данные по группе B\n",
    "cumulativeDataB = cumulativeData[cumulativeData['group']=='B']\n",
    "\n",
    "# строим графики\n",
    "plt.plot(cumulativeDataA['date'], cumulativeDataA['conversion'], label='A')\n",
    "plt.plot(cumulativeDataB['date'], cumulativeDataB['conversion'], label='B')\n",
    "\n",
    "plt.xticks(fontsize=10, rotation=45)\n",
    "\n",
    "plt.title('График кумулятивной конверсии по группам')\n",
    "plt.xlabel('Дата')\n",
    "plt.ylabel('Кумулятивной конверсия')\n",
    "plt.legend() \n",
    "plt.show()"
   ]
  },
  {
   "cell_type": "markdown",
   "metadata": {},
   "source": [
    "### Вывод 4.\n",
    "\n",
    "Граффик стремится к симметрии. Коннверсия группы В существенно выше чем в группе А. Графики все еще не стабильны."
   ]
  },
  {
   "cell_type": "markdown",
   "metadata": {},
   "source": [
    "### 5.  Постройте график относительного изменения кумулятивной конверсии группы B к группе A. Сделайте выводы и предположения."
   ]
  },
  {
   "cell_type": "code",
   "execution_count": 24,
   "metadata": {},
   "outputs": [
    {
     "data": {
      "image/png": "[encoded data removed]",
      "text/plain": [
       "<Figure size 432x288 with 1 Axes>"
      ]
     },
     "metadata": {
      "needs_background": "light"
     },
     "output_type": "display_data"
    }
   ],
   "source": [
    "mergedCumulativeConversions = cumulativeDataA[['date','conversion']].merge(cumulativeDataB[['date','conversion']], left_on='date', right_on='date', how='left', suffixes=['A', 'B'])\n",
    "\n",
    "plt.plot(mergedCumulativeConversions['date'], mergedCumulativeConversions['conversionB']/mergedCumulativeConversions['conversionA']-1, label=\"Относительный прирост конверсии группы B относительно группы A\")\n",
    "\n",
    "plt.axhline(y=0, color='black', linestyle='--')\n",
    "plt.axhline(y=-0.1, color='grey', linestyle='--')\n",
    "\n",
    "plt.xticks(fontsize=10, rotation=45)\n",
    "\n",
    "plt.title('Отн. изм. кумулятивной конверсии B к A.')\n",
    "plt.xlabel('Дата')\n",
    "plt.ylabel('Кумулятивная конверсия')\n",
    "plt.show()\n"
   ]
  },
  {
   "cell_type": "markdown",
   "metadata": {},
   "source": [
    "Вывод 5.\n",
    "Конверсия в группе В сильно выше. Она все еще колеблица, но на данный момент - растет."
   ]
  },
  {
   "cell_type": "markdown",
   "metadata": {},
   "source": [
    "###  6. Постройте точечный график количества заказов по пользователям. Сделайте выводы и предположения."
   ]
  },
  {
   "cell_type": "markdown",
   "metadata": {
    "id": "lCsUEwpMn8sP"
   },
   "source": [
    "Подсчитаем количество заказов по пользователям и посмотрим на результат:"
   ]
  },
  {
   "cell_type": "code",
   "execution_count": 25,
   "metadata": {
    "colab": {
     "base_uri": "https://localhost:8080/"
    },
    "id": "LImmJkQKn9iI",
    "outputId": "04beb44a-5ab4-4b79-8e59-d19cecb995c8"
   },
   "outputs": [
    {
     "name": "stdout",
     "output_type": "stream",
     "text": [
      "       visitorId  orders\n",
      "1023  4256040402      11\n",
      "591   2458001652      11\n",
      "569   2378935119       9\n",
      "487   2038680547       8\n",
      "44     199603092       5\n",
      "744   3062433592       5\n",
      "55     237748145       5\n",
      "917   3803269165       5\n",
      "299   1230306981       5\n",
      "897   3717692402       5\n"
     ]
    }
   ],
   "source": [
    "ordersByUsers = (\n",
    "    orders.groupby('visitorId', as_index=False)\n",
    "    .agg({'transactionId': 'nunique'})\n",
    ")\n",
    "\n",
    "ordersByUsers.columns = ['visitorId', 'orders']\n",
    "\n",
    "print(ordersByUsers.sort_values(by='orders', ascending=False).head(10))"
   ]
  },
  {
   "cell_type": "markdown",
   "metadata": {
    "id": "N2HfN0c0onbS"
   },
   "source": [
    "Есть пользователи, которые совершали 9 и 11 заказов. Это больше, чем обычный пользователь за неделю.\n",
    "Построим гистрограмму распределения количества заказов на одного пользователя."
   ]
  },
  {
   "cell_type": "code",
   "execution_count": 26,
   "metadata": {
    "colab": {
     "base_uri": "https://localhost:8080/",
     "height": 319
    },
    "id": "UWenquWgotMi",
    "outputId": "366e78cb-d1a0-4d95-b4e3-7ef90ab8ac68",
    "scrolled": true
   },
   "outputs": [
    {
     "data": {
      "image/png": "[encoded data removed]",
      "text/plain": [
       "<Figure size 432x288 with 1 Axes>"
      ]
     },
     "metadata": {
      "needs_background": "light"
     },
     "output_type": "display_data"
    }
   ],
   "source": [
    "plt.hist(ordersByUsers['orders']) \n",
    "plt.title('Распределение количества заказов на одного пользователя')\n",
    "plt.xlabel('Колличество заказов')\n",
    "plt.ylabel('Число пользователей')\n",
    "plt.show()"
   ]
  },
  {
   "cell_type": "markdown",
   "metadata": {
    "id": "oxNtemrDo3QC"
   },
   "source": [
    "### Большинство покупателей заказывали 1-2 раза. Однако доля пользователей с 4-6 заказами тоже имеется.\n",
    "Построим точечную диаграмму числа заказов на одного пользователя:"
   ]
  },
  {
   "cell_type": "code",
   "execution_count": 27,
   "metadata": {
    "colab": {
     "base_uri": "https://localhost:8080/",
     "height": 283
    },
    "id": "jEXjEErCoy-F",
    "outputId": "7c575b93-3884-4b42-e062-d831e57da314"
   },
   "outputs": [
    {
     "data": {
      "image/png": "[encoded data removed]",
      "text/plain": [
       "<Figure size 432x288 with 1 Axes>"
      ]
     },
     "metadata": {
      "needs_background": "light"
     },
     "output_type": "display_data"
    }
   ],
   "source": [
    "x_values = pd.Series(range(0,len(ordersByUsers)))\n",
    "\n",
    "plt.scatter(x_values, ordersByUsers['orders'])\n",
    "plt.title('Распределение количества заказов на одного пользователя')\n",
    "plt.xlabel('Колличество заказов')\n",
    "plt.ylabel('Число пользователей')\n",
    "plt.show()"
   ]
  },
  {
   "cell_type": "markdown",
   "metadata": {
    "id": "GhtBsMjDpKxi"
   },
   "source": [
    "Вывод 6. \n",
    "Много пользователей с 3-6 заказами. Их точная доля не ясна — непонятно, считать их аномалиями или нет.\n",
    "\n",
    "7. Посчитайте 95-й и 99-й перцентили количества заказов на пользователя. Выберите границу для определения аномальных пользователей."
   ]
  },
  {
   "cell_type": "code",
   "execution_count": 28,
   "metadata": {
    "colab": {
     "base_uri": "https://localhost:8080/"
    },
    "id": "pFGrKk1rpS04",
    "outputId": "768b3e76-a28c-4716-f645-9c8002e5dc0c",
    "scrolled": true
   },
   "outputs": [
    {
     "name": "stdout",
     "output_type": "stream",
     "text": [
      "[1. 2. 4.]\n"
     ]
    }
   ],
   "source": [
    "print(np.percentile(ordersByUsers['orders'], [90, 95, 99])) "
   ]
  },
  {
   "cell_type": "markdown",
   "metadata": {
    "id": "nghfyYmMpWk-"
   },
   "source": [
    "Вывод 7.\n",
    "\n",
    "Не более 5% пользователей оформляли больше чем 2 заказа. И 10% пользователей заказывали более одного.\n",
    "Разумно выбрать 2-3 заказа на одного пользователя за верхнюю границу числа заказов, и отсеять аномальные значения."
   ]
  },
  {
   "cell_type": "markdown",
   "metadata": {},
   "source": [
    "8. Постройте точечный график стоимостей заказов. Сделайте выводы и предположения."
   ]
  },
  {
   "cell_type": "code",
   "execution_count": 29,
   "metadata": {
    "colab": {
     "base_uri": "https://localhost:8080/",
     "height": 385
    },
    "id": "ykK-RKd8mZBk",
    "outputId": "8a5a283e-435a-4e65-de05-005cdadb1702"
   },
   "outputs": [
    {
     "data": {
      "image/png": "[encoded data removed]",
      "text/plain": [
       "<Figure size 432x288 with 1 Axes>"
      ]
     },
     "metadata": {
      "needs_background": "light"
     },
     "output_type": "display_data"
    }
   ],
   "source": [
    "plt.hist(orders['revenue'])\n",
    "plt.title('Распределение стоимости заказов на одного пользователя')\n",
    "plt.xlabel('Стоимость заказов')\n",
    "plt.ylabel('Число пользователей')\n",
    "plt.show()"
   ]
  },
  {
   "cell_type": "markdown",
   "metadata": {
    "id": "nHtkwc3Fm58X"
   },
   "source": [
    "Оценим стоимость заказов ещё одним способом:"
   ]
  },
  {
   "cell_type": "code",
   "execution_count": 30,
   "metadata": {
    "colab": {
     "base_uri": "https://localhost:8080/",
     "height": 294
    },
    "id": "vwErOclYm6qc",
    "outputId": "01c5e933-21de-47a4-cf8b-92856e380aa3"
   },
   "outputs": [
    {
     "data": {
      "image/png": "[encoded data removed]",
      "text/plain": [
       "<Figure size 432x288 with 1 Axes>"
      ]
     },
     "metadata": {
      "needs_background": "light"
     },
     "output_type": "display_data"
    }
   ],
   "source": [
    "x_values = pd.Series(range(0,len(orders['revenue'])))\n",
    "plt.scatter(x_values, orders['revenue'])\n",
    "plt.title('Распределение стоимости заказов на одного пользователя')\n",
    "plt.xlabel('Стоимость заказов')\n",
    "plt.ylabel('Число пользователей')\n",
    "plt.show()"
   ]
  },
  {
   "cell_type": "markdown",
   "metadata": {
    "id": "jmoRW7VLnJ7k"
   },
   "source": [
    "Вывод 8.\n",
    "\n",
    "Релультаты подтверждаются, есть 2 аномально дорогих заказа. По графику можно выбрать границу аномальных заказов до 20 000 рублей."
   ]
  },
  {
   "cell_type": "markdown",
   "metadata": {
    "id": "X0E1qFk_ncho"
   },
   "source": [
    "9. Посчитайте 95-й и 99-й перцентили количества заказов на пользователя. Выберите границу для определения аномальных пользователей.\n",
    "Для подсчёта перцентилей применяют метод percentile() библиотеки Numpy:"
   ]
  },
  {
   "cell_type": "code",
   "execution_count": 31,
   "metadata": {
    "colab": {
     "base_uri": "https://localhost:8080/"
    },
    "id": "YE281S3NnoNk",
    "outputId": "752f03a5-577d-4e16-8485-99e2dad2e94e"
   },
   "outputs": [
    {
     "name": "stdout",
     "output_type": "stream",
     "text": [
      "[18168.  28000.  58233.2]\n"
     ]
    }
   ],
   "source": [
    "print(np.percentile(orders['revenue'], [90, 95, 99])) "
   ]
  },
  {
   "cell_type": "markdown",
   "metadata": {
    "id": "k-VuYzHKn05A"
   },
   "source": [
    "Вывод 9.\n",
    "Не более 5% заказов дороже 28000 рублей и не более 1% дороже 58233 рублей. Заказы дороже 25000 можно отнести к аномальным."
   ]
  },
  {
   "cell_type": "markdown",
   "metadata": {},
   "source": [
    "10. Посчитайте статистическую значимость различий в конверсии между группами по «сырым» данным. Сделайте выводы и предположения."
   ]
  },
  {
   "cell_type": "code",
   "execution_count": 32,
   "metadata": {
    "colab": {
     "base_uri": "https://localhost:8080/"
    },
    "id": "0zUbV9a3IgEg",
    "outputId": "29ff33b6-cb7b-4368-80e2-0f47d1e90bc2"
   },
   "outputs": [
    {
     "name": "stdout",
     "output_type": "stream",
     "text": [
      "        date  ordersPerDateA  revenuePerDateA  ordersPerDateB  \\\n",
      "0 2019-08-01              24           148579              21   \n",
      "1 2019-08-02              20            93822              24   \n",
      "2 2019-08-03              24           112473              16   \n",
      "3 2019-08-04              16            70825              17   \n",
      "4 2019-08-05              25           124218              23   \n",
      "\n",
      "   revenuePerDateB  ordersCummulativeA  revenueCummulativeA  \\\n",
      "0           101217                  24               148579   \n",
      "1           165531                  44               242401   \n",
      "2           114248                  68               354874   \n",
      "3           108571                  84               425699   \n",
      "4            92428                 109               549917   \n",
      "\n",
      "   ordersCummulativeB  revenueCummulativeB  visitorsPerDateA  \\\n",
      "0                  21               101217               719   \n",
      "1                  45               266748               619   \n",
      "2                  61               380996               507   \n",
      "3                  78               489567               717   \n",
      "4                 101               581995               756   \n",
      "\n",
      "   visitorsPerDateB  visitorsCummulativeA  visitorsCummulativeB  \n",
      "0               713                   719                   713  \n",
      "1               581                  1338                  1294  \n",
      "2               509                  1845                  1803  \n",
      "3               770                  2562                  2573  \n",
      "4               707                  3318                  3280  \n"
     ]
    }
   ],
   "source": [
    "#Начнём с подготовки данных. Изучите код и устройство таблиц\n",
    "visitorsADaily = visitors[visitors['group'] == 'A'][['date', 'visitors']]\n",
    "visitorsADaily.columns = ['date', 'visitorsPerDateA']\n",
    "\n",
    "visitorsACummulative = visitorsADaily.apply(\n",
    "    lambda x: visitorsADaily[visitorsADaily['date'] <= x['date']].agg(\n",
    "        {'date': 'max', 'visitorsPerDateA': 'sum'}\n",
    "    ),\n",
    "    axis=1,\n",
    ")\n",
    "visitorsACummulative.columns = ['date', 'visitorsCummulativeA']\n",
    "\n",
    "visitorsBDaily = visitors[visitors['group'] == 'B'][['date', 'visitors']]\n",
    "visitorsBDaily.columns = ['date', 'visitorsPerDateB']\n",
    "\n",
    "visitorsBCummulative = visitorsBDaily.apply(\n",
    "    lambda x: visitorsBDaily[visitorsBDaily['date'] <= x['date']].agg(\n",
    "        {'date': 'max', 'visitorsPerDateB': 'sum'}\n",
    "    ),\n",
    "    axis=1,\n",
    ")\n",
    "visitorsBCummulative.columns = ['date', 'visitorsCummulativeB']\n",
    "\n",
    "ordersADaily = (\n",
    "    orders[orders['group'] == 'A'][['date', 'transactionId', 'visitorId', 'revenue']]\n",
    "    .groupby('date', as_index=False)\n",
    "    .agg({'transactionId': pd.Series.nunique, 'revenue': 'sum'})\n",
    ")\n",
    "ordersADaily.columns = ['date', 'ordersPerDateA', 'revenuePerDateA']\n",
    "\n",
    "ordersACummulative = ordersADaily.apply(\n",
    "    lambda x: ordersADaily[ordersADaily['date'] <= x['date']].agg(\n",
    "        {'date': 'max', 'ordersPerDateA': 'sum', 'revenuePerDateA': 'sum'}\n",
    "    ),\n",
    "    axis=1,\n",
    ").sort_values(by=['date'])\n",
    "ordersACummulative.columns = [\n",
    "    'date',\n",
    "    'ordersCummulativeA',\n",
    "    'revenueCummulativeA',\n",
    "]\n",
    "\n",
    "ordersBDaily = (\n",
    "    orders[orders['group'] == 'B'][['date', 'transactionId', 'visitorId', 'revenue']]\n",
    "    .groupby('date', as_index=False)\n",
    "    .agg({'transactionId': pd.Series.nunique, 'revenue': 'sum'})\n",
    ")\n",
    "ordersBDaily.columns = ['date', 'ordersPerDateB', 'revenuePerDateB']\n",
    "\n",
    "ordersBCummulative = ordersBDaily.apply(\n",
    "    lambda x: ordersBDaily[ordersBDaily['date'] <= x['date']].agg(\n",
    "        {'date': 'max', 'ordersPerDateB': 'sum', 'revenuePerDateB': 'sum'}\n",
    "    ),\n",
    "    axis=1,\n",
    ").sort_values(by=['date'])\n",
    "ordersBCummulative.columns = [\n",
    "    'date',\n",
    "    'ordersCummulativeB',\n",
    "    'revenueCummulativeB',\n",
    "]\n",
    "\n",
    "data = (\n",
    "    ordersADaily.merge(\n",
    "        ordersBDaily, left_on='date', right_on='date', how='left'\n",
    "    )\n",
    "    .merge(ordersACummulative, left_on='date', right_on='date', how='left')\n",
    "    .merge(ordersBCummulative, left_on='date', right_on='date', how='left')\n",
    "    .merge(visitorsADaily, left_on='date', right_on='date', how='left')\n",
    "    .merge(visitorsBDaily, left_on='date', right_on='date', how='left')\n",
    "    .merge(visitorsACummulative, left_on='date', right_on='date', how='left')\n",
    "    .merge(visitorsBCummulative, left_on='date', right_on='date', how='left')\n",
    ")\n",
    "\n",
    "print(data.head(5))"
   ]
  },
  {
   "cell_type": "markdown",
   "metadata": {
    "id": "f3bUSc7YeYdH"
   },
   "source": [
    "Создадим переменные ordersByUsersA и ordersByUsersB со столбцами ['userId', 'orders']. В них для пользователей, которые заказывали хотя бы 1 раз, укажем число совершённых заказов."
   ]
  },
  {
   "cell_type": "code",
   "execution_count": 33,
   "metadata": {
    "id": "RzyGtEUJZfd_"
   },
   "outputs": [],
   "source": [
    "ordersByUsersA = (\n",
    "    orders[orders['group'] == 'A']\n",
    "    .groupby('visitorId', as_index=False)\n",
    "    .agg({'transactionId': pd.Series.nunique})\n",
    ")\n",
    "ordersByUsersA.columns = ['visitorId', 'orders']\n",
    "\n",
    "ordersByUsersB = (\n",
    "    orders[orders['group'] == 'B']\n",
    "    .groupby('visitorId', as_index=False)\n",
    "    .agg({'transactionId': pd.Series.nunique})\n",
    ")\n",
    "ordersByUsersB.columns = ['visitorId', 'orders']"
   ]
  },
  {
   "cell_type": "markdown",
   "metadata": {
    "id": "zfeyCWiVekhw"
   },
   "source": [
    "Объявим переменные sampleA и sampleB, в которых пользователям из разных групп будет соответствовать количество заказов. "
   ]
  },
  {
   "cell_type": "code",
   "execution_count": 34,
   "metadata": {
    "colab": {
     "base_uri": "https://localhost:8080/"
    },
    "id": "btStz0Hjds_9",
    "outputId": "48435e3a-eb35-43bc-ff77-44caec04e934"
   },
   "outputs": [
    {
     "data": {
      "text/plain": [
       "0        0\n",
       "1        0\n",
       "2        0\n",
       "3        0\n",
       "4        0\n",
       "        ..\n",
       "18228    0\n",
       "18229    0\n",
       "18230    0\n",
       "18231    0\n",
       "18232    0\n",
       "Name: orders, Length: 18233, dtype: int64"
      ]
     },
     "execution_count": 34,
     "metadata": {},
     "output_type": "execute_result"
    }
   ],
   "source": [
    "pd.Series(0, index=np.arange(data['visitorsPerDateA'].sum() - len(ordersByUsersA['orders'])), name='orders')\n",
    " "
   ]
  },
  {
   "cell_type": "code",
   "execution_count": 35,
   "metadata": {
    "colab": {
     "base_uri": "https://localhost:8080/"
    },
    "id": "OQQGtwSJen3e",
    "outputId": "d2fdc6b7-1d1e-44ab-b5d4-642e4a0cff29"
   },
   "outputs": [
    {
     "data": {
      "text/plain": [
       "[0      1\n",
       " 1      1\n",
       " 2      1\n",
       " 3      1\n",
       " 4      1\n",
       "       ..\n",
       " 498    1\n",
       " 499    7\n",
       " 500    1\n",
       " 501    1\n",
       " 502    1\n",
       " Name: orders, Length: 503, dtype: int64,\n",
       " 0        0\n",
       " 1        0\n",
       " 2        0\n",
       " 3        0\n",
       " 4        0\n",
       "         ..\n",
       " 18228    0\n",
       " 18229    0\n",
       " 18230    0\n",
       " 18231    0\n",
       " 18232    0\n",
       " Name: orders, Length: 18233, dtype: int64]"
      ]
     },
     "execution_count": 35,
     "metadata": {},
     "output_type": "execute_result"
    }
   ],
   "source": [
    "[ordersByUsersA['orders'],pd.Series(0, index=np.arange(data['visitorsPerDateA'].sum() - len(ordersByUsersA['orders'])), name='orders')]"
   ]
  },
  {
   "cell_type": "code",
   "execution_count": 36,
   "metadata": {
    "id": "g-MbPbR5evri"
   },
   "outputs": [],
   "source": [
    "#Дальше передадим аргумент, сообщающий, что объекты Series нужно объединить по строкам (то есть записать подряд): pd.concat([...], axis=0). То же делаем для sampleB и получаем:\n",
    "sampleA = pd.concat([ordersByUsersA['orders'],pd.Series(0, index=np.arange(data['visitorsPerDateA'].sum() - len(ordersByUsersA['orders'])), name='orders')],axis=0)\n",
    "\n",
    "sampleB = pd.concat([ordersByUsersB['orders'],pd.Series(0, index=np.arange(data['visitorsPerDateB'].sum() - len(ordersByUsersB['orders'])), name='orders')],axis=0) \n"
   ]
  },
  {
   "cell_type": "markdown",
   "metadata": {},
   "source": [
    "Нулевая гипотеза: \"Существуют статистически значимые различия в конверсии между группами\"\n",
    "\n",
    "Альтернативная гипотеза: \"Не существует статистически значимых различия в конверсии между группам\""
   ]
  },
  {
   "cell_type": "code",
   "execution_count": 37,
   "metadata": {
    "colab": {
     "base_uri": "https://localhost:8080/"
    },
    "id": "BIVIpezIe1Jn",
    "outputId": "02692ae1-4b4c-4302-c722-bda4ef9b6190"
   },
   "outputs": [
    {
     "name": "stdout",
     "output_type": "stream",
     "text": [
      " p-value = 0.017\n",
      " Относительный прирост среднего группы B к конверсии группы А: 0.138\n"
     ]
    }
   ],
   "source": [
    "ordersByUsersA = (\n",
    "    orders[orders['group'] == 'A']\n",
    "    .groupby('visitorId', as_index=False)\n",
    "    .agg({'transactionId': pd.Series.nunique})\n",
    ")\n",
    "ordersByUsersA.columns = ['visitorId', 'orders']\n",
    "\n",
    "ordersByUsersB = (\n",
    "    orders[orders['group'] == 'B']\n",
    "    .groupby('visitorId', as_index=False)\n",
    "    .agg({'transactionId': pd.Series.nunique})\n",
    ")\n",
    "ordersByUsersB.columns = ['visitorId', 'orders']\n",
    "\n",
    "sampleA = pd.concat(\n",
    "    [\n",
    "        ordersByUsersA['orders'],\n",
    "        pd.Series(\n",
    "            0,\n",
    "            index=np.arange(\n",
    "                data['visitorsPerDateA'].sum() - len(ordersByUsersA['orders'])\n",
    "            ),\n",
    "            name='orders',\n",
    "        ),\n",
    "    ],\n",
    "    axis=0,\n",
    ")\n",
    "\n",
    "sampleB = pd.concat(\n",
    "    [\n",
    "        ordersByUsersB['orders'],\n",
    "        pd.Series(\n",
    "            0,\n",
    "            index=np.arange(\n",
    "                data['visitorsPerDateB'].sum() - len(ordersByUsersB['orders'])\n",
    "            ),\n",
    "            name='orders',\n",
    "        ),\n",
    "    ],\n",
    "    axis=0,\n",
    ")\n",
    "\n",
    "pvalue = \"{0:.3f}\".format(stats.mannwhitneyu(sampleA, sampleB)[1])\n",
    "i = \"{0:.3f}\".format(sampleB.mean() / sampleA.mean() - 1)\n",
    "\n",
    "print(f' p-value = {pvalue}')\n",
    "\n",
    "print(f' Относительный прирост среднего группы B к конверсии группы А: {i}')\n"
   ]
  },
  {
   "cell_type": "markdown",
   "metadata": {
    "id": "OwnTsSOofTL9"
   },
   "source": [
    "Вывод 10.\n",
    "\n",
    "По «сырым» данным различий в среднем числе заказов групп A и B нет.\n",
    "Первое число — p-value = 0.017 меньше 0.05. Значит, нулевую гипотезу о том, что статистически значимых различий в конверсии между группами нет, можем отвергнуть. Относительный прирост среднего группы B к конверсии группы А равен 13.8%"
   ]
  },
  {
   "cell_type": "markdown",
   "metadata": {
    "id": "6SMfrv4VfvBa"
   },
   "source": [
    "11. Посчитайте статистическую значимость различий в среднем чеке заказа между группами по «сырым» данным. Сделайте выводы и предположения."
   ]
  },
  {
   "cell_type": "markdown",
   "metadata": {},
   "source": [
    "Нулевая гипотеза: \"Существуют статистически значимые различия в среднем числе заказов между группами\"\n",
    "\n",
    "Альтернативная гипотеза: \"Не существует статистически значимых различия в среднем числе заказов между группами\""
   ]
  },
  {
   "cell_type": "code",
   "execution_count": null,
   "metadata": {
    "colab": {
     "base_uri": "https://localhost:8080/"
    },
    "id": "URuT3_Z3fR4R",
    "outputId": "9ea5e504-16ff-48d7-f87a-339fc8a0be3a"
   },
   "outputs": [],
   "source": [
    "pv= '{0:.3f}'.format(stats.mannwhitneyu(orders[orders['group']=='A']['revenue'], orders[orders['group']=='B']['revenue'])[1])      \n",
    "a='{0:.3f}'.format(orders[orders['group']=='B']['revenue'].mean()/orders[orders['group']=='A']['revenue'].mean()-1)\n",
    "print(f'P-value = {pv}')\n",
    "print(f'Отношение среднего чеков = {a}')"
   ]
  },
  {
   "cell_type": "markdown",
   "metadata": {
    "id": "T2He0-CXf0T9"
   },
   "source": [
    "Вывод 11.\n",
    "P-value больше 0.05. Значит, причин отвергать нулевую гипотезу и считать, что в среднем чеке есть различия, нет. \n",
    "\n",
    "Но средний чек группы B  выше среднего чека группы A на 25,9% что существенно."
   ]
  },
  {
   "cell_type": "markdown",
   "metadata": {
    "id": "ao8EUi3GgGQa"
   },
   "source": [
    "12. Посчитайте статистическую значимость различий в конверсии между группами по «очищенным» данным. Сделайте выводы и предположения.\n",
    "Узнаем, сколько всего аномальных пользователей атрибутом shape."
   ]
  },
  {
   "cell_type": "code",
   "execution_count": 39,
   "metadata": {
    "colab": {
     "base_uri": "https://localhost:8080/"
    },
    "id": "KxaP928WfxTt",
    "outputId": "3d40ccdb-21ac-4dd9-de43-8f8a8ca08f72"
   },
   "outputs": [
    {
     "name": "stdout",
     "output_type": "stream",
     "text": [
      "568     113298937\n",
      "1099    148427295\n",
      "461     154576532\n",
      "928     204675465\n",
      "684     358944393\n",
      "Name: visitorId, dtype: int64\n",
      "86\n"
     ]
    }
   ],
   "source": [
    "usersWithManyOrders = pd.concat(\n",
    "    [\n",
    "        ordersByUsersA[ordersByUsersA['orders'] > 4]['visitorId'],\n",
    "        ordersByUsersB[ordersByUsersB['orders'] > 4]['visitorId'],\n",
    "    ],\n",
    "    axis=0,\n",
    ")\n",
    "usersWithExpensiveOrders = orders[orders['revenue'] > 20000]['visitorId']\n",
    "abnormalUsers = (\n",
    "    pd.concat([usersWithManyOrders, usersWithExpensiveOrders], axis=0)\n",
    "    .drop_duplicates()\n",
    "    .sort_values()\n",
    ")\n",
    "print(abnormalUsers.head(5))\n",
    "print(Всего {abnormalUsers.shape[0]} аномальных пользователей )"
   ]
  },
  {
   "cell_type": "markdown",
   "metadata": {
    "id": "GULLfNT0gUym"
   },
   "source": [
    "Всего 86 аномальных пользователей."
   ]
  },
  {
   "cell_type": "markdown",
   "metadata": {
    "id": "JFMAoI5bgZCN"
   },
   "source": [
    "Узнаем, как их действия повлияли на результаты теста. Посчитаем статистическую значимость различий в среднем количестве заказов между группами теста по очищенным данным. Сначала подготовим выборки количества заказов по пользователям по группам теста:"
   ]
  },
  {
   "cell_type": "code",
   "execution_count": 40,
   "metadata": {
    "id": "Oqx06LIqgILB"
   },
   "outputs": [],
   "source": [
    "sampleAFiltered = pd.concat(\n",
    "    [\n",
    "        ordersByUsersA[\n",
    "            np.logical_not(ordersByUsersA['visitorId'].isin(abnormalUsers))\n",
    "        ]['orders'],\n",
    "        pd.Series(\n",
    "            0,\n",
    "            index=np.arange(\n",
    "                data['visitorsPerDateA'].sum() - len(ordersByUsersA['orders'])\n",
    "            ),\n",
    "            name='orders',\n",
    "        ),\n",
    "    ],\n",
    "    axis=0,\n",
    ")\n",
    "\n",
    "sampleBFiltered = pd.concat(\n",
    "    [\n",
    "        ordersByUsersB[\n",
    "            np.logical_not(ordersByUsersB['visitorId'].isin(abnormalUsers))\n",
    "        ]['orders'],\n",
    "        pd.Series(\n",
    "            0,\n",
    "            index=np.arange(\n",
    "                data['visitorsPerDateB'].sum() - len(ordersByUsersB['orders'])\n",
    "            ),\n",
    "            name='orders',\n",
    "        ),\n",
    "    ],\n",
    "    axis=0,\n",
    ")"
   ]
  },
  {
   "cell_type": "markdown",
   "metadata": {
    "id": "PrdXPxX_gnmP"
   },
   "source": [
    "Применим статистический критерий Манна-Уитни к полученным выборкам:"
   ]
  },
  {
   "cell_type": "markdown",
   "metadata": {},
   "source": [
    "Нулевая гипотеза: \"Существуют статистически значимые различия в конверсии между группами по \"очищенным данным\"\"\n",
    "\n",
    "Альтернативная гипотеза: \"Не существует статистически значимых различия в конверсии между группампо \"очищенным данным\"\""
   ]
  },
  {
   "cell_type": "markdown",
   "metadata": {},
   "source": [
    "<div class=\"alert alert-danger\">\n",
    "<b>Комментарий ревьюера ❌:</b> Но тут все же снова нужно указать, для каких гипотез мы проводим этот тест </div>\n",
    "<div class=\"alert alert-info\"> <b>Комментарий студента:</b> Поправила </div>"
   ]
  },
  {
   "cell_type": "markdown",
   "metadata": {},
   "source": [
    "<div class=\"alert alert-success\">\n",
    "<b>Комментарий ревьюера v 2.0 ✔️:</b> Гипотезы указаны"
   ]
  },
  {
   "cell_type": "code",
   "execution_count": 41,
   "metadata": {
    "colab": {
     "base_uri": "https://localhost:8080/"
    },
    "id": "b1lg8PiJga_5",
    "outputId": "c57686fa-2859-46e3-a3e7-7b7233f0327f"
   },
   "outputs": [
    {
     "name": "stdout",
     "output_type": "stream",
     "text": [
      "0.023\n",
      "0.149\n"
     ]
    }
   ],
   "source": [
    "print('{0:.3f}'.format(stats.mannwhitneyu(sampleAFiltered, sampleBFiltered)[1]))\n",
    "print('{0:.3f}'.format(sampleBFiltered.mean()/sampleAFiltered.mean()-1))"
   ]
  },
  {
   "cell_type": "markdown",
   "metadata": {
    "id": "3A4GPhG-gs4P"
   },
   "source": [
    "Выводы 12.\n",
    "\n",
    "Результаты по среднему количеству заказов схожи.\n",
    "После фильтрации данных конверсия в группе В выросла до 14,9%\n"
   ]
  },
  {
   "cell_type": "markdown",
   "metadata": {},
   "source": [
    "<div class=\"alert alert-block alert-warning\">\n",
    "    \n",
    "<b>Комментарий ревьюера:</b> Следует избегать в выводах объективных суждений, типа \"лучше\". После фильтрации данных конверсия в группе В выросла до 14,9%. Лучше В или хуже - это уже отдельное обсуждение, в результатах проекта.\n",
    "</div>"
   ]
  },
  {
   "cell_type": "markdown",
   "metadata": {},
   "source": [
    "13. Посчитайте статистическую значимость различий в среднем чеке заказа между группами по «очищенным» данным. Сделайте выводы и предположения."
   ]
  },
  {
   "cell_type": "code",
   "execution_count": 42,
   "metadata": {
    "colab": {
     "base_uri": "https://localhost:8080/"
    },
    "id": "x9mpA-a9gp0y",
    "outputId": "4ef7c731-75c8-4e30-f44c-e6ecfdbdeb89"
   },
   "outputs": [
    {
     "name": "stdout",
     "output_type": "stream",
     "text": [
      "0.866\n",
      "-0.002\n"
     ]
    },
    {
     "data": {
      "text/plain": [
       "0.259"
      ]
     },
     "execution_count": 42,
     "metadata": {},
     "output_type": "execute_result"
    }
   ],
   "source": [
    "print(\n",
    "    '{0:.3f}'.format(\n",
    "        stats.mannwhitneyu(\n",
    "            orders[\n",
    "                np.logical_and(\n",
    "                    orders['group'] == 'A',\n",
    "                    np.logical_not(orders['visitorId'].isin(abnormalUsers)),\n",
    "                )\n",
    "            ]['revenue'],\n",
    "            orders[\n",
    "                np.logical_and(\n",
    "                    orders['group'] == 'B',\n",
    "                    np.logical_not(orders['visitorId'].isin(abnormalUsers)),\n",
    "                )\n",
    "            ]['revenue'],\n",
    "        )[1]\n",
    "    )\n",
    ")\n",
    "\n",
    "print(\n",
    "    \"{0:.3f}\".format(\n",
    "        orders[\n",
    "            np.logical_and(\n",
    "                orders['group'] == 'B',\n",
    "                np.logical_not(orders['visitorId'].isin(abnormalUsers)),\n",
    "            )\n",
    "        ]['revenue'].mean()\n",
    "        / orders[\n",
    "            np.logical_and(\n",
    "                orders['group'] == 'A',\n",
    "                np.logical_not(orders['visitorId'].isin(abnormalUsers)),\n",
    "            )\n",
    "        ]['revenue'].mean()\n",
    "        - 1\n",
    "    )\n",
    ")\n",
    "\n",
    "0.729\n",
    "0.259"
   ]
  },
  {
   "cell_type": "markdown",
   "metadata": {},
   "source": [
    "<div class=\"alert alert-danger\">\n",
    "<b>Комментарий ревьюера ❌:</b> И снова обращу твое внимание на формулировку гипотез) </div>\n",
    "<div class=\"alert alert-info\"> <b>Комментарий студента:</b> Поправила </div>"
   ]
  },
  {
   "cell_type": "markdown",
   "metadata": {},
   "source": [
    "<div class=\"alert alert-success\">\n",
    "<b>Комментарий ревьюера v 2.0 ✔️:</b> Здесь тоже теперь все есть"
   ]
  },
  {
   "cell_type": "markdown",
   "metadata": {},
   "source": [
    "Нулевая гипотеза: \"Существуют статистически значимые различия в среднем числе заказов между группами по \"очищенным данным\"\"\n",
    "\n",
    "Альтернативная гипотеза: \"Не существует статистически значимых различия в среднем числе заказов между группами по \"очищенным данным\"\""
   ]
  },
  {
   "cell_type": "markdown",
   "metadata": {
    "id": "wxmW6V_og7Vx"
   },
   "source": [
    "Вывод 13.\n",
    "P-value увеличился, но и разница между сегментами сократилась с 29% до 0.02% в пользу А сектора.\n",
    "Видимо данные сильно искажены по аномально дорогим заказам.\n"
   ]
  },
  {
   "cell_type": "markdown",
   "metadata": {},
   "source": [
    "<div class=\"alert alert-success\">\n",
    "<b>Комментарий ревьюера ✔️:</b> В остальном хорошо</div>"
   ]
  },
  {
   "cell_type": "markdown",
   "metadata": {
    "id": "nSttNZAngwK1"
   },
   "source": [
    "14. Примите решение по результатам теста и объясните его. "
   ]
  },
  {
   "cell_type": "markdown",
   "metadata": {},
   "source": [
    "## Общий вывод:\n",
    "Есть статистически значимое различие по конверсии между группами как по сырым данным, так и после фильтрации аномалий. Группа В превзошла группу А на 13,8% по \"сырым\" данным и на 14,9% по \"очищенным\".\n",
    "\n",
    "По \"сырым\" и \"очищенным\" данным нет различия по среднему чеку между группами. Однако по \"сырым\" данным есть аномальный заказ, который дает +25.9% к среднему чеку группы В, после фильтрации аномалий, группа А превызает показатели группы В на 2%.\n",
    "\n",
    "Принимаем решение остановить тест и зафиксировать победу группы В по конверсии, хотя, не считая аномальных значений группы по средему чеку  равнозначны.\n"
   ]
  },
  {
   "cell_type": "markdown",
   "metadata": {},
   "source": [
    "<div class=\"alert alert-danger\">\n",
    "<b>Комментарий ревьюера ❌:</b> В целом, верно но ведь при сырых данных мы не определили статистически значимые различия по средним чекам </div>\n",
    "<div class=\"alert alert-info\"> <b>Комментарий студента:</b> вывод поправила </div>"
   ]
  },
  {
   "cell_type": "markdown",
   "metadata": {},
   "source": [
    "<div class=\"alert alert-success\">\n",
    "<b>Комментарий ревьюера v 2.0 ✔️:</b> Хорошо)"
   ]
  },
  {
   "cell_type": "markdown",
   "metadata": {},
   "source": [
    "<div class=\"alert alert-success\">\n",
    "<b>Комментарий ревьюера ✔️:</b> Само общее решение по тесту указано</div>"
   ]
  },
  {
   "cell_type": "markdown",
   "metadata": {},
   "source": [
    "<div class=\"alert alert-success\">\n",
    "<b>Комментарий ревьюера ✔️:</b> Елена, проект отличный! У тебя сильные аналитические навыки, владение инструментами для проведения исследования, понимание статистики и навыки продуктовой аналитики. Но всё же в проекте есть несколько замечаний и я попрошу тебя исправить их, чтобы проект стал еще лучше! </div>"
   ]
  }
 ],
 "metadata": {
  "ExecuteTimeLog": [
   {
    "duration": 461,
    "start_time": "2022-11-18T14:18:44.458Z"
   },
   {
    "duration": 43,
    "start_time": "2022-11-18T14:19:03.403Z"
   },
   {
    "duration": 42,
    "start_time": "2022-11-18T14:19:22.701Z"
   },
   {
    "duration": 46,
    "start_time": "2022-11-18T14:19:31.223Z"
   },
   {
    "duration": 59,
    "start_time": "2022-11-18T14:28:12.130Z"
   },
   {
    "duration": 10,
    "start_time": "2022-11-18T14:28:21.136Z"
   },
   {
    "duration": 962,
    "start_time": "2022-11-18T14:28:30.099Z"
   },
   {
    "duration": 83,
    "start_time": "2022-11-18T14:28:32.468Z"
   },
   {
    "duration": 7,
    "start_time": "2022-11-18T14:28:33.078Z"
   },
   {
    "duration": 16,
    "start_time": "2022-11-18T14:28:33.528Z"
   },
   {
    "duration": 6,
    "start_time": "2022-11-18T14:28:34.227Z"
   },
   {
    "duration": 6,
    "start_time": "2022-11-18T14:28:34.718Z"
   },
   {
    "duration": 13,
    "start_time": "2022-11-18T14:28:35.165Z"
   },
   {
    "duration": 4,
    "start_time": "2022-11-18T14:28:35.626Z"
   },
   {
    "duration": 5,
    "start_time": "2022-11-18T14:28:36.157Z"
   },
   {
    "duration": 5,
    "start_time": "2022-11-18T14:28:37.331Z"
   },
   {
    "duration": 253,
    "start_time": "2022-11-18T14:28:38.636Z"
   },
   {
    "duration": 229,
    "start_time": "2022-11-18T14:28:40.324Z"
   },
   {
    "duration": 190,
    "start_time": "2022-11-18T15:13:06.718Z"
   },
   {
    "duration": 160,
    "start_time": "2022-11-18T15:13:48.256Z"
   },
   {
    "duration": 329,
    "start_time": "2022-11-18T15:13:57.228Z"
   },
   {
    "duration": 177,
    "start_time": "2022-11-18T15:14:02.601Z"
   },
   {
    "duration": 129,
    "start_time": "2022-11-18T15:14:19.023Z"
   },
   {
    "duration": 133,
    "start_time": "2022-11-18T15:14:26.364Z"
   },
   {
    "duration": 175,
    "start_time": "2022-11-18T15:18:30.460Z"
   },
   {
    "duration": 163,
    "start_time": "2022-11-18T15:18:37.907Z"
   },
   {
    "duration": 410,
    "start_time": "2022-11-18T15:19:17.307Z"
   },
   {
    "duration": 293,
    "start_time": "2022-11-18T15:19:28.761Z"
   },
   {
    "duration": 1118,
    "start_time": "2022-11-18T15:25:50.089Z"
   },
   {
    "duration": 143,
    "start_time": "2022-11-18T15:26:36.636Z"
   },
   {
    "duration": 1366,
    "start_time": "2022-11-18T15:26:46.221Z"
   },
   {
    "duration": 124,
    "start_time": "2022-11-18T15:26:53.210Z"
   },
   {
    "duration": 9,
    "start_time": "2022-11-18T15:27:16.804Z"
   },
   {
    "duration": 9,
    "start_time": "2022-11-18T15:28:41.921Z"
   },
   {
    "duration": 110,
    "start_time": "2022-11-18T15:30:08.713Z"
   },
   {
    "duration": 203,
    "start_time": "2022-11-18T15:39:20.987Z"
   },
   {
    "duration": 128,
    "start_time": "2022-11-18T15:39:24.370Z"
   },
   {
    "duration": 8,
    "start_time": "2022-11-18T15:39:26.236Z"
   },
   {
    "duration": 7,
    "start_time": "2022-11-18T15:39:31.924Z"
   },
   {
    "duration": 6,
    "start_time": "2022-11-18T15:39:33.137Z"
   },
   {
    "duration": 143,
    "start_time": "2022-11-18T15:39:34.277Z"
   },
   {
    "duration": 10,
    "start_time": "2022-11-18T15:52:06.454Z"
   },
   {
    "duration": 9,
    "start_time": "2022-11-18T15:55:01.637Z"
   },
   {
    "duration": 8,
    "start_time": "2022-11-18T15:55:03.081Z"
   },
   {
    "duration": 19,
    "start_time": "2022-11-18T15:55:05.017Z"
   },
   {
    "duration": 99,
    "start_time": "2022-11-18T16:25:01.093Z"
   },
   {
    "duration": 412,
    "start_time": "2022-11-18T16:47:20.010Z"
   },
   {
    "duration": 17,
    "start_time": "2022-11-18T16:47:20.424Z"
   },
   {
    "duration": 12,
    "start_time": "2022-11-18T16:47:20.443Z"
   },
   {
    "duration": 9,
    "start_time": "2022-11-18T16:47:20.458Z"
   },
   {
    "duration": 8,
    "start_time": "2022-11-18T16:47:20.469Z"
   },
   {
    "duration": 7,
    "start_time": "2022-11-18T16:47:20.479Z"
   },
   {
    "duration": 833,
    "start_time": "2022-11-18T16:47:20.487Z"
   },
   {
    "duration": 66,
    "start_time": "2022-11-18T16:47:21.321Z"
   },
   {
    "duration": 12,
    "start_time": "2022-11-18T16:47:21.388Z"
   },
   {
    "duration": 24,
    "start_time": "2022-11-18T16:47:21.402Z"
   },
   {
    "duration": 12,
    "start_time": "2022-11-18T16:47:21.428Z"
   },
   {
    "duration": 10,
    "start_time": "2022-11-18T16:47:21.441Z"
   },
   {
    "duration": 15,
    "start_time": "2022-11-18T16:47:21.452Z"
   },
   {
    "duration": 5,
    "start_time": "2022-11-18T16:47:21.468Z"
   },
   {
    "duration": 16,
    "start_time": "2022-11-18T16:47:21.474Z"
   },
   {
    "duration": 11,
    "start_time": "2022-11-18T16:47:21.491Z"
   },
   {
    "duration": 266,
    "start_time": "2022-11-18T16:47:21.504Z"
   },
   {
    "duration": 245,
    "start_time": "2022-11-18T16:47:21.772Z"
   },
   {
    "duration": 172,
    "start_time": "2022-11-18T16:47:22.018Z"
   },
   {
    "duration": 264,
    "start_time": "2022-11-18T16:47:22.192Z"
   },
   {
    "duration": 75,
    "start_time": "2022-11-18T16:47:22.459Z"
   },
   {
    "duration": 0,
    "start_time": "2022-11-18T16:47:22.536Z"
   },
   {
    "duration": 0,
    "start_time": "2022-11-18T16:47:22.537Z"
   },
   {
    "duration": 0,
    "start_time": "2022-11-18T16:47:22.538Z"
   },
   {
    "duration": 0,
    "start_time": "2022-11-18T16:47:22.540Z"
   },
   {
    "duration": 1,
    "start_time": "2022-11-18T16:47:22.541Z"
   },
   {
    "duration": 0,
    "start_time": "2022-11-18T16:47:22.543Z"
   },
   {
    "duration": 0,
    "start_time": "2022-11-18T16:47:22.544Z"
   },
   {
    "duration": 0,
    "start_time": "2022-11-18T16:47:22.546Z"
   },
   {
    "duration": 0,
    "start_time": "2022-11-18T16:47:22.547Z"
   },
   {
    "duration": 0,
    "start_time": "2022-11-18T16:47:22.549Z"
   },
   {
    "duration": 0,
    "start_time": "2022-11-18T16:47:22.550Z"
   },
   {
    "duration": 0,
    "start_time": "2022-11-18T16:47:22.551Z"
   },
   {
    "duration": 0,
    "start_time": "2022-11-18T16:47:22.552Z"
   },
   {
    "duration": 0,
    "start_time": "2022-11-18T16:47:22.553Z"
   },
   {
    "duration": 0,
    "start_time": "2022-11-18T16:47:22.555Z"
   },
   {
    "duration": 0,
    "start_time": "2022-11-18T16:47:22.556Z"
   },
   {
    "duration": 0,
    "start_time": "2022-11-18T16:47:22.558Z"
   },
   {
    "duration": 0,
    "start_time": "2022-11-18T16:47:22.559Z"
   },
   {
    "duration": 0,
    "start_time": "2022-11-18T16:47:22.561Z"
   },
   {
    "duration": 0,
    "start_time": "2022-11-18T16:47:22.562Z"
   },
   {
    "duration": 179,
    "start_time": "2022-11-18T16:47:47.048Z"
   },
   {
    "duration": 315,
    "start_time": "2022-11-18T16:47:51.543Z"
   },
   {
    "duration": 9,
    "start_time": "2022-11-18T16:47:56.409Z"
   },
   {
    "duration": 95,
    "start_time": "2022-11-18T16:47:58.585Z"
   },
   {
    "duration": 100,
    "start_time": "2022-11-18T16:47:59.826Z"
   },
   {
    "duration": 4,
    "start_time": "2022-11-18T16:48:00.904Z"
   },
   {
    "duration": 156,
    "start_time": "2022-11-18T16:48:02.482Z"
   },
   {
    "duration": 117,
    "start_time": "2022-11-18T16:48:03.489Z"
   },
   {
    "duration": 4,
    "start_time": "2022-11-18T16:48:04.976Z"
   },
   {
    "duration": 268,
    "start_time": "2022-11-18T16:48:06.292Z"
   },
   {
    "duration": 115,
    "start_time": "2022-11-18T16:48:07.739Z"
   },
   {
    "duration": 7,
    "start_time": "2022-11-18T16:48:09.912Z"
   },
   {
    "duration": 8,
    "start_time": "2022-11-18T16:48:10.413Z"
   },
   {
    "duration": 5,
    "start_time": "2022-11-18T16:48:11.128Z"
   },
   {
    "duration": 133,
    "start_time": "2022-11-18T16:48:11.700Z"
   },
   {
    "duration": 10,
    "start_time": "2022-11-18T16:48:13.088Z"
   },
   {
    "duration": 408,
    "start_time": "2022-11-18T16:48:35.375Z"
   },
   {
    "duration": 20,
    "start_time": "2022-11-18T16:48:35.785Z"
   },
   {
    "duration": 13,
    "start_time": "2022-11-18T16:48:35.807Z"
   },
   {
    "duration": 19,
    "start_time": "2022-11-18T16:48:35.822Z"
   },
   {
    "duration": 10,
    "start_time": "2022-11-18T16:48:35.843Z"
   },
   {
    "duration": 16,
    "start_time": "2022-11-18T16:48:35.855Z"
   },
   {
    "duration": 708,
    "start_time": "2022-11-18T16:48:35.873Z"
   },
   {
    "duration": 67,
    "start_time": "2022-11-18T16:48:36.582Z"
   },
   {
    "duration": 7,
    "start_time": "2022-11-18T16:48:36.650Z"
   },
   {
    "duration": 19,
    "start_time": "2022-11-18T16:48:36.659Z"
   },
   {
    "duration": 5,
    "start_time": "2022-11-18T16:48:36.679Z"
   },
   {
    "duration": 7,
    "start_time": "2022-11-18T16:48:36.686Z"
   },
   {
    "duration": 14,
    "start_time": "2022-11-18T16:48:36.695Z"
   },
   {
    "duration": 3,
    "start_time": "2022-11-18T16:48:36.712Z"
   },
   {
    "duration": 8,
    "start_time": "2022-11-18T16:48:36.716Z"
   },
   {
    "duration": 28,
    "start_time": "2022-11-18T16:48:36.726Z"
   },
   {
    "duration": 275,
    "start_time": "2022-11-18T16:48:36.756Z"
   },
   {
    "duration": 238,
    "start_time": "2022-11-18T16:48:37.033Z"
   },
   {
    "duration": 165,
    "start_time": "2022-11-18T16:48:37.272Z"
   },
   {
    "duration": 286,
    "start_time": "2022-11-18T16:48:37.439Z"
   },
   {
    "duration": 183,
    "start_time": "2022-11-18T16:48:37.726Z"
   },
   {
    "duration": 276,
    "start_time": "2022-11-18T16:48:37.911Z"
   },
   {
    "duration": 8,
    "start_time": "2022-11-18T16:48:38.189Z"
   },
   {
    "duration": 112,
    "start_time": "2022-11-18T16:48:38.198Z"
   },
   {
    "duration": 108,
    "start_time": "2022-11-18T16:48:38.312Z"
   },
   {
    "duration": 4,
    "start_time": "2022-11-18T16:48:38.421Z"
   },
   {
    "duration": 129,
    "start_time": "2022-11-18T16:48:38.427Z"
   },
   {
    "duration": 126,
    "start_time": "2022-11-18T16:48:38.557Z"
   },
   {
    "duration": 4,
    "start_time": "2022-11-18T16:48:38.685Z"
   },
   {
    "duration": 311,
    "start_time": "2022-11-18T16:48:38.690Z"
   },
   {
    "duration": 151,
    "start_time": "2022-11-18T16:48:39.002Z"
   },
   {
    "duration": 6,
    "start_time": "2022-11-18T16:48:39.154Z"
   },
   {
    "duration": 8,
    "start_time": "2022-11-18T16:48:39.162Z"
   },
   {
    "duration": 6,
    "start_time": "2022-11-18T16:48:39.171Z"
   },
   {
    "duration": 167,
    "start_time": "2022-11-18T16:48:39.178Z"
   },
   {
    "duration": 12,
    "start_time": "2022-11-18T16:48:39.347Z"
   },
   {
    "duration": 8,
    "start_time": "2022-11-18T16:48:39.360Z"
   },
   {
    "duration": 10,
    "start_time": "2022-11-18T16:48:39.369Z"
   },
   {
    "duration": 38,
    "start_time": "2022-11-18T16:48:39.381Z"
   },
   {
    "duration": 15,
    "start_time": "2022-11-18T16:48:39.420Z"
   },
   {
    "duration": 472,
    "start_time": "2022-11-21T12:21:15.243Z"
   },
   {
    "duration": 3,
    "start_time": "2022-11-21T12:21:36.166Z"
   },
   {
    "duration": 71,
    "start_time": "2022-11-21T12:21:56.812Z"
   },
   {
    "duration": 73,
    "start_time": "2022-11-21T12:22:08.879Z"
   },
   {
    "duration": 3,
    "start_time": "2022-11-21T12:22:26.406Z"
   },
   {
    "duration": 4,
    "start_time": "2022-11-21T12:22:57.070Z"
   },
   {
    "duration": 3,
    "start_time": "2022-11-21T12:23:07.726Z"
   },
   {
    "duration": 4,
    "start_time": "2022-11-21T12:23:17.943Z"
   },
   {
    "duration": 1375,
    "start_time": "2022-11-21T12:25:08.418Z"
   },
   {
    "duration": 75,
    "start_time": "2022-11-21T12:25:34.882Z"
   },
   {
    "duration": 1517,
    "start_time": "2022-11-21T12:25:39.140Z"
   },
   {
    "duration": 1418,
    "start_time": "2022-11-21T12:26:28.466Z"
   },
   {
    "duration": 68,
    "start_time": "2022-11-21T12:26:58.814Z"
   },
   {
    "duration": 3,
    "start_time": "2022-11-21T12:27:00.062Z"
   },
   {
    "duration": 24,
    "start_time": "2022-11-21T12:27:02.720Z"
   },
   {
    "duration": 10,
    "start_time": "2022-11-21T12:27:03.311Z"
   },
   {
    "duration": 5,
    "start_time": "2022-11-21T12:27:05.076Z"
   },
   {
    "duration": 12,
    "start_time": "2022-11-21T12:27:58.726Z"
   },
   {
    "duration": 480,
    "start_time": "2022-11-21T12:28:31.225Z"
   },
   {
    "duration": 4,
    "start_time": "2022-11-21T12:28:31.707Z"
   },
   {
    "duration": 42,
    "start_time": "2022-11-21T12:28:31.712Z"
   },
   {
    "duration": 41,
    "start_time": "2022-11-21T12:28:31.757Z"
   },
   {
    "duration": 13,
    "start_time": "2022-11-21T12:28:31.800Z"
   },
   {
    "duration": 41,
    "start_time": "2022-11-21T12:28:31.814Z"
   },
   {
    "duration": 19,
    "start_time": "2022-11-21T12:28:31.857Z"
   },
   {
    "duration": 1066,
    "start_time": "2022-11-21T12:28:31.877Z"
   },
   {
    "duration": 61,
    "start_time": "2022-11-21T12:28:32.945Z"
   },
   {
    "duration": 8,
    "start_time": "2022-11-21T12:28:33.008Z"
   },
   {
    "duration": 21,
    "start_time": "2022-11-21T12:28:33.018Z"
   },
   {
    "duration": 22,
    "start_time": "2022-11-21T12:28:33.042Z"
   },
   {
    "duration": 10,
    "start_time": "2022-11-21T12:28:33.065Z"
   },
   {
    "duration": 13,
    "start_time": "2022-11-21T12:28:33.076Z"
   },
   {
    "duration": 5,
    "start_time": "2022-11-21T12:28:33.090Z"
   },
   {
    "duration": 9,
    "start_time": "2022-11-21T12:28:33.096Z"
   },
   {
    "duration": 10,
    "start_time": "2022-11-21T12:28:33.106Z"
   },
   {
    "duration": 307,
    "start_time": "2022-11-21T12:28:33.117Z"
   },
   {
    "duration": 262,
    "start_time": "2022-11-21T12:28:33.427Z"
   },
   {
    "duration": 172,
    "start_time": "2022-11-21T12:28:33.690Z"
   },
   {
    "duration": 277,
    "start_time": "2022-11-21T12:28:33.864Z"
   },
   {
    "duration": 172,
    "start_time": "2022-11-21T12:28:34.143Z"
   },
   {
    "duration": 321,
    "start_time": "2022-11-21T12:28:34.325Z"
   },
   {
    "duration": 11,
    "start_time": "2022-11-21T12:28:34.648Z"
   },
   {
    "duration": 116,
    "start_time": "2022-11-21T12:28:34.660Z"
   },
   {
    "duration": 103,
    "start_time": "2022-11-21T12:28:34.778Z"
   },
   {
    "duration": 3,
    "start_time": "2022-11-21T12:28:34.883Z"
   },
   {
    "duration": 131,
    "start_time": "2022-11-21T12:28:34.889Z"
   },
   {
    "duration": 155,
    "start_time": "2022-11-21T12:28:35.021Z"
   },
   {
    "duration": 4,
    "start_time": "2022-11-21T12:28:35.178Z"
   },
   {
    "duration": 302,
    "start_time": "2022-11-21T12:28:35.184Z"
   },
   {
    "duration": 181,
    "start_time": "2022-11-21T12:28:35.487Z"
   },
   {
    "duration": 5,
    "start_time": "2022-11-21T12:28:35.670Z"
   },
   {
    "duration": 9,
    "start_time": "2022-11-21T12:28:35.677Z"
   },
   {
    "duration": 22,
    "start_time": "2022-11-21T12:28:35.688Z"
   },
   {
    "duration": 202,
    "start_time": "2022-11-21T12:28:35.712Z"
   },
   {
    "duration": 12,
    "start_time": "2022-11-21T12:28:35.915Z"
   },
   {
    "duration": 41,
    "start_time": "2022-11-21T12:28:35.928Z"
   },
   {
    "duration": 21,
    "start_time": "2022-11-21T12:28:35.970Z"
   },
   {
    "duration": 20,
    "start_time": "2022-11-21T12:28:35.992Z"
   },
   {
    "duration": 14,
    "start_time": "2022-11-21T12:28:36.013Z"
   },
   {
    "duration": 131,
    "start_time": "2022-11-21T12:29:05.585Z"
   },
   {
    "duration": 98,
    "start_time": "2022-11-21T12:29:11.681Z"
   },
   {
    "duration": 8,
    "start_time": "2022-11-21T12:31:13.984Z"
   },
   {
    "duration": 3,
    "start_time": "2022-11-21T12:31:31.269Z"
   },
   {
    "duration": 9,
    "start_time": "2022-11-21T12:31:34.573Z"
   },
   {
    "duration": 305,
    "start_time": "2022-11-21T12:35:19.386Z"
   },
   {
    "duration": 11,
    "start_time": "2022-11-21T12:35:21.247Z"
   },
   {
    "duration": 11,
    "start_time": "2022-11-21T12:35:22.240Z"
   },
   {
    "duration": 13,
    "start_time": "2022-11-21T12:35:23.184Z"
   },
   {
    "duration": 4,
    "start_time": "2022-11-21T12:35:23.673Z"
   },
   {
    "duration": 10,
    "start_time": "2022-11-21T12:35:24.126Z"
   },
   {
    "duration": 18,
    "start_time": "2022-11-21T12:35:25.111Z"
   },
   {
    "duration": 4,
    "start_time": "2022-11-21T12:35:25.585Z"
   },
   {
    "duration": 5,
    "start_time": "2022-11-21T12:35:27.012Z"
   },
   {
    "duration": 4,
    "start_time": "2022-11-21T12:36:27.069Z"
   },
   {
    "duration": 4,
    "start_time": "2022-11-21T12:36:38.697Z"
   },
   {
    "duration": 4,
    "start_time": "2022-11-21T12:36:57.968Z"
   },
   {
    "duration": 6,
    "start_time": "2022-11-21T12:37:38.509Z"
   },
   {
    "duration": 261,
    "start_time": "2022-11-21T12:37:39.952Z"
   },
   {
    "duration": 162,
    "start_time": "2022-11-21T12:37:47.570Z"
   },
   {
    "duration": 150,
    "start_time": "2022-11-21T12:45:51.087Z"
   },
   {
    "duration": 143,
    "start_time": "2022-11-21T12:46:27.989Z"
   },
   {
    "duration": 189,
    "start_time": "2022-11-21T12:47:44.849Z"
   },
   {
    "duration": 189,
    "start_time": "2022-11-21T12:58:53.110Z"
   },
   {
    "duration": 186,
    "start_time": "2022-11-21T12:59:00.901Z"
   },
   {
    "duration": 193,
    "start_time": "2022-11-21T12:59:08.618Z"
   },
   {
    "duration": 49,
    "start_time": "2022-11-21T18:49:52.644Z"
   },
   {
    "duration": 1357,
    "start_time": "2022-11-21T18:50:06.460Z"
   },
   {
    "duration": 13,
    "start_time": "2022-11-21T18:50:10.246Z"
   },
   {
    "duration": 8,
    "start_time": "2022-11-21T18:50:10.679Z"
   },
   {
    "duration": 18,
    "start_time": "2022-11-21T18:50:11.055Z"
   },
   {
    "duration": 7,
    "start_time": "2022-11-21T18:50:11.433Z"
   },
   {
    "duration": 6,
    "start_time": "2022-11-21T18:50:11.831Z"
   },
   {
    "duration": 19,
    "start_time": "2022-11-21T18:50:12.459Z"
   },
   {
    "duration": 3,
    "start_time": "2022-11-21T18:50:12.783Z"
   },
   {
    "duration": 6,
    "start_time": "2022-11-21T18:50:13.506Z"
   },
   {
    "duration": 5,
    "start_time": "2022-11-21T18:50:16.245Z"
   },
   {
    "duration": 6,
    "start_time": "2022-11-21T18:50:17.186Z"
   },
   {
    "duration": 276,
    "start_time": "2022-11-21T18:50:18.287Z"
   },
   {
    "duration": 271,
    "start_time": "2022-11-21T18:50:20.852Z"
   },
   {
    "duration": 188,
    "start_time": "2022-11-21T18:50:45.199Z"
   },
   {
    "duration": 191,
    "start_time": "2022-11-21T18:51:11.916Z"
   },
   {
    "duration": 195,
    "start_time": "2022-11-21T18:51:36.426Z"
   },
   {
    "duration": 375,
    "start_time": "2022-11-21T18:52:12.432Z"
   },
   {
    "duration": 358,
    "start_time": "2022-11-21T18:52:48.542Z"
   },
   {
    "duration": 321,
    "start_time": "2022-11-21T18:53:15.266Z"
   },
   {
    "duration": 321,
    "start_time": "2022-11-21T18:53:28.539Z"
   },
   {
    "duration": 345,
    "start_time": "2022-11-21T18:54:46.692Z"
   },
   {
    "duration": 374,
    "start_time": "2022-11-21T18:54:58.184Z"
   },
   {
    "duration": 194,
    "start_time": "2022-11-21T18:55:43.185Z"
   },
   {
    "duration": 202,
    "start_time": "2022-11-21T18:56:20.291Z"
   },
   {
    "duration": 344,
    "start_time": "2022-11-21T18:57:22.854Z"
   },
   {
    "duration": 312,
    "start_time": "2022-11-21T18:57:30.297Z"
   },
   {
    "duration": 335,
    "start_time": "2022-11-21T18:57:47.129Z"
   },
   {
    "duration": 292,
    "start_time": "2022-11-21T18:57:59.545Z"
   },
   {
    "duration": 77,
    "start_time": "2022-11-21T18:58:39.546Z"
   },
   {
    "duration": 10,
    "start_time": "2022-11-21T18:58:44.023Z"
   },
   {
    "duration": 164,
    "start_time": "2022-11-21T18:58:45.780Z"
   },
   {
    "duration": 145,
    "start_time": "2022-11-21T18:59:12.125Z"
   },
   {
    "duration": 142,
    "start_time": "2022-11-21T18:59:23.590Z"
   },
   {
    "duration": 166,
    "start_time": "2022-11-21T18:59:35.363Z"
   },
   {
    "duration": 245,
    "start_time": "2022-11-21T18:59:46.845Z"
   },
   {
    "duration": 166,
    "start_time": "2022-11-21T19:00:03.039Z"
   },
   {
    "duration": 179,
    "start_time": "2022-11-21T19:00:11.431Z"
   },
   {
    "duration": 155,
    "start_time": "2022-11-21T19:00:21.188Z"
   },
   {
    "duration": 5,
    "start_time": "2022-11-21T19:00:32.064Z"
   },
   {
    "duration": 272,
    "start_time": "2022-11-21T19:00:33.818Z"
   },
   {
    "duration": 160,
    "start_time": "2022-11-21T19:00:35.707Z"
   },
   {
    "duration": 7,
    "start_time": "2022-11-21T19:00:37.933Z"
   },
   {
    "duration": 9,
    "start_time": "2022-11-21T19:00:38.705Z"
   },
   {
    "duration": 6,
    "start_time": "2022-11-21T19:00:39.165Z"
   },
   {
    "duration": 6,
    "start_time": "2022-11-21T19:01:08.139Z"
   },
   {
    "duration": 152,
    "start_time": "2022-11-21T19:01:10.042Z"
   },
   {
    "duration": 52,
    "start_time": "2022-11-21T19:05:08.578Z"
   },
   {
    "duration": 174,
    "start_time": "2022-11-21T19:05:28.821Z"
   },
   {
    "duration": 200,
    "start_time": "2022-11-21T19:05:56.581Z"
   },
   {
    "duration": 144,
    "start_time": "2022-11-21T19:06:40.216Z"
   },
   {
    "duration": 155,
    "start_time": "2022-11-21T19:07:00.584Z"
   },
   {
    "duration": 162,
    "start_time": "2022-11-21T19:07:11.657Z"
   },
   {
    "duration": 9,
    "start_time": "2022-11-21T19:07:21.963Z"
   },
   {
    "duration": 176,
    "start_time": "2022-11-21T19:07:43.780Z"
   },
   {
    "duration": 196,
    "start_time": "2022-11-21T19:07:57.030Z"
   },
   {
    "duration": 55,
    "start_time": "2022-11-21T19:09:15.625Z"
   },
   {
    "duration": 168,
    "start_time": "2022-11-21T19:09:23.278Z"
   },
   {
    "duration": 157,
    "start_time": "2022-11-21T19:09:34.211Z"
   },
   {
    "duration": 240,
    "start_time": "2022-11-21T19:10:27.907Z"
   },
   {
    "duration": 176,
    "start_time": "2022-11-21T19:10:54.944Z"
   },
   {
    "duration": 146,
    "start_time": "2022-11-21T19:11:15.024Z"
   },
   {
    "duration": 48,
    "start_time": "2022-11-21T19:16:26.409Z"
   },
   {
    "duration": 46,
    "start_time": "2022-11-21T19:16:46.456Z"
   },
   {
    "duration": 39,
    "start_time": "2022-11-21T19:16:56.126Z"
   },
   {
    "duration": 77,
    "start_time": "2022-11-21T19:17:22.172Z"
   },
   {
    "duration": 50,
    "start_time": "2022-11-21T19:17:32.981Z"
   },
   {
    "duration": 63,
    "start_time": "2022-11-21T19:17:42.641Z"
   },
   {
    "duration": 44,
    "start_time": "2022-11-21T19:18:04.333Z"
   },
   {
    "duration": 12,
    "start_time": "2022-11-21T19:18:16.533Z"
   },
   {
    "duration": 10,
    "start_time": "2022-11-21T19:20:57.941Z"
   },
   {
    "duration": 476,
    "start_time": "2022-11-21T19:30:20.201Z"
   },
   {
    "duration": 4,
    "start_time": "2022-11-21T19:30:20.679Z"
   },
   {
    "duration": 31,
    "start_time": "2022-11-21T19:30:20.685Z"
   },
   {
    "duration": 14,
    "start_time": "2022-11-21T19:30:20.718Z"
   },
   {
    "duration": 14,
    "start_time": "2022-11-21T19:30:20.735Z"
   },
   {
    "duration": 18,
    "start_time": "2022-11-21T19:30:20.751Z"
   },
   {
    "duration": 17,
    "start_time": "2022-11-21T19:30:20.770Z"
   },
   {
    "duration": 988,
    "start_time": "2022-11-21T19:30:20.789Z"
   },
   {
    "duration": 67,
    "start_time": "2022-11-21T19:30:21.778Z"
   },
   {
    "duration": 18,
    "start_time": "2022-11-21T19:30:21.846Z"
   },
   {
    "duration": 24,
    "start_time": "2022-11-21T19:30:21.865Z"
   },
   {
    "duration": 10,
    "start_time": "2022-11-21T19:30:21.890Z"
   },
   {
    "duration": 10,
    "start_time": "2022-11-21T19:30:21.902Z"
   },
   {
    "duration": 22,
    "start_time": "2022-11-21T19:30:21.915Z"
   },
   {
    "duration": 14,
    "start_time": "2022-11-21T19:30:21.938Z"
   },
   {
    "duration": 14,
    "start_time": "2022-11-21T19:30:21.954Z"
   },
   {
    "duration": 10,
    "start_time": "2022-11-21T19:30:21.969Z"
   },
   {
    "duration": 14,
    "start_time": "2022-11-21T19:30:21.980Z"
   },
   {
    "duration": 292,
    "start_time": "2022-11-21T19:30:21.996Z"
   },
   {
    "duration": 343,
    "start_time": "2022-11-21T19:30:22.290Z"
   },
   {
    "duration": 259,
    "start_time": "2022-11-21T19:30:22.636Z"
   },
   {
    "duration": 344,
    "start_time": "2022-11-21T19:30:22.897Z"
   },
   {
    "duration": 211,
    "start_time": "2022-11-21T19:30:23.242Z"
   },
   {
    "duration": 303,
    "start_time": "2022-11-21T19:30:23.455Z"
   },
   {
    "duration": 9,
    "start_time": "2022-11-21T19:30:23.759Z"
   },
   {
    "duration": 140,
    "start_time": "2022-11-21T19:30:23.769Z"
   },
   {
    "duration": 153,
    "start_time": "2022-11-21T19:30:23.911Z"
   },
   {
    "duration": 4,
    "start_time": "2022-11-21T19:30:24.066Z"
   },
   {
    "duration": 165,
    "start_time": "2022-11-21T19:30:24.072Z"
   },
   {
    "duration": 167,
    "start_time": "2022-11-21T19:30:24.239Z"
   },
   {
    "duration": 4,
    "start_time": "2022-11-21T19:30:24.407Z"
   },
   {
    "duration": 314,
    "start_time": "2022-11-21T19:30:24.413Z"
   },
   {
    "duration": 140,
    "start_time": "2022-11-21T19:30:24.735Z"
   },
   {
    "duration": 6,
    "start_time": "2022-11-21T19:30:24.876Z"
   },
   {
    "duration": 12,
    "start_time": "2022-11-21T19:30:24.884Z"
   },
   {
    "duration": 18,
    "start_time": "2022-11-21T19:30:24.898Z"
   },
   {
    "duration": 165,
    "start_time": "2022-11-21T19:30:24.918Z"
   },
   {
    "duration": 10,
    "start_time": "2022-11-21T19:30:25.084Z"
   },
   {
    "duration": 16,
    "start_time": "2022-11-21T19:30:25.095Z"
   },
   {
    "duration": 10,
    "start_time": "2022-11-21T19:30:25.112Z"
   },
   {
    "duration": 22,
    "start_time": "2022-11-21T19:30:25.136Z"
   },
   {
    "duration": 16,
    "start_time": "2022-11-21T19:30:25.159Z"
   },
   {
    "duration": 41,
    "start_time": "2022-11-21T19:44:25.097Z"
   },
   {
    "duration": 3,
    "start_time": "2022-11-21T19:44:29.568Z"
   },
   {
    "duration": 4,
    "start_time": "2022-11-21T19:44:39.160Z"
   },
   {
    "duration": 4,
    "start_time": "2022-11-21T19:44:48.425Z"
   },
   {
    "duration": 3,
    "start_time": "2022-11-21T19:44:57.893Z"
   },
   {
    "duration": 75,
    "start_time": "2022-11-22T09:21:12.882Z"
   },
   {
    "duration": 1464,
    "start_time": "2022-11-22T09:21:21.369Z"
   },
   {
    "duration": 17,
    "start_time": "2022-11-22T09:21:23.882Z"
   },
   {
    "duration": 8,
    "start_time": "2022-11-22T09:21:24.331Z"
   },
   {
    "duration": 16,
    "start_time": "2022-11-22T09:21:24.779Z"
   },
   {
    "duration": 6,
    "start_time": "2022-11-22T09:21:25.213Z"
   },
   {
    "duration": 8,
    "start_time": "2022-11-22T09:21:25.823Z"
   },
   {
    "duration": 17,
    "start_time": "2022-11-22T09:21:26.549Z"
   },
   {
    "duration": 5,
    "start_time": "2022-11-22T09:21:26.915Z"
   },
   {
    "duration": 5,
    "start_time": "2022-11-22T09:21:27.661Z"
   },
   {
    "duration": 90,
    "start_time": "2022-11-22T09:21:29.812Z"
   },
   {
    "duration": 4,
    "start_time": "2022-11-22T09:21:36.987Z"
   },
   {
    "duration": 4,
    "start_time": "2022-11-22T09:21:57.218Z"
   },
   {
    "duration": 8,
    "start_time": "2022-11-22T09:22:00.109Z"
   },
   {
    "duration": 75,
    "start_time": "2022-11-22T09:24:01.981Z"
   },
   {
    "duration": 443,
    "start_time": "2022-11-22T09:26:07.330Z"
   },
   {
    "duration": 78,
    "start_time": "2022-11-22T09:26:24.553Z"
   },
   {
    "duration": 92,
    "start_time": "2022-11-22T09:26:35.093Z"
   },
   {
    "duration": 378,
    "start_time": "2022-11-22T09:26:42.272Z"
   },
   {
    "duration": 362,
    "start_time": "2022-11-22T09:26:54.701Z"
   },
   {
    "duration": 383,
    "start_time": "2022-11-22T09:27:09.934Z"
   },
   {
    "duration": 73,
    "start_time": "2022-11-22T09:28:30.206Z"
   },
   {
    "duration": 86,
    "start_time": "2022-11-22T09:28:33.834Z"
   },
   {
    "duration": 89,
    "start_time": "2022-11-22T09:28:57.307Z"
   },
   {
    "duration": 106,
    "start_time": "2022-11-22T09:29:09.925Z"
   },
   {
    "duration": 79,
    "start_time": "2022-11-22T09:29:15.671Z"
   },
   {
    "duration": 86,
    "start_time": "2022-11-22T09:29:28.558Z"
   },
   {
    "duration": 78,
    "start_time": "2022-11-22T09:30:09.730Z"
   },
   {
    "duration": 64,
    "start_time": "2022-11-22T09:30:46.677Z"
   },
   {
    "duration": 68,
    "start_time": "2022-11-22T09:30:55.925Z"
   },
   {
    "duration": 10,
    "start_time": "2022-11-22T09:31:28.668Z"
   },
   {
    "duration": 12,
    "start_time": "2022-11-22T09:31:33.570Z"
   },
   {
    "duration": 12,
    "start_time": "2022-11-22T09:32:17.527Z"
   },
   {
    "duration": 67,
    "start_time": "2022-11-22T09:32:39.237Z"
   },
   {
    "duration": 71,
    "start_time": "2022-11-22T09:33:11.336Z"
   },
   {
    "duration": 75,
    "start_time": "2022-11-22T09:33:14.176Z"
   },
   {
    "duration": 1056,
    "start_time": "2022-11-22T09:34:12.637Z"
   },
   {
    "duration": 73,
    "start_time": "2022-11-22T09:35:25.811Z"
   },
   {
    "duration": 74,
    "start_time": "2022-11-22T09:40:11.567Z"
   },
   {
    "duration": 532,
    "start_time": "2022-11-22T09:40:16.024Z"
   },
   {
    "duration": 70,
    "start_time": "2022-11-22T09:40:37.678Z"
   },
   {
    "duration": 255,
    "start_time": "2022-11-22T09:40:41.569Z"
   },
   {
    "duration": 66,
    "start_time": "2022-11-22T09:41:08.298Z"
   },
   {
    "duration": 107,
    "start_time": "2022-11-22T09:41:13.925Z"
   },
   {
    "duration": 338,
    "start_time": "2022-11-22T09:41:23.199Z"
   },
   {
    "duration": 61,
    "start_time": "2022-11-22T09:41:41.473Z"
   },
   {
    "duration": 68,
    "start_time": "2022-11-22T09:42:24.169Z"
   },
   {
    "duration": 1296,
    "start_time": "2022-11-22T09:46:44.944Z"
   },
   {
    "duration": 65,
    "start_time": "2022-11-22T09:47:07.994Z"
   },
   {
    "duration": 919,
    "start_time": "2022-11-22T09:47:12.341Z"
   },
   {
    "duration": 66,
    "start_time": "2022-11-22T09:47:49.215Z"
   },
   {
    "duration": 64,
    "start_time": "2022-11-22T09:47:57.188Z"
   },
   {
    "duration": 76,
    "start_time": "2022-11-22T09:48:40.699Z"
   },
   {
    "duration": 57,
    "start_time": "2022-11-22T09:48:44.600Z"
   },
   {
    "duration": 64,
    "start_time": "2022-11-22T09:49:06.176Z"
   },
   {
    "duration": 57,
    "start_time": "2022-11-22T09:49:26.951Z"
   },
   {
    "duration": 949,
    "start_time": "2022-11-22T09:49:56.656Z"
   },
   {
    "duration": 68,
    "start_time": "2022-11-22T10:01:25.975Z"
   },
   {
    "duration": 57,
    "start_time": "2022-11-22T15:34:36.277Z"
   }
  ],
  "colab": {
   "provenance": []
  },
  "kernelspec": {
   "display_name": "Python 3 (ipykernel)",
   "language": "python",
   "name": "python3"
  },
  "language_info": {
   "codemirror_mode": {
    "name": "ipython",
    "version": 3
   },
   "file_extension": ".py",
   "mimetype": "text/x-python",
   "name": "python",
   "nbconvert_exporter": "python",
   "pygments_lexer": "ipython3",
   "version": "3.9.12"
  },
  "toc": {
   "base_numbering": 1,
   "nav_menu": {},
   "number_sections": true,
   "sideBar": true,
   "skip_h1_title": true,
   "title_cell": "Table of Contents",
   "title_sidebar": "Contents",
   "toc_cell": false,
   "toc_position": {},
   "toc_section_display": true,
   "toc_window_display": false
  }
 },
 "nbformat": 4,
 "nbformat_minor": 1
}
